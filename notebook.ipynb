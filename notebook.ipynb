{
  "cells": [
    {
      "cell_type": "markdown",
      "metadata": {
        "id": "view-in-github",
        "colab_type": "text"
      },
      "source": [
        "<a href=\"https://colab.research.google.com/github/KBE25/hotel_sentiment/blob/main/notebook.ipynb\" target=\"_parent\"><img src=\"https://colab.research.google.com/assets/colab-badge.svg\" alt=\"Open In Colab\"/></a>"
      ]
    },
    {
      "cell_type": "code",
      "execution_count": 83,
      "id": "9d3711a3-e242-44c2-aa6b-333e6abc2fd2",
      "metadata": {
        "id": "9d3711a3-e242-44c2-aa6b-333e6abc2fd2"
      },
      "outputs": [],
      "source": []
    },
    {
      "cell_type": "code",
      "source": [],
      "metadata": {
        "id": "2bEDtTnmoYhn"
      },
      "id": "2bEDtTnmoYhn",
      "execution_count": null,
      "outputs": []
    },
    {
      "cell_type": "markdown",
      "source": [
        "# Overview"
      ],
      "metadata": {
        "id": "dlQWMMfrolxs"
      },
      "id": "dlQWMMfrolxs"
    },
    {
      "cell_type": "code",
      "source": [],
      "metadata": {
        "id": "jQGdfTfpoYkM"
      },
      "id": "jQGdfTfpoYkM",
      "execution_count": null,
      "outputs": []
    },
    {
      "cell_type": "code",
      "source": [],
      "metadata": {
        "id": "JGx6zWh8oYmr"
      },
      "id": "JGx6zWh8oYmr",
      "execution_count": null,
      "outputs": []
    },
    {
      "cell_type": "code",
      "source": [],
      "metadata": {
        "id": "lbq9MrdJoYpS"
      },
      "id": "lbq9MrdJoYpS",
      "execution_count": null,
      "outputs": []
    },
    {
      "cell_type": "markdown",
      "source": [
        "# Business Understanding"
      ],
      "metadata": {
        "id": "Q9pTrIy_osiI"
      },
      "id": "Q9pTrIy_osiI"
    },
    {
      "cell_type": "code",
      "source": [],
      "metadata": {
        "id": "dCNX1WQ5oYrz"
      },
      "id": "dCNX1WQ5oYrz",
      "execution_count": null,
      "outputs": []
    },
    {
      "cell_type": "code",
      "source": [],
      "metadata": {
        "id": "Cd5gJMW_oYuZ"
      },
      "id": "Cd5gJMW_oYuZ",
      "execution_count": null,
      "outputs": []
    },
    {
      "cell_type": "code",
      "source": [],
      "metadata": {
        "id": "UpJ6o83IoYwv"
      },
      "id": "UpJ6o83IoYwv",
      "execution_count": null,
      "outputs": []
    },
    {
      "cell_type": "markdown",
      "source": [
        "# Data Understanding"
      ],
      "metadata": {
        "id": "Hcthe6dAou9p"
      },
      "id": "Hcthe6dAou9p"
    },
    {
      "cell_type": "markdown",
      "source": [
        "## Data Preparation"
      ],
      "metadata": {
        "id": "GghVE8nPozSp"
      },
      "id": "GghVE8nPozSp"
    },
    {
      "cell_type": "code",
      "source": [
        "!pip install emoji"
      ],
      "metadata": {
        "colab": {
          "base_uri": "https://localhost:8080/"
        },
        "id": "_vYTRd3ioYze",
        "outputId": "ee6135d5-f286-4522-a333-b8f481744a20"
      },
      "id": "_vYTRd3ioYze",
      "execution_count": 84,
      "outputs": [
        {
          "output_type": "stream",
          "name": "stdout",
          "text": [
            "Requirement already satisfied: emoji in /usr/local/lib/python3.11/dist-packages (2.14.1)\n"
          ]
        }
      ]
    },
    {
      "cell_type": "code",
      "source": [
        "!pip install symspellpy"
      ],
      "metadata": {
        "colab": {
          "base_uri": "https://localhost:8080/"
        },
        "id": "srnhTPVSoY2O",
        "outputId": "646e1b80-4211-43c8-e8c0-ed009aa429a9"
      },
      "id": "srnhTPVSoY2O",
      "execution_count": 85,
      "outputs": [
        {
          "output_type": "stream",
          "name": "stdout",
          "text": [
            "Requirement already satisfied: symspellpy in /usr/local/lib/python3.11/dist-packages (6.9.0)\n",
            "Requirement already satisfied: editdistpy>=0.1.3 in /usr/local/lib/python3.11/dist-packages (from symspellpy) (0.1.6)\n"
          ]
        }
      ]
    },
    {
      "cell_type": "code",
      "source": [
        "#importing relevant libraries\n",
        "import os\n",
        "import re\n",
        "import string\n",
        "import warnings\n",
        "\n",
        "import matplotlib.pyplot as plt\n",
        "import numpy as np\n",
        "import pandas as pd\n",
        "import seaborn as sns\n",
        "\n",
        "import kagglehub\n",
        "\n",
        "import spacy\n",
        "import emoji\n",
        "\n",
        "from symspellpy import SymSpell, Verbosity\n",
        "import pkg_resources\n",
        "\n",
        "import nltk\n",
        "from nltk.corpus import stopwords\n",
        "from nltk.stem import WordNetLemmatizer\n",
        "from nltk.tokenize import word_tokenize\n",
        "\n",
        "from sklearn.feature_selection import SelectKBest, f_regression, mutual_info_regression\n",
        "from sklearn.ensemble import RandomForestRegressor\n",
        "from sklearn.inspection import permutation_importance\n",
        "from sklearn.linear_model import LinearRegression\n",
        "from sklearn.model_selection import train_test_split\n",
        "from sklearn.feature_extraction.text import TfidfVectorizer\n",
        "\n",
        "from statsmodels.stats.outliers_influence import variance_inflation_factor\n",
        "import pandas as pd\n",
        "import spacy\n",
        "import re\n",
        "import emoji\n",
        "from symspellpy import SymSpell, Verbosity\n",
        "import pkg_resources\n",
        "\n",
        "from sklearn.feature_extraction.text import TfidfVectorizer\n",
        "import multiprocessing as mp\n",
        "import numpy as np\n",
        "from tqdm.auto import tqdm\n",
        "\n",
        "# Suppress warnings\n",
        "warnings.simplefilter(action=\"ignore\", category=FutureWarning)\n",
        "\n"
      ],
      "metadata": {
        "id": "RNgLYXq2oY47"
      },
      "id": "RNgLYXq2oY47",
      "execution_count": 86,
      "outputs": []
    },
    {
      "cell_type": "markdown",
      "source": [
        "\n",
        "Data Preparation will contain the following parts:"
      ],
      "metadata": {
        "id": "b-J2wYrkpFHJ"
      },
      "id": "b-J2wYrkpFHJ"
    },
    {
      "cell_type": "markdown",
      "source": [
        "### Data Acquisition"
      ],
      "metadata": {
        "id": "qJQN9JdspGMy"
      },
      "id": "qJQN9JdspGMy"
    },
    {
      "cell_type": "code",
      "source": [
        "# Download latest dataset version\n",
        "path = kagglehub.dataset_download(\"thedevastator/booking-com-hotel-reviews\")\n"
      ],
      "metadata": {
        "id": "8rSs-E7qoY7y"
      },
      "id": "8rSs-E7qoY7y",
      "execution_count": 87,
      "outputs": []
    },
    {
      "cell_type": "code",
      "source": [
        "# Identify the path for the dataset\n",
        "print(\"Path to dataset files:\", path)"
      ],
      "metadata": {
        "colab": {
          "base_uri": "https://localhost:8080/"
        },
        "id": "zUqLrEVDoY-Z",
        "outputId": "1b712e10-b957-4f3b-97f5-e6f04cc3b194"
      },
      "id": "zUqLrEVDoY-Z",
      "execution_count": 88,
      "outputs": [
        {
          "output_type": "stream",
          "name": "stdout",
          "text": [
            "Path to dataset files: /kaggle/input/booking-com-hotel-reviews\n"
          ]
        }
      ]
    },
    {
      "cell_type": "code",
      "source": [
        "# The path where the data is in the environment\n",
        "base_dataset_directory = \"/kaggle/input/booking-com-hotel-reviews\"\n",
        "csv_file_name = \"booking_reviews copy.csv\"\n",
        "full_csv_path = os.path.join(base_dataset_directory, csv_file_name)\n",
        "df = pd.read_csv(full_csv_path)"
      ],
      "metadata": {
        "id": "EH3nHpkjoZBA"
      },
      "id": "EH3nHpkjoZBA",
      "execution_count": 89,
      "outputs": []
    },
    {
      "cell_type": "markdown",
      "source": [
        "## Exploratory Data Analysis"
      ],
      "metadata": {
        "id": "pXP80x5spTu_"
      },
      "id": "pXP80x5spTu_"
    },
    {
      "cell_type": "markdown",
      "source": [
        "### Evaluating the dataframe\n",
        "\n",
        "This part of the project will contain an evaluation of the dataframa and the columns available in order to decide which ones to drop based on their relevance for the analysis.\n"
      ],
      "metadata": {
        "id": "G48vAq-MpWXD"
      },
      "id": "G48vAq-MpWXD"
    },
    {
      "cell_type": "code",
      "source": [
        "df.shape"
      ],
      "metadata": {
        "colab": {
          "base_uri": "https://localhost:8080/"
        },
        "id": "GtQVLxfAoZEB",
        "outputId": "7b3562ed-77d7-49e0-d8dc-90c233309943"
      },
      "id": "GtQVLxfAoZEB",
      "execution_count": 90,
      "outputs": [
        {
          "output_type": "execute_result",
          "data": {
            "text/plain": [
              "(26675, 16)"
            ]
          },
          "metadata": {},
          "execution_count": 90
        }
      ]
    },
    {
      "cell_type": "code",
      "source": [
        "df.info()"
      ],
      "metadata": {
        "colab": {
          "base_uri": "https://localhost:8080/"
        },
        "id": "T-QYPX7xoZG3",
        "outputId": "b3680815-5c85-48b4-c659-13188676e5eb"
      },
      "id": "T-QYPX7xoZG3",
      "execution_count": 91,
      "outputs": [
        {
          "output_type": "stream",
          "name": "stdout",
          "text": [
            "<class 'pandas.core.frame.DataFrame'>\n",
            "RangeIndex: 26675 entries, 0 to 26674\n",
            "Data columns (total 16 columns):\n",
            " #   Column           Non-Null Count  Dtype  \n",
            "---  ------           --------------  -----  \n",
            " 0   index            26675 non-null  int64  \n",
            " 1   review_title     26674 non-null  object \n",
            " 2   reviewed_at      26570 non-null  object \n",
            " 3   reviewed_by      26570 non-null  object \n",
            " 4   images           938 non-null    object \n",
            " 5   crawled_at       26386 non-null  object \n",
            " 6   url              26386 non-null  object \n",
            " 7   hotel_name       26386 non-null  object \n",
            " 8   hotel_url        26386 non-null  object \n",
            " 9   avg_rating       26386 non-null  float64\n",
            " 10  nationality      26370 non-null  object \n",
            " 11  rating           26386 non-null  float64\n",
            " 12  review_text      26386 non-null  object \n",
            " 13  raw_review_text  26202 non-null  object \n",
            " 14  tags             26202 non-null  object \n",
            " 15  meta             26202 non-null  object \n",
            "dtypes: float64(2), int64(1), object(13)\n",
            "memory usage: 3.3+ MB\n"
          ]
        }
      ]
    },
    {
      "cell_type": "code",
      "source": [
        "df.describe()"
      ],
      "metadata": {
        "colab": {
          "base_uri": "https://localhost:8080/",
          "height": 300
        },
        "id": "7JbnXr1BoZJw",
        "outputId": "d9e9e9e0-2d97-4e52-8d00-49acdbee0061"
      },
      "id": "7JbnXr1BoZJw",
      "execution_count": 92,
      "outputs": [
        {
          "output_type": "execute_result",
          "data": {
            "text/plain": [
              "              index    avg_rating        rating\n",
              "count  26675.000000  26386.000000  26386.000000\n",
              "mean   13337.000000      8.449242      8.560669\n",
              "std     7700.553552      0.716427      1.566554\n",
              "min        0.000000      3.800000      1.000000\n",
              "25%     6668.500000      8.100000      7.900000\n",
              "50%    13337.000000      8.500000      9.000000\n",
              "75%    20005.500000      8.900000     10.000000\n",
              "max    26674.000000     10.000000     10.000000"
            ],
            "text/html": [
              "\n",
              "  <div id=\"df-bf12ab02-7c93-4921-8203-6ffdaca78d63\" class=\"colab-df-container\">\n",
              "    <div>\n",
              "<style scoped>\n",
              "    .dataframe tbody tr th:only-of-type {\n",
              "        vertical-align: middle;\n",
              "    }\n",
              "\n",
              "    .dataframe tbody tr th {\n",
              "        vertical-align: top;\n",
              "    }\n",
              "\n",
              "    .dataframe thead th {\n",
              "        text-align: right;\n",
              "    }\n",
              "</style>\n",
              "<table border=\"1\" class=\"dataframe\">\n",
              "  <thead>\n",
              "    <tr style=\"text-align: right;\">\n",
              "      <th></th>\n",
              "      <th>index</th>\n",
              "      <th>avg_rating</th>\n",
              "      <th>rating</th>\n",
              "    </tr>\n",
              "  </thead>\n",
              "  <tbody>\n",
              "    <tr>\n",
              "      <th>count</th>\n",
              "      <td>26675.000000</td>\n",
              "      <td>26386.000000</td>\n",
              "      <td>26386.000000</td>\n",
              "    </tr>\n",
              "    <tr>\n",
              "      <th>mean</th>\n",
              "      <td>13337.000000</td>\n",
              "      <td>8.449242</td>\n",
              "      <td>8.560669</td>\n",
              "    </tr>\n",
              "    <tr>\n",
              "      <th>std</th>\n",
              "      <td>7700.553552</td>\n",
              "      <td>0.716427</td>\n",
              "      <td>1.566554</td>\n",
              "    </tr>\n",
              "    <tr>\n",
              "      <th>min</th>\n",
              "      <td>0.000000</td>\n",
              "      <td>3.800000</td>\n",
              "      <td>1.000000</td>\n",
              "    </tr>\n",
              "    <tr>\n",
              "      <th>25%</th>\n",
              "      <td>6668.500000</td>\n",
              "      <td>8.100000</td>\n",
              "      <td>7.900000</td>\n",
              "    </tr>\n",
              "    <tr>\n",
              "      <th>50%</th>\n",
              "      <td>13337.000000</td>\n",
              "      <td>8.500000</td>\n",
              "      <td>9.000000</td>\n",
              "    </tr>\n",
              "    <tr>\n",
              "      <th>75%</th>\n",
              "      <td>20005.500000</td>\n",
              "      <td>8.900000</td>\n",
              "      <td>10.000000</td>\n",
              "    </tr>\n",
              "    <tr>\n",
              "      <th>max</th>\n",
              "      <td>26674.000000</td>\n",
              "      <td>10.000000</td>\n",
              "      <td>10.000000</td>\n",
              "    </tr>\n",
              "  </tbody>\n",
              "</table>\n",
              "</div>\n",
              "    <div class=\"colab-df-buttons\">\n",
              "\n",
              "  <div class=\"colab-df-container\">\n",
              "    <button class=\"colab-df-convert\" onclick=\"convertToInteractive('df-bf12ab02-7c93-4921-8203-6ffdaca78d63')\"\n",
              "            title=\"Convert this dataframe to an interactive table.\"\n",
              "            style=\"display:none;\">\n",
              "\n",
              "  <svg xmlns=\"http://www.w3.org/2000/svg\" height=\"24px\" viewBox=\"0 -960 960 960\">\n",
              "    <path d=\"M120-120v-720h720v720H120Zm60-500h600v-160H180v160Zm220 220h160v-160H400v160Zm0 220h160v-160H400v160ZM180-400h160v-160H180v160Zm440 0h160v-160H620v160ZM180-180h160v-160H180v160Zm440 0h160v-160H620v160Z\"/>\n",
              "  </svg>\n",
              "    </button>\n",
              "\n",
              "  <style>\n",
              "    .colab-df-container {\n",
              "      display:flex;\n",
              "      gap: 12px;\n",
              "    }\n",
              "\n",
              "    .colab-df-convert {\n",
              "      background-color: #E8F0FE;\n",
              "      border: none;\n",
              "      border-radius: 50%;\n",
              "      cursor: pointer;\n",
              "      display: none;\n",
              "      fill: #1967D2;\n",
              "      height: 32px;\n",
              "      padding: 0 0 0 0;\n",
              "      width: 32px;\n",
              "    }\n",
              "\n",
              "    .colab-df-convert:hover {\n",
              "      background-color: #E2EBFA;\n",
              "      box-shadow: 0px 1px 2px rgba(60, 64, 67, 0.3), 0px 1px 3px 1px rgba(60, 64, 67, 0.15);\n",
              "      fill: #174EA6;\n",
              "    }\n",
              "\n",
              "    .colab-df-buttons div {\n",
              "      margin-bottom: 4px;\n",
              "    }\n",
              "\n",
              "    [theme=dark] .colab-df-convert {\n",
              "      background-color: #3B4455;\n",
              "      fill: #D2E3FC;\n",
              "    }\n",
              "\n",
              "    [theme=dark] .colab-df-convert:hover {\n",
              "      background-color: #434B5C;\n",
              "      box-shadow: 0px 1px 3px 1px rgba(0, 0, 0, 0.15);\n",
              "      filter: drop-shadow(0px 1px 2px rgba(0, 0, 0, 0.3));\n",
              "      fill: #FFFFFF;\n",
              "    }\n",
              "  </style>\n",
              "\n",
              "    <script>\n",
              "      const buttonEl =\n",
              "        document.querySelector('#df-bf12ab02-7c93-4921-8203-6ffdaca78d63 button.colab-df-convert');\n",
              "      buttonEl.style.display =\n",
              "        google.colab.kernel.accessAllowed ? 'block' : 'none';\n",
              "\n",
              "      async function convertToInteractive(key) {\n",
              "        const element = document.querySelector('#df-bf12ab02-7c93-4921-8203-6ffdaca78d63');\n",
              "        const dataTable =\n",
              "          await google.colab.kernel.invokeFunction('convertToInteractive',\n",
              "                                                    [key], {});\n",
              "        if (!dataTable) return;\n",
              "\n",
              "        const docLinkHtml = 'Like what you see? Visit the ' +\n",
              "          '<a target=\"_blank\" href=https://colab.research.google.com/notebooks/data_table.ipynb>data table notebook</a>'\n",
              "          + ' to learn more about interactive tables.';\n",
              "        element.innerHTML = '';\n",
              "        dataTable['output_type'] = 'display_data';\n",
              "        await google.colab.output.renderOutput(dataTable, element);\n",
              "        const docLink = document.createElement('div');\n",
              "        docLink.innerHTML = docLinkHtml;\n",
              "        element.appendChild(docLink);\n",
              "      }\n",
              "    </script>\n",
              "  </div>\n",
              "\n",
              "\n",
              "    <div id=\"df-63b01daa-ad3f-4ca8-aecc-a5c9fceefe59\">\n",
              "      <button class=\"colab-df-quickchart\" onclick=\"quickchart('df-63b01daa-ad3f-4ca8-aecc-a5c9fceefe59')\"\n",
              "                title=\"Suggest charts\"\n",
              "                style=\"display:none;\">\n",
              "\n",
              "<svg xmlns=\"http://www.w3.org/2000/svg\" height=\"24px\"viewBox=\"0 0 24 24\"\n",
              "     width=\"24px\">\n",
              "    <g>\n",
              "        <path d=\"M19 3H5c-1.1 0-2 .9-2 2v14c0 1.1.9 2 2 2h14c1.1 0 2-.9 2-2V5c0-1.1-.9-2-2-2zM9 17H7v-7h2v7zm4 0h-2V7h2v10zm4 0h-2v-4h2v4z\"/>\n",
              "    </g>\n",
              "</svg>\n",
              "      </button>\n",
              "\n",
              "<style>\n",
              "  .colab-df-quickchart {\n",
              "      --bg-color: #E8F0FE;\n",
              "      --fill-color: #1967D2;\n",
              "      --hover-bg-color: #E2EBFA;\n",
              "      --hover-fill-color: #174EA6;\n",
              "      --disabled-fill-color: #AAA;\n",
              "      --disabled-bg-color: #DDD;\n",
              "  }\n",
              "\n",
              "  [theme=dark] .colab-df-quickchart {\n",
              "      --bg-color: #3B4455;\n",
              "      --fill-color: #D2E3FC;\n",
              "      --hover-bg-color: #434B5C;\n",
              "      --hover-fill-color: #FFFFFF;\n",
              "      --disabled-bg-color: #3B4455;\n",
              "      --disabled-fill-color: #666;\n",
              "  }\n",
              "\n",
              "  .colab-df-quickchart {\n",
              "    background-color: var(--bg-color);\n",
              "    border: none;\n",
              "    border-radius: 50%;\n",
              "    cursor: pointer;\n",
              "    display: none;\n",
              "    fill: var(--fill-color);\n",
              "    height: 32px;\n",
              "    padding: 0;\n",
              "    width: 32px;\n",
              "  }\n",
              "\n",
              "  .colab-df-quickchart:hover {\n",
              "    background-color: var(--hover-bg-color);\n",
              "    box-shadow: 0 1px 2px rgba(60, 64, 67, 0.3), 0 1px 3px 1px rgba(60, 64, 67, 0.15);\n",
              "    fill: var(--button-hover-fill-color);\n",
              "  }\n",
              "\n",
              "  .colab-df-quickchart-complete:disabled,\n",
              "  .colab-df-quickchart-complete:disabled:hover {\n",
              "    background-color: var(--disabled-bg-color);\n",
              "    fill: var(--disabled-fill-color);\n",
              "    box-shadow: none;\n",
              "  }\n",
              "\n",
              "  .colab-df-spinner {\n",
              "    border: 2px solid var(--fill-color);\n",
              "    border-color: transparent;\n",
              "    border-bottom-color: var(--fill-color);\n",
              "    animation:\n",
              "      spin 1s steps(1) infinite;\n",
              "  }\n",
              "\n",
              "  @keyframes spin {\n",
              "    0% {\n",
              "      border-color: transparent;\n",
              "      border-bottom-color: var(--fill-color);\n",
              "      border-left-color: var(--fill-color);\n",
              "    }\n",
              "    20% {\n",
              "      border-color: transparent;\n",
              "      border-left-color: var(--fill-color);\n",
              "      border-top-color: var(--fill-color);\n",
              "    }\n",
              "    30% {\n",
              "      border-color: transparent;\n",
              "      border-left-color: var(--fill-color);\n",
              "      border-top-color: var(--fill-color);\n",
              "      border-right-color: var(--fill-color);\n",
              "    }\n",
              "    40% {\n",
              "      border-color: transparent;\n",
              "      border-right-color: var(--fill-color);\n",
              "      border-top-color: var(--fill-color);\n",
              "    }\n",
              "    60% {\n",
              "      border-color: transparent;\n",
              "      border-right-color: var(--fill-color);\n",
              "    }\n",
              "    80% {\n",
              "      border-color: transparent;\n",
              "      border-right-color: var(--fill-color);\n",
              "      border-bottom-color: var(--fill-color);\n",
              "    }\n",
              "    90% {\n",
              "      border-color: transparent;\n",
              "      border-bottom-color: var(--fill-color);\n",
              "    }\n",
              "  }\n",
              "</style>\n",
              "\n",
              "      <script>\n",
              "        async function quickchart(key) {\n",
              "          const quickchartButtonEl =\n",
              "            document.querySelector('#' + key + ' button');\n",
              "          quickchartButtonEl.disabled = true;  // To prevent multiple clicks.\n",
              "          quickchartButtonEl.classList.add('colab-df-spinner');\n",
              "          try {\n",
              "            const charts = await google.colab.kernel.invokeFunction(\n",
              "                'suggestCharts', [key], {});\n",
              "          } catch (error) {\n",
              "            console.error('Error during call to suggestCharts:', error);\n",
              "          }\n",
              "          quickchartButtonEl.classList.remove('colab-df-spinner');\n",
              "          quickchartButtonEl.classList.add('colab-df-quickchart-complete');\n",
              "        }\n",
              "        (() => {\n",
              "          let quickchartButtonEl =\n",
              "            document.querySelector('#df-63b01daa-ad3f-4ca8-aecc-a5c9fceefe59 button');\n",
              "          quickchartButtonEl.style.display =\n",
              "            google.colab.kernel.accessAllowed ? 'block' : 'none';\n",
              "        })();\n",
              "      </script>\n",
              "    </div>\n",
              "\n",
              "    </div>\n",
              "  </div>\n"
            ],
            "application/vnd.google.colaboratory.intrinsic+json": {
              "type": "dataframe",
              "summary": "{\n  \"name\": \"df\",\n  \"rows\": 8,\n  \"fields\": [\n    {\n      \"column\": \"index\",\n      \"properties\": {\n        \"dtype\": \"number\",\n        \"std\": 9613.5800836857,\n        \"min\": 0.0,\n        \"max\": 26675.0,\n        \"num_unique_values\": 7,\n        \"samples\": [\n          26675.0,\n          13337.0,\n          20005.5\n        ],\n        \"semantic_type\": \"\",\n        \"description\": \"\"\n      }\n    },\n    {\n      \"column\": \"avg_rating\",\n      \"properties\": {\n        \"dtype\": \"number\",\n        \"std\": 9326.412397939608,\n        \"min\": 0.7164265501238433,\n        \"max\": 26386.0,\n        \"num_unique_values\": 8,\n        \"samples\": [\n          8.449242022284546,\n          8.5,\n          26386.0\n        ],\n        \"semantic_type\": \"\",\n        \"description\": \"\"\n      }\n    },\n    {\n      \"column\": \"rating\",\n      \"properties\": {\n        \"dtype\": \"number\",\n        \"std\": 9326.434717298118,\n        \"min\": 1.0,\n        \"max\": 26386.0,\n        \"num_unique_values\": 7,\n        \"samples\": [\n          26386.0,\n          8.56066853634503,\n          9.0\n        ],\n        \"semantic_type\": \"\",\n        \"description\": \"\"\n      }\n    }\n  ]\n}"
            }
          },
          "metadata": {},
          "execution_count": 92
        }
      ]
    },
    {
      "cell_type": "code",
      "source": [
        "df.head(-5)"
      ],
      "metadata": {
        "colab": {
          "base_uri": "https://localhost:8080/",
          "height": 965
        },
        "id": "vPV8SGoSoZMV",
        "outputId": "56fa67a3-0b33-42de-8115-5706d6e6ad80"
      },
      "id": "vPV8SGoSoZMV",
      "execution_count": 93,
      "outputs": [
        {
          "output_type": "execute_result",
          "data": {
            "text/plain": [
              "       index                                       review_title  \\\n",
              "0          0                                        Exceptional   \n",
              "1          1  I highly recommend this b&b! We enjoyed it a lot!   \n",
              "2          2                                        Exceptional   \n",
              "3          3  My stay in the house was a experiencing bliss ...   \n",
              "4          4  One bedroom apartment with wonderful view and ...   \n",
              "...      ...                                                ...   \n",
              "26665  26665                                             Superb   \n",
              "26666  26666                                           Fabulous   \n",
              "26667  26667                                        Exceptional   \n",
              "26668  26668                                             Superb   \n",
              "26669  26669        Almost perfect hotel - criticisms are minor   \n",
              "\n",
              "             reviewed_at reviewed_by  \\\n",
              "0           11 July 2021      Kyrylo   \n",
              "1       24 November 2019     Dimitri   \n",
              "2         3 January 2020    Virginia   \n",
              "3       8 September 2019      Kannan   \n",
              "4           23 June 2019         Sue   \n",
              "...                  ...         ...   \n",
              "26665  14 September 2018         Ann   \n",
              "26666     1 October 2018       Hamed   \n",
              "26667      17 March 2020        Olya   \n",
              "26668     8 October 2019      Subodh   \n",
              "26669    18 October 2018   Anonymous   \n",
              "\n",
              "                                                  images  \\\n",
              "0                                                    NaN   \n",
              "1                                                    NaN   \n",
              "2                                                    NaN   \n",
              "3                                                    NaN   \n",
              "4      https://cf.bstatic.com/xdata/images/xphoto/squ...   \n",
              "...                                                  ...   \n",
              "26665                                                NaN   \n",
              "26666                                                NaN   \n",
              "26667                                                NaN   \n",
              "26668                                                NaN   \n",
              "26669                                                NaN   \n",
              "\n",
              "                 crawled_at  \\\n",
              "0      07/20/2021, 01:09:27   \n",
              "1      07/20/2021, 01:09:27   \n",
              "2      07/20/2021, 01:09:27   \n",
              "3      07/20/2021, 01:09:28   \n",
              "4      07/20/2021, 01:09:28   \n",
              "...                     ...   \n",
              "26665  07/20/2021, 02:15:50   \n",
              "26666  07/20/2021, 02:15:50   \n",
              "26667  07/20/2021, 02:15:50   \n",
              "26668  07/20/2021, 02:15:50   \n",
              "26669  07/20/2021, 02:15:50   \n",
              "\n",
              "                                                     url  \\\n",
              "0      https://www.booking.com/reviews/be/hotel/villa...   \n",
              "1      https://www.booking.com/reviews/be/hotel/villa...   \n",
              "2      https://www.booking.com/reviews/be/hotel/hydro...   \n",
              "3      https://www.booking.com/reviews/be/hotel/villa...   \n",
              "4      https://www.booking.com/reviews/be/hotel/hydro...   \n",
              "...                                                  ...   \n",
              "26665  https://www.booking.com/reviews/be/hotel/oudhu...   \n",
              "26666  https://www.booking.com/reviews/be/hotel/warwi...   \n",
              "26667  https://www.booking.com/reviews/be/hotel/winds...   \n",
              "26668  https://www.booking.com/reviews/be/hotel/best-...   \n",
              "26669  https://www.booking.com/reviews/be/hotel/amigo...   \n",
              "\n",
              "                           hotel_name  \\\n",
              "0                     Villa Pura Vida   \n",
              "1                     Villa Pura Vida   \n",
              "2              Hydro Palace Apartment   \n",
              "3                     Villa Pura Vida   \n",
              "4              Hydro Palace Apartment   \n",
              "...                               ...   \n",
              "26665                 Martin's Relais   \n",
              "26666  Warwick Brussels - Grand Place   \n",
              "26667                  Logies Windsor   \n",
              "26668                  Hotel Ter Elst   \n",
              "26669         Rocco Forte Hotel Amigo   \n",
              "\n",
              "                                               hotel_url  avg_rating  \\\n",
              "0      https://www.booking.com/hotel/be/villa-pura-vi...         9.7   \n",
              "1      https://www.booking.com/hotel/be/villa-pura-vi...         9.7   \n",
              "2      https://www.booking.com/hotel/be/hydro-palace....         9.2   \n",
              "3      https://www.booking.com/hotel/be/villa-pura-vi...         9.7   \n",
              "4      https://www.booking.com/hotel/be/hydro-palace....         9.2   \n",
              "...                                                  ...         ...   \n",
              "26665  https://www.booking.com/hotel/be/oudhuisamster...         8.6   \n",
              "26666  https://www.booking.com/hotel/be/warwick-bruss...         8.2   \n",
              "26667  https://www.booking.com/hotel/be/windsor-castl...         8.5   \n",
              "26668  https://www.booking.com/hotel/be/best-western-...         8.3   \n",
              "26669  https://www.booking.com/hotel/be/amigo.en-gb.h...         9.1   \n",
              "\n",
              "          nationality  rating  \\\n",
              "0              Poland    10.0   \n",
              "1             Belgium     9.0   \n",
              "2      United Kingdom    10.0   \n",
              "3         Netherlands    10.0   \n",
              "4        South Africa     9.2   \n",
              "...               ...     ...   \n",
              "26665  United Kingdom     9.2   \n",
              "26666            Iran     8.8   \n",
              "26667         Belgium    10.0   \n",
              "26668         Germany     9.0   \n",
              "26669           Italy     9.6   \n",
              "\n",
              "                                             review_text  \\\n",
              "0      Everything was perfect! Quite, cozy place to r...   \n",
              "1              Very friendly host and perfect breakfast!   \n",
              "2      It was just what we wanted for a week by the b...   \n",
              "3      My stay in the house was a experiencing bliss ...   \n",
              "4      The building itself has a very musty smell in ...   \n",
              "...                                                  ...   \n",
              "26665  The expensive price of breakfast.,\\n\\nFabulous...   \n",
              "26666                Best location,\\n\\nExcelent location   \n",
              "26667  Everything was great. thank you!,\\n\\nThe guest...   \n",
              "26668    There are no comments available for this review   \n",
              "26669  The bed duvet was too hot and heavy; they coul...   \n",
              "\n",
              "                                         raw_review_text  \\\n",
              "0      <p class=\"review_pos \"><svg aria-label=\"Positi...   \n",
              "1      <p class=\"review_pos \"><svg aria-label=\"Positi...   \n",
              "2      <p class=\"review_neg \"><svg aria-label=\"Negati...   \n",
              "3      <p class=\"review_pos \"><svg aria-label=\"Positi...   \n",
              "4      <p class=\"review_neg \"><svg aria-label=\"Negati...   \n",
              "...                                                  ...   \n",
              "26665  <p class=\"review_neg \"><svg aria-label=\"Negati...   \n",
              "26666  <p class=\"review_neg \"><svg aria-label=\"Negati...   \n",
              "26667  <p class=\"review_neg \"><svg aria-label=\"Negati...   \n",
              "26668  <p class=\"review_none\"><em>There are no commen...   \n",
              "26669  <p class=\"review_neg \"><svg aria-label=\"Negati...   \n",
              "\n",
              "                                                    tags  \\\n",
              "0      Business trip~Solo traveller~Junior Suite~Stay...   \n",
              "1      Leisure trip~Couple~Deluxe Suite~Stayed 1 nigh...   \n",
              "2      Leisure trip~Couple~Apartment with Sea View~St...   \n",
              "3      Business trip~Solo traveller~Junior Suite~Stay...   \n",
              "4      Leisure trip~People with friends~Apartment wit...   \n",
              "...                                                  ...   \n",
              "26665  Leisure trip~Couple~Comfort Double Room with C...   \n",
              "26666  Leisure trip~Couple~Classic Queen Room~Stayed ...   \n",
              "26667  Leisure trip~Solo traveller~Double Room~Stayed...   \n",
              "26668  Business trip~Solo traveller~Standard Double R...   \n",
              "26669  Leisure trip~Couple~Deluxe Double Room~Stayed ...   \n",
              "\n",
              "                                                    meta  \n",
              "0      {'language': 'en-gb', 'source': 'https://www.b...  \n",
              "1      {'language': 'en-gb', 'source': 'https://www.b...  \n",
              "2      {'language': 'en-gb', 'source': 'https://www.b...  \n",
              "3      {'language': 'en-gb', 'source': 'https://www.b...  \n",
              "4      {'language': 'en-gb', 'source': 'https://www.b...  \n",
              "...                                                  ...  \n",
              "26665  {'language': 'en-gb', 'source': 'https://www.b...  \n",
              "26666  {'language': 'en-gb', 'source': 'https://www.b...  \n",
              "26667  {'language': 'en-gb', 'source': 'https://www.b...  \n",
              "26668  {'language': 'en-gb', 'source': 'https://www.b...  \n",
              "26669  {'language': 'en-gb', 'source': 'https://www.b...  \n",
              "\n",
              "[26670 rows x 16 columns]"
            ],
            "text/html": [
              "\n",
              "  <div id=\"df-79600fb3-b58f-46c1-a87e-62c3c1932565\" class=\"colab-df-container\">\n",
              "    <div>\n",
              "<style scoped>\n",
              "    .dataframe tbody tr th:only-of-type {\n",
              "        vertical-align: middle;\n",
              "    }\n",
              "\n",
              "    .dataframe tbody tr th {\n",
              "        vertical-align: top;\n",
              "    }\n",
              "\n",
              "    .dataframe thead th {\n",
              "        text-align: right;\n",
              "    }\n",
              "</style>\n",
              "<table border=\"1\" class=\"dataframe\">\n",
              "  <thead>\n",
              "    <tr style=\"text-align: right;\">\n",
              "      <th></th>\n",
              "      <th>index</th>\n",
              "      <th>review_title</th>\n",
              "      <th>reviewed_at</th>\n",
              "      <th>reviewed_by</th>\n",
              "      <th>images</th>\n",
              "      <th>crawled_at</th>\n",
              "      <th>url</th>\n",
              "      <th>hotel_name</th>\n",
              "      <th>hotel_url</th>\n",
              "      <th>avg_rating</th>\n",
              "      <th>nationality</th>\n",
              "      <th>rating</th>\n",
              "      <th>review_text</th>\n",
              "      <th>raw_review_text</th>\n",
              "      <th>tags</th>\n",
              "      <th>meta</th>\n",
              "    </tr>\n",
              "  </thead>\n",
              "  <tbody>\n",
              "    <tr>\n",
              "      <th>0</th>\n",
              "      <td>0</td>\n",
              "      <td>Exceptional</td>\n",
              "      <td>11 July 2021</td>\n",
              "      <td>Kyrylo</td>\n",
              "      <td>NaN</td>\n",
              "      <td>07/20/2021, 01:09:27</td>\n",
              "      <td>https://www.booking.com/reviews/be/hotel/villa...</td>\n",
              "      <td>Villa Pura Vida</td>\n",
              "      <td>https://www.booking.com/hotel/be/villa-pura-vi...</td>\n",
              "      <td>9.7</td>\n",
              "      <td>Poland</td>\n",
              "      <td>10.0</td>\n",
              "      <td>Everything was perfect! Quite, cozy place to r...</td>\n",
              "      <td>&lt;p class=\"review_pos \"&gt;&lt;svg aria-label=\"Positi...</td>\n",
              "      <td>Business trip~Solo traveller~Junior Suite~Stay...</td>\n",
              "      <td>{'language': 'en-gb', 'source': 'https://www.b...</td>\n",
              "    </tr>\n",
              "    <tr>\n",
              "      <th>1</th>\n",
              "      <td>1</td>\n",
              "      <td>I highly recommend this b&amp;b! We enjoyed it a lot!</td>\n",
              "      <td>24 November 2019</td>\n",
              "      <td>Dimitri</td>\n",
              "      <td>NaN</td>\n",
              "      <td>07/20/2021, 01:09:27</td>\n",
              "      <td>https://www.booking.com/reviews/be/hotel/villa...</td>\n",
              "      <td>Villa Pura Vida</td>\n",
              "      <td>https://www.booking.com/hotel/be/villa-pura-vi...</td>\n",
              "      <td>9.7</td>\n",
              "      <td>Belgium</td>\n",
              "      <td>9.0</td>\n",
              "      <td>Very friendly host and perfect breakfast!</td>\n",
              "      <td>&lt;p class=\"review_pos \"&gt;&lt;svg aria-label=\"Positi...</td>\n",
              "      <td>Leisure trip~Couple~Deluxe Suite~Stayed 1 nigh...</td>\n",
              "      <td>{'language': 'en-gb', 'source': 'https://www.b...</td>\n",
              "    </tr>\n",
              "    <tr>\n",
              "      <th>2</th>\n",
              "      <td>2</td>\n",
              "      <td>Exceptional</td>\n",
              "      <td>3 January 2020</td>\n",
              "      <td>Virginia</td>\n",
              "      <td>NaN</td>\n",
              "      <td>07/20/2021, 01:09:27</td>\n",
              "      <td>https://www.booking.com/reviews/be/hotel/hydro...</td>\n",
              "      <td>Hydro Palace Apartment</td>\n",
              "      <td>https://www.booking.com/hotel/be/hydro-palace....</td>\n",
              "      <td>9.2</td>\n",
              "      <td>United Kingdom</td>\n",
              "      <td>10.0</td>\n",
              "      <td>It was just what we wanted for a week by the b...</td>\n",
              "      <td>&lt;p class=\"review_neg \"&gt;&lt;svg aria-label=\"Negati...</td>\n",
              "      <td>Leisure trip~Couple~Apartment with Sea View~St...</td>\n",
              "      <td>{'language': 'en-gb', 'source': 'https://www.b...</td>\n",
              "    </tr>\n",
              "    <tr>\n",
              "      <th>3</th>\n",
              "      <td>3</td>\n",
              "      <td>My stay in the house was a experiencing bliss ...</td>\n",
              "      <td>8 September 2019</td>\n",
              "      <td>Kannan</td>\n",
              "      <td>NaN</td>\n",
              "      <td>07/20/2021, 01:09:28</td>\n",
              "      <td>https://www.booking.com/reviews/be/hotel/villa...</td>\n",
              "      <td>Villa Pura Vida</td>\n",
              "      <td>https://www.booking.com/hotel/be/villa-pura-vi...</td>\n",
              "      <td>9.7</td>\n",
              "      <td>Netherlands</td>\n",
              "      <td>10.0</td>\n",
              "      <td>My stay in the house was a experiencing bliss ...</td>\n",
              "      <td>&lt;p class=\"review_pos \"&gt;&lt;svg aria-label=\"Positi...</td>\n",
              "      <td>Business trip~Solo traveller~Junior Suite~Stay...</td>\n",
              "      <td>{'language': 'en-gb', 'source': 'https://www.b...</td>\n",
              "    </tr>\n",
              "    <tr>\n",
              "      <th>4</th>\n",
              "      <td>4</td>\n",
              "      <td>One bedroom apartment with wonderful view and ...</td>\n",
              "      <td>23 June 2019</td>\n",
              "      <td>Sue</td>\n",
              "      <td>https://cf.bstatic.com/xdata/images/xphoto/squ...</td>\n",
              "      <td>07/20/2021, 01:09:28</td>\n",
              "      <td>https://www.booking.com/reviews/be/hotel/hydro...</td>\n",
              "      <td>Hydro Palace Apartment</td>\n",
              "      <td>https://www.booking.com/hotel/be/hydro-palace....</td>\n",
              "      <td>9.2</td>\n",
              "      <td>South Africa</td>\n",
              "      <td>9.2</td>\n",
              "      <td>The building itself has a very musty smell in ...</td>\n",
              "      <td>&lt;p class=\"review_neg \"&gt;&lt;svg aria-label=\"Negati...</td>\n",
              "      <td>Leisure trip~People with friends~Apartment wit...</td>\n",
              "      <td>{'language': 'en-gb', 'source': 'https://www.b...</td>\n",
              "    </tr>\n",
              "    <tr>\n",
              "      <th>...</th>\n",
              "      <td>...</td>\n",
              "      <td>...</td>\n",
              "      <td>...</td>\n",
              "      <td>...</td>\n",
              "      <td>...</td>\n",
              "      <td>...</td>\n",
              "      <td>...</td>\n",
              "      <td>...</td>\n",
              "      <td>...</td>\n",
              "      <td>...</td>\n",
              "      <td>...</td>\n",
              "      <td>...</td>\n",
              "      <td>...</td>\n",
              "      <td>...</td>\n",
              "      <td>...</td>\n",
              "      <td>...</td>\n",
              "    </tr>\n",
              "    <tr>\n",
              "      <th>26665</th>\n",
              "      <td>26665</td>\n",
              "      <td>Superb</td>\n",
              "      <td>14 September 2018</td>\n",
              "      <td>Ann</td>\n",
              "      <td>NaN</td>\n",
              "      <td>07/20/2021, 02:15:50</td>\n",
              "      <td>https://www.booking.com/reviews/be/hotel/oudhu...</td>\n",
              "      <td>Martin's Relais</td>\n",
              "      <td>https://www.booking.com/hotel/be/oudhuisamster...</td>\n",
              "      <td>8.6</td>\n",
              "      <td>United Kingdom</td>\n",
              "      <td>9.2</td>\n",
              "      <td>The expensive price of breakfast.,\\n\\nFabulous...</td>\n",
              "      <td>&lt;p class=\"review_neg \"&gt;&lt;svg aria-label=\"Negati...</td>\n",
              "      <td>Leisure trip~Couple~Comfort Double Room with C...</td>\n",
              "      <td>{'language': 'en-gb', 'source': 'https://www.b...</td>\n",
              "    </tr>\n",
              "    <tr>\n",
              "      <th>26666</th>\n",
              "      <td>26666</td>\n",
              "      <td>Fabulous</td>\n",
              "      <td>1 October 2018</td>\n",
              "      <td>Hamed</td>\n",
              "      <td>NaN</td>\n",
              "      <td>07/20/2021, 02:15:50</td>\n",
              "      <td>https://www.booking.com/reviews/be/hotel/warwi...</td>\n",
              "      <td>Warwick Brussels - Grand Place</td>\n",
              "      <td>https://www.booking.com/hotel/be/warwick-bruss...</td>\n",
              "      <td>8.2</td>\n",
              "      <td>Iran</td>\n",
              "      <td>8.8</td>\n",
              "      <td>Best location,\\n\\nExcelent location</td>\n",
              "      <td>&lt;p class=\"review_neg \"&gt;&lt;svg aria-label=\"Negati...</td>\n",
              "      <td>Leisure trip~Couple~Classic Queen Room~Stayed ...</td>\n",
              "      <td>{'language': 'en-gb', 'source': 'https://www.b...</td>\n",
              "    </tr>\n",
              "    <tr>\n",
              "      <th>26667</th>\n",
              "      <td>26667</td>\n",
              "      <td>Exceptional</td>\n",
              "      <td>17 March 2020</td>\n",
              "      <td>Olya</td>\n",
              "      <td>NaN</td>\n",
              "      <td>07/20/2021, 02:15:50</td>\n",
              "      <td>https://www.booking.com/reviews/be/hotel/winds...</td>\n",
              "      <td>Logies Windsor</td>\n",
              "      <td>https://www.booking.com/hotel/be/windsor-castl...</td>\n",
              "      <td>8.5</td>\n",
              "      <td>Belgium</td>\n",
              "      <td>10.0</td>\n",
              "      <td>Everything was great. thank you!,\\n\\nThe guest...</td>\n",
              "      <td>&lt;p class=\"review_neg \"&gt;&lt;svg aria-label=\"Negati...</td>\n",
              "      <td>Leisure trip~Solo traveller~Double Room~Stayed...</td>\n",
              "      <td>{'language': 'en-gb', 'source': 'https://www.b...</td>\n",
              "    </tr>\n",
              "    <tr>\n",
              "      <th>26668</th>\n",
              "      <td>26668</td>\n",
              "      <td>Superb</td>\n",
              "      <td>8 October 2019</td>\n",
              "      <td>Subodh</td>\n",
              "      <td>NaN</td>\n",
              "      <td>07/20/2021, 02:15:50</td>\n",
              "      <td>https://www.booking.com/reviews/be/hotel/best-...</td>\n",
              "      <td>Hotel Ter Elst</td>\n",
              "      <td>https://www.booking.com/hotel/be/best-western-...</td>\n",
              "      <td>8.3</td>\n",
              "      <td>Germany</td>\n",
              "      <td>9.0</td>\n",
              "      <td>There are no comments available for this review</td>\n",
              "      <td>&lt;p class=\"review_none\"&gt;&lt;em&gt;There are no commen...</td>\n",
              "      <td>Business trip~Solo traveller~Standard Double R...</td>\n",
              "      <td>{'language': 'en-gb', 'source': 'https://www.b...</td>\n",
              "    </tr>\n",
              "    <tr>\n",
              "      <th>26669</th>\n",
              "      <td>26669</td>\n",
              "      <td>Almost perfect hotel - criticisms are minor</td>\n",
              "      <td>18 October 2018</td>\n",
              "      <td>Anonymous</td>\n",
              "      <td>NaN</td>\n",
              "      <td>07/20/2021, 02:15:50</td>\n",
              "      <td>https://www.booking.com/reviews/be/hotel/amigo...</td>\n",
              "      <td>Rocco Forte Hotel Amigo</td>\n",
              "      <td>https://www.booking.com/hotel/be/amigo.en-gb.h...</td>\n",
              "      <td>9.1</td>\n",
              "      <td>Italy</td>\n",
              "      <td>9.6</td>\n",
              "      <td>The bed duvet was too hot and heavy; they coul...</td>\n",
              "      <td>&lt;p class=\"review_neg \"&gt;&lt;svg aria-label=\"Negati...</td>\n",
              "      <td>Leisure trip~Couple~Deluxe Double Room~Stayed ...</td>\n",
              "      <td>{'language': 'en-gb', 'source': 'https://www.b...</td>\n",
              "    </tr>\n",
              "  </tbody>\n",
              "</table>\n",
              "<p>26670 rows × 16 columns</p>\n",
              "</div>\n",
              "    <div class=\"colab-df-buttons\">\n",
              "\n",
              "  <div class=\"colab-df-container\">\n",
              "    <button class=\"colab-df-convert\" onclick=\"convertToInteractive('df-79600fb3-b58f-46c1-a87e-62c3c1932565')\"\n",
              "            title=\"Convert this dataframe to an interactive table.\"\n",
              "            style=\"display:none;\">\n",
              "\n",
              "  <svg xmlns=\"http://www.w3.org/2000/svg\" height=\"24px\" viewBox=\"0 -960 960 960\">\n",
              "    <path d=\"M120-120v-720h720v720H120Zm60-500h600v-160H180v160Zm220 220h160v-160H400v160Zm0 220h160v-160H400v160ZM180-400h160v-160H180v160Zm440 0h160v-160H620v160ZM180-180h160v-160H180v160Zm440 0h160v-160H620v160Z\"/>\n",
              "  </svg>\n",
              "    </button>\n",
              "\n",
              "  <style>\n",
              "    .colab-df-container {\n",
              "      display:flex;\n",
              "      gap: 12px;\n",
              "    }\n",
              "\n",
              "    .colab-df-convert {\n",
              "      background-color: #E8F0FE;\n",
              "      border: none;\n",
              "      border-radius: 50%;\n",
              "      cursor: pointer;\n",
              "      display: none;\n",
              "      fill: #1967D2;\n",
              "      height: 32px;\n",
              "      padding: 0 0 0 0;\n",
              "      width: 32px;\n",
              "    }\n",
              "\n",
              "    .colab-df-convert:hover {\n",
              "      background-color: #E2EBFA;\n",
              "      box-shadow: 0px 1px 2px rgba(60, 64, 67, 0.3), 0px 1px 3px 1px rgba(60, 64, 67, 0.15);\n",
              "      fill: #174EA6;\n",
              "    }\n",
              "\n",
              "    .colab-df-buttons div {\n",
              "      margin-bottom: 4px;\n",
              "    }\n",
              "\n",
              "    [theme=dark] .colab-df-convert {\n",
              "      background-color: #3B4455;\n",
              "      fill: #D2E3FC;\n",
              "    }\n",
              "\n",
              "    [theme=dark] .colab-df-convert:hover {\n",
              "      background-color: #434B5C;\n",
              "      box-shadow: 0px 1px 3px 1px rgba(0, 0, 0, 0.15);\n",
              "      filter: drop-shadow(0px 1px 2px rgba(0, 0, 0, 0.3));\n",
              "      fill: #FFFFFF;\n",
              "    }\n",
              "  </style>\n",
              "\n",
              "    <script>\n",
              "      const buttonEl =\n",
              "        document.querySelector('#df-79600fb3-b58f-46c1-a87e-62c3c1932565 button.colab-df-convert');\n",
              "      buttonEl.style.display =\n",
              "        google.colab.kernel.accessAllowed ? 'block' : 'none';\n",
              "\n",
              "      async function convertToInteractive(key) {\n",
              "        const element = document.querySelector('#df-79600fb3-b58f-46c1-a87e-62c3c1932565');\n",
              "        const dataTable =\n",
              "          await google.colab.kernel.invokeFunction('convertToInteractive',\n",
              "                                                    [key], {});\n",
              "        if (!dataTable) return;\n",
              "\n",
              "        const docLinkHtml = 'Like what you see? Visit the ' +\n",
              "          '<a target=\"_blank\" href=https://colab.research.google.com/notebooks/data_table.ipynb>data table notebook</a>'\n",
              "          + ' to learn more about interactive tables.';\n",
              "        element.innerHTML = '';\n",
              "        dataTable['output_type'] = 'display_data';\n",
              "        await google.colab.output.renderOutput(dataTable, element);\n",
              "        const docLink = document.createElement('div');\n",
              "        docLink.innerHTML = docLinkHtml;\n",
              "        element.appendChild(docLink);\n",
              "      }\n",
              "    </script>\n",
              "  </div>\n",
              "\n",
              "\n",
              "    <div id=\"df-e90097b0-5b40-4352-addd-6e984fe9677a\">\n",
              "      <button class=\"colab-df-quickchart\" onclick=\"quickchart('df-e90097b0-5b40-4352-addd-6e984fe9677a')\"\n",
              "                title=\"Suggest charts\"\n",
              "                style=\"display:none;\">\n",
              "\n",
              "<svg xmlns=\"http://www.w3.org/2000/svg\" height=\"24px\"viewBox=\"0 0 24 24\"\n",
              "     width=\"24px\">\n",
              "    <g>\n",
              "        <path d=\"M19 3H5c-1.1 0-2 .9-2 2v14c0 1.1.9 2 2 2h14c1.1 0 2-.9 2-2V5c0-1.1-.9-2-2-2zM9 17H7v-7h2v7zm4 0h-2V7h2v10zm4 0h-2v-4h2v4z\"/>\n",
              "    </g>\n",
              "</svg>\n",
              "      </button>\n",
              "\n",
              "<style>\n",
              "  .colab-df-quickchart {\n",
              "      --bg-color: #E8F0FE;\n",
              "      --fill-color: #1967D2;\n",
              "      --hover-bg-color: #E2EBFA;\n",
              "      --hover-fill-color: #174EA6;\n",
              "      --disabled-fill-color: #AAA;\n",
              "      --disabled-bg-color: #DDD;\n",
              "  }\n",
              "\n",
              "  [theme=dark] .colab-df-quickchart {\n",
              "      --bg-color: #3B4455;\n",
              "      --fill-color: #D2E3FC;\n",
              "      --hover-bg-color: #434B5C;\n",
              "      --hover-fill-color: #FFFFFF;\n",
              "      --disabled-bg-color: #3B4455;\n",
              "      --disabled-fill-color: #666;\n",
              "  }\n",
              "\n",
              "  .colab-df-quickchart {\n",
              "    background-color: var(--bg-color);\n",
              "    border: none;\n",
              "    border-radius: 50%;\n",
              "    cursor: pointer;\n",
              "    display: none;\n",
              "    fill: var(--fill-color);\n",
              "    height: 32px;\n",
              "    padding: 0;\n",
              "    width: 32px;\n",
              "  }\n",
              "\n",
              "  .colab-df-quickchart:hover {\n",
              "    background-color: var(--hover-bg-color);\n",
              "    box-shadow: 0 1px 2px rgba(60, 64, 67, 0.3), 0 1px 3px 1px rgba(60, 64, 67, 0.15);\n",
              "    fill: var(--button-hover-fill-color);\n",
              "  }\n",
              "\n",
              "  .colab-df-quickchart-complete:disabled,\n",
              "  .colab-df-quickchart-complete:disabled:hover {\n",
              "    background-color: var(--disabled-bg-color);\n",
              "    fill: var(--disabled-fill-color);\n",
              "    box-shadow: none;\n",
              "  }\n",
              "\n",
              "  .colab-df-spinner {\n",
              "    border: 2px solid var(--fill-color);\n",
              "    border-color: transparent;\n",
              "    border-bottom-color: var(--fill-color);\n",
              "    animation:\n",
              "      spin 1s steps(1) infinite;\n",
              "  }\n",
              "\n",
              "  @keyframes spin {\n",
              "    0% {\n",
              "      border-color: transparent;\n",
              "      border-bottom-color: var(--fill-color);\n",
              "      border-left-color: var(--fill-color);\n",
              "    }\n",
              "    20% {\n",
              "      border-color: transparent;\n",
              "      border-left-color: var(--fill-color);\n",
              "      border-top-color: var(--fill-color);\n",
              "    }\n",
              "    30% {\n",
              "      border-color: transparent;\n",
              "      border-left-color: var(--fill-color);\n",
              "      border-top-color: var(--fill-color);\n",
              "      border-right-color: var(--fill-color);\n",
              "    }\n",
              "    40% {\n",
              "      border-color: transparent;\n",
              "      border-right-color: var(--fill-color);\n",
              "      border-top-color: var(--fill-color);\n",
              "    }\n",
              "    60% {\n",
              "      border-color: transparent;\n",
              "      border-right-color: var(--fill-color);\n",
              "    }\n",
              "    80% {\n",
              "      border-color: transparent;\n",
              "      border-right-color: var(--fill-color);\n",
              "      border-bottom-color: var(--fill-color);\n",
              "    }\n",
              "    90% {\n",
              "      border-color: transparent;\n",
              "      border-bottom-color: var(--fill-color);\n",
              "    }\n",
              "  }\n",
              "</style>\n",
              "\n",
              "      <script>\n",
              "        async function quickchart(key) {\n",
              "          const quickchartButtonEl =\n",
              "            document.querySelector('#' + key + ' button');\n",
              "          quickchartButtonEl.disabled = true;  // To prevent multiple clicks.\n",
              "          quickchartButtonEl.classList.add('colab-df-spinner');\n",
              "          try {\n",
              "            const charts = await google.colab.kernel.invokeFunction(\n",
              "                'suggestCharts', [key], {});\n",
              "          } catch (error) {\n",
              "            console.error('Error during call to suggestCharts:', error);\n",
              "          }\n",
              "          quickchartButtonEl.classList.remove('colab-df-spinner');\n",
              "          quickchartButtonEl.classList.add('colab-df-quickchart-complete');\n",
              "        }\n",
              "        (() => {\n",
              "          let quickchartButtonEl =\n",
              "            document.querySelector('#df-e90097b0-5b40-4352-addd-6e984fe9677a button');\n",
              "          quickchartButtonEl.style.display =\n",
              "            google.colab.kernel.accessAllowed ? 'block' : 'none';\n",
              "        })();\n",
              "      </script>\n",
              "    </div>\n",
              "\n",
              "    </div>\n",
              "  </div>\n"
            ],
            "application/vnd.google.colaboratory.intrinsic+json": {
              "type": "dataframe",
              "variable_name": "df",
              "summary": "{\n  \"name\": \"df\",\n  \"rows\": 26675,\n  \"fields\": [\n    {\n      \"column\": \"index\",\n      \"properties\": {\n        \"dtype\": \"number\",\n        \"std\": 7700,\n        \"min\": 0,\n        \"max\": 26674,\n        \"num_unique_values\": 26675,\n        \"samples\": [\n          2501,\n          18439,\n          5357\n        ],\n        \"semantic_type\": \"\",\n        \"description\": \"\"\n      }\n    },\n    {\n      \"column\": \"review_title\",\n      \"properties\": {\n        \"dtype\": \"category\",\n        \"num_unique_values\": 8960,\n        \"samples\": [\n          \"Good hotel great location.\",\n          \"Just wanted we wanted for a one night stop on the way to France\",\n          \"Great hotel in excellent location\"\n        ],\n        \"semantic_type\": \"\",\n        \"description\": \"\"\n      }\n    },\n    {\n      \"column\": \"reviewed_at\",\n      \"properties\": {\n        \"dtype\": \"category\",\n        \"num_unique_values\": 1240,\n        \"samples\": [\n          \"18 November 2019\",\n          \"12 September 2019\",\n          \"24 February 2019\"\n        ],\n        \"semantic_type\": \"\",\n        \"description\": \"\"\n      }\n    },\n    {\n      \"column\": \"reviewed_by\",\n      \"properties\": {\n        \"dtype\": \"category\",\n        \"num_unique_values\": 8566,\n        \"samples\": [\n          \"Caique\",\n          \"C\\u0103t\\u0103lina\",\n          \"Ly\"\n        ],\n        \"semantic_type\": \"\",\n        \"description\": \"\"\n      }\n    },\n    {\n      \"column\": \"images\",\n      \"properties\": {\n        \"dtype\": \"category\",\n        \"num_unique_values\": 755,\n        \"samples\": [\n          \"https://cf.bstatic.com/xdata/images/xphoto/square60_ao/84037692.jpg?k=4b76c4c778e09dba380afe6c523540da58736372fa7bbc06008b08cb3235abe0&o=\",\n          \"https://cf.bstatic.com/xdata/images/xphoto/square60_ao/47061700.jpg?k=f48cbb215dccdd568ae3949c94aaf71ce2373a477465da20b091e7948b64d9ec&o=~https://cf.bstatic.com/xdata/images/xphoto/square60_ao/47061703.jpg?k=71f53255e1f1fa1450bf6b174f1c676e66e225c49d0747220c3ff140be2f3b6a&o=~https://cf.bstatic.com/xdata/images/xphoto/square60_ao/47061745.jpg?k=d5f48838770205cdbddc8e4c926eea8e1f3669cbe738027cacebac433dd07d4c&o=\",\n          \"https://cf.bstatic.com/xdata/images/xphoto/square60_ao/70795776.jpg?k=c96d1901be7f9393d6976768e73bc8e0531bdddec0347cabd54035c53e6042be&o=\"\n        ],\n        \"semantic_type\": \"\",\n        \"description\": \"\"\n      }\n    },\n    {\n      \"column\": \"crawled_at\",\n      \"properties\": {\n        \"dtype\": \"object\",\n        \"num_unique_values\": 3968,\n        \"samples\": [\n          \"07/20/2021, 01:54:37\",\n          \"07/20/2021, 01:43:31\",\n          \"07/20/2021, 01:14:42\"\n        ],\n        \"semantic_type\": \"\",\n        \"description\": \"\"\n      }\n    },\n    {\n      \"column\": \"url\",\n      \"properties\": {\n        \"dtype\": \"category\",\n        \"num_unique_values\": 1412,\n        \"samples\": [\n          \"https://www.booking.com/reviews/be/hotel/jeanne-nieuwpoort.en-gb.html?label=gen173nr-1DCA0oFUIRamVhbm5lLW5pZXV3cG9vcnRIM1gEaGyIAQGYAQm4AQfIAQ3YAQPoAQGIAgGoAgO4Ao-414cGwAIB0gIkOTM0MDkxZmEtYjdmOC00NDIyLTk2NTAtZTI2Njg3MGUxMDBl2AIE4AIB;sid=cb78d8489b9c18246aa9830225a71862;customer_type=total&hp_nav=0&keep_landing=1&order=featuredreviews&page=1&r_lang=en&rows=75&\",\n          \"https://www.booking.com/reviews/be/hotel/tibrusselsboulevard.en-gb.html?label=gen173nr-1DCA0oFUITdGlicnVzc2Vsc2JvdWxldmFyZEgzWARobIgBAZgBCbgBB8gBDdgBA-gBAYgCAagCA7gCvLjXhwbAAgHSAiQ3OGVlOWZhNi00MjNkLTQwNDYtOTUyNi04NDZlZTIxNWU3MjTYAgTgAgE;sid=cb78d8489b9c18246aa9830225a71862;customer_type=total;hp_nav=0;old_page=0;order=featuredreviews;page=7;r_lang=en;rows=75&\",\n          \"https://www.booking.com/reviews/be/hotel/housing.en-gb.html?label=gen173nr-1DCA0oFUIHaG91c2luZ0gzWARobIgBAZgBCbgBB8gBDdgBA-gBAYgCAagCA7gCjrDXhwbAAgHSAiRhZjA4NzM0Mi05YTdlLTRlODktYWJiYi00ZGMwZmY5MTcyZDDYAgTgAgE;sid=cb78d8489b9c18246aa9830225a71862;customer_type=total&hp_nav=0&keep_landing=1&order=featuredreviews&page=1&r_lang=en&rows=75&\"\n        ],\n        \"semantic_type\": \"\",\n        \"description\": \"\"\n      }\n    },\n    {\n      \"column\": \"hotel_name\",\n      \"properties\": {\n        \"dtype\": \"category\",\n        \"num_unique_values\": 819,\n        \"samples\": [\n          \"Apartment Aurora\",\n          \"Au Marronnier\",\n          \"Spacious Guest Suites near Historic Market - 5 Min Walk\"\n        ],\n        \"semantic_type\": \"\",\n        \"description\": \"\"\n      }\n    },\n    {\n      \"column\": \"hotel_url\",\n      \"properties\": {\n        \"dtype\": \"category\",\n        \"num_unique_values\": 822,\n        \"samples\": [\n          \"https://www.booking.com/hotel/be/auberge-de-la-lesse-celles.en-gb.html?label=gen173nr-1DCA0oFUIaYXViZXJnZS1kZS1sYS1sZXNzZS1jZWxsZXNIM1gEaGyIAQGYAQm4AQfIAQ3YAQPoAQGIAgGoAgO4At2-14cGwAIB0gIkMTc0ZDgwNTUtYmI0NS00Yjg5LWI4YjgtN2I3MTc2NTMzMDlm2AIE4AIB;sid=cb78d8489b9c18246aa9830225a71862\",\n          \"https://www.booking.com/hotel/be/le-cerf-volant.en-gb.html?label=gen173nr-1DCA0oFUIObGUtY2VyZi12b2xhbnRIM1gEaGyIAQGYAQm4AQfIAQ3YAQPoAQGIAgGoAgO4AvGu14cGwAIB0gIkMDVkYjI3ODktZTE4Ni00ZTlmLWE0MGYtZTY4NjkxMGM5ZGRj2AIE4AIB;sid=cb78d8489b9c18246aa9830225a71862\",\n          \"https://www.booking.com/hotel/be/wilgenhof-maaseik.en-gb.html?label=gen173nr-1DCA0oFUIRd2lsZ2VuaG9mLW1hYXNlaWtIM1gEaGyIAQGYAQm4AQfIAQ3YAQPoAQGIAgGoAgO4Ao-r14cGwAIB0gIkNGIzYWI4ZGQtODIyMS00M2MyLWExMGYtZjg4MTczODg0MGY02AIE4AIB;sid=cb78d8489b9c18246aa9830225a71862\"\n        ],\n        \"semantic_type\": \"\",\n        \"description\": \"\"\n      }\n    },\n    {\n      \"column\": \"avg_rating\",\n      \"properties\": {\n        \"dtype\": \"number\",\n        \"std\": 0.7164265501238433,\n        \"min\": 3.8,\n        \"max\": 10.0,\n        \"num_unique_values\": 42,\n        \"samples\": [\n          9.6,\n          8.9,\n          8.5\n        ],\n        \"semantic_type\": \"\",\n        \"description\": \"\"\n      }\n    },\n    {\n      \"column\": \"nationality\",\n      \"properties\": {\n        \"dtype\": \"category\",\n        \"num_unique_values\": 163,\n        \"samples\": [\n          \"Cambodia\",\n          \"Tunisia\",\n          \"Nicaragua\"\n        ],\n        \"semantic_type\": \"\",\n        \"description\": \"\"\n      }\n    },\n    {\n      \"column\": \"rating\",\n      \"properties\": {\n        \"dtype\": \"number\",\n        \"std\": 1.5665535076243988,\n        \"min\": 1.0,\n        \"max\": 10.0,\n        \"num_unique_values\": 36,\n        \"samples\": [\n          6.9,\n          5.0,\n          2.9\n        ],\n        \"semantic_type\": \"\",\n        \"description\": \"\"\n      }\n    },\n    {\n      \"column\": \"review_text\",\n      \"properties\": {\n        \"dtype\": \"string\",\n        \"num_unique_values\": 18501,\n        \"samples\": [\n          \"Breakfast 18 EUR per person is ridiculous.\",\n          \"Room wasn\\u2019t clean and it was very very cold inside( we were at December), because condition didn\\u2019t work.,\\n\\nGreat location, 25 minutes by foot to the city center.\",\n          \"Nothing really, very nice all round\"\n        ],\n        \"semantic_type\": \"\",\n        \"description\": \"\"\n      }\n    },\n    {\n      \"column\": \"raw_review_text\",\n      \"properties\": {\n        \"dtype\": \"string\",\n        \"num_unique_values\": 18352,\n        \"samples\": [\n          \"<p class=\\\"review_pos \\\"><svg aria-label=\\\"Positive point\\\" class=\\\"bk-icon -fonticon-plus review_item_icon\\\" fill=\\\"#008009\\\" height=\\\"14\\\" role=\\\"img\\\" width=\\\"14\\\" viewbox=\\\"0 0 32 32\\\" aria-hidden=\\\"true\\\" focusable=\\\"false\\\">\\n  <path d=\\\"M32 16c0 8.836-7.162 16-16 16-8.834 0-16-5.74-16-16C0 6.451 7.166 0 16 0c8.838 0 16 7.162 16 16zm-6.4-2.585c0-.369-.031-.616-.4-.616h-5.998V7.018c0-.369-.297-.62-.666-.62h-5.068c-.369 0-.666.251-.666.62v5.781H6.901c-.369 0-.499.247-.499.616v5.118c0 .369.132.666.499.666H12.8v5.833c0 .369.297.565.666.565h5.068c.369 0 .666-.196.666-.565v-5.833h5.998c.369 0 .4-.297.4-.666v-5.118z\\\"></path>\\n</svg><span itemprop=\\\"reviewBody\\\">Food was very of a very good standard!</span></p>\",\n          \"<p class=\\\"review_pos \\\"><svg aria-label=\\\"Positive point\\\" class=\\\"bk-icon -fonticon-plus review_item_icon\\\" fill=\\\"#008009\\\" height=\\\"14\\\" role=\\\"img\\\" width=\\\"14\\\" viewbox=\\\"0 0 32 32\\\" aria-hidden=\\\"true\\\" focusable=\\\"false\\\">\\n  <path d=\\\"M32 16c0 8.836-7.162 16-16 16-8.834 0-16-5.74-16-16C0 6.451 7.166 0 16 0c8.838 0 16 7.162 16 16zm-6.4-2.585c0-.369-.031-.616-.4-.616h-5.998V7.018c0-.369-.297-.62-.666-.62h-5.068c-.369 0-.666.251-.666.62v5.781H6.901c-.369 0-.499.247-.499.616v5.118c0 .369.132.666.499.666H12.8v5.833c0 .369.297.565.666.565h5.068c.369 0 .666-.196.666-.565v-5.833h5.998c.369 0 .4-.297.4-.666v-5.118z\\\"></path>\\n</svg><span itemprop=\\\"reviewBody\\\">Friendly and helpful staff. Good breakfast. Good advice. Bike rental.</span></p>\",\n          \"<p class=\\\"review_pos \\\"><svg aria-label=\\\"Positive point\\\" class=\\\"bk-icon -fonticon-plus review_item_icon\\\" fill=\\\"#008009\\\" height=\\\"14\\\" role=\\\"img\\\" width=\\\"14\\\" viewbox=\\\"0 0 32 32\\\" aria-hidden=\\\"true\\\" focusable=\\\"false\\\">\\n  <path d=\\\"M32 16c0 8.836-7.162 16-16 16-8.834 0-16-5.74-16-16C0 6.451 7.166 0 16 0c8.838 0 16 7.162 16 16zm-6.4-2.585c0-.369-.031-.616-.4-.616h-5.998V7.018c0-.369-.297-.62-.666-.62h-5.068c-.369 0-.666.251-.666.62v5.781H6.901c-.369 0-.499.247-.499.616v5.118c0 .369.132.666.499.666H12.8v5.833c0 .369.297.565.666.565h5.068c.369 0 .666-.196.666-.565v-5.833h5.998c.369 0 .4-.297.4-.666v-5.118z\\\"></path>\\n</svg><span itemprop=\\\"reviewBody\\\">Wonderful, Fabulous, attention to every detail, and host friendly, helpful, and made a healthy breakfast as well. accommodations exceeded expectation w nice linens, computer, espresso machine in room, &amp; grand shower.  Felt Very luxurious, calm, comfortable space to just be. Within walking distance of all the sites.</span></p>\"\n        ],\n        \"semantic_type\": \"\",\n        \"description\": \"\"\n      }\n    },\n    {\n      \"column\": \"tags\",\n      \"properties\": {\n        \"dtype\": \"category\",\n        \"num_unique_values\": 8082,\n        \"samples\": [\n          \"Leisure trip~Solo traveller~Studio (2 Adults)~Stayed 4 nights~Submitted via mobile\",\n          \"Business trip~Group~Superior Double Room~Stayed 4 nights~Submitted via mobile\",\n          \"Leisure trip~Couple~Comfort Double Room~Stayed 4 nights\"\n        ],\n        \"semantic_type\": \"\",\n        \"description\": \"\"\n      }\n    },\n    {\n      \"column\": \"meta\",\n      \"properties\": {\n        \"dtype\": \"category\",\n        \"num_unique_values\": 1,\n        \"samples\": [\n          \"{'language': 'en-gb', 'source': 'https://www.booking.com'}\"\n        ],\n        \"semantic_type\": \"\",\n        \"description\": \"\"\n      }\n    }\n  ]\n}"
            }
          },
          "metadata": {},
          "execution_count": 93
        }
      ]
    },
    {
      "cell_type": "code",
      "source": [
        "# Handle potential NaN values for comparison between raw_review_text and review_text\n",
        "# For this I fill NaN with a placeholder string to avoid issues, as NaN != NaN\n",
        "df_temp = df.fillna({'review_text': '', 'raw_review_text': ''}).copy()\n",
        "\n",
        "# Count how many rows have identical content\n",
        "identical_reviews = (df_temp['review_text'] == df_temp['raw_review_text']).sum()\n",
        "# Only count rows where both are non-null\n",
        "total_reviews_comparable = len(df_temp) - df_temp['review_text'].isnull().sum() - df_temp['raw_review_text'].isnull().sum()\n",
        "\n",
        "print(f\"Number of reviews where 'review_text' and 'raw_review_text' are identical (after filling NaN): {identical_reviews}\")\n",
        "print(f\"Total comparable reviews (where both are non-null): {total_reviews_comparable}\")\n",
        "print(f\"Percentage identical: {((identical_reviews / total_reviews_comparable) * 100):.2f}%\")"
      ],
      "metadata": {
        "colab": {
          "base_uri": "https://localhost:8080/"
        },
        "id": "M4C-3JA2oZPS",
        "outputId": "2ee8b074-2e94-4424-bd02-eab5b337efb6"
      },
      "id": "M4C-3JA2oZPS",
      "execution_count": 94,
      "outputs": [
        {
          "output_type": "stream",
          "name": "stdout",
          "text": [
            "Number of reviews where 'review_text' and 'raw_review_text' are identical (after filling NaN): 289\n",
            "Total comparable reviews (where both are non-null): 26675\n",
            "Percentage identical: 1.08%\n"
          ]
        }
      ]
    },
    {
      "cell_type": "markdown",
      "source": [
        "Given that only 1.08% of review_text and raw_review_text are identical,this indicates significant differences between the two. Because of this it's crucial to understand the nature of these disparities before deciding which column to retain for further analysis."
      ],
      "metadata": {
        "id": "4TkfCqWXpmUe"
      },
      "id": "4TkfCqWXpmUe"
    },
    {
      "cell_type": "code",
      "source": [
        "# Calculate the length of 'review_text' and 'raw_review_text'\n",
        "df_temp['review_text_len'] = df_temp['review_text'].apply(len)\n",
        "df_temp['raw_review_text_len'] = df_temp['raw_review_text'].apply(len)\n",
        "\n",
        "# Look at descriptive statistics of lengths\n",
        "print(\"\\nDescriptive statistics for 'review_text' length:\")\n",
        "print(df_temp['review_text_len'].describe())\n",
        "\n",
        "print(\"\\nDescriptive statistics for 'raw_review_text' length:\")\n",
        "print(df_temp['raw_review_text_len'].describe())\n",
        "\n",
        "# Check for rows where one is significantly longer than the other (e.g., >20 characters difference)\n",
        "print(\"\\n--- Examples where review_text is MUCH longer (diff > 20 chars) ---\")\n",
        "longer_review_text_diff = df_temp[df_temp['review_text_len'] - df_temp['raw_review_text_len'] > 20]\n",
        "print(f\"Number of such rows: {len(longer_review_text_diff)}\")\n",
        "if not longer_review_text_diff.empty:\n",
        "    print(longer_review_text_diff[['review_text', 'raw_review_text']].head(3).to_string())\n",
        "\n",
        "print(\"\\n--- Examples where raw_review_text is MUCH longer (diff > 20 chars) ---\")\n",
        "longer_raw_review_text_diff = df_temp[df_temp['raw_review_text_len'] - df_temp['review_text_len'] > 20]\n",
        "print(f\"Number of such rows: {len(longer_raw_review_text_diff)}\")\n",
        "if not longer_raw_review_text_diff.empty:\n",
        "    print(longer_raw_review_text_diff[['review_text', 'raw_review_text']].head(3).to_string())"
      ],
      "metadata": {
        "colab": {
          "base_uri": "https://localhost:8080/"
        },
        "id": "UW7eyV6zoZR6",
        "outputId": "a747da19-87bc-48c9-86e0-39ef8f09a1c2"
      },
      "id": "UW7eyV6zoZR6",
      "execution_count": 95,
      "outputs": [
        {
          "output_type": "stream",
          "name": "stdout",
          "text": [
            "\n",
            "Descriptive statistics for 'review_text' length:\n",
            "count    26675.000000\n",
            "mean       160.166111\n",
            "std        201.930996\n",
            "min          0.000000\n",
            "25%         47.000000\n",
            "50%         78.000000\n",
            "75%        204.000000\n",
            "max       3368.000000\n",
            "Name: review_text_len, dtype: float64\n",
            "\n",
            "Descriptive statistics for 'raw_review_text' length:\n",
            "count    26675.000000\n",
            "mean       782.758163\n",
            "std        547.427211\n",
            "min          0.000000\n",
            "25%         83.000000\n",
            "50%        837.000000\n",
            "75%       1193.000000\n",
            "max       4392.000000\n",
            "Name: raw_review_text_len, dtype: float64\n",
            "\n",
            "--- Examples where review_text is MUCH longer (diff > 20 chars) ---\n",
            "Number of such rows: 149\n",
            "                                                                                           review_text raw_review_text\n",
            "54   Very clean and warm chalet. Friendly hosts willing to help and provide everything that is needed.                \n",
            "75                                                                           Vicinity to train station                \n",
            "241                                                         good hi-tech hotel with a private parking.                \n",
            "\n",
            "--- Examples where raw_review_text is MUCH longer (diff > 20 chars) ---\n",
            "Number of such rows: 26202\n",
            "                                                                                                                                  review_text                                                                                                                                                                                                                                                                                                                                                                                                                                                                                                                                                                                                                                                                                                                                                                                                                                                                                                                                                                                                                                                                                                                                                                                             raw_review_text\n",
            "0                                                                                         Everything was perfect! Quite, cozy place to relax.                                                                                                                                                                                                                                                                                                                                                                                                                                                                        <p class=\"review_pos \"><svg aria-label=\"Positive point\" class=\"bk-icon -fonticon-plus review_item_icon\" fill=\"#008009\" height=\"14\" role=\"img\" width=\"14\" viewbox=\"0 0 32 32\" aria-hidden=\"true\" focusable=\"false\">\\n  <path d=\"M32 16c0 8.836-7.162 16-16 16-8.834 0-16-5.74-16-16C0 6.451 7.166 0 16 0c8.838 0 16 7.162 16 16zm-6.4-2.585c0-.369-.031-.616-.4-.616h-5.998V7.018c0-.369-.297-.62-.666-.62h-5.068c-.369 0-.666.251-.666.62v5.781H6.901c-.369 0-.499.247-.499.616v5.118c0 .369.132.666.499.666H12.8v5.833c0 .369.297.565.666.565h5.068c.369 0 .666-.196.666-.565v-5.833h5.998c.369 0 .4-.297.4-.666v-5.118z\"></path>\\n</svg><span itemprop=\"reviewBody\">Everything was perfect! Quite, cozy place to relax.</span></p>\n",
            "1                                                                                                   Very friendly host and perfect breakfast!                                                                                                                                                                                                                                                                                                                                                                                                                                                                                  <p class=\"review_pos \"><svg aria-label=\"Positive point\" class=\"bk-icon -fonticon-plus review_item_icon\" fill=\"#008009\" height=\"14\" role=\"img\" width=\"14\" viewbox=\"0 0 32 32\" aria-hidden=\"true\" focusable=\"false\">\\n  <path d=\"M32 16c0 8.836-7.162 16-16 16-8.834 0-16-5.74-16-16C0 6.451 7.166 0 16 0c8.838 0 16 7.162 16 16zm-6.4-2.585c0-.369-.031-.616-.4-.616h-5.998V7.018c0-.369-.297-.62-.666-.62h-5.068c-.369 0-.666.251-.666.62v5.781H6.901c-.369 0-.499.247-.499.616v5.118c0 .369.132.666.499.666H12.8v5.833c0 .369.297.565.666.565h5.068c.369 0 .666-.196.666-.565v-5.833h5.998c.369 0 .4-.297.4-.666v-5.118z\"></path>\\n</svg><span itemprop=\"reviewBody\">Very friendly host and perfect breakfast!</span></p>\n",
            "2  It was just what we wanted for a week by the beach in winter,\\n\\nLocation was fab, apartment quiet and very well-equipped. Spotless clean.  <p class=\"review_neg \"><svg aria-label=\"Negative point\" class=\"bk-icon -fonticon-removecircle review_item_icon\" fill=\"#BDBDBD\" height=\"14\" role=\"img\" width=\"14\" viewbox=\"0 0 32 32\" aria-hidden=\"true\" focusable=\"false\"><path d=\"m16 0c-8.84 0-16 7.16-16 16s7.16 16 16 16 16-7.16 16-16-7.16-16-16-16zm8 17.6h-16v-3.2h16z\"></path></svg><span itemprop=\"reviewBody\">It was just what we wanted for a week by the beach in winter</span></p>,<p class=\"review_pos \"><svg aria-label=\"Positive point\" class=\"bk-icon -fonticon-plus review_item_icon\" fill=\"#008009\" height=\"14\" role=\"img\" width=\"14\" viewbox=\"0 0 32 32\" aria-hidden=\"true\" focusable=\"false\">\\n  <path d=\"M32 16c0 8.836-7.162 16-16 16-8.834 0-16-5.74-16-16C0 6.451 7.166 0 16 0c8.838 0 16 7.162 16 16zm-6.4-2.585c0-.369-.031-.616-.4-.616h-5.998V7.018c0-.369-.297-.62-.666-.62h-5.068c-.369 0-.666.251-.666.62v5.781H6.901c-.369 0-.499.247-.499.616v5.118c0 .369.132.666.499.666H12.8v5.833c0 .369.297.565.666.565h5.068c.369 0 .666-.196.666-.565v-5.833h5.998c.369 0 .4-.297.4-.666v-5.118z\"></path>\\n</svg><span itemprop=\"reviewBody\">Location was fab, apartment quiet and very well-equipped. Spotless clean.</span></p>\n"
          ]
        }
      ]
    },
    {
      "cell_type": "code",
      "source": [
        "# Find a few rows where they are different (and both non-empty) for manual inspection\n",
        "diff_reviews_sample = df_temp[(df_temp['review_text'] != df_temp['raw_review_text']) &\n",
        "                              (df_temp['review_text'] != '') & (df_temp['raw_review_text'] != '')].sample(min(5, len(df_temp))).copy()\n",
        "\n",
        "print(\"\\n--- Detailed Examples of Differences (5 random samples) ---\")\n",
        "for index, row in diff_reviews_sample.iterrows():\n",
        "    print(f\"\\nRow Index: {index}\")\n",
        "    print(f\"review_text:     '{row['review_text']}'\")\n",
        "    print(f\"raw_review_text: '{row['raw_review_text']}'\")\n",
        "    print(\"-\" * 50)"
      ],
      "metadata": {
        "colab": {
          "base_uri": "https://localhost:8080/"
        },
        "id": "dLroB-bBoZUp",
        "outputId": "c11210f0-cad2-4cb5-8f19-4b7b22bb5b62"
      },
      "id": "dLroB-bBoZUp",
      "execution_count": 96,
      "outputs": [
        {
          "output_type": "stream",
          "name": "stdout",
          "text": [
            "\n",
            "--- Detailed Examples of Differences (5 random samples) ---\n",
            "\n",
            "Row Index: 21863\n",
            "review_text:     'The room was so very smal,\n",
            "\n",
            "Peronal was friendly and helpful. The room was clean. The location is just perfect.'\n",
            "raw_review_text: '<p class=\"review_neg \"><svg aria-label=\"Negative point\" class=\"bk-icon -fonticon-removecircle review_item_icon\" fill=\"#BDBDBD\" height=\"14\" role=\"img\" width=\"14\" viewbox=\"0 0 32 32\" aria-hidden=\"true\" focusable=\"false\"><path d=\"m16 0c-8.84 0-16 7.16-16 16s7.16 16 16 16 16-7.16 16-16-7.16-16-16-16zm8 17.6h-16v-3.2h16z\"></path></svg><span itemprop=\"reviewBody\">The room was so very smal</span></p>,<p class=\"review_pos \"><svg aria-label=\"Positive point\" class=\"bk-icon -fonticon-plus review_item_icon\" fill=\"#008009\" height=\"14\" role=\"img\" width=\"14\" viewbox=\"0 0 32 32\" aria-hidden=\"true\" focusable=\"false\">\n",
            "  <path d=\"M32 16c0 8.836-7.162 16-16 16-8.834 0-16-5.74-16-16C0 6.451 7.166 0 16 0c8.838 0 16 7.162 16 16zm-6.4-2.585c0-.369-.031-.616-.4-.616h-5.998V7.018c0-.369-.297-.62-.666-.62h-5.068c-.369 0-.666.251-.666.62v5.781H6.901c-.369 0-.499.247-.499.616v5.118c0 .369.132.666.499.666H12.8v5.833c0 .369.297.565.666.565h5.068c.369 0 .666-.196.666-.565v-5.833h5.998c.369 0 .4-.297.4-.666v-5.118z\"></path>\n",
            "</svg><span itemprop=\"reviewBody\">Peronal was friendly and helpful. The room was clean. The location is just perfect. </span></p>'\n",
            "--------------------------------------------------\n",
            "\n",
            "Row Index: 7214\n",
            "review_text:     'There are no comments available for this review'\n",
            "raw_review_text: '<p class=\"review_none\"><em>There are no comments available for this review</em></p>'\n",
            "--------------------------------------------------\n",
            "\n",
            "Row Index: 26401\n",
            "review_text:     'There are no comments available for this review'\n",
            "raw_review_text: '<p class=\"review_none\"><em>There are no comments available for this review</em></p>'\n",
            "--------------------------------------------------\n",
            "\n",
            "Row Index: 15026\n",
            "review_text:     'Really large room for this Price. And the location is perfect.'\n",
            "raw_review_text: '<p class=\"review_pos \"><svg aria-label=\"Positive point\" class=\"bk-icon -fonticon-plus review_item_icon\" fill=\"#008009\" height=\"14\" role=\"img\" width=\"14\" viewbox=\"0 0 32 32\" aria-hidden=\"true\" focusable=\"false\">\n",
            "  <path d=\"M32 16c0 8.836-7.162 16-16 16-8.834 0-16-5.74-16-16C0 6.451 7.166 0 16 0c8.838 0 16 7.162 16 16zm-6.4-2.585c0-.369-.031-.616-.4-.616h-5.998V7.018c0-.369-.297-.62-.666-.62h-5.068c-.369 0-.666.251-.666.62v5.781H6.901c-.369 0-.499.247-.499.616v5.118c0 .369.132.666.499.666H12.8v5.833c0 .369.297.565.666.565h5.068c.369 0 .666-.196.666-.565v-5.833h5.998c.369 0 .4-.297.4-.666v-5.118z\"></path>\n",
            "</svg><span itemprop=\"reviewBody\">Really large room for this Price. And the location is perfect. </span></p>'\n",
            "--------------------------------------------------\n",
            "\n",
            "Row Index: 19284\n",
            "review_text:     'Reserved a queen room, but got just a standard room. Not very honest. Did not complain because too much in a hurry at arrival.'\n",
            "raw_review_text: '<p class=\"review_neg \"><svg aria-label=\"Negative point\" class=\"bk-icon -fonticon-removecircle review_item_icon\" fill=\"#BDBDBD\" height=\"14\" role=\"img\" width=\"14\" viewbox=\"0 0 32 32\" aria-hidden=\"true\" focusable=\"false\"><path d=\"m16 0c-8.84 0-16 7.16-16 16s7.16 16 16 16 16-7.16 16-16-7.16-16-16-16zm8 17.6h-16v-3.2h16z\"></path></svg><span itemprop=\"reviewBody\">Reserved a queen room, but got just a standard room. Not very honest. Did not complain because too much in a hurry at arrival.</span></p>'\n",
            "--------------------------------------------------\n"
          ]
        }
      ]
    },
    {
      "cell_type": "code",
      "source": [
        "# Displaying the first few non-null entries\n",
        "print(\"First 10 non-null entries in 'meta' column:\")\n",
        "print(df['meta'].dropna().head(10).tolist())\n",
        "\n",
        "# Displaying a random sample\n",
        "print(\"\\n10 random non-null entries in 'meta' column:\")\n",
        "print(df['meta'].dropna().sample(10).tolist())"
      ],
      "metadata": {
        "colab": {
          "base_uri": "https://localhost:8080/"
        },
        "id": "agY45fGboZXg",
        "outputId": "bfa12fe2-f02a-41e7-b45a-7b2dcc4e9417"
      },
      "id": "agY45fGboZXg",
      "execution_count": 97,
      "outputs": [
        {
          "output_type": "stream",
          "name": "stdout",
          "text": [
            "First 10 non-null entries in 'meta' column:\n",
            "[\"{'language': 'en-gb', 'source': 'https://www.booking.com'}\", \"{'language': 'en-gb', 'source': 'https://www.booking.com'}\", \"{'language': 'en-gb', 'source': 'https://www.booking.com'}\", \"{'language': 'en-gb', 'source': 'https://www.booking.com'}\", \"{'language': 'en-gb', 'source': 'https://www.booking.com'}\", \"{'language': 'en-gb', 'source': 'https://www.booking.com'}\", \"{'language': 'en-gb', 'source': 'https://www.booking.com'}\", \"{'language': 'en-gb', 'source': 'https://www.booking.com'}\", \"{'language': 'en-gb', 'source': 'https://www.booking.com'}\", \"{'language': 'en-gb', 'source': 'https://www.booking.com'}\"]\n",
            "\n",
            "10 random non-null entries in 'meta' column:\n",
            "[\"{'language': 'en-gb', 'source': 'https://www.booking.com'}\", \"{'language': 'en-gb', 'source': 'https://www.booking.com'}\", \"{'language': 'en-gb', 'source': 'https://www.booking.com'}\", \"{'language': 'en-gb', 'source': 'https://www.booking.com'}\", \"{'language': 'en-gb', 'source': 'https://www.booking.com'}\", \"{'language': 'en-gb', 'source': 'https://www.booking.com'}\", \"{'language': 'en-gb', 'source': 'https://www.booking.com'}\", \"{'language': 'en-gb', 'source': 'https://www.booking.com'}\", \"{'language': 'en-gb', 'source': 'https://www.booking.com'}\", \"{'language': 'en-gb', 'source': 'https://www.booking.com'}\"]\n"
          ]
        }
      ]
    },
    {
      "cell_type": "markdown",
      "source": [
        "Based on the above checks, I will be dropping the following columns that are not relevant for this analysis:\n",
        "\n",
        "1. index: Redundant DataFrame index.\n",
        "\n",
        "2. images: Too sparse, and image analysis is out of scope for this analysis as we are using text for hotel rating prediction.\n",
        "\n",
        "3. crawled_at: Irrelevant timestamp for this analysis as this is when the review was crawled from the site.\n",
        "\n",
        "4. url: Unique identifier for the review page, no predictive power.\n",
        "\n",
        "5. hotel_url: Unique identifier for the hotel page, but this becomes redundant if hotel_name or hotel_id is used.\n",
        "\n",
        "6. meta: content is consistently redundant, specifying 'en-gb' language and 'booking.com' source, and therefore provides no unique or discriminative information for this analysis.\n",
        "\n",
        "7. review_text: as it seems to be a simplified version of raw_review_text and is better to keep the columns with full information to better extract richer features for the analysis."
      ],
      "metadata": {
        "id": "wnv7C5Fdp8aR"
      },
      "id": "wnv7C5Fdp8aR"
    },
    {
      "cell_type": "code",
      "source": [
        "# Dropping unnecesary columns\n",
        "# Create a list of columns to drop\n",
        "columns_to_drop = ['index', 'images', 'crawled_at', 'url', 'hotel_url', 'meta', 'review_text']\n",
        "\n",
        "# Perform the drop operation\n",
        "df_cleaned = df.drop(columns=columns_to_drop, errors='ignore')\n",
        "\n",
        "# Inspecting new dataframe\n",
        "df_cleaned.info()"
      ],
      "metadata": {
        "colab": {
          "base_uri": "https://localhost:8080/"
        },
        "id": "-9HCOMOdoZat",
        "outputId": "1daee899-4ced-4c21-a4a2-eeb42b52a084"
      },
      "id": "-9HCOMOdoZat",
      "execution_count": 98,
      "outputs": [
        {
          "output_type": "stream",
          "name": "stdout",
          "text": [
            "<class 'pandas.core.frame.DataFrame'>\n",
            "RangeIndex: 26675 entries, 0 to 26674\n",
            "Data columns (total 9 columns):\n",
            " #   Column           Non-Null Count  Dtype  \n",
            "---  ------           --------------  -----  \n",
            " 0   review_title     26674 non-null  object \n",
            " 1   reviewed_at      26570 non-null  object \n",
            " 2   reviewed_by      26570 non-null  object \n",
            " 3   hotel_name       26386 non-null  object \n",
            " 4   avg_rating       26386 non-null  float64\n",
            " 5   nationality      26370 non-null  object \n",
            " 6   rating           26386 non-null  float64\n",
            " 7   raw_review_text  26202 non-null  object \n",
            " 8   tags             26202 non-null  object \n",
            "dtypes: float64(2), object(7)\n",
            "memory usage: 1.8+ MB\n"
          ]
        }
      ]
    },
    {
      "cell_type": "code",
      "source": [
        "#Initial Missing Value Overview\n",
        "df_cleaned.isnull().sum()"
      ],
      "metadata": {
        "colab": {
          "base_uri": "https://localhost:8080/",
          "height": 366
        },
        "id": "w89emybNoZd2",
        "outputId": "f3a3c8a6-f4e9-466a-a791-3662a1819524"
      },
      "id": "w89emybNoZd2",
      "execution_count": 99,
      "outputs": [
        {
          "output_type": "execute_result",
          "data": {
            "text/plain": [
              "review_title         1\n",
              "reviewed_at        105\n",
              "reviewed_by        105\n",
              "hotel_name         289\n",
              "avg_rating         289\n",
              "nationality        305\n",
              "rating             289\n",
              "raw_review_text    473\n",
              "tags               473\n",
              "dtype: int64"
            ],
            "text/html": [
              "<div>\n",
              "<style scoped>\n",
              "    .dataframe tbody tr th:only-of-type {\n",
              "        vertical-align: middle;\n",
              "    }\n",
              "\n",
              "    .dataframe tbody tr th {\n",
              "        vertical-align: top;\n",
              "    }\n",
              "\n",
              "    .dataframe thead th {\n",
              "        text-align: right;\n",
              "    }\n",
              "</style>\n",
              "<table border=\"1\" class=\"dataframe\">\n",
              "  <thead>\n",
              "    <tr style=\"text-align: right;\">\n",
              "      <th></th>\n",
              "      <th>0</th>\n",
              "    </tr>\n",
              "  </thead>\n",
              "  <tbody>\n",
              "    <tr>\n",
              "      <th>review_title</th>\n",
              "      <td>1</td>\n",
              "    </tr>\n",
              "    <tr>\n",
              "      <th>reviewed_at</th>\n",
              "      <td>105</td>\n",
              "    </tr>\n",
              "    <tr>\n",
              "      <th>reviewed_by</th>\n",
              "      <td>105</td>\n",
              "    </tr>\n",
              "    <tr>\n",
              "      <th>hotel_name</th>\n",
              "      <td>289</td>\n",
              "    </tr>\n",
              "    <tr>\n",
              "      <th>avg_rating</th>\n",
              "      <td>289</td>\n",
              "    </tr>\n",
              "    <tr>\n",
              "      <th>nationality</th>\n",
              "      <td>305</td>\n",
              "    </tr>\n",
              "    <tr>\n",
              "      <th>rating</th>\n",
              "      <td>289</td>\n",
              "    </tr>\n",
              "    <tr>\n",
              "      <th>raw_review_text</th>\n",
              "      <td>473</td>\n",
              "    </tr>\n",
              "    <tr>\n",
              "      <th>tags</th>\n",
              "      <td>473</td>\n",
              "    </tr>\n",
              "  </tbody>\n",
              "</table>\n",
              "</div><br><label><b>dtype:</b> int64</label>"
            ]
          },
          "metadata": {},
          "execution_count": 99
        }
      ]
    },
    {
      "cell_type": "markdown",
      "source": [
        "Before analyzing the distribution of our target variable 'rating', it's crucial to address its missing values. As observed, the rating column contains 289 missing entries. For supervised learning, every data point used in the target distribution analysis and model training must have a defined target value.\n",
        "\n",
        "Therefore, I made the decision to drop all rows where the rating value was NaN. This ensures the integrity of our target variable. Given this drop accounts for only about 1.08% of our total dataset, the data loss is minimal and justified to maintain data quality for supervised learning."
      ],
      "metadata": {
        "id": "jx1ney9uqAp4"
      },
      "id": "jx1ney9uqAp4"
    },
    {
      "cell_type": "code",
      "source": [
        "# Dropping NAN from target variable 'rating'\n",
        "df_cleaned = df_cleaned.dropna(subset=['rating']).copy()"
      ],
      "metadata": {
        "id": "zw2jYlHaoZgj"
      },
      "id": "zw2jYlHaoZgj",
      "execution_count": 100,
      "outputs": []
    },
    {
      "cell_type": "code",
      "source": [
        "# Additional Missing Value Overview\n",
        "df_cleaned.isnull().sum()"
      ],
      "metadata": {
        "colab": {
          "base_uri": "https://localhost:8080/",
          "height": 366
        },
        "id": "DROpvEkhoZjb",
        "outputId": "6150739b-88ff-499b-89cf-8dcacab3fd4b"
      },
      "id": "DROpvEkhoZjb",
      "execution_count": 101,
      "outputs": [
        {
          "output_type": "execute_result",
          "data": {
            "text/plain": [
              "review_title         1\n",
              "reviewed_at          0\n",
              "reviewed_by          0\n",
              "hotel_name           0\n",
              "avg_rating           0\n",
              "nationality         16\n",
              "rating               0\n",
              "raw_review_text    184\n",
              "tags               184\n",
              "dtype: int64"
            ],
            "text/html": [
              "<div>\n",
              "<style scoped>\n",
              "    .dataframe tbody tr th:only-of-type {\n",
              "        vertical-align: middle;\n",
              "    }\n",
              "\n",
              "    .dataframe tbody tr th {\n",
              "        vertical-align: top;\n",
              "    }\n",
              "\n",
              "    .dataframe thead th {\n",
              "        text-align: right;\n",
              "    }\n",
              "</style>\n",
              "<table border=\"1\" class=\"dataframe\">\n",
              "  <thead>\n",
              "    <tr style=\"text-align: right;\">\n",
              "      <th></th>\n",
              "      <th>0</th>\n",
              "    </tr>\n",
              "  </thead>\n",
              "  <tbody>\n",
              "    <tr>\n",
              "      <th>review_title</th>\n",
              "      <td>1</td>\n",
              "    </tr>\n",
              "    <tr>\n",
              "      <th>reviewed_at</th>\n",
              "      <td>0</td>\n",
              "    </tr>\n",
              "    <tr>\n",
              "      <th>reviewed_by</th>\n",
              "      <td>0</td>\n",
              "    </tr>\n",
              "    <tr>\n",
              "      <th>hotel_name</th>\n",
              "      <td>0</td>\n",
              "    </tr>\n",
              "    <tr>\n",
              "      <th>avg_rating</th>\n",
              "      <td>0</td>\n",
              "    </tr>\n",
              "    <tr>\n",
              "      <th>nationality</th>\n",
              "      <td>16</td>\n",
              "    </tr>\n",
              "    <tr>\n",
              "      <th>rating</th>\n",
              "      <td>0</td>\n",
              "    </tr>\n",
              "    <tr>\n",
              "      <th>raw_review_text</th>\n",
              "      <td>184</td>\n",
              "    </tr>\n",
              "    <tr>\n",
              "      <th>tags</th>\n",
              "      <td>184</td>\n",
              "    </tr>\n",
              "  </tbody>\n",
              "</table>\n",
              "</div><br><label><b>dtype:</b> int64</label>"
            ]
          },
          "metadata": {},
          "execution_count": 101
        }
      ]
    },
    {
      "cell_type": "markdown",
      "source": [
        "The additional missing values will be managed later in the Data processing part."
      ],
      "metadata": {
        "id": "J-EMsG5HqGSl"
      },
      "id": "J-EMsG5HqGSl"
    },
    {
      "cell_type": "markdown",
      "source": [
        "### Target Variable Distribution Analysis\n",
        "\n",
        "For this project, the target variable is rating, which mean that I have two different ways to approach the solution:\n",
        "\n",
        "1.   A regression approach by predicting the exact rating\n",
        "2.   A classification approach by converting rating to sentiment categories\n",
        "\n",
        "So in this part, I will conduct a distribution analysis for both, since I have a numerical rating from the Booking.com data I will first approach a solution with a regression problem to predict a numerical rating and then explore the sentiment classification as an alternative."
      ],
      "metadata": {
        "id": "PmvJaencqbFh"
      },
      "id": "PmvJaencqbFh"
    },
    {
      "cell_type": "markdown",
      "source": [
        "#### Rating Prediction (Regression Problem)"
      ],
      "metadata": {
        "id": "5ZYyqGOQqdvP"
      },
      "id": "5ZYyqGOQqdvP"
    },
    {
      "cell_type": "code",
      "source": [
        "#Creating an histogram for the target variable 'rating'\n",
        "rating_column_name = 'rating'\n",
        "\n",
        "plt.figure(figsize=(10, 6))\n",
        "sns.histplot(df_cleaned[rating_column_name], bins=20, kde=True) # Adjust bins if rating scale is very small/large\n",
        "plt.title(f'Distribution of Hotel Ratings (Target Variable)')\n",
        "plt.xlabel('Rating Score')\n",
        "plt.ylabel('Number of Reviews')\n",
        "plt.grid(axis='y', alpha=0.75)\n",
        "plt.show()\n",
        "\n",
        "# Get descriptive statistics for the varible 'rating'\n",
        "print(f\"\\nDescriptive Statistics for '{rating_column_name}':\")\n",
        "print(df_cleaned[rating_column_name].describe())\n",
        "\n",
        "# Check for specific unique values (e.g., 1-10)\n",
        "if df_cleaned[rating_column_name].dtype in ['int64', 'float64']:\n",
        "    print(f\"\\nUnique values in '{rating_column_name}':\")\n",
        "    print(df_cleaned[rating_column_name].unique())\n",
        "    print(f\"\\nValue counts for '{rating_column_name}':\")\n",
        "    print(df_cleaned[rating_column_name].value_counts().sort_index())"
      ],
      "metadata": {
        "colab": {
          "base_uri": "https://localhost:8080/",
          "height": 1000
        },
        "id": "vxUZnNZDptNH",
        "outputId": "c94be73d-f8f7-488d-bced-33632746a725"
      },
      "id": "vxUZnNZDptNH",
      "execution_count": 102,
      "outputs": [
        {
          "output_type": "display_data",
          "data": {
            "text/plain": [
              "<Figure size 1000x600 with 1 Axes>"
            ],
            "image/png": "[encoded data removed]"
          },
          "metadata": {}
        },
        {
          "output_type": "stream",
          "name": "stdout",
          "text": [
            "\n",
            "Descriptive Statistics for 'rating':\n",
            "count    26386.000000\n",
            "mean         8.560669\n",
            "std          1.566554\n",
            "min          1.000000\n",
            "25%          7.900000\n",
            "50%          9.000000\n",
            "75%         10.000000\n",
            "max         10.000000\n",
            "Name: rating, dtype: float64\n",
            "\n",
            "Unique values in 'rating':\n",
            "[10.   9.   9.2  8.3  7.5  8.   9.6  8.8  7.9  7.   7.1  6.   6.7  5.\n",
            "  9.5  2.   3.   3.8  4.2  5.8  5.4  1.   4.6  6.3  8.5  3.3  2.9  4.\n",
            "  2.5  4.5  5.5  8.1  3.5  9.4  6.5  6.9]\n",
            "\n",
            "Value counts for 'rating':\n",
            "rating\n",
            "1.0       95\n",
            "2.0       44\n",
            "2.5       55\n",
            "2.9       40\n",
            "3.0       78\n",
            "3.3       67\n",
            "3.5        1\n",
            "3.8       81\n",
            "4.0      104\n",
            "4.2      101\n",
            "4.5        6\n",
            "4.6      162\n",
            "5.0      384\n",
            "5.4      228\n",
            "5.5       12\n",
            "5.8      294\n",
            "6.0      305\n",
            "6.3      400\n",
            "6.5       10\n",
            "6.7      512\n",
            "6.9        1\n",
            "7.0      907\n",
            "7.1      735\n",
            "7.5     1242\n",
            "7.9     1141\n",
            "8.0     2086\n",
            "8.1        1\n",
            "8.3     1393\n",
            "8.5       33\n",
            "8.8     1538\n",
            "9.0     2319\n",
            "9.2     2050\n",
            "9.4        8\n",
            "9.5       57\n",
            "9.6     2463\n",
            "10.0    7433\n",
            "Name: count, dtype: int64\n"
          ]
        }
      ]
    },
    {
      "cell_type": "markdown",
      "source": [
        "Based on the histogram, the key findings are that the 'rating' column is a numerical target with ample data (26386 non-null entries). However, it exhibits a strong positive skew, with a mean of 8.56, and over 75% of ratings are 7.9 or higher, making lower ratings significantly sparse.\n",
        "\n",
        "This skew will cause regression models to be biased towards predicting higher ratings, potentially performing poorly on and underrepresenting the crucial, but rare, lower (negative) ratings.\n",
        "\n",
        "Moving forward with the regression to predict the rating will mean that:\n",
        "\n",
        "*   I will need to prioritize MAE/RMSE for evaluation and analyze errors across rating ranges.\n",
        "*  Employ robust regression models like Gradient Boosting Machines (XGBoost, LightGBM).\n",
        "*   Focus feature engineering on attributes indicative of negative sentiment to aid prediction of sparse low ratings.\n",
        "*   Consider converting to a classification problem by binning ratings if direct regression proves too challenging."
      ],
      "metadata": {
        "id": "VViH_j1Tqj48"
      },
      "id": "VViH_j1Tqj48"
    },
    {
      "cell_type": "markdown",
      "source": [
        "#### Sentiment Classification (Classification Problem derived from rating)"
      ],
      "metadata": {
        "id": "RM5D6a26qmva"
      },
      "id": "RM5D6a26qmva"
    },
    {
      "cell_type": "code",
      "source": [
        "# Define a function to categorize ratings into sentiments\n",
        "# The split for the binary classification was done to try to keep a 50/50 split\n",
        "def derive_binary_sentiment(rating):\n",
        "    if rating >= 9.0:\n",
        "        return 'Positive'\n",
        "    else:\n",
        "        return 'Negative'\n",
        "\n",
        "# Create the new binary sentiment column\n",
        "df_cleaned['sentiment_label'] = df_cleaned[rating_column_name].apply(derive_binary_sentiment)\n",
        "\n",
        "#df_classification['sentiment_label'] = df_classification['rating'].apply(derive_binary_sentiment)\n",
        "\n",
        "# Display the distribution of sentiment labels\n",
        "plt.figure(figsize=(8, 5))\n",
        "sns.countplot(x='sentiment_label', data=df_cleaned, order=['Negative', 'Positive'])\n",
        "plt.title('Distribution of Derived Binary Sentiment Labels (Threshold: 9.0)')\n",
        "plt.xlabel('Sentiment')\n",
        "plt.ylabel('Number of Reviews')\n",
        "plt.show()\n",
        "\n",
        "# Print counts and percentages to quantify imbalance\n",
        "sentiment_counts = df_cleaned['sentiment_label'].value_counts()\n",
        "print(\"\\nDerived Binary Sentiment Label Counts:\")\n",
        "print(sentiment_counts)\n",
        "print(\"\\nDerived Binary Sentiment Label Proportions:\")\n",
        "print((df_cleaned['sentiment_label'].value_counts(normalize=True) * 100).round(2))\n"
      ],
      "metadata": {
        "colab": {
          "base_uri": "https://localhost:8080/",
          "height": 695
        },
        "id": "PTKWZeilptPu",
        "outputId": "0348ddd1-cf7a-4930-c6fc-d7df186f0040"
      },
      "id": "PTKWZeilptPu",
      "execution_count": 103,
      "outputs": [
        {
          "output_type": "display_data",
          "data": {
            "text/plain": [
              "<Figure size 800x500 with 1 Axes>"
            ],
            "image/png": "[encoded data removed]"
          },
          "metadata": {}
        },
        {
          "output_type": "stream",
          "name": "stdout",
          "text": [
            "\n",
            "Derived Binary Sentiment Label Counts:\n",
            "sentiment_label\n",
            "Positive    14330\n",
            "Negative    12056\n",
            "Name: count, dtype: int64\n",
            "\n",
            "Derived Binary Sentiment Label Proportions:\n",
            "sentiment_label\n",
            "Positive    54.31\n",
            "Negative    45.69\n",
            "Name: proportion, dtype: float64\n"
          ]
        }
      ]
    },
    {
      "cell_type": "markdown",
      "source": [
        "Your rating data was effectively transformed into a well-balanced binary classification target (Positive: 53.72%, Negative: 46.28%) using the rating 9.0 as a threshold. This near-even split mitigates class imbalance issues, aiding robust classifier training and evaluation.\n",
        "\n",
        "The limitations of this split is that, the 9.0 threshold is arbitrary, leading to a loss of original rating granularity where diverse dissatisfaction levels are grouped. Reviews just below 9.0 are categorized with truly negative ones, potentially misrepresenting nuanced sentiment. \"Neutral\" reviews might also fall into \"Negative\" based purely on score.\n",
        "\n",
        "To address the limitations, I will be performing a boundary analysis during model evaluation to understand misclassifications near the 9.0 mark as well a conducting detailed error analysis on miscategorized reviews."
      ],
      "metadata": {
        "id": "vpH_8wtpqq_Q"
      },
      "id": "vpH_8wtpqq_Q"
    },
    {
      "cell_type": "markdown",
      "source": [
        "## Data Processing"
      ],
      "metadata": {
        "id": "qd4jEBhCqu2t"
      },
      "id": "qd4jEBhCqu2t"
    },
    {
      "cell_type": "markdown",
      "source": [
        "### Handling missing values"
      ],
      "metadata": {
        "id": "rVNJxDQwqvdE"
      },
      "id": "rVNJxDQwqvdE"
    },
    {
      "cell_type": "code",
      "source": [
        "# Current missing values\n",
        "df_cleaned.isnull().sum()"
      ],
      "metadata": {
        "colab": {
          "base_uri": "https://localhost:8080/",
          "height": 398
        },
        "id": "Q9f_VShCqulT",
        "outputId": "6b5d39e7-7c5e-45e0-a6b7-820a19c7b998"
      },
      "id": "Q9f_VShCqulT",
      "execution_count": 104,
      "outputs": [
        {
          "output_type": "execute_result",
          "data": {
            "text/plain": [
              "review_title         1\n",
              "reviewed_at          0\n",
              "reviewed_by          0\n",
              "hotel_name           0\n",
              "avg_rating           0\n",
              "nationality         16\n",
              "rating               0\n",
              "raw_review_text    184\n",
              "tags               184\n",
              "sentiment_label      0\n",
              "dtype: int64"
            ],
            "text/html": [
              "<div>\n",
              "<style scoped>\n",
              "    .dataframe tbody tr th:only-of-type {\n",
              "        vertical-align: middle;\n",
              "    }\n",
              "\n",
              "    .dataframe tbody tr th {\n",
              "        vertical-align: top;\n",
              "    }\n",
              "\n",
              "    .dataframe thead th {\n",
              "        text-align: right;\n",
              "    }\n",
              "</style>\n",
              "<table border=\"1\" class=\"dataframe\">\n",
              "  <thead>\n",
              "    <tr style=\"text-align: right;\">\n",
              "      <th></th>\n",
              "      <th>0</th>\n",
              "    </tr>\n",
              "  </thead>\n",
              "  <tbody>\n",
              "    <tr>\n",
              "      <th>review_title</th>\n",
              "      <td>1</td>\n",
              "    </tr>\n",
              "    <tr>\n",
              "      <th>reviewed_at</th>\n",
              "      <td>0</td>\n",
              "    </tr>\n",
              "    <tr>\n",
              "      <th>reviewed_by</th>\n",
              "      <td>0</td>\n",
              "    </tr>\n",
              "    <tr>\n",
              "      <th>hotel_name</th>\n",
              "      <td>0</td>\n",
              "    </tr>\n",
              "    <tr>\n",
              "      <th>avg_rating</th>\n",
              "      <td>0</td>\n",
              "    </tr>\n",
              "    <tr>\n",
              "      <th>nationality</th>\n",
              "      <td>16</td>\n",
              "    </tr>\n",
              "    <tr>\n",
              "      <th>rating</th>\n",
              "      <td>0</td>\n",
              "    </tr>\n",
              "    <tr>\n",
              "      <th>raw_review_text</th>\n",
              "      <td>184</td>\n",
              "    </tr>\n",
              "    <tr>\n",
              "      <th>tags</th>\n",
              "      <td>184</td>\n",
              "    </tr>\n",
              "    <tr>\n",
              "      <th>sentiment_label</th>\n",
              "      <td>0</td>\n",
              "    </tr>\n",
              "  </tbody>\n",
              "</table>\n",
              "</div><br><label><b>dtype:</b> int64</label>"
            ]
          },
          "metadata": {},
          "execution_count": 104
        }
      ]
    },
    {
      "cell_type": "markdown",
      "source": [
        "We will manage the the missing values for 'review_title', 'nationality', 'raw_review_text' and 'tags' in the following way:\n",
        "\n",
        "1.  review_title: I will add a placeholder \"No Title\" to preserve data. This approach is ideal because only one value is missing, and mean/median/mode imputation isn't suitable for text.\n",
        "2.  nationality: I will fill in the NaNs with the mode so the most frequent nationality. Using the mode is a common and  reasonable approach for categorical features as it preserves the distribution of the existing data as much as possible by assuming the missing values are most likely to belong to the most common category. While it might introduce a slight bias towards the mode, for a small number of missing values (16 in this case), the impact will be minimal.\n",
        "\n",
        "3.  raw_review_text: I will add a placeholder in this case an empty string. In this case an empty String '' is the best option as in an NLP pipeline this will naturally result in no tokens or zero vectors, which is the correct representation for an absent review.\n",
        "\n",
        "4.  tags: I will add a placeholder in this case an empty string.\n"
      ],
      "metadata": {
        "id": "W6PFqeBrq3vJ"
      },
      "id": "W6PFqeBrq3vJ"
    },
    {
      "cell_type": "code",
      "source": [
        "# Review title\n",
        "df_cleaned['review_title'].fillna('No Title', inplace=True)\n",
        "\n",
        "# Nationality\n",
        "most_frequent_nationality = df_cleaned['nationality'].mode()[0]\n",
        "df_cleaned['nationality'].fillna(most_frequent_nationality, inplace=True)\n",
        "\n",
        "# Raw_review_text\n",
        "df_cleaned['raw_review_text'].fillna('', inplace=True)\n",
        "\n",
        "# Tags\n",
        "df_cleaned['tags'].fillna('', inplace=True)"
      ],
      "metadata": {
        "id": "R_ZhNIKCptR7"
      },
      "id": "R_ZhNIKCptR7",
      "execution_count": 105,
      "outputs": []
    },
    {
      "cell_type": "code",
      "source": [
        "# Validating that the missing values were handled\n",
        "df_cleaned.isnull().sum()"
      ],
      "metadata": {
        "colab": {
          "base_uri": "https://localhost:8080/",
          "height": 398
        },
        "id": "DZ2ttvc9ptUV",
        "outputId": "ae9a8eca-0606-4e7b-e2aa-367d64e91679"
      },
      "id": "DZ2ttvc9ptUV",
      "execution_count": 106,
      "outputs": [
        {
          "output_type": "execute_result",
          "data": {
            "text/plain": [
              "review_title       0\n",
              "reviewed_at        0\n",
              "reviewed_by        0\n",
              "hotel_name         0\n",
              "avg_rating         0\n",
              "nationality        0\n",
              "rating             0\n",
              "raw_review_text    0\n",
              "tags               0\n",
              "sentiment_label    0\n",
              "dtype: int64"
            ],
            "text/html": [
              "<div>\n",
              "<style scoped>\n",
              "    .dataframe tbody tr th:only-of-type {\n",
              "        vertical-align: middle;\n",
              "    }\n",
              "\n",
              "    .dataframe tbody tr th {\n",
              "        vertical-align: top;\n",
              "    }\n",
              "\n",
              "    .dataframe thead th {\n",
              "        text-align: right;\n",
              "    }\n",
              "</style>\n",
              "<table border=\"1\" class=\"dataframe\">\n",
              "  <thead>\n",
              "    <tr style=\"text-align: right;\">\n",
              "      <th></th>\n",
              "      <th>0</th>\n",
              "    </tr>\n",
              "  </thead>\n",
              "  <tbody>\n",
              "    <tr>\n",
              "      <th>review_title</th>\n",
              "      <td>0</td>\n",
              "    </tr>\n",
              "    <tr>\n",
              "      <th>reviewed_at</th>\n",
              "      <td>0</td>\n",
              "    </tr>\n",
              "    <tr>\n",
              "      <th>reviewed_by</th>\n",
              "      <td>0</td>\n",
              "    </tr>\n",
              "    <tr>\n",
              "      <th>hotel_name</th>\n",
              "      <td>0</td>\n",
              "    </tr>\n",
              "    <tr>\n",
              "      <th>avg_rating</th>\n",
              "      <td>0</td>\n",
              "    </tr>\n",
              "    <tr>\n",
              "      <th>nationality</th>\n",
              "      <td>0</td>\n",
              "    </tr>\n",
              "    <tr>\n",
              "      <th>rating</th>\n",
              "      <td>0</td>\n",
              "    </tr>\n",
              "    <tr>\n",
              "      <th>raw_review_text</th>\n",
              "      <td>0</td>\n",
              "    </tr>\n",
              "    <tr>\n",
              "      <th>tags</th>\n",
              "      <td>0</td>\n",
              "    </tr>\n",
              "    <tr>\n",
              "      <th>sentiment_label</th>\n",
              "      <td>0</td>\n",
              "    </tr>\n",
              "  </tbody>\n",
              "</table>\n",
              "</div><br><label><b>dtype:</b> int64</label>"
            ]
          },
          "metadata": {},
          "execution_count": 106
        }
      ]
    },
    {
      "cell_type": "markdown",
      "source": [
        "### Feature Engineering from Structured Data\n",
        "\n",
        "The goal of this part is to extract more information from existing numerical and categorical features, especially time-related ones, to potentially improve model performance or provide deeper insights."
      ],
      "metadata": {
        "id": "6GEW30n4q-TP"
      },
      "id": "6GEW30n4q-TP"
    },
    {
      "cell_type": "markdown",
      "source": [
        "#### Step 1: Convert reviewed_at to Datetime object\n",
        "\n",
        "Convert reviewed_at in df_cleaned to a pandas datetime object as this allows easy extraction of year, month, day, day of week and facilitates date arithmetic."
      ],
      "metadata": {
        "id": "ahGs4w3wrDby"
      },
      "id": "ahGs4w3wrDby"
    },
    {
      "cell_type": "code",
      "source": [
        "# Convert to datetime\n",
        "df_cleaned['reviewed_at'] = pd.to_datetime(df_cleaned['reviewed_at'])\n"
      ],
      "metadata": {
        "id": "pDi3LcbrptW1"
      },
      "id": "pDi3LcbrptW1",
      "execution_count": 107,
      "outputs": []
    },
    {
      "cell_type": "code",
      "source": [
        "# Now that reviewed_at is a datetime object, I can easily extract various time-based features.\n",
        "# Seasonality: Month, quarter, and day of week can capture seasonal trends in reviews.\n",
        "# Temporal Trends: Year can capture long-term trends or changes.\n",
        "# Recency: review_age_days\n",
        "\n",
        "# Basic features to create\n",
        "df_cleaned['review_year'] = df_cleaned['reviewed_at'].dt.year\n",
        "df_cleaned['review_month'] = df_cleaned['reviewed_at'].dt.month\n",
        "df_cleaned['review_day'] = df_cleaned['reviewed_at'].dt.day\n",
        "df_cleaned['review_day_of_week'] = df_cleaned['reviewed_at'].dt.dayofweek # Monday=0, Sunday=6\n",
        "df_cleaned['review_quarter'] = df_cleaned['reviewed_at'].dt.quarter\n",
        "\n",
        "# Age relative to the latest review date in the dataset\n",
        "latest_review_date = df_cleaned['reviewed_at'].max()\n",
        "df_cleaned['review_age_days'] = (latest_review_date - df_cleaned['reviewed_at']).dt.days\n",
        "\n",
        "print(\"\\nDataFrame after adding time-based features:\")\n",
        "print(df_cleaned[['reviewed_at', 'review_year', 'review_month', 'review_day', 'review_day_of_week', 'review_quarter', 'review_age_days']].head())"
      ],
      "metadata": {
        "colab": {
          "base_uri": "https://localhost:8080/"
        },
        "id": "zdIGKhVZptZU",
        "outputId": "2411ed0d-82fd-4703-f0be-37500fa08491"
      },
      "id": "zdIGKhVZptZU",
      "execution_count": 108,
      "outputs": [
        {
          "output_type": "stream",
          "name": "stdout",
          "text": [
            "\n",
            "DataFrame after adding time-based features:\n",
            "  reviewed_at  review_year  review_month  review_day  review_day_of_week  \\\n",
            "0  2021-07-11         2021             7          11                   6   \n",
            "1  2019-11-24         2019            11          24                   6   \n",
            "2  2020-01-03         2020             1           3                   4   \n",
            "3  2019-09-08         2019             9           8                   6   \n",
            "4  2019-06-23         2019             6          23                   6   \n",
            "\n",
            "   review_quarter  review_age_days  \n",
            "0               3                8  \n",
            "1               4              603  \n",
            "2               1              563  \n",
            "3               3              680  \n",
            "4               2              757  \n"
          ]
        }
      ]
    },
    {
      "cell_type": "markdown",
      "source": [
        "#### Step 2: Aggregation Features\n",
        "\n",
        "Reviewer centric metrics?"
      ],
      "metadata": {
        "id": "1WFybdwNrcgk"
      },
      "id": "1WFybdwNrcgk"
    },
    {
      "cell_type": "code",
      "source": [
        "#reviewer_stats = df_cleaned.groupby('reviewed_by').agg(reviewer_total_reviews=('reviewed_by', 'count'),reviewer_avg_rating=('rating', 'mean')).reset_index()\n",
        "#df_cleaned = pd.merge(df_cleaned, reviewer_stats, on='reviewed_by', how='left')\n",
        "\n",
        "#print(\"\\nDataFrame after adding aggregation features:\")\n",
        "#print(df_cleaned[['hotel_name', 'rating', 'hotel_avg_rating', 'hotel_total_reviews',\n",
        "#          'reviewed_by', 'reviewer_total_reviews', 'reviewer_avg_rating']].head())"
      ],
      "metadata": {
        "id": "hD8T-IMUptbv"
      },
      "id": "hD8T-IMUptbv",
      "execution_count": null,
      "outputs": []
    },
    {
      "cell_type": "code",
      "source": [],
      "metadata": {
        "id": "1hu0Bnw3pteH"
      },
      "id": "1hu0Bnw3pteH",
      "execution_count": null,
      "outputs": []
    },
    {
      "cell_type": "code",
      "source": [],
      "metadata": {
        "id": "Zl4Z3hA1ptgm"
      },
      "id": "Zl4Z3hA1ptgm",
      "execution_count": null,
      "outputs": []
    },
    {
      "cell_type": "code",
      "source": [],
      "metadata": {
        "id": "qRtwB19Gpti_"
      },
      "id": "qRtwB19Gpti_",
      "execution_count": null,
      "outputs": []
    },
    {
      "cell_type": "code",
      "source": [],
      "metadata": {
        "id": "C9oRwmn8ptlU"
      },
      "id": "C9oRwmn8ptlU",
      "execution_count": null,
      "outputs": []
    },
    {
      "cell_type": "code",
      "source": [],
      "metadata": {
        "id": "afPNMykvptns"
      },
      "id": "afPNMykvptns",
      "execution_count": null,
      "outputs": []
    },
    {
      "cell_type": "code",
      "source": [],
      "metadata": {
        "id": "-heFcJXYptqF"
      },
      "id": "-heFcJXYptqF",
      "execution_count": null,
      "outputs": []
    },
    {
      "cell_type": "code",
      "source": [],
      "metadata": {
        "id": "uxuzbFvdptsZ"
      },
      "id": "uxuzbFvdptsZ",
      "execution_count": null,
      "outputs": []
    },
    {
      "cell_type": "code",
      "source": [],
      "metadata": {
        "id": "VydnFmjeptu4"
      },
      "id": "VydnFmjeptu4",
      "execution_count": null,
      "outputs": []
    },
    {
      "cell_type": "code",
      "source": [],
      "metadata": {
        "id": "IjehQeXDptxR"
      },
      "id": "IjehQeXDptxR",
      "execution_count": null,
      "outputs": []
    },
    {
      "cell_type": "code",
      "source": [],
      "metadata": {
        "id": "aw8tS3gWptzu"
      },
      "id": "aw8tS3gWptzu",
      "execution_count": null,
      "outputs": []
    },
    {
      "cell_type": "code",
      "source": [],
      "metadata": {
        "id": "DCYawVYppt2R"
      },
      "id": "DCYawVYppt2R",
      "execution_count": null,
      "outputs": []
    },
    {
      "cell_type": "code",
      "source": [],
      "metadata": {
        "id": "ySwCqEuOpt4k"
      },
      "id": "ySwCqEuOpt4k",
      "execution_count": null,
      "outputs": []
    },
    {
      "cell_type": "code",
      "source": [],
      "metadata": {
        "id": "4Qk7SNWBpt7j"
      },
      "id": "4Qk7SNWBpt7j",
      "execution_count": null,
      "outputs": []
    }
  ],
  "metadata": {
    "kernelspec": {
      "display_name": "Python (learn-env)",
      "language": "python",
      "name": "learn-env"
    },
    "language_info": {
      "codemirror_mode": {
        "name": "ipython",
        "version": 3
      },
      "file_extension": ".py",
      "mimetype": "text/x-python",
      "name": "python",
      "nbconvert_exporter": "python",
      "pygments_lexer": "ipython3",
      "version": "3.9.19"
    },
    "colab": {
      "provenance": [],
      "include_colab_link": true
    }
  },
  "nbformat": 4,
  "nbformat_minor": 5
}