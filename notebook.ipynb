{
  "cells": [
    {
      "cell_type": "markdown",
      "metadata": {
        "id": "view-in-github",
        "colab_type": "text"
      },
      "source": [
        "<a href=\"https://colab.research.google.com/github/KBE25/hotel_sentiment/blob/main/notebook.ipynb\" target=\"_parent\"><img src=\"https://colab.research.google.com/assets/colab-badge.svg\" alt=\"Open In Colab\"/></a>"
      ]
    },
    {
      "cell_type": "code",
      "execution_count": null,
      "id": "bfe9a434-ebc9-408f-9668-2d05cac70aa5",
      "metadata": {
        "id": "bfe9a434-ebc9-408f-9668-2d05cac70aa5"
      },
      "outputs": [],
      "source": []
    },
    {
      "cell_type": "code",
      "execution_count": null,
      "id": "8a5f7ff9-018c-460d-a10f-e643b24ccc34",
      "metadata": {
        "id": "8a5f7ff9-018c-460d-a10f-e643b24ccc34"
      },
      "outputs": [],
      "source": []
    },
    {
      "cell_type": "markdown",
      "id": "5c489f6d-f5b6-4926-aa73-d67c3308dca5",
      "metadata": {
        "id": "5c489f6d-f5b6-4926-aa73-d67c3308dca5"
      },
      "source": [
        "# Overview"
      ]
    },
    {
      "cell_type": "code",
      "execution_count": null,
      "id": "8d31b6cb-8d91-446a-9bcd-375e2504a686",
      "metadata": {
        "id": "8d31b6cb-8d91-446a-9bcd-375e2504a686"
      },
      "outputs": [],
      "source": []
    },
    {
      "cell_type": "code",
      "execution_count": null,
      "id": "468454b6-cbf2-48a5-a59a-b65bf7bc3590",
      "metadata": {
        "id": "468454b6-cbf2-48a5-a59a-b65bf7bc3590"
      },
      "outputs": [],
      "source": []
    },
    {
      "cell_type": "code",
      "execution_count": null,
      "id": "6db74824-75d2-46f6-b0eb-c2af854d2fee",
      "metadata": {
        "id": "6db74824-75d2-46f6-b0eb-c2af854d2fee"
      },
      "outputs": [],
      "source": []
    },
    {
      "cell_type": "code",
      "execution_count": null,
      "id": "0d2d6c87-1689-4e86-82d0-4bed4a154afd",
      "metadata": {
        "id": "0d2d6c87-1689-4e86-82d0-4bed4a154afd"
      },
      "outputs": [],
      "source": []
    },
    {
      "cell_type": "markdown",
      "id": "83200143-408a-4195-a6f4-b1d2cbc46b41",
      "metadata": {
        "id": "83200143-408a-4195-a6f4-b1d2cbc46b41"
      },
      "source": [
        "# Business Understanding"
      ]
    },
    {
      "cell_type": "code",
      "execution_count": null,
      "id": "c3ea2078-fb9a-4612-a60b-f4f5c887ab39",
      "metadata": {
        "id": "c3ea2078-fb9a-4612-a60b-f4f5c887ab39"
      },
      "outputs": [],
      "source": []
    },
    {
      "cell_type": "code",
      "execution_count": null,
      "id": "a972347a-f0c8-4340-b3ce-59308ef725ea",
      "metadata": {
        "id": "a972347a-f0c8-4340-b3ce-59308ef725ea"
      },
      "outputs": [],
      "source": []
    },
    {
      "cell_type": "code",
      "execution_count": null,
      "id": "4975946c-702c-4399-a1fb-1f0aac8500be",
      "metadata": {
        "id": "4975946c-702c-4399-a1fb-1f0aac8500be"
      },
      "outputs": [],
      "source": []
    },
    {
      "cell_type": "code",
      "execution_count": null,
      "id": "4f8c7000-11b2-40f8-b36c-34e473232e1b",
      "metadata": {
        "id": "4f8c7000-11b2-40f8-b36c-34e473232e1b"
      },
      "outputs": [],
      "source": []
    },
    {
      "cell_type": "markdown",
      "id": "30a28fdf-df88-4c3b-9550-63abb752cc94",
      "metadata": {
        "id": "30a28fdf-df88-4c3b-9550-63abb752cc94"
      },
      "source": [
        "# Data Understanding"
      ]
    },
    {
      "cell_type": "code",
      "execution_count": null,
      "id": "52c5d281-0928-4634-ad7a-1f6342a8f2a5",
      "metadata": {
        "id": "52c5d281-0928-4634-ad7a-1f6342a8f2a5"
      },
      "outputs": [],
      "source": []
    },
    {
      "cell_type": "markdown",
      "source": [
        "# Data Preparation"
      ],
      "metadata": {
        "id": "dB8gkNR6viVI"
      },
      "id": "dB8gkNR6viVI"
    },
    {
      "cell_type": "markdown",
      "source": [
        "Data Preparation will contain the following parts:"
      ],
      "metadata": {
        "id": "GR66TIxnvlDE"
      },
      "id": "GR66TIxnvlDE"
    },
    {
      "cell_type": "markdown",
      "id": "e3772ac6-4d33-44d8-aa96-07e24a8561bd",
      "metadata": {
        "id": "e3772ac6-4d33-44d8-aa96-07e24a8561bd"
      },
      "source": [
        "## Data Acquisition"
      ]
    },
    {
      "cell_type": "code",
      "source": [
        "import kagglehub\n",
        "import pandas as pd\n",
        "import os\n"
      ],
      "metadata": {
        "id": "eQy1llMPAA1w"
      },
      "id": "eQy1llMPAA1w",
      "execution_count": 1,
      "outputs": []
    },
    {
      "cell_type": "code",
      "source": [
        "# Download latest dataset version\n",
        "path = kagglehub.dataset_download(\"thedevastator/booking-com-hotel-reviews\")\n",
        "\n",
        "# Identify the path for the dataset\n",
        "print(\"Path to dataset files:\", path)"
      ],
      "metadata": {
        "id": "wVkBVCDNgi2M",
        "outputId": "68b656bf-2c98-4ec5-a873-20aa8414718b",
        "colab": {
          "base_uri": "https://localhost:8080/"
        }
      },
      "id": "wVkBVCDNgi2M",
      "execution_count": 2,
      "outputs": [
        {
          "output_type": "stream",
          "name": "stdout",
          "text": [
            "Path to dataset files: /kaggle/input/booking-com-hotel-reviews\n"
          ]
        }
      ]
    },
    {
      "cell_type": "code",
      "source": [
        "# The path where the data is in the environment\n",
        "base_dataset_directory = \"/kaggle/input/booking-com-hotel-reviews\"\n",
        "csv_file_name = \"booking_reviews copy.csv\"\n",
        "full_csv_path = os.path.join(base_dataset_directory, csv_file_name)\n",
        "df = pd.read_csv(full_csv_path)\n"
      ],
      "metadata": {
        "id": "1pc2fMlvEuer"
      },
      "id": "1pc2fMlvEuer",
      "execution_count": 3,
      "outputs": []
    },
    {
      "cell_type": "markdown",
      "source": [
        "## Exploratory Data Analysis"
      ],
      "metadata": {
        "id": "5v2ElI3nvce-"
      },
      "id": "5v2ElI3nvce-"
    },
    {
      "cell_type": "code",
      "source": [
        "df.shape"
      ],
      "metadata": {
        "colab": {
          "base_uri": "https://localhost:8080/"
        },
        "id": "64pJoUySisyL",
        "outputId": "e818b19c-91f4-4c59-99e7-771b95217cff"
      },
      "id": "64pJoUySisyL",
      "execution_count": 8,
      "outputs": [
        {
          "output_type": "execute_result",
          "data": {
            "text/plain": [
              "(26675, 16)"
            ]
          },
          "metadata": {},
          "execution_count": 8
        }
      ]
    },
    {
      "cell_type": "code",
      "source": [
        "df.info()"
      ],
      "metadata": {
        "colab": {
          "base_uri": "https://localhost:8080/"
        },
        "id": "La5QsYVWFAbH",
        "outputId": "64fa3d7e-1cee-4deb-bd20-b00d3e183bba"
      },
      "id": "La5QsYVWFAbH",
      "execution_count": 4,
      "outputs": [
        {
          "output_type": "stream",
          "name": "stdout",
          "text": [
            "<class 'pandas.core.frame.DataFrame'>\n",
            "RangeIndex: 26675 entries, 0 to 26674\n",
            "Data columns (total 16 columns):\n",
            " #   Column           Non-Null Count  Dtype  \n",
            "---  ------           --------------  -----  \n",
            " 0   index            26675 non-null  int64  \n",
            " 1   review_title     26674 non-null  object \n",
            " 2   reviewed_at      26570 non-null  object \n",
            " 3   reviewed_by      26570 non-null  object \n",
            " 4   images           938 non-null    object \n",
            " 5   crawled_at       26386 non-null  object \n",
            " 6   url              26386 non-null  object \n",
            " 7   hotel_name       26386 non-null  object \n",
            " 8   hotel_url        26386 non-null  object \n",
            " 9   avg_rating       26386 non-null  float64\n",
            " 10  nationality      26370 non-null  object \n",
            " 11  rating           26386 non-null  float64\n",
            " 12  review_text      26386 non-null  object \n",
            " 13  raw_review_text  26202 non-null  object \n",
            " 14  tags             26202 non-null  object \n",
            " 15  meta             26202 non-null  object \n",
            "dtypes: float64(2), int64(1), object(13)\n",
            "memory usage: 3.3+ MB\n"
          ]
        }
      ]
    },
    {
      "cell_type": "code",
      "source": [
        "df.describe()"
      ],
      "metadata": {
        "colab": {
          "base_uri": "https://localhost:8080/",
          "height": 300
        },
        "id": "GTKwBU7Uilp4",
        "outputId": "723b66d4-7091-4669-d287-d90c9279dd1e"
      },
      "id": "GTKwBU7Uilp4",
      "execution_count": 6,
      "outputs": [
        {
          "output_type": "execute_result",
          "data": {
            "text/plain": [
              "              index    avg_rating        rating\n",
              "count  26675.000000  26386.000000  26386.000000\n",
              "mean   13337.000000      8.449242      8.560669\n",
              "std     7700.553552      0.716427      1.566554\n",
              "min        0.000000      3.800000      1.000000\n",
              "25%     6668.500000      8.100000      7.900000\n",
              "50%    13337.000000      8.500000      9.000000\n",
              "75%    20005.500000      8.900000     10.000000\n",
              "max    26674.000000     10.000000     10.000000"
            ],
            "text/html": [
              "\n",
              "  <div id=\"df-682c43e4-ba8d-4bc0-9835-f545d0d9d304\" class=\"colab-df-container\">\n",
              "    <div>\n",
              "<style scoped>\n",
              "    .dataframe tbody tr th:only-of-type {\n",
              "        vertical-align: middle;\n",
              "    }\n",
              "\n",
              "    .dataframe tbody tr th {\n",
              "        vertical-align: top;\n",
              "    }\n",
              "\n",
              "    .dataframe thead th {\n",
              "        text-align: right;\n",
              "    }\n",
              "</style>\n",
              "<table border=\"1\" class=\"dataframe\">\n",
              "  <thead>\n",
              "    <tr style=\"text-align: right;\">\n",
              "      <th></th>\n",
              "      <th>index</th>\n",
              "      <th>avg_rating</th>\n",
              "      <th>rating</th>\n",
              "    </tr>\n",
              "  </thead>\n",
              "  <tbody>\n",
              "    <tr>\n",
              "      <th>count</th>\n",
              "      <td>26675.000000</td>\n",
              "      <td>26386.000000</td>\n",
              "      <td>26386.000000</td>\n",
              "    </tr>\n",
              "    <tr>\n",
              "      <th>mean</th>\n",
              "      <td>13337.000000</td>\n",
              "      <td>8.449242</td>\n",
              "      <td>8.560669</td>\n",
              "    </tr>\n",
              "    <tr>\n",
              "      <th>std</th>\n",
              "      <td>7700.553552</td>\n",
              "      <td>0.716427</td>\n",
              "      <td>1.566554</td>\n",
              "    </tr>\n",
              "    <tr>\n",
              "      <th>min</th>\n",
              "      <td>0.000000</td>\n",
              "      <td>3.800000</td>\n",
              "      <td>1.000000</td>\n",
              "    </tr>\n",
              "    <tr>\n",
              "      <th>25%</th>\n",
              "      <td>6668.500000</td>\n",
              "      <td>8.100000</td>\n",
              "      <td>7.900000</td>\n",
              "    </tr>\n",
              "    <tr>\n",
              "      <th>50%</th>\n",
              "      <td>13337.000000</td>\n",
              "      <td>8.500000</td>\n",
              "      <td>9.000000</td>\n",
              "    </tr>\n",
              "    <tr>\n",
              "      <th>75%</th>\n",
              "      <td>20005.500000</td>\n",
              "      <td>8.900000</td>\n",
              "      <td>10.000000</td>\n",
              "    </tr>\n",
              "    <tr>\n",
              "      <th>max</th>\n",
              "      <td>26674.000000</td>\n",
              "      <td>10.000000</td>\n",
              "      <td>10.000000</td>\n",
              "    </tr>\n",
              "  </tbody>\n",
              "</table>\n",
              "</div>\n",
              "    <div class=\"colab-df-buttons\">\n",
              "\n",
              "  <div class=\"colab-df-container\">\n",
              "    <button class=\"colab-df-convert\" onclick=\"convertToInteractive('df-682c43e4-ba8d-4bc0-9835-f545d0d9d304')\"\n",
              "            title=\"Convert this dataframe to an interactive table.\"\n",
              "            style=\"display:none;\">\n",
              "\n",
              "  <svg xmlns=\"http://www.w3.org/2000/svg\" height=\"24px\" viewBox=\"0 -960 960 960\">\n",
              "    <path d=\"M120-120v-720h720v720H120Zm60-500h600v-160H180v160Zm220 220h160v-160H400v160Zm0 220h160v-160H400v160ZM180-400h160v-160H180v160Zm440 0h160v-160H620v160ZM180-180h160v-160H180v160Zm440 0h160v-160H620v160Z\"/>\n",
              "  </svg>\n",
              "    </button>\n",
              "\n",
              "  <style>\n",
              "    .colab-df-container {\n",
              "      display:flex;\n",
              "      gap: 12px;\n",
              "    }\n",
              "\n",
              "    .colab-df-convert {\n",
              "      background-color: #E8F0FE;\n",
              "      border: none;\n",
              "      border-radius: 50%;\n",
              "      cursor: pointer;\n",
              "      display: none;\n",
              "      fill: #1967D2;\n",
              "      height: 32px;\n",
              "      padding: 0 0 0 0;\n",
              "      width: 32px;\n",
              "    }\n",
              "\n",
              "    .colab-df-convert:hover {\n",
              "      background-color: #E2EBFA;\n",
              "      box-shadow: 0px 1px 2px rgba(60, 64, 67, 0.3), 0px 1px 3px 1px rgba(60, 64, 67, 0.15);\n",
              "      fill: #174EA6;\n",
              "    }\n",
              "\n",
              "    .colab-df-buttons div {\n",
              "      margin-bottom: 4px;\n",
              "    }\n",
              "\n",
              "    [theme=dark] .colab-df-convert {\n",
              "      background-color: #3B4455;\n",
              "      fill: #D2E3FC;\n",
              "    }\n",
              "\n",
              "    [theme=dark] .colab-df-convert:hover {\n",
              "      background-color: #434B5C;\n",
              "      box-shadow: 0px 1px 3px 1px rgba(0, 0, 0, 0.15);\n",
              "      filter: drop-shadow(0px 1px 2px rgba(0, 0, 0, 0.3));\n",
              "      fill: #FFFFFF;\n",
              "    }\n",
              "  </style>\n",
              "\n",
              "    <script>\n",
              "      const buttonEl =\n",
              "        document.querySelector('#df-682c43e4-ba8d-4bc0-9835-f545d0d9d304 button.colab-df-convert');\n",
              "      buttonEl.style.display =\n",
              "        google.colab.kernel.accessAllowed ? 'block' : 'none';\n",
              "\n",
              "      async function convertToInteractive(key) {\n",
              "        const element = document.querySelector('#df-682c43e4-ba8d-4bc0-9835-f545d0d9d304');\n",
              "        const dataTable =\n",
              "          await google.colab.kernel.invokeFunction('convertToInteractive',\n",
              "                                                    [key], {});\n",
              "        if (!dataTable) return;\n",
              "\n",
              "        const docLinkHtml = 'Like what you see? Visit the ' +\n",
              "          '<a target=\"_blank\" href=https://colab.research.google.com/notebooks/data_table.ipynb>data table notebook</a>'\n",
              "          + ' to learn more about interactive tables.';\n",
              "        element.innerHTML = '';\n",
              "        dataTable['output_type'] = 'display_data';\n",
              "        await google.colab.output.renderOutput(dataTable, element);\n",
              "        const docLink = document.createElement('div');\n",
              "        docLink.innerHTML = docLinkHtml;\n",
              "        element.appendChild(docLink);\n",
              "      }\n",
              "    </script>\n",
              "  </div>\n",
              "\n",
              "\n",
              "    <div id=\"df-e47f2628-15c3-4717-b0f1-fbdbb9d7166e\">\n",
              "      <button class=\"colab-df-quickchart\" onclick=\"quickchart('df-e47f2628-15c3-4717-b0f1-fbdbb9d7166e')\"\n",
              "                title=\"Suggest charts\"\n",
              "                style=\"display:none;\">\n",
              "\n",
              "<svg xmlns=\"http://www.w3.org/2000/svg\" height=\"24px\"viewBox=\"0 0 24 24\"\n",
              "     width=\"24px\">\n",
              "    <g>\n",
              "        <path d=\"M19 3H5c-1.1 0-2 .9-2 2v14c0 1.1.9 2 2 2h14c1.1 0 2-.9 2-2V5c0-1.1-.9-2-2-2zM9 17H7v-7h2v7zm4 0h-2V7h2v10zm4 0h-2v-4h2v4z\"/>\n",
              "    </g>\n",
              "</svg>\n",
              "      </button>\n",
              "\n",
              "<style>\n",
              "  .colab-df-quickchart {\n",
              "      --bg-color: #E8F0FE;\n",
              "      --fill-color: #1967D2;\n",
              "      --hover-bg-color: #E2EBFA;\n",
              "      --hover-fill-color: #174EA6;\n",
              "      --disabled-fill-color: #AAA;\n",
              "      --disabled-bg-color: #DDD;\n",
              "  }\n",
              "\n",
              "  [theme=dark] .colab-df-quickchart {\n",
              "      --bg-color: #3B4455;\n",
              "      --fill-color: #D2E3FC;\n",
              "      --hover-bg-color: #434B5C;\n",
              "      --hover-fill-color: #FFFFFF;\n",
              "      --disabled-bg-color: #3B4455;\n",
              "      --disabled-fill-color: #666;\n",
              "  }\n",
              "\n",
              "  .colab-df-quickchart {\n",
              "    background-color: var(--bg-color);\n",
              "    border: none;\n",
              "    border-radius: 50%;\n",
              "    cursor: pointer;\n",
              "    display: none;\n",
              "    fill: var(--fill-color);\n",
              "    height: 32px;\n",
              "    padding: 0;\n",
              "    width: 32px;\n",
              "  }\n",
              "\n",
              "  .colab-df-quickchart:hover {\n",
              "    background-color: var(--hover-bg-color);\n",
              "    box-shadow: 0 1px 2px rgba(60, 64, 67, 0.3), 0 1px 3px 1px rgba(60, 64, 67, 0.15);\n",
              "    fill: var(--button-hover-fill-color);\n",
              "  }\n",
              "\n",
              "  .colab-df-quickchart-complete:disabled,\n",
              "  .colab-df-quickchart-complete:disabled:hover {\n",
              "    background-color: var(--disabled-bg-color);\n",
              "    fill: var(--disabled-fill-color);\n",
              "    box-shadow: none;\n",
              "  }\n",
              "\n",
              "  .colab-df-spinner {\n",
              "    border: 2px solid var(--fill-color);\n",
              "    border-color: transparent;\n",
              "    border-bottom-color: var(--fill-color);\n",
              "    animation:\n",
              "      spin 1s steps(1) infinite;\n",
              "  }\n",
              "\n",
              "  @keyframes spin {\n",
              "    0% {\n",
              "      border-color: transparent;\n",
              "      border-bottom-color: var(--fill-color);\n",
              "      border-left-color: var(--fill-color);\n",
              "    }\n",
              "    20% {\n",
              "      border-color: transparent;\n",
              "      border-left-color: var(--fill-color);\n",
              "      border-top-color: var(--fill-color);\n",
              "    }\n",
              "    30% {\n",
              "      border-color: transparent;\n",
              "      border-left-color: var(--fill-color);\n",
              "      border-top-color: var(--fill-color);\n",
              "      border-right-color: var(--fill-color);\n",
              "    }\n",
              "    40% {\n",
              "      border-color: transparent;\n",
              "      border-right-color: var(--fill-color);\n",
              "      border-top-color: var(--fill-color);\n",
              "    }\n",
              "    60% {\n",
              "      border-color: transparent;\n",
              "      border-right-color: var(--fill-color);\n",
              "    }\n",
              "    80% {\n",
              "      border-color: transparent;\n",
              "      border-right-color: var(--fill-color);\n",
              "      border-bottom-color: var(--fill-color);\n",
              "    }\n",
              "    90% {\n",
              "      border-color: transparent;\n",
              "      border-bottom-color: var(--fill-color);\n",
              "    }\n",
              "  }\n",
              "</style>\n",
              "\n",
              "      <script>\n",
              "        async function quickchart(key) {\n",
              "          const quickchartButtonEl =\n",
              "            document.querySelector('#' + key + ' button');\n",
              "          quickchartButtonEl.disabled = true;  // To prevent multiple clicks.\n",
              "          quickchartButtonEl.classList.add('colab-df-spinner');\n",
              "          try {\n",
              "            const charts = await google.colab.kernel.invokeFunction(\n",
              "                'suggestCharts', [key], {});\n",
              "          } catch (error) {\n",
              "            console.error('Error during call to suggestCharts:', error);\n",
              "          }\n",
              "          quickchartButtonEl.classList.remove('colab-df-spinner');\n",
              "          quickchartButtonEl.classList.add('colab-df-quickchart-complete');\n",
              "        }\n",
              "        (() => {\n",
              "          let quickchartButtonEl =\n",
              "            document.querySelector('#df-e47f2628-15c3-4717-b0f1-fbdbb9d7166e button');\n",
              "          quickchartButtonEl.style.display =\n",
              "            google.colab.kernel.accessAllowed ? 'block' : 'none';\n",
              "        })();\n",
              "      </script>\n",
              "    </div>\n",
              "\n",
              "    </div>\n",
              "  </div>\n"
            ],
            "application/vnd.google.colaboratory.intrinsic+json": {
              "type": "dataframe",
              "summary": "{\n  \"name\": \"df\",\n  \"rows\": 8,\n  \"fields\": [\n    {\n      \"column\": \"index\",\n      \"properties\": {\n        \"dtype\": \"number\",\n        \"std\": 9613.5800836857,\n        \"min\": 0.0,\n        \"max\": 26675.0,\n        \"num_unique_values\": 7,\n        \"samples\": [\n          26675.0,\n          13337.0,\n          20005.5\n        ],\n        \"semantic_type\": \"\",\n        \"description\": \"\"\n      }\n    },\n    {\n      \"column\": \"avg_rating\",\n      \"properties\": {\n        \"dtype\": \"number\",\n        \"std\": 9326.412397939608,\n        \"min\": 0.7164265501238433,\n        \"max\": 26386.0,\n        \"num_unique_values\": 8,\n        \"samples\": [\n          8.449242022284546,\n          8.5,\n          26386.0\n        ],\n        \"semantic_type\": \"\",\n        \"description\": \"\"\n      }\n    },\n    {\n      \"column\": \"rating\",\n      \"properties\": {\n        \"dtype\": \"number\",\n        \"std\": 9326.434717298118,\n        \"min\": 1.0,\n        \"max\": 26386.0,\n        \"num_unique_values\": 7,\n        \"samples\": [\n          26386.0,\n          8.56066853634503,\n          9.0\n        ],\n        \"semantic_type\": \"\",\n        \"description\": \"\"\n      }\n    }\n  ]\n}"
            }
          },
          "metadata": {},
          "execution_count": 6
        }
      ]
    },
    {
      "cell_type": "markdown",
      "source": [
        "Below I will be exploring some of the rows from the Datafram to determine which of the columns are relevant for the analysis:"
      ],
      "metadata": {
        "id": "DevYU2ApnsKs"
      },
      "id": "DevYU2ApnsKs"
    },
    {
      "cell_type": "code",
      "source": [
        "df.head(-5)"
      ],
      "metadata": {
        "colab": {
          "base_uri": "https://localhost:8080/",
          "height": 964
        },
        "id": "KJ0VMLLvifYe",
        "outputId": "52b45496-3cf8-4f00-d4a8-01e2e392ee09"
      },
      "id": "KJ0VMLLvifYe",
      "execution_count": 9,
      "outputs": [
        {
          "output_type": "execute_result",
          "data": {
            "text/plain": [
              "       index                                       review_title  \\\n",
              "0          0                                        Exceptional   \n",
              "1          1  I highly recommend this b&b! We enjoyed it a lot!   \n",
              "2          2                                        Exceptional   \n",
              "3          3  My stay in the house was a experiencing bliss ...   \n",
              "4          4  One bedroom apartment with wonderful view and ...   \n",
              "...      ...                                                ...   \n",
              "26665  26665                                             Superb   \n",
              "26666  26666                                           Fabulous   \n",
              "26667  26667                                        Exceptional   \n",
              "26668  26668                                             Superb   \n",
              "26669  26669        Almost perfect hotel - criticisms are minor   \n",
              "\n",
              "             reviewed_at reviewed_by  \\\n",
              "0           11 July 2021      Kyrylo   \n",
              "1       24 November 2019     Dimitri   \n",
              "2         3 January 2020    Virginia   \n",
              "3       8 September 2019      Kannan   \n",
              "4           23 June 2019         Sue   \n",
              "...                  ...         ...   \n",
              "26665  14 September 2018         Ann   \n",
              "26666     1 October 2018       Hamed   \n",
              "26667      17 March 2020        Olya   \n",
              "26668     8 October 2019      Subodh   \n",
              "26669    18 October 2018   Anonymous   \n",
              "\n",
              "                                                  images  \\\n",
              "0                                                    NaN   \n",
              "1                                                    NaN   \n",
              "2                                                    NaN   \n",
              "3                                                    NaN   \n",
              "4      https://cf.bstatic.com/xdata/images/xphoto/squ...   \n",
              "...                                                  ...   \n",
              "26665                                                NaN   \n",
              "26666                                                NaN   \n",
              "26667                                                NaN   \n",
              "26668                                                NaN   \n",
              "26669                                                NaN   \n",
              "\n",
              "                 crawled_at  \\\n",
              "0      07/20/2021, 01:09:27   \n",
              "1      07/20/2021, 01:09:27   \n",
              "2      07/20/2021, 01:09:27   \n",
              "3      07/20/2021, 01:09:28   \n",
              "4      07/20/2021, 01:09:28   \n",
              "...                     ...   \n",
              "26665  07/20/2021, 02:15:50   \n",
              "26666  07/20/2021, 02:15:50   \n",
              "26667  07/20/2021, 02:15:50   \n",
              "26668  07/20/2021, 02:15:50   \n",
              "26669  07/20/2021, 02:15:50   \n",
              "\n",
              "                                                     url  \\\n",
              "0      https://www.booking.com/reviews/be/hotel/villa...   \n",
              "1      https://www.booking.com/reviews/be/hotel/villa...   \n",
              "2      https://www.booking.com/reviews/be/hotel/hydro...   \n",
              "3      https://www.booking.com/reviews/be/hotel/villa...   \n",
              "4      https://www.booking.com/reviews/be/hotel/hydro...   \n",
              "...                                                  ...   \n",
              "26665  https://www.booking.com/reviews/be/hotel/oudhu...   \n",
              "26666  https://www.booking.com/reviews/be/hotel/warwi...   \n",
              "26667  https://www.booking.com/reviews/be/hotel/winds...   \n",
              "26668  https://www.booking.com/reviews/be/hotel/best-...   \n",
              "26669  https://www.booking.com/reviews/be/hotel/amigo...   \n",
              "\n",
              "                           hotel_name  \\\n",
              "0                     Villa Pura Vida   \n",
              "1                     Villa Pura Vida   \n",
              "2              Hydro Palace Apartment   \n",
              "3                     Villa Pura Vida   \n",
              "4              Hydro Palace Apartment   \n",
              "...                               ...   \n",
              "26665                 Martin's Relais   \n",
              "26666  Warwick Brussels - Grand Place   \n",
              "26667                  Logies Windsor   \n",
              "26668                  Hotel Ter Elst   \n",
              "26669         Rocco Forte Hotel Amigo   \n",
              "\n",
              "                                               hotel_url  avg_rating  \\\n",
              "0      https://www.booking.com/hotel/be/villa-pura-vi...         9.7   \n",
              "1      https://www.booking.com/hotel/be/villa-pura-vi...         9.7   \n",
              "2      https://www.booking.com/hotel/be/hydro-palace....         9.2   \n",
              "3      https://www.booking.com/hotel/be/villa-pura-vi...         9.7   \n",
              "4      https://www.booking.com/hotel/be/hydro-palace....         9.2   \n",
              "...                                                  ...         ...   \n",
              "26665  https://www.booking.com/hotel/be/oudhuisamster...         8.6   \n",
              "26666  https://www.booking.com/hotel/be/warwick-bruss...         8.2   \n",
              "26667  https://www.booking.com/hotel/be/windsor-castl...         8.5   \n",
              "26668  https://www.booking.com/hotel/be/best-western-...         8.3   \n",
              "26669  https://www.booking.com/hotel/be/amigo.en-gb.h...         9.1   \n",
              "\n",
              "          nationality  rating  \\\n",
              "0              Poland    10.0   \n",
              "1             Belgium     9.0   \n",
              "2      United Kingdom    10.0   \n",
              "3         Netherlands    10.0   \n",
              "4        South Africa     9.2   \n",
              "...               ...     ...   \n",
              "26665  United Kingdom     9.2   \n",
              "26666            Iran     8.8   \n",
              "26667         Belgium    10.0   \n",
              "26668         Germany     9.0   \n",
              "26669           Italy     9.6   \n",
              "\n",
              "                                             review_text  \\\n",
              "0      Everything was perfect! Quite, cozy place to r...   \n",
              "1              Very friendly host and perfect breakfast!   \n",
              "2      It was just what we wanted for a week by the b...   \n",
              "3      My stay in the house was a experiencing bliss ...   \n",
              "4      The building itself has a very musty smell in ...   \n",
              "...                                                  ...   \n",
              "26665  The expensive price of breakfast.,\\n\\nFabulous...   \n",
              "26666                Best location,\\n\\nExcelent location   \n",
              "26667  Everything was great. thank you!,\\n\\nThe guest...   \n",
              "26668    There are no comments available for this review   \n",
              "26669  The bed duvet was too hot and heavy; they coul...   \n",
              "\n",
              "                                         raw_review_text  \\\n",
              "0      <p class=\"review_pos \"><svg aria-label=\"Positi...   \n",
              "1      <p class=\"review_pos \"><svg aria-label=\"Positi...   \n",
              "2      <p class=\"review_neg \"><svg aria-label=\"Negati...   \n",
              "3      <p class=\"review_pos \"><svg aria-label=\"Positi...   \n",
              "4      <p class=\"review_neg \"><svg aria-label=\"Negati...   \n",
              "...                                                  ...   \n",
              "26665  <p class=\"review_neg \"><svg aria-label=\"Negati...   \n",
              "26666  <p class=\"review_neg \"><svg aria-label=\"Negati...   \n",
              "26667  <p class=\"review_neg \"><svg aria-label=\"Negati...   \n",
              "26668  <p class=\"review_none\"><em>There are no commen...   \n",
              "26669  <p class=\"review_neg \"><svg aria-label=\"Negati...   \n",
              "\n",
              "                                                    tags  \\\n",
              "0      Business trip~Solo traveller~Junior Suite~Stay...   \n",
              "1      Leisure trip~Couple~Deluxe Suite~Stayed 1 nigh...   \n",
              "2      Leisure trip~Couple~Apartment with Sea View~St...   \n",
              "3      Business trip~Solo traveller~Junior Suite~Stay...   \n",
              "4      Leisure trip~People with friends~Apartment wit...   \n",
              "...                                                  ...   \n",
              "26665  Leisure trip~Couple~Comfort Double Room with C...   \n",
              "26666  Leisure trip~Couple~Classic Queen Room~Stayed ...   \n",
              "26667  Leisure trip~Solo traveller~Double Room~Stayed...   \n",
              "26668  Business trip~Solo traveller~Standard Double R...   \n",
              "26669  Leisure trip~Couple~Deluxe Double Room~Stayed ...   \n",
              "\n",
              "                                                    meta  \n",
              "0      {'language': 'en-gb', 'source': 'https://www.b...  \n",
              "1      {'language': 'en-gb', 'source': 'https://www.b...  \n",
              "2      {'language': 'en-gb', 'source': 'https://www.b...  \n",
              "3      {'language': 'en-gb', 'source': 'https://www.b...  \n",
              "4      {'language': 'en-gb', 'source': 'https://www.b...  \n",
              "...                                                  ...  \n",
              "26665  {'language': 'en-gb', 'source': 'https://www.b...  \n",
              "26666  {'language': 'en-gb', 'source': 'https://www.b...  \n",
              "26667  {'language': 'en-gb', 'source': 'https://www.b...  \n",
              "26668  {'language': 'en-gb', 'source': 'https://www.b...  \n",
              "26669  {'language': 'en-gb', 'source': 'https://www.b...  \n",
              "\n",
              "[26670 rows x 16 columns]"
            ],
            "text/html": [
              "\n",
              "  <div id=\"df-cc347179-782a-412a-8edf-0ad31e3878c6\" class=\"colab-df-container\">\n",
              "    <div>\n",
              "<style scoped>\n",
              "    .dataframe tbody tr th:only-of-type {\n",
              "        vertical-align: middle;\n",
              "    }\n",
              "\n",
              "    .dataframe tbody tr th {\n",
              "        vertical-align: top;\n",
              "    }\n",
              "\n",
              "    .dataframe thead th {\n",
              "        text-align: right;\n",
              "    }\n",
              "</style>\n",
              "<table border=\"1\" class=\"dataframe\">\n",
              "  <thead>\n",
              "    <tr style=\"text-align: right;\">\n",
              "      <th></th>\n",
              "      <th>index</th>\n",
              "      <th>review_title</th>\n",
              "      <th>reviewed_at</th>\n",
              "      <th>reviewed_by</th>\n",
              "      <th>images</th>\n",
              "      <th>crawled_at</th>\n",
              "      <th>url</th>\n",
              "      <th>hotel_name</th>\n",
              "      <th>hotel_url</th>\n",
              "      <th>avg_rating</th>\n",
              "      <th>nationality</th>\n",
              "      <th>rating</th>\n",
              "      <th>review_text</th>\n",
              "      <th>raw_review_text</th>\n",
              "      <th>tags</th>\n",
              "      <th>meta</th>\n",
              "    </tr>\n",
              "  </thead>\n",
              "  <tbody>\n",
              "    <tr>\n",
              "      <th>0</th>\n",
              "      <td>0</td>\n",
              "      <td>Exceptional</td>\n",
              "      <td>11 July 2021</td>\n",
              "      <td>Kyrylo</td>\n",
              "      <td>NaN</td>\n",
              "      <td>07/20/2021, 01:09:27</td>\n",
              "      <td>https://www.booking.com/reviews/be/hotel/villa...</td>\n",
              "      <td>Villa Pura Vida</td>\n",
              "      <td>https://www.booking.com/hotel/be/villa-pura-vi...</td>\n",
              "      <td>9.7</td>\n",
              "      <td>Poland</td>\n",
              "      <td>10.0</td>\n",
              "      <td>Everything was perfect! Quite, cozy place to r...</td>\n",
              "      <td>&lt;p class=\"review_pos \"&gt;&lt;svg aria-label=\"Positi...</td>\n",
              "      <td>Business trip~Solo traveller~Junior Suite~Stay...</td>\n",
              "      <td>{'language': 'en-gb', 'source': 'https://www.b...</td>\n",
              "    </tr>\n",
              "    <tr>\n",
              "      <th>1</th>\n",
              "      <td>1</td>\n",
              "      <td>I highly recommend this b&amp;b! We enjoyed it a lot!</td>\n",
              "      <td>24 November 2019</td>\n",
              "      <td>Dimitri</td>\n",
              "      <td>NaN</td>\n",
              "      <td>07/20/2021, 01:09:27</td>\n",
              "      <td>https://www.booking.com/reviews/be/hotel/villa...</td>\n",
              "      <td>Villa Pura Vida</td>\n",
              "      <td>https://www.booking.com/hotel/be/villa-pura-vi...</td>\n",
              "      <td>9.7</td>\n",
              "      <td>Belgium</td>\n",
              "      <td>9.0</td>\n",
              "      <td>Very friendly host and perfect breakfast!</td>\n",
              "      <td>&lt;p class=\"review_pos \"&gt;&lt;svg aria-label=\"Positi...</td>\n",
              "      <td>Leisure trip~Couple~Deluxe Suite~Stayed 1 nigh...</td>\n",
              "      <td>{'language': 'en-gb', 'source': 'https://www.b...</td>\n",
              "    </tr>\n",
              "    <tr>\n",
              "      <th>2</th>\n",
              "      <td>2</td>\n",
              "      <td>Exceptional</td>\n",
              "      <td>3 January 2020</td>\n",
              "      <td>Virginia</td>\n",
              "      <td>NaN</td>\n",
              "      <td>07/20/2021, 01:09:27</td>\n",
              "      <td>https://www.booking.com/reviews/be/hotel/hydro...</td>\n",
              "      <td>Hydro Palace Apartment</td>\n",
              "      <td>https://www.booking.com/hotel/be/hydro-palace....</td>\n",
              "      <td>9.2</td>\n",
              "      <td>United Kingdom</td>\n",
              "      <td>10.0</td>\n",
              "      <td>It was just what we wanted for a week by the b...</td>\n",
              "      <td>&lt;p class=\"review_neg \"&gt;&lt;svg aria-label=\"Negati...</td>\n",
              "      <td>Leisure trip~Couple~Apartment with Sea View~St...</td>\n",
              "      <td>{'language': 'en-gb', 'source': 'https://www.b...</td>\n",
              "    </tr>\n",
              "    <tr>\n",
              "      <th>3</th>\n",
              "      <td>3</td>\n",
              "      <td>My stay in the house was a experiencing bliss ...</td>\n",
              "      <td>8 September 2019</td>\n",
              "      <td>Kannan</td>\n",
              "      <td>NaN</td>\n",
              "      <td>07/20/2021, 01:09:28</td>\n",
              "      <td>https://www.booking.com/reviews/be/hotel/villa...</td>\n",
              "      <td>Villa Pura Vida</td>\n",
              "      <td>https://www.booking.com/hotel/be/villa-pura-vi...</td>\n",
              "      <td>9.7</td>\n",
              "      <td>Netherlands</td>\n",
              "      <td>10.0</td>\n",
              "      <td>My stay in the house was a experiencing bliss ...</td>\n",
              "      <td>&lt;p class=\"review_pos \"&gt;&lt;svg aria-label=\"Positi...</td>\n",
              "      <td>Business trip~Solo traveller~Junior Suite~Stay...</td>\n",
              "      <td>{'language': 'en-gb', 'source': 'https://www.b...</td>\n",
              "    </tr>\n",
              "    <tr>\n",
              "      <th>4</th>\n",
              "      <td>4</td>\n",
              "      <td>One bedroom apartment with wonderful view and ...</td>\n",
              "      <td>23 June 2019</td>\n",
              "      <td>Sue</td>\n",
              "      <td>https://cf.bstatic.com/xdata/images/xphoto/squ...</td>\n",
              "      <td>07/20/2021, 01:09:28</td>\n",
              "      <td>https://www.booking.com/reviews/be/hotel/hydro...</td>\n",
              "      <td>Hydro Palace Apartment</td>\n",
              "      <td>https://www.booking.com/hotel/be/hydro-palace....</td>\n",
              "      <td>9.2</td>\n",
              "      <td>South Africa</td>\n",
              "      <td>9.2</td>\n",
              "      <td>The building itself has a very musty smell in ...</td>\n",
              "      <td>&lt;p class=\"review_neg \"&gt;&lt;svg aria-label=\"Negati...</td>\n",
              "      <td>Leisure trip~People with friends~Apartment wit...</td>\n",
              "      <td>{'language': 'en-gb', 'source': 'https://www.b...</td>\n",
              "    </tr>\n",
              "    <tr>\n",
              "      <th>...</th>\n",
              "      <td>...</td>\n",
              "      <td>...</td>\n",
              "      <td>...</td>\n",
              "      <td>...</td>\n",
              "      <td>...</td>\n",
              "      <td>...</td>\n",
              "      <td>...</td>\n",
              "      <td>...</td>\n",
              "      <td>...</td>\n",
              "      <td>...</td>\n",
              "      <td>...</td>\n",
              "      <td>...</td>\n",
              "      <td>...</td>\n",
              "      <td>...</td>\n",
              "      <td>...</td>\n",
              "      <td>...</td>\n",
              "    </tr>\n",
              "    <tr>\n",
              "      <th>26665</th>\n",
              "      <td>26665</td>\n",
              "      <td>Superb</td>\n",
              "      <td>14 September 2018</td>\n",
              "      <td>Ann</td>\n",
              "      <td>NaN</td>\n",
              "      <td>07/20/2021, 02:15:50</td>\n",
              "      <td>https://www.booking.com/reviews/be/hotel/oudhu...</td>\n",
              "      <td>Martin's Relais</td>\n",
              "      <td>https://www.booking.com/hotel/be/oudhuisamster...</td>\n",
              "      <td>8.6</td>\n",
              "      <td>United Kingdom</td>\n",
              "      <td>9.2</td>\n",
              "      <td>The expensive price of breakfast.,\\n\\nFabulous...</td>\n",
              "      <td>&lt;p class=\"review_neg \"&gt;&lt;svg aria-label=\"Negati...</td>\n",
              "      <td>Leisure trip~Couple~Comfort Double Room with C...</td>\n",
              "      <td>{'language': 'en-gb', 'source': 'https://www.b...</td>\n",
              "    </tr>\n",
              "    <tr>\n",
              "      <th>26666</th>\n",
              "      <td>26666</td>\n",
              "      <td>Fabulous</td>\n",
              "      <td>1 October 2018</td>\n",
              "      <td>Hamed</td>\n",
              "      <td>NaN</td>\n",
              "      <td>07/20/2021, 02:15:50</td>\n",
              "      <td>https://www.booking.com/reviews/be/hotel/warwi...</td>\n",
              "      <td>Warwick Brussels - Grand Place</td>\n",
              "      <td>https://www.booking.com/hotel/be/warwick-bruss...</td>\n",
              "      <td>8.2</td>\n",
              "      <td>Iran</td>\n",
              "      <td>8.8</td>\n",
              "      <td>Best location,\\n\\nExcelent location</td>\n",
              "      <td>&lt;p class=\"review_neg \"&gt;&lt;svg aria-label=\"Negati...</td>\n",
              "      <td>Leisure trip~Couple~Classic Queen Room~Stayed ...</td>\n",
              "      <td>{'language': 'en-gb', 'source': 'https://www.b...</td>\n",
              "    </tr>\n",
              "    <tr>\n",
              "      <th>26667</th>\n",
              "      <td>26667</td>\n",
              "      <td>Exceptional</td>\n",
              "      <td>17 March 2020</td>\n",
              "      <td>Olya</td>\n",
              "      <td>NaN</td>\n",
              "      <td>07/20/2021, 02:15:50</td>\n",
              "      <td>https://www.booking.com/reviews/be/hotel/winds...</td>\n",
              "      <td>Logies Windsor</td>\n",
              "      <td>https://www.booking.com/hotel/be/windsor-castl...</td>\n",
              "      <td>8.5</td>\n",
              "      <td>Belgium</td>\n",
              "      <td>10.0</td>\n",
              "      <td>Everything was great. thank you!,\\n\\nThe guest...</td>\n",
              "      <td>&lt;p class=\"review_neg \"&gt;&lt;svg aria-label=\"Negati...</td>\n",
              "      <td>Leisure trip~Solo traveller~Double Room~Stayed...</td>\n",
              "      <td>{'language': 'en-gb', 'source': 'https://www.b...</td>\n",
              "    </tr>\n",
              "    <tr>\n",
              "      <th>26668</th>\n",
              "      <td>26668</td>\n",
              "      <td>Superb</td>\n",
              "      <td>8 October 2019</td>\n",
              "      <td>Subodh</td>\n",
              "      <td>NaN</td>\n",
              "      <td>07/20/2021, 02:15:50</td>\n",
              "      <td>https://www.booking.com/reviews/be/hotel/best-...</td>\n",
              "      <td>Hotel Ter Elst</td>\n",
              "      <td>https://www.booking.com/hotel/be/best-western-...</td>\n",
              "      <td>8.3</td>\n",
              "      <td>Germany</td>\n",
              "      <td>9.0</td>\n",
              "      <td>There are no comments available for this review</td>\n",
              "      <td>&lt;p class=\"review_none\"&gt;&lt;em&gt;There are no commen...</td>\n",
              "      <td>Business trip~Solo traveller~Standard Double R...</td>\n",
              "      <td>{'language': 'en-gb', 'source': 'https://www.b...</td>\n",
              "    </tr>\n",
              "    <tr>\n",
              "      <th>26669</th>\n",
              "      <td>26669</td>\n",
              "      <td>Almost perfect hotel - criticisms are minor</td>\n",
              "      <td>18 October 2018</td>\n",
              "      <td>Anonymous</td>\n",
              "      <td>NaN</td>\n",
              "      <td>07/20/2021, 02:15:50</td>\n",
              "      <td>https://www.booking.com/reviews/be/hotel/amigo...</td>\n",
              "      <td>Rocco Forte Hotel Amigo</td>\n",
              "      <td>https://www.booking.com/hotel/be/amigo.en-gb.h...</td>\n",
              "      <td>9.1</td>\n",
              "      <td>Italy</td>\n",
              "      <td>9.6</td>\n",
              "      <td>The bed duvet was too hot and heavy; they coul...</td>\n",
              "      <td>&lt;p class=\"review_neg \"&gt;&lt;svg aria-label=\"Negati...</td>\n",
              "      <td>Leisure trip~Couple~Deluxe Double Room~Stayed ...</td>\n",
              "      <td>{'language': 'en-gb', 'source': 'https://www.b...</td>\n",
              "    </tr>\n",
              "  </tbody>\n",
              "</table>\n",
              "<p>26670 rows × 16 columns</p>\n",
              "</div>\n",
              "    <div class=\"colab-df-buttons\">\n",
              "\n",
              "  <div class=\"colab-df-container\">\n",
              "    <button class=\"colab-df-convert\" onclick=\"convertToInteractive('df-cc347179-782a-412a-8edf-0ad31e3878c6')\"\n",
              "            title=\"Convert this dataframe to an interactive table.\"\n",
              "            style=\"display:none;\">\n",
              "\n",
              "  <svg xmlns=\"http://www.w3.org/2000/svg\" height=\"24px\" viewBox=\"0 -960 960 960\">\n",
              "    <path d=\"M120-120v-720h720v720H120Zm60-500h600v-160H180v160Zm220 220h160v-160H400v160Zm0 220h160v-160H400v160ZM180-400h160v-160H180v160Zm440 0h160v-160H620v160ZM180-180h160v-160H180v160Zm440 0h160v-160H620v160Z\"/>\n",
              "  </svg>\n",
              "    </button>\n",
              "\n",
              "  <style>\n",
              "    .colab-df-container {\n",
              "      display:flex;\n",
              "      gap: 12px;\n",
              "    }\n",
              "\n",
              "    .colab-df-convert {\n",
              "      background-color: #E8F0FE;\n",
              "      border: none;\n",
              "      border-radius: 50%;\n",
              "      cursor: pointer;\n",
              "      display: none;\n",
              "      fill: #1967D2;\n",
              "      height: 32px;\n",
              "      padding: 0 0 0 0;\n",
              "      width: 32px;\n",
              "    }\n",
              "\n",
              "    .colab-df-convert:hover {\n",
              "      background-color: #E2EBFA;\n",
              "      box-shadow: 0px 1px 2px rgba(60, 64, 67, 0.3), 0px 1px 3px 1px rgba(60, 64, 67, 0.15);\n",
              "      fill: #174EA6;\n",
              "    }\n",
              "\n",
              "    .colab-df-buttons div {\n",
              "      margin-bottom: 4px;\n",
              "    }\n",
              "\n",
              "    [theme=dark] .colab-df-convert {\n",
              "      background-color: #3B4455;\n",
              "      fill: #D2E3FC;\n",
              "    }\n",
              "\n",
              "    [theme=dark] .colab-df-convert:hover {\n",
              "      background-color: #434B5C;\n",
              "      box-shadow: 0px 1px 3px 1px rgba(0, 0, 0, 0.15);\n",
              "      filter: drop-shadow(0px 1px 2px rgba(0, 0, 0, 0.3));\n",
              "      fill: #FFFFFF;\n",
              "    }\n",
              "  </style>\n",
              "\n",
              "    <script>\n",
              "      const buttonEl =\n",
              "        document.querySelector('#df-cc347179-782a-412a-8edf-0ad31e3878c6 button.colab-df-convert');\n",
              "      buttonEl.style.display =\n",
              "        google.colab.kernel.accessAllowed ? 'block' : 'none';\n",
              "\n",
              "      async function convertToInteractive(key) {\n",
              "        const element = document.querySelector('#df-cc347179-782a-412a-8edf-0ad31e3878c6');\n",
              "        const dataTable =\n",
              "          await google.colab.kernel.invokeFunction('convertToInteractive',\n",
              "                                                    [key], {});\n",
              "        if (!dataTable) return;\n",
              "\n",
              "        const docLinkHtml = 'Like what you see? Visit the ' +\n",
              "          '<a target=\"_blank\" href=https://colab.research.google.com/notebooks/data_table.ipynb>data table notebook</a>'\n",
              "          + ' to learn more about interactive tables.';\n",
              "        element.innerHTML = '';\n",
              "        dataTable['output_type'] = 'display_data';\n",
              "        await google.colab.output.renderOutput(dataTable, element);\n",
              "        const docLink = document.createElement('div');\n",
              "        docLink.innerHTML = docLinkHtml;\n",
              "        element.appendChild(docLink);\n",
              "      }\n",
              "    </script>\n",
              "  </div>\n",
              "\n",
              "\n",
              "    <div id=\"df-0b968d66-bfee-434c-8372-d5c8373b1b3c\">\n",
              "      <button class=\"colab-df-quickchart\" onclick=\"quickchart('df-0b968d66-bfee-434c-8372-d5c8373b1b3c')\"\n",
              "                title=\"Suggest charts\"\n",
              "                style=\"display:none;\">\n",
              "\n",
              "<svg xmlns=\"http://www.w3.org/2000/svg\" height=\"24px\"viewBox=\"0 0 24 24\"\n",
              "     width=\"24px\">\n",
              "    <g>\n",
              "        <path d=\"M19 3H5c-1.1 0-2 .9-2 2v14c0 1.1.9 2 2 2h14c1.1 0 2-.9 2-2V5c0-1.1-.9-2-2-2zM9 17H7v-7h2v7zm4 0h-2V7h2v10zm4 0h-2v-4h2v4z\"/>\n",
              "    </g>\n",
              "</svg>\n",
              "      </button>\n",
              "\n",
              "<style>\n",
              "  .colab-df-quickchart {\n",
              "      --bg-color: #E8F0FE;\n",
              "      --fill-color: #1967D2;\n",
              "      --hover-bg-color: #E2EBFA;\n",
              "      --hover-fill-color: #174EA6;\n",
              "      --disabled-fill-color: #AAA;\n",
              "      --disabled-bg-color: #DDD;\n",
              "  }\n",
              "\n",
              "  [theme=dark] .colab-df-quickchart {\n",
              "      --bg-color: #3B4455;\n",
              "      --fill-color: #D2E3FC;\n",
              "      --hover-bg-color: #434B5C;\n",
              "      --hover-fill-color: #FFFFFF;\n",
              "      --disabled-bg-color: #3B4455;\n",
              "      --disabled-fill-color: #666;\n",
              "  }\n",
              "\n",
              "  .colab-df-quickchart {\n",
              "    background-color: var(--bg-color);\n",
              "    border: none;\n",
              "    border-radius: 50%;\n",
              "    cursor: pointer;\n",
              "    display: none;\n",
              "    fill: var(--fill-color);\n",
              "    height: 32px;\n",
              "    padding: 0;\n",
              "    width: 32px;\n",
              "  }\n",
              "\n",
              "  .colab-df-quickchart:hover {\n",
              "    background-color: var(--hover-bg-color);\n",
              "    box-shadow: 0 1px 2px rgba(60, 64, 67, 0.3), 0 1px 3px 1px rgba(60, 64, 67, 0.15);\n",
              "    fill: var(--button-hover-fill-color);\n",
              "  }\n",
              "\n",
              "  .colab-df-quickchart-complete:disabled,\n",
              "  .colab-df-quickchart-complete:disabled:hover {\n",
              "    background-color: var(--disabled-bg-color);\n",
              "    fill: var(--disabled-fill-color);\n",
              "    box-shadow: none;\n",
              "  }\n",
              "\n",
              "  .colab-df-spinner {\n",
              "    border: 2px solid var(--fill-color);\n",
              "    border-color: transparent;\n",
              "    border-bottom-color: var(--fill-color);\n",
              "    animation:\n",
              "      spin 1s steps(1) infinite;\n",
              "  }\n",
              "\n",
              "  @keyframes spin {\n",
              "    0% {\n",
              "      border-color: transparent;\n",
              "      border-bottom-color: var(--fill-color);\n",
              "      border-left-color: var(--fill-color);\n",
              "    }\n",
              "    20% {\n",
              "      border-color: transparent;\n",
              "      border-left-color: var(--fill-color);\n",
              "      border-top-color: var(--fill-color);\n",
              "    }\n",
              "    30% {\n",
              "      border-color: transparent;\n",
              "      border-left-color: var(--fill-color);\n",
              "      border-top-color: var(--fill-color);\n",
              "      border-right-color: var(--fill-color);\n",
              "    }\n",
              "    40% {\n",
              "      border-color: transparent;\n",
              "      border-right-color: var(--fill-color);\n",
              "      border-top-color: var(--fill-color);\n",
              "    }\n",
              "    60% {\n",
              "      border-color: transparent;\n",
              "      border-right-color: var(--fill-color);\n",
              "    }\n",
              "    80% {\n",
              "      border-color: transparent;\n",
              "      border-right-color: var(--fill-color);\n",
              "      border-bottom-color: var(--fill-color);\n",
              "    }\n",
              "    90% {\n",
              "      border-color: transparent;\n",
              "      border-bottom-color: var(--fill-color);\n",
              "    }\n",
              "  }\n",
              "</style>\n",
              "\n",
              "      <script>\n",
              "        async function quickchart(key) {\n",
              "          const quickchartButtonEl =\n",
              "            document.querySelector('#' + key + ' button');\n",
              "          quickchartButtonEl.disabled = true;  // To prevent multiple clicks.\n",
              "          quickchartButtonEl.classList.add('colab-df-spinner');\n",
              "          try {\n",
              "            const charts = await google.colab.kernel.invokeFunction(\n",
              "                'suggestCharts', [key], {});\n",
              "          } catch (error) {\n",
              "            console.error('Error during call to suggestCharts:', error);\n",
              "          }\n",
              "          quickchartButtonEl.classList.remove('colab-df-spinner');\n",
              "          quickchartButtonEl.classList.add('colab-df-quickchart-complete');\n",
              "        }\n",
              "        (() => {\n",
              "          let quickchartButtonEl =\n",
              "            document.querySelector('#df-0b968d66-bfee-434c-8372-d5c8373b1b3c button');\n",
              "          quickchartButtonEl.style.display =\n",
              "            google.colab.kernel.accessAllowed ? 'block' : 'none';\n",
              "        })();\n",
              "      </script>\n",
              "    </div>\n",
              "\n",
              "    </div>\n",
              "  </div>\n"
            ],
            "application/vnd.google.colaboratory.intrinsic+json": {
              "type": "dataframe",
              "variable_name": "df",
              "summary": "{\n  \"name\": \"df\",\n  \"rows\": 26675,\n  \"fields\": [\n    {\n      \"column\": \"index\",\n      \"properties\": {\n        \"dtype\": \"number\",\n        \"std\": 7700,\n        \"min\": 0,\n        \"max\": 26674,\n        \"num_unique_values\": 26675,\n        \"samples\": [\n          2501,\n          18439,\n          5357\n        ],\n        \"semantic_type\": \"\",\n        \"description\": \"\"\n      }\n    },\n    {\n      \"column\": \"review_title\",\n      \"properties\": {\n        \"dtype\": \"category\",\n        \"num_unique_values\": 8960,\n        \"samples\": [\n          \"Good hotel great location.\",\n          \"Just wanted we wanted for a one night stop on the way to France\",\n          \"Great hotel in excellent location\"\n        ],\n        \"semantic_type\": \"\",\n        \"description\": \"\"\n      }\n    },\n    {\n      \"column\": \"reviewed_at\",\n      \"properties\": {\n        \"dtype\": \"category\",\n        \"num_unique_values\": 1240,\n        \"samples\": [\n          \"18 November 2019\",\n          \"12 September 2019\",\n          \"24 February 2019\"\n        ],\n        \"semantic_type\": \"\",\n        \"description\": \"\"\n      }\n    },\n    {\n      \"column\": \"reviewed_by\",\n      \"properties\": {\n        \"dtype\": \"category\",\n        \"num_unique_values\": 8566,\n        \"samples\": [\n          \"Caique\",\n          \"C\\u0103t\\u0103lina\",\n          \"Ly\"\n        ],\n        \"semantic_type\": \"\",\n        \"description\": \"\"\n      }\n    },\n    {\n      \"column\": \"images\",\n      \"properties\": {\n        \"dtype\": \"category\",\n        \"num_unique_values\": 755,\n        \"samples\": [\n          \"https://cf.bstatic.com/xdata/images/xphoto/square60_ao/84037692.jpg?k=4b76c4c778e09dba380afe6c523540da58736372fa7bbc06008b08cb3235abe0&o=\",\n          \"https://cf.bstatic.com/xdata/images/xphoto/square60_ao/47061700.jpg?k=f48cbb215dccdd568ae3949c94aaf71ce2373a477465da20b091e7948b64d9ec&o=~https://cf.bstatic.com/xdata/images/xphoto/square60_ao/47061703.jpg?k=71f53255e1f1fa1450bf6b174f1c676e66e225c49d0747220c3ff140be2f3b6a&o=~https://cf.bstatic.com/xdata/images/xphoto/square60_ao/47061745.jpg?k=d5f48838770205cdbddc8e4c926eea8e1f3669cbe738027cacebac433dd07d4c&o=\",\n          \"https://cf.bstatic.com/xdata/images/xphoto/square60_ao/70795776.jpg?k=c96d1901be7f9393d6976768e73bc8e0531bdddec0347cabd54035c53e6042be&o=\"\n        ],\n        \"semantic_type\": \"\",\n        \"description\": \"\"\n      }\n    },\n    {\n      \"column\": \"crawled_at\",\n      \"properties\": {\n        \"dtype\": \"object\",\n        \"num_unique_values\": 3968,\n        \"samples\": [\n          \"07/20/2021, 01:54:37\",\n          \"07/20/2021, 01:43:31\",\n          \"07/20/2021, 01:14:42\"\n        ],\n        \"semantic_type\": \"\",\n        \"description\": \"\"\n      }\n    },\n    {\n      \"column\": \"url\",\n      \"properties\": {\n        \"dtype\": \"category\",\n        \"num_unique_values\": 1412,\n        \"samples\": [\n          \"https://www.booking.com/reviews/be/hotel/jeanne-nieuwpoort.en-gb.html?label=gen173nr-1DCA0oFUIRamVhbm5lLW5pZXV3cG9vcnRIM1gEaGyIAQGYAQm4AQfIAQ3YAQPoAQGIAgGoAgO4Ao-414cGwAIB0gIkOTM0MDkxZmEtYjdmOC00NDIyLTk2NTAtZTI2Njg3MGUxMDBl2AIE4AIB;sid=cb78d8489b9c18246aa9830225a71862;customer_type=total&hp_nav=0&keep_landing=1&order=featuredreviews&page=1&r_lang=en&rows=75&\",\n          \"https://www.booking.com/reviews/be/hotel/tibrusselsboulevard.en-gb.html?label=gen173nr-1DCA0oFUITdGlicnVzc2Vsc2JvdWxldmFyZEgzWARobIgBAZgBCbgBB8gBDdgBA-gBAYgCAagCA7gCvLjXhwbAAgHSAiQ3OGVlOWZhNi00MjNkLTQwNDYtOTUyNi04NDZlZTIxNWU3MjTYAgTgAgE;sid=cb78d8489b9c18246aa9830225a71862;customer_type=total;hp_nav=0;old_page=0;order=featuredreviews;page=7;r_lang=en;rows=75&\",\n          \"https://www.booking.com/reviews/be/hotel/housing.en-gb.html?label=gen173nr-1DCA0oFUIHaG91c2luZ0gzWARobIgBAZgBCbgBB8gBDdgBA-gBAYgCAagCA7gCjrDXhwbAAgHSAiRhZjA4NzM0Mi05YTdlLTRlODktYWJiYi00ZGMwZmY5MTcyZDDYAgTgAgE;sid=cb78d8489b9c18246aa9830225a71862;customer_type=total&hp_nav=0&keep_landing=1&order=featuredreviews&page=1&r_lang=en&rows=75&\"\n        ],\n        \"semantic_type\": \"\",\n        \"description\": \"\"\n      }\n    },\n    {\n      \"column\": \"hotel_name\",\n      \"properties\": {\n        \"dtype\": \"category\",\n        \"num_unique_values\": 819,\n        \"samples\": [\n          \"Apartment Aurora\",\n          \"Au Marronnier\",\n          \"Spacious Guest Suites near Historic Market - 5 Min Walk\"\n        ],\n        \"semantic_type\": \"\",\n        \"description\": \"\"\n      }\n    },\n    {\n      \"column\": \"hotel_url\",\n      \"properties\": {\n        \"dtype\": \"category\",\n        \"num_unique_values\": 822,\n        \"samples\": [\n          \"https://www.booking.com/hotel/be/auberge-de-la-lesse-celles.en-gb.html?label=gen173nr-1DCA0oFUIaYXViZXJnZS1kZS1sYS1sZXNzZS1jZWxsZXNIM1gEaGyIAQGYAQm4AQfIAQ3YAQPoAQGIAgGoAgO4At2-14cGwAIB0gIkMTc0ZDgwNTUtYmI0NS00Yjg5LWI4YjgtN2I3MTc2NTMzMDlm2AIE4AIB;sid=cb78d8489b9c18246aa9830225a71862\",\n          \"https://www.booking.com/hotel/be/le-cerf-volant.en-gb.html?label=gen173nr-1DCA0oFUIObGUtY2VyZi12b2xhbnRIM1gEaGyIAQGYAQm4AQfIAQ3YAQPoAQGIAgGoAgO4AvGu14cGwAIB0gIkMDVkYjI3ODktZTE4Ni00ZTlmLWE0MGYtZTY4NjkxMGM5ZGRj2AIE4AIB;sid=cb78d8489b9c18246aa9830225a71862\",\n          \"https://www.booking.com/hotel/be/wilgenhof-maaseik.en-gb.html?label=gen173nr-1DCA0oFUIRd2lsZ2VuaG9mLW1hYXNlaWtIM1gEaGyIAQGYAQm4AQfIAQ3YAQPoAQGIAgGoAgO4Ao-r14cGwAIB0gIkNGIzYWI4ZGQtODIyMS00M2MyLWExMGYtZjg4MTczODg0MGY02AIE4AIB;sid=cb78d8489b9c18246aa9830225a71862\"\n        ],\n        \"semantic_type\": \"\",\n        \"description\": \"\"\n      }\n    },\n    {\n      \"column\": \"avg_rating\",\n      \"properties\": {\n        \"dtype\": \"number\",\n        \"std\": 0.7164265501238433,\n        \"min\": 3.8,\n        \"max\": 10.0,\n        \"num_unique_values\": 42,\n        \"samples\": [\n          9.6,\n          8.9,\n          8.5\n        ],\n        \"semantic_type\": \"\",\n        \"description\": \"\"\n      }\n    },\n    {\n      \"column\": \"nationality\",\n      \"properties\": {\n        \"dtype\": \"category\",\n        \"num_unique_values\": 163,\n        \"samples\": [\n          \"Cambodia\",\n          \"Tunisia\",\n          \"Nicaragua\"\n        ],\n        \"semantic_type\": \"\",\n        \"description\": \"\"\n      }\n    },\n    {\n      \"column\": \"rating\",\n      \"properties\": {\n        \"dtype\": \"number\",\n        \"std\": 1.5665535076243988,\n        \"min\": 1.0,\n        \"max\": 10.0,\n        \"num_unique_values\": 36,\n        \"samples\": [\n          6.9,\n          5.0,\n          2.9\n        ],\n        \"semantic_type\": \"\",\n        \"description\": \"\"\n      }\n    },\n    {\n      \"column\": \"review_text\",\n      \"properties\": {\n        \"dtype\": \"string\",\n        \"num_unique_values\": 18501,\n        \"samples\": [\n          \"Breakfast 18 EUR per person is ridiculous.\",\n          \"Room wasn\\u2019t clean and it was very very cold inside( we were at December), because condition didn\\u2019t work.,\\n\\nGreat location, 25 minutes by foot to the city center.\",\n          \"Nothing really, very nice all round\"\n        ],\n        \"semantic_type\": \"\",\n        \"description\": \"\"\n      }\n    },\n    {\n      \"column\": \"raw_review_text\",\n      \"properties\": {\n        \"dtype\": \"string\",\n        \"num_unique_values\": 18352,\n        \"samples\": [\n          \"<p class=\\\"review_pos \\\"><svg aria-label=\\\"Positive point\\\" class=\\\"bk-icon -fonticon-plus review_item_icon\\\" fill=\\\"#008009\\\" height=\\\"14\\\" role=\\\"img\\\" width=\\\"14\\\" viewbox=\\\"0 0 32 32\\\" aria-hidden=\\\"true\\\" focusable=\\\"false\\\">\\n  <path d=\\\"M32 16c0 8.836-7.162 16-16 16-8.834 0-16-5.74-16-16C0 6.451 7.166 0 16 0c8.838 0 16 7.162 16 16zm-6.4-2.585c0-.369-.031-.616-.4-.616h-5.998V7.018c0-.369-.297-.62-.666-.62h-5.068c-.369 0-.666.251-.666.62v5.781H6.901c-.369 0-.499.247-.499.616v5.118c0 .369.132.666.499.666H12.8v5.833c0 .369.297.565.666.565h5.068c.369 0 .666-.196.666-.565v-5.833h5.998c.369 0 .4-.297.4-.666v-5.118z\\\"></path>\\n</svg><span itemprop=\\\"reviewBody\\\">Food was very of a very good standard!</span></p>\",\n          \"<p class=\\\"review_pos \\\"><svg aria-label=\\\"Positive point\\\" class=\\\"bk-icon -fonticon-plus review_item_icon\\\" fill=\\\"#008009\\\" height=\\\"14\\\" role=\\\"img\\\" width=\\\"14\\\" viewbox=\\\"0 0 32 32\\\" aria-hidden=\\\"true\\\" focusable=\\\"false\\\">\\n  <path d=\\\"M32 16c0 8.836-7.162 16-16 16-8.834 0-16-5.74-16-16C0 6.451 7.166 0 16 0c8.838 0 16 7.162 16 16zm-6.4-2.585c0-.369-.031-.616-.4-.616h-5.998V7.018c0-.369-.297-.62-.666-.62h-5.068c-.369 0-.666.251-.666.62v5.781H6.901c-.369 0-.499.247-.499.616v5.118c0 .369.132.666.499.666H12.8v5.833c0 .369.297.565.666.565h5.068c.369 0 .666-.196.666-.565v-5.833h5.998c.369 0 .4-.297.4-.666v-5.118z\\\"></path>\\n</svg><span itemprop=\\\"reviewBody\\\">Friendly and helpful staff. Good breakfast. Good advice. Bike rental.</span></p>\",\n          \"<p class=\\\"review_pos \\\"><svg aria-label=\\\"Positive point\\\" class=\\\"bk-icon -fonticon-plus review_item_icon\\\" fill=\\\"#008009\\\" height=\\\"14\\\" role=\\\"img\\\" width=\\\"14\\\" viewbox=\\\"0 0 32 32\\\" aria-hidden=\\\"true\\\" focusable=\\\"false\\\">\\n  <path d=\\\"M32 16c0 8.836-7.162 16-16 16-8.834 0-16-5.74-16-16C0 6.451 7.166 0 16 0c8.838 0 16 7.162 16 16zm-6.4-2.585c0-.369-.031-.616-.4-.616h-5.998V7.018c0-.369-.297-.62-.666-.62h-5.068c-.369 0-.666.251-.666.62v5.781H6.901c-.369 0-.499.247-.499.616v5.118c0 .369.132.666.499.666H12.8v5.833c0 .369.297.565.666.565h5.068c.369 0 .666-.196.666-.565v-5.833h5.998c.369 0 .4-.297.4-.666v-5.118z\\\"></path>\\n</svg><span itemprop=\\\"reviewBody\\\">Wonderful, Fabulous, attention to every detail, and host friendly, helpful, and made a healthy breakfast as well. accommodations exceeded expectation w nice linens, computer, espresso machine in room, &amp; grand shower.  Felt Very luxurious, calm, comfortable space to just be. Within walking distance of all the sites.</span></p>\"\n        ],\n        \"semantic_type\": \"\",\n        \"description\": \"\"\n      }\n    },\n    {\n      \"column\": \"tags\",\n      \"properties\": {\n        \"dtype\": \"category\",\n        \"num_unique_values\": 8082,\n        \"samples\": [\n          \"Leisure trip~Solo traveller~Studio (2 Adults)~Stayed 4 nights~Submitted via mobile\",\n          \"Business trip~Group~Superior Double Room~Stayed 4 nights~Submitted via mobile\",\n          \"Leisure trip~Couple~Comfort Double Room~Stayed 4 nights\"\n        ],\n        \"semantic_type\": \"\",\n        \"description\": \"\"\n      }\n    },\n    {\n      \"column\": \"meta\",\n      \"properties\": {\n        \"dtype\": \"category\",\n        \"num_unique_values\": 1,\n        \"samples\": [\n          \"{'language': 'en-gb', 'source': 'https://www.booking.com'}\"\n        ],\n        \"semantic_type\": \"\",\n        \"description\": \"\"\n      }\n    }\n  ]\n}"
            }
          },
          "metadata": {},
          "execution_count": 9
        }
      ]
    },
    {
      "cell_type": "code",
      "source": [
        "# Handle potential NaN values for comparison between raw_review_text and review_text\n",
        "# For this I fill NaN with a placeholder string to avoid issues, as NaN != NaN\n",
        "df_temp = df.fillna({'review_text': '', 'raw_review_text': ''}).copy()\n",
        "\n",
        "# Count how many rows have identical content\n",
        "identical_reviews = (df_temp['review_text'] == df_temp['raw_review_text']).sum()\n",
        "# Only count rows where both are non-null\n",
        "total_reviews_comparable = len(df_temp) - df_temp['review_text'].isnull().sum() - df_temp['raw_review_text'].isnull().sum()\n",
        "\n",
        "print(f\"Number of reviews where 'review_text' and 'raw_review_text' are identical (after filling NaN): {identical_reviews}\")\n",
        "print(f\"Total comparable reviews (where both are non-null): {total_reviews_comparable}\")\n",
        "print(f\"Percentage identical: {((identical_reviews / total_reviews_comparable) * 100):.2f}%\")"
      ],
      "metadata": {
        "colab": {
          "base_uri": "https://localhost:8080/"
        },
        "id": "-hjjvQrVoU-9",
        "outputId": "d8677399-02a3-4032-c54d-29c5d089fb80"
      },
      "id": "-hjjvQrVoU-9",
      "execution_count": 11,
      "outputs": [
        {
          "output_type": "stream",
          "name": "stdout",
          "text": [
            "Number of reviews where 'review_text' and 'raw_review_text' are identical (after filling NaN): 289\n",
            "Total comparable reviews (where both are non-null): 26675\n",
            "Percentage identical: 1.08%\n"
          ]
        }
      ]
    },
    {
      "cell_type": "markdown",
      "source": [
        "Given that only 1.08% of review_text and raw_review_text are identical,this indicates significant differences between the two. Because of this it's crucial to understand the nature of these disparities before deciding which column to retain for further analysis."
      ],
      "metadata": {
        "id": "DFXBbtd7pCDA"
      },
      "id": "DFXBbtd7pCDA"
    },
    {
      "cell_type": "code",
      "source": [
        "# Look at descriptive statistics of lengths\n",
        "print(\"\\nDescriptive statistics for 'review_text' length:\")\n",
        "print(df_temp['review_text_len'].describe())\n",
        "print(\"\\nDescriptive statistics for 'raw_review_text' length:\")\n",
        "print(df_temp['raw_review_text_len'].describe())\n",
        "\n",
        "# Check for rows where one is significantly longer than the other (e.g., >20 characters difference)\n",
        "print(\"\\n--- Examples where review_text is MUCH longer (diff > 20 chars) ---\")\n",
        "longer_review_text_diff = df_temp[df_temp['review_text_len'] - df_temp['raw_review_text_len'] > 20]\n",
        "print(f\"Number of such rows: {len(longer_review_text_diff)}\")\n",
        "if not longer_review_text_diff.empty:\n",
        "    print(longer_review_text_diff[['review_text', 'raw_review_text']].head(3).to_string())\n",
        "\n",
        "print(\"\\n--- Examples where raw_review_text is MUCH longer (diff > 20 chars) ---\")\n",
        "longer_raw_review_text_diff = df_temp[df_temp['raw_review_text_len'] - df_temp['review_text_len'] > 20]\n",
        "print(f\"Number of such rows: {len(longer_raw_review_text_diff)}\")\n",
        "if not longer_raw_review_text_diff.empty:\n",
        "    print(longer_raw_review_text_diff[['review_text', 'raw_review_text']].head(3).to_string())"
      ],
      "metadata": {
        "colab": {
          "base_uri": "https://localhost:8080/"
        },
        "id": "XXbKgvJ2pEvh",
        "outputId": "14d4923e-5d72-4c3e-babb-9dc2fe7bd60f"
      },
      "id": "XXbKgvJ2pEvh",
      "execution_count": 14,
      "outputs": [
        {
          "output_type": "stream",
          "name": "stdout",
          "text": [
            "\n",
            "Descriptive statistics for 'review_text' length:\n",
            "count    26675.000000\n",
            "mean       160.166111\n",
            "std        201.930996\n",
            "min          0.000000\n",
            "25%         47.000000\n",
            "50%         78.000000\n",
            "75%        204.000000\n",
            "max       3368.000000\n",
            "Name: review_text_len, dtype: float64\n",
            "\n",
            "Descriptive statistics for 'raw_review_text' length:\n",
            "count    26675.000000\n",
            "mean       782.758163\n",
            "std        547.427211\n",
            "min          0.000000\n",
            "25%         83.000000\n",
            "50%        837.000000\n",
            "75%       1193.000000\n",
            "max       4392.000000\n",
            "Name: raw_review_text_len, dtype: float64\n",
            "\n",
            "--- Examples where review_text is MUCH longer (diff > 20 chars) ---\n",
            "Number of such rows: 149\n",
            "                                                                                           review_text raw_review_text\n",
            "54   Very clean and warm chalet. Friendly hosts willing to help and provide everything that is needed.                \n",
            "75                                                                           Vicinity to train station                \n",
            "241                                                         good hi-tech hotel with a private parking.                \n",
            "\n",
            "--- Examples where raw_review_text is MUCH longer (diff > 20 chars) ---\n",
            "Number of such rows: 26202\n",
            "                                                                                                                                  review_text                                                                                                                                                                                                                                                                                                                                                                                                                                                                                                                                                                                                                                                                                                                                                                                                                                                                                                                                                                                                                                                                                                                                                                                             raw_review_text\n",
            "0                                                                                         Everything was perfect! Quite, cozy place to relax.                                                                                                                                                                                                                                                                                                                                                                                                                                                                        <p class=\"review_pos \"><svg aria-label=\"Positive point\" class=\"bk-icon -fonticon-plus review_item_icon\" fill=\"#008009\" height=\"14\" role=\"img\" width=\"14\" viewbox=\"0 0 32 32\" aria-hidden=\"true\" focusable=\"false\">\\n  <path d=\"M32 16c0 8.836-7.162 16-16 16-8.834 0-16-5.74-16-16C0 6.451 7.166 0 16 0c8.838 0 16 7.162 16 16zm-6.4-2.585c0-.369-.031-.616-.4-.616h-5.998V7.018c0-.369-.297-.62-.666-.62h-5.068c-.369 0-.666.251-.666.62v5.781H6.901c-.369 0-.499.247-.499.616v5.118c0 .369.132.666.499.666H12.8v5.833c0 .369.297.565.666.565h5.068c.369 0 .666-.196.666-.565v-5.833h5.998c.369 0 .4-.297.4-.666v-5.118z\"></path>\\n</svg><span itemprop=\"reviewBody\">Everything was perfect! Quite, cozy place to relax.</span></p>\n",
            "1                                                                                                   Very friendly host and perfect breakfast!                                                                                                                                                                                                                                                                                                                                                                                                                                                                                  <p class=\"review_pos \"><svg aria-label=\"Positive point\" class=\"bk-icon -fonticon-plus review_item_icon\" fill=\"#008009\" height=\"14\" role=\"img\" width=\"14\" viewbox=\"0 0 32 32\" aria-hidden=\"true\" focusable=\"false\">\\n  <path d=\"M32 16c0 8.836-7.162 16-16 16-8.834 0-16-5.74-16-16C0 6.451 7.166 0 16 0c8.838 0 16 7.162 16 16zm-6.4-2.585c0-.369-.031-.616-.4-.616h-5.998V7.018c0-.369-.297-.62-.666-.62h-5.068c-.369 0-.666.251-.666.62v5.781H6.901c-.369 0-.499.247-.499.616v5.118c0 .369.132.666.499.666H12.8v5.833c0 .369.297.565.666.565h5.068c.369 0 .666-.196.666-.565v-5.833h5.998c.369 0 .4-.297.4-.666v-5.118z\"></path>\\n</svg><span itemprop=\"reviewBody\">Very friendly host and perfect breakfast!</span></p>\n",
            "2  It was just what we wanted for a week by the beach in winter,\\n\\nLocation was fab, apartment quiet and very well-equipped. Spotless clean.  <p class=\"review_neg \"><svg aria-label=\"Negative point\" class=\"bk-icon -fonticon-removecircle review_item_icon\" fill=\"#BDBDBD\" height=\"14\" role=\"img\" width=\"14\" viewbox=\"0 0 32 32\" aria-hidden=\"true\" focusable=\"false\"><path d=\"m16 0c-8.84 0-16 7.16-16 16s7.16 16 16 16 16-7.16 16-16-7.16-16-16-16zm8 17.6h-16v-3.2h16z\"></path></svg><span itemprop=\"reviewBody\">It was just what we wanted for a week by the beach in winter</span></p>,<p class=\"review_pos \"><svg aria-label=\"Positive point\" class=\"bk-icon -fonticon-plus review_item_icon\" fill=\"#008009\" height=\"14\" role=\"img\" width=\"14\" viewbox=\"0 0 32 32\" aria-hidden=\"true\" focusable=\"false\">\\n  <path d=\"M32 16c0 8.836-7.162 16-16 16-8.834 0-16-5.74-16-16C0 6.451 7.166 0 16 0c8.838 0 16 7.162 16 16zm-6.4-2.585c0-.369-.031-.616-.4-.616h-5.998V7.018c0-.369-.297-.62-.666-.62h-5.068c-.369 0-.666.251-.666.62v5.781H6.901c-.369 0-.499.247-.499.616v5.118c0 .369.132.666.499.666H12.8v5.833c0 .369.297.565.666.565h5.068c.369 0 .666-.196.666-.565v-5.833h5.998c.369 0 .4-.297.4-.666v-5.118z\"></path>\\n</svg><span itemprop=\"reviewBody\">Location was fab, apartment quiet and very well-equipped. Spotless clean.</span></p>\n"
          ]
        }
      ]
    },
    {
      "cell_type": "code",
      "source": [
        "# Find a few rows where they are different (and both non-empty) for manual inspection\n",
        "diff_reviews_sample = df_temp[(df_temp['review_text'] != df_temp['raw_review_text']) &\n",
        "                              (df_temp['review_text'] != '') & (df_temp['raw_review_text'] != '')].sample(min(5, len(df_temp))).copy()\n",
        "\n",
        "print(\"\\n--- Detailed Examples of Differences (5 random samples) ---\")\n",
        "for index, row in diff_reviews_sample.iterrows():\n",
        "    print(f\"\\nRow Index: {index}\")\n",
        "    print(f\"review_text:     '{row['review_text']}'\")\n",
        "    print(f\"raw_review_text: '{row['raw_review_text']}'\")\n",
        "    print(\"-\" * 50)"
      ],
      "metadata": {
        "colab": {
          "base_uri": "https://localhost:8080/"
        },
        "id": "tXobaHJysBkl",
        "outputId": "42835158-5485-4afc-9301-5c6e71e3b85f"
      },
      "id": "tXobaHJysBkl",
      "execution_count": 15,
      "outputs": [
        {
          "output_type": "stream",
          "name": "stdout",
          "text": [
            "\n",
            "--- Detailed Examples of Differences (5 random samples) ---\n",
            "\n",
            "Row Index: 8560\n",
            "review_text:     'There are no comments available for this review'\n",
            "raw_review_text: '<p class=\"review_none\"><em>There are no comments available for this review</em></p>'\n",
            "--------------------------------------------------\n",
            "\n",
            "Row Index: 9534\n",
            "review_text:     'Bring a warm pyjama in the Ardennes!,\n",
            "\n",
            "Single room for one small but lovely duvet, everything you need in the bathroom, ample space in cupboards and wardrobes, super cosy restaurant, nice staff.'\n",
            "raw_review_text: '<p class=\"review_neg \"><svg aria-label=\"Negative point\" class=\"bk-icon -fonticon-removecircle review_item_icon\" fill=\"#BDBDBD\" height=\"14\" role=\"img\" width=\"14\" viewbox=\"0 0 32 32\" aria-hidden=\"true\" focusable=\"false\"><path d=\"m16 0c-8.84 0-16 7.16-16 16s7.16 16 16 16 16-7.16 16-16-7.16-16-16-16zm8 17.6h-16v-3.2h16z\"></path></svg><span itemprop=\"reviewBody\">Bring a warm pyjama in the Ardennes!</span></p>,<p class=\"review_pos \"><svg aria-label=\"Positive point\" class=\"bk-icon -fonticon-plus review_item_icon\" fill=\"#008009\" height=\"14\" role=\"img\" width=\"14\" viewbox=\"0 0 32 32\" aria-hidden=\"true\" focusable=\"false\">\n",
            "  <path d=\"M32 16c0 8.836-7.162 16-16 16-8.834 0-16-5.74-16-16C0 6.451 7.166 0 16 0c8.838 0 16 7.162 16 16zm-6.4-2.585c0-.369-.031-.616-.4-.616h-5.998V7.018c0-.369-.297-.62-.666-.62h-5.068c-.369 0-.666.251-.666.62v5.781H6.901c-.369 0-.499.247-.499.616v5.118c0 .369.132.666.499.666H12.8v5.833c0 .369.297.565.666.565h5.068c.369 0 .666-.196.666-.565v-5.833h5.998c.369 0 .4-.297.4-.666v-5.118z\"></path>\n",
            "</svg><span itemprop=\"reviewBody\">Single room for one small but lovely duvet, everything you need in the bathroom, ample space in cupboards and wardrobes, super cosy restaurant, nice staff.</span></p>'\n",
            "--------------------------------------------------\n",
            "\n",
            "Row Index: 14080\n",
            "review_text:     'There are no comments available for this review'\n",
            "raw_review_text: '<p class=\"review_none\"><em>There are no comments available for this review</em></p>'\n",
            "--------------------------------------------------\n",
            "\n",
            "Row Index: 8854\n",
            "review_text:     'I asked for an invoice in my company's name, I had to basically write the details myself because they \"had already printed out the invoice and it coudn't be changed\". The room was not quiet, and it smelled a little.,\n",
            "\n",
            "Facilities of the hostel, the possibility to use the kitchen and having breakfast.'\n",
            "raw_review_text: '<p class=\"review_neg \"><svg aria-label=\"Negative point\" class=\"bk-icon -fonticon-removecircle review_item_icon\" fill=\"#BDBDBD\" height=\"14\" role=\"img\" width=\"14\" viewbox=\"0 0 32 32\" aria-hidden=\"true\" focusable=\"false\"><path d=\"m16 0c-8.84 0-16 7.16-16 16s7.16 16 16 16 16-7.16 16-16-7.16-16-16-16zm8 17.6h-16v-3.2h16z\"></path></svg><span itemprop=\"reviewBody\">I asked for an invoice in my company's name, I had to basically write the details myself because they \"had already printed out the invoice and it coudn't be changed\". The room was not quiet, and it smelled a little.</span></p>,<p class=\"review_pos \"><svg aria-label=\"Positive point\" class=\"bk-icon -fonticon-plus review_item_icon\" fill=\"#008009\" height=\"14\" role=\"img\" width=\"14\" viewbox=\"0 0 32 32\" aria-hidden=\"true\" focusable=\"false\">\n",
            "  <path d=\"M32 16c0 8.836-7.162 16-16 16-8.834 0-16-5.74-16-16C0 6.451 7.166 0 16 0c8.838 0 16 7.162 16 16zm-6.4-2.585c0-.369-.031-.616-.4-.616h-5.998V7.018c0-.369-.297-.62-.666-.62h-5.068c-.369 0-.666.251-.666.62v5.781H6.901c-.369 0-.499.247-.499.616v5.118c0 .369.132.666.499.666H12.8v5.833c0 .369.297.565.666.565h5.068c.369 0 .666-.196.666-.565v-5.833h5.998c.369 0 .4-.297.4-.666v-5.118z\"></path>\n",
            "</svg><span itemprop=\"reviewBody\">Facilities of the hostel, the possibility to use the kitchen and having breakfast.</span></p>'\n",
            "--------------------------------------------------\n",
            "\n",
            "Row Index: 12142\n",
            "review_text:     'There are no comments available for this review'\n",
            "raw_review_text: '<p class=\"review_none\"><em>There are no comments available for this review</em></p>'\n",
            "--------------------------------------------------\n"
          ]
        }
      ]
    },
    {
      "cell_type": "markdown",
      "source": [
        "Based on the above information, I can conclude the following:\n",
        "\n",
        "*   raw_review_text is significantly longer for the vast majority of reviews.\n",
        "*   raw_review_text contains HTML tags and possibly meta-information like itemprop=\"reviewBody\", and even indicators of positive/negative aspects (review_pos, review_neg).\n",
        "*   review_text appears to be a cleaned-up, extracted version of the core text content from within raw_review_text, maybe even combining multiple aspects into one string.\n",
        "\n",
        "The conclusion then is to keep raw_review_text and drop review_text because raw_review_text offers completeness, providing more original content. This gives more control over preprocessing, allowing me to precisely handle HTML tags and embedded sentiment indicators. This granular control is crucial for extracting richer features, as raw_review_text contains valuable review_pos/review_neg classes essential for advanced sentiment or aspect-based analysis."
      ],
      "metadata": {
        "id": "mSK3xjk4qJBz"
      },
      "id": "mSK3xjk4qJBz"
    },
    {
      "cell_type": "markdown",
      "source": [
        "Further evaluating the 'meta' column to see if it contains relevant information for the analysis:"
      ],
      "metadata": {
        "id": "KRfFrcItmheQ"
      },
      "id": "KRfFrcItmheQ"
    },
    {
      "cell_type": "code",
      "source": [
        "# Displaying the first few non-null entries\n",
        "print(\"First 10 non-null entries in 'meta' column:\")\n",
        "print(df['meta'].dropna().head(10).tolist())\n",
        "\n",
        "# Displaying a random sample\n",
        "print(\"\\n10 random non-null entries in 'meta' column:\")\n",
        "print(df['meta'].dropna().sample(10).tolist())"
      ],
      "metadata": {
        "colab": {
          "base_uri": "https://localhost:8080/"
        },
        "id": "ZVRQOTikmgCu",
        "outputId": "abb97cfd-7ce1-4197-e47c-4bee58adea5c"
      },
      "id": "ZVRQOTikmgCu",
      "execution_count": 10,
      "outputs": [
        {
          "output_type": "stream",
          "name": "stdout",
          "text": [
            "First 10 non-null entries in 'meta' column:\n",
            "[\"{'language': 'en-gb', 'source': 'https://www.booking.com'}\", \"{'language': 'en-gb', 'source': 'https://www.booking.com'}\", \"{'language': 'en-gb', 'source': 'https://www.booking.com'}\", \"{'language': 'en-gb', 'source': 'https://www.booking.com'}\", \"{'language': 'en-gb', 'source': 'https://www.booking.com'}\", \"{'language': 'en-gb', 'source': 'https://www.booking.com'}\", \"{'language': 'en-gb', 'source': 'https://www.booking.com'}\", \"{'language': 'en-gb', 'source': 'https://www.booking.com'}\", \"{'language': 'en-gb', 'source': 'https://www.booking.com'}\", \"{'language': 'en-gb', 'source': 'https://www.booking.com'}\"]\n",
            "\n",
            "10 random non-null entries in 'meta' column:\n",
            "[\"{'language': 'en-gb', 'source': 'https://www.booking.com'}\", \"{'language': 'en-gb', 'source': 'https://www.booking.com'}\", \"{'language': 'en-gb', 'source': 'https://www.booking.com'}\", \"{'language': 'en-gb', 'source': 'https://www.booking.com'}\", \"{'language': 'en-gb', 'source': 'https://www.booking.com'}\", \"{'language': 'en-gb', 'source': 'https://www.booking.com'}\", \"{'language': 'en-gb', 'source': 'https://www.booking.com'}\", \"{'language': 'en-gb', 'source': 'https://www.booking.com'}\", \"{'language': 'en-gb', 'source': 'https://www.booking.com'}\", \"{'language': 'en-gb', 'source': 'https://www.booking.com'}\"]\n"
          ]
        }
      ]
    },
    {
      "cell_type": "markdown",
      "source": [
        "Based on the above checks, I will be dropping the following columns that are not relevant for this analysis:\n",
        "\n",
        "1. index: Redundant DataFrame index.\n",
        "\n",
        "2. images: Too sparse, and image analysis is out of scope for this analysis as we are using text for hotel rating prediction.\n",
        "\n",
        "3. crawled_at: Irrelevant timestamp for this analysis as this is when the review was crawled from the site.\n",
        "\n",
        "4. url: Unique identifier for the review page, no predictive power.\n",
        "\n",
        "5. hotel_url: Unique identifier for the hotel page, but this becomes redundant if hotel_name or hotel_id is used.\n",
        "\n",
        "6. meta: content is consistently redundant, specifying 'en-gb' language and 'booking.com' source, and therefore provides no unique or discriminative information for this analysis.\n",
        "\n",
        "7. review_text: as it seems to be a simplified version of raw_review_text and is better to keep the columns with full information to better extract richer features for the analysis."
      ],
      "metadata": {
        "id": "ln_g7aXhlWSx"
      },
      "id": "ln_g7aXhlWSx"
    },
    {
      "cell_type": "code",
      "source": [
        "# Dropping unnecesary columns\n",
        "# Create a list of columns to drop\n",
        "columns_to_drop = ['index', 'images', 'crawled_at', 'url', 'hotel_url', 'meta', 'review_text']\n",
        "\n",
        "# Perform the drop operation\n",
        "df_cleaned = df.drop(columns=columns_to_drop, errors='ignore')\n",
        "\n",
        "# Inspecting new dataframe\n",
        "df_cleaned.info()"
      ],
      "metadata": {
        "colab": {
          "base_uri": "https://localhost:8080/"
        },
        "id": "0N1m9EtllVyl",
        "outputId": "5f3f6aa0-2253-4169-ac0e-9197e99a3e8c"
      },
      "id": "0N1m9EtllVyl",
      "execution_count": 17,
      "outputs": [
        {
          "output_type": "stream",
          "name": "stdout",
          "text": [
            "<class 'pandas.core.frame.DataFrame'>\n",
            "RangeIndex: 26675 entries, 0 to 26674\n",
            "Data columns (total 9 columns):\n",
            " #   Column           Non-Null Count  Dtype  \n",
            "---  ------           --------------  -----  \n",
            " 0   review_title     26674 non-null  object \n",
            " 1   reviewed_at      26570 non-null  object \n",
            " 2   reviewed_by      26570 non-null  object \n",
            " 3   hotel_name       26386 non-null  object \n",
            " 4   avg_rating       26386 non-null  float64\n",
            " 5   nationality      26370 non-null  object \n",
            " 6   rating           26386 non-null  float64\n",
            " 7   raw_review_text  26202 non-null  object \n",
            " 8   tags             26202 non-null  object \n",
            "dtypes: float64(2), object(7)\n",
            "memory usage: 1.8+ MB\n"
          ]
        }
      ]
    },
    {
      "cell_type": "code",
      "source": [],
      "metadata": {
        "id": "wZvRdue4ihqW"
      },
      "id": "wZvRdue4ihqW",
      "execution_count": null,
      "outputs": []
    },
    {
      "cell_type": "markdown",
      "id": "eee54994-1718-4fcf-804a-e0b1a123c3ad",
      "metadata": {
        "id": "eee54994-1718-4fcf-804a-e0b1a123c3ad"
      },
      "source": [
        "# Exploratory Data Understanding"
      ]
    },
    {
      "cell_type": "code",
      "execution_count": null,
      "id": "ce3bc250-b551-4b4a-a9ef-8f594da91948",
      "metadata": {
        "id": "ce3bc250-b551-4b4a-a9ef-8f594da91948"
      },
      "outputs": [],
      "source": []
    },
    {
      "cell_type": "code",
      "execution_count": null,
      "id": "2c475ff9-a24c-4e4b-b7e4-16bc02a53a0a",
      "metadata": {
        "id": "2c475ff9-a24c-4e4b-b7e4-16bc02a53a0a"
      },
      "outputs": [],
      "source": []
    },
    {
      "cell_type": "code",
      "execution_count": null,
      "id": "c528f4b5-0bf9-4699-a962-5e173cca3cb7",
      "metadata": {
        "id": "c528f4b5-0bf9-4699-a962-5e173cca3cb7"
      },
      "outputs": [],
      "source": []
    },
    {
      "cell_type": "code",
      "execution_count": null,
      "id": "31a6aff3-ca5f-49e3-84fe-de56e641ed4e",
      "metadata": {
        "id": "31a6aff3-ca5f-49e3-84fe-de56e641ed4e"
      },
      "outputs": [],
      "source": []
    },
    {
      "cell_type": "code",
      "execution_count": null,
      "id": "4b3b5e9e-3351-4611-ac31-6c244ed4bdfb",
      "metadata": {
        "id": "4b3b5e9e-3351-4611-ac31-6c244ed4bdfb"
      },
      "outputs": [],
      "source": []
    },
    {
      "cell_type": "code",
      "execution_count": null,
      "id": "7f789fea-0a64-4261-815f-0adb289b7faf",
      "metadata": {
        "id": "7f789fea-0a64-4261-815f-0adb289b7faf"
      },
      "outputs": [],
      "source": []
    },
    {
      "cell_type": "code",
      "execution_count": null,
      "id": "370e5496-a1a1-4cda-9073-51aa56452098",
      "metadata": {
        "id": "370e5496-a1a1-4cda-9073-51aa56452098"
      },
      "outputs": [],
      "source": []
    },
    {
      "cell_type": "code",
      "execution_count": null,
      "id": "ac808247-22af-4f4d-a3f9-0189e1cb6c96",
      "metadata": {
        "id": "ac808247-22af-4f4d-a3f9-0189e1cb6c96"
      },
      "outputs": [],
      "source": []
    },
    {
      "cell_type": "code",
      "execution_count": null,
      "id": "d1d649c5-6ae0-4c6a-9d66-202b394ad6e8",
      "metadata": {
        "id": "d1d649c5-6ae0-4c6a-9d66-202b394ad6e8"
      },
      "outputs": [],
      "source": []
    },
    {
      "cell_type": "code",
      "execution_count": null,
      "id": "ad6b9eed-0a13-4ccf-bf8c-12eafa956c70",
      "metadata": {
        "id": "ad6b9eed-0a13-4ccf-bf8c-12eafa956c70"
      },
      "outputs": [],
      "source": []
    },
    {
      "cell_type": "code",
      "execution_count": null,
      "id": "3a4c29be-a325-492f-9bb4-c529a3a59f6a",
      "metadata": {
        "id": "3a4c29be-a325-492f-9bb4-c529a3a59f6a"
      },
      "outputs": [],
      "source": []
    },
    {
      "cell_type": "code",
      "execution_count": null,
      "id": "0ad2e559-9568-4297-ae12-8acec87d93a0",
      "metadata": {
        "id": "0ad2e559-9568-4297-ae12-8acec87d93a0"
      },
      "outputs": [],
      "source": []
    },
    {
      "cell_type": "code",
      "execution_count": null,
      "id": "233fa516-9216-404b-a556-ec70cbe26623",
      "metadata": {
        "id": "233fa516-9216-404b-a556-ec70cbe26623"
      },
      "outputs": [],
      "source": []
    },
    {
      "cell_type": "code",
      "execution_count": null,
      "id": "490e2d9e-7d32-4ca8-8f40-33b8031d106f",
      "metadata": {
        "id": "490e2d9e-7d32-4ca8-8f40-33b8031d106f"
      },
      "outputs": [],
      "source": []
    },
    {
      "cell_type": "code",
      "execution_count": null,
      "id": "b5b66255-b4af-4169-8c9e-d096ce853347",
      "metadata": {
        "id": "b5b66255-b4af-4169-8c9e-d096ce853347"
      },
      "outputs": [],
      "source": []
    },
    {
      "cell_type": "code",
      "execution_count": null,
      "id": "e16c8003-626e-4bf8-bf1f-b0dbba94c527",
      "metadata": {
        "id": "e16c8003-626e-4bf8-bf1f-b0dbba94c527"
      },
      "outputs": [],
      "source": []
    },
    {
      "cell_type": "code",
      "execution_count": null,
      "id": "7addb94b-9b28-4aa4-8f90-67ddae938ec8",
      "metadata": {
        "id": "7addb94b-9b28-4aa4-8f90-67ddae938ec8"
      },
      "outputs": [],
      "source": []
    }
  ],
  "metadata": {
    "kernelspec": {
      "display_name": "Python (learn-env)",
      "language": "python",
      "name": "learn-env"
    },
    "language_info": {
      "codemirror_mode": {
        "name": "ipython",
        "version": 3
      },
      "file_extension": ".py",
      "mimetype": "text/x-python",
      "name": "python",
      "nbconvert_exporter": "python",
      "pygments_lexer": "ipython3",
      "version": "3.9.19"
    },
    "colab": {
      "provenance": [],
      "include_colab_link": true
    }
  },
  "nbformat": 4,
  "nbformat_minor": 5
}