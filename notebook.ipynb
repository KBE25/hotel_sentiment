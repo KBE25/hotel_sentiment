{
  "cells": [
    {
      "cell_type": "markdown",
      "metadata": {
        "id": "view-in-github",
        "colab_type": "text"
      },
      "source": [
        "<a href=\"https://colab.research.google.com/github/KBE25/hotel_sentiment/blob/main/notebook.ipynb\" target=\"_parent\"><img src=\"https://colab.research.google.com/assets/colab-badge.svg\" alt=\"Open In Colab\"/></a>"
      ]
    },
    {
      "cell_type": "code",
      "execution_count": null,
      "id": "9d3711a3-e242-44c2-aa6b-333e6abc2fd2",
      "metadata": {
        "id": "9d3711a3-e242-44c2-aa6b-333e6abc2fd2"
      },
      "outputs": [],
      "source": []
    },
    {
      "cell_type": "code",
      "source": [],
      "metadata": {
        "id": "2bEDtTnmoYhn"
      },
      "id": "2bEDtTnmoYhn",
      "execution_count": null,
      "outputs": []
    },
    {
      "cell_type": "markdown",
      "source": [
        "# Overview"
      ],
      "metadata": {
        "id": "dlQWMMfrolxs"
      },
      "id": "dlQWMMfrolxs"
    },
    {
      "cell_type": "code",
      "source": [],
      "metadata": {
        "id": "jQGdfTfpoYkM"
      },
      "id": "jQGdfTfpoYkM",
      "execution_count": null,
      "outputs": []
    },
    {
      "cell_type": "code",
      "source": [],
      "metadata": {
        "id": "JGx6zWh8oYmr"
      },
      "id": "JGx6zWh8oYmr",
      "execution_count": null,
      "outputs": []
    },
    {
      "cell_type": "code",
      "source": [],
      "metadata": {
        "id": "lbq9MrdJoYpS"
      },
      "id": "lbq9MrdJoYpS",
      "execution_count": null,
      "outputs": []
    },
    {
      "cell_type": "markdown",
      "source": [
        "# Business Understanding"
      ],
      "metadata": {
        "id": "Q9pTrIy_osiI"
      },
      "id": "Q9pTrIy_osiI"
    },
    {
      "cell_type": "code",
      "source": [],
      "metadata": {
        "id": "dCNX1WQ5oYrz"
      },
      "id": "dCNX1WQ5oYrz",
      "execution_count": null,
      "outputs": []
    },
    {
      "cell_type": "code",
      "source": [],
      "metadata": {
        "id": "Cd5gJMW_oYuZ"
      },
      "id": "Cd5gJMW_oYuZ",
      "execution_count": null,
      "outputs": []
    },
    {
      "cell_type": "code",
      "source": [],
      "metadata": {
        "id": "UpJ6o83IoYwv"
      },
      "id": "UpJ6o83IoYwv",
      "execution_count": null,
      "outputs": []
    },
    {
      "cell_type": "markdown",
      "source": [
        "# Data Understanding"
      ],
      "metadata": {
        "id": "Hcthe6dAou9p"
      },
      "id": "Hcthe6dAou9p"
    },
    {
      "cell_type": "markdown",
      "source": [
        "## Data Preparation"
      ],
      "metadata": {
        "id": "GghVE8nPozSp"
      },
      "id": "GghVE8nPozSp"
    },
    {
      "cell_type": "code",
      "source": [
        "!pip install emoji"
      ],
      "metadata": {
        "colab": {
          "base_uri": "https://localhost:8080/"
        },
        "id": "_vYTRd3ioYze",
        "outputId": "bd09178d-d203-49b2-8cd3-848b680f8528"
      },
      "id": "_vYTRd3ioYze",
      "execution_count": 1,
      "outputs": [
        {
          "output_type": "stream",
          "name": "stdout",
          "text": [
            "Collecting emoji\n",
            "  Downloading emoji-2.14.1-py3-none-any.whl.metadata (5.7 kB)\n",
            "Downloading emoji-2.14.1-py3-none-any.whl (590 kB)\n",
            "\u001b[?25l   \u001b[90m━━━━━━━━━━━━━━━━━━━━━━━━━━━━━━━━━━━━━━━━\u001b[0m \u001b[32m0.0/590.6 kB\u001b[0m \u001b[31m?\u001b[0m eta \u001b[36m-:--:--\u001b[0m\r\u001b[2K   \u001b[90m━━━━━━━━━━━━━━━━━━━━━━━━━━━━━━━━━━━━━━━━\u001b[0m \u001b[32m590.6/590.6 kB\u001b[0m \u001b[31m29.2 MB/s\u001b[0m eta \u001b[36m0:00:00\u001b[0m\n",
            "\u001b[?25hInstalling collected packages: emoji\n",
            "Successfully installed emoji-2.14.1\n"
          ]
        }
      ]
    },
    {
      "cell_type": "code",
      "source": [
        "!pip install symspellpy"
      ],
      "metadata": {
        "colab": {
          "base_uri": "https://localhost:8080/"
        },
        "id": "srnhTPVSoY2O",
        "outputId": "9157f3cf-972e-47f4-8db3-60e3fa97ed3c"
      },
      "id": "srnhTPVSoY2O",
      "execution_count": 2,
      "outputs": [
        {
          "output_type": "stream",
          "name": "stdout",
          "text": [
            "Collecting symspellpy\n",
            "  Downloading symspellpy-6.9.0-py3-none-any.whl.metadata (3.9 kB)\n",
            "Collecting editdistpy>=0.1.3 (from symspellpy)\n",
            "  Downloading editdistpy-0.1.6-cp311-cp311-manylinux_2_5_x86_64.manylinux1_x86_64.manylinux_2_17_x86_64.manylinux2014_x86_64.whl.metadata (6.7 kB)\n",
            "Downloading symspellpy-6.9.0-py3-none-any.whl (2.6 MB)\n",
            "\u001b[2K   \u001b[90m━━━━━━━━━━━━━━━━━━━━━━━━━━━━━━━━━━━━━━━━\u001b[0m \u001b[32m2.6/2.6 MB\u001b[0m \u001b[31m33.0 MB/s\u001b[0m eta \u001b[36m0:00:00\u001b[0m\n",
            "\u001b[?25hDownloading editdistpy-0.1.6-cp311-cp311-manylinux_2_5_x86_64.manylinux1_x86_64.manylinux_2_17_x86_64.manylinux2014_x86_64.whl (158 kB)\n",
            "\u001b[2K   \u001b[90m━━━━━━━━━━━━━━━━━━━━━━━━━━━━━━━━━━━━━━━━\u001b[0m \u001b[32m158.4/158.4 kB\u001b[0m \u001b[31m14.3 MB/s\u001b[0m eta \u001b[36m0:00:00\u001b[0m\n",
            "\u001b[?25hInstalling collected packages: editdistpy, symspellpy\n",
            "Successfully installed editdistpy-0.1.6 symspellpy-6.9.0\n"
          ]
        }
      ]
    },
    {
      "cell_type": "code",
      "source": [
        "# Standard Library Imports\n",
        "import os\n",
        "import re\n",
        "import sys\n",
        "import string\n",
        "import warnings\n",
        "import multiprocessing as mp # Often used for data loading or parallel processing\n",
        "import random as rn # For setting random seeds if needed\n",
        "\n",
        "# Data Manipulation\n",
        "import numpy as np\n",
        "import pandas as pd\n",
        "\n",
        "# Visualization\n",
        "import matplotlib.pyplot as plt\n",
        "import seaborn as sns\n",
        "from IPython.display import display, HTML\n",
        "\n",
        "# Kaggle\n",
        "import kagglehub\n",
        "\n",
        "# NLP and Text Processing\n",
        "import spacy\n",
        "import emoji\n",
        "import nltk\n",
        "from nltk.corpus import stopwords\n",
        "from nltk.stem import WordNetLemmatizer\n",
        "from nltk.tokenize import word_tokenize\n",
        "from nltk.sentiment.vader import SentimentIntensityAnalyzer\n",
        "\n",
        "from symspellpy import SymSpell, Verbosity\n",
        "import pkg_resources\n",
        "\n",
        "# Scikit-learn: Preprocessing and Feature Engineering\n",
        "from sklearn.feature_extraction.text import TfidfVectorizer\n",
        "from sklearn.preprocessing import StandardScaler, OneHotEncoder\n",
        "from sklearn.impute import SimpleImputer\n",
        "from sklearn.compose import ColumnTransformer\n",
        "from sklearn.pipeline import Pipeline\n",
        "from sklearn.decomposition import TruncatedSVD, NMF\n",
        "\n",
        "# Scikit-learn: Feature Selection\n",
        "from sklearn.feature_selection import SelectKBest, chi2, f_regression, mutual_info_regression\n",
        "from sklearn.inspection import permutation_importance\n",
        "\n",
        "# Scikit-learn: Model Selection and Evaluation\n",
        "from sklearn.model_selection import train_test_split, GridSearchCV, RandomizedSearchCV\n",
        "from sklearn.metrics import (\n",
        "    classification_report,\n",
        "    accuracy_score,\n",
        "    confusion_matrix,\n",
        "    roc_auc_score,\n",
        "    roc_curve,\n",
        "    f1_score,\n",
        "    make_scorer\n",
        ")\n",
        "\n",
        "# Scikit-learn: Models\n",
        "from sklearn.linear_model import LogisticRegression, LinearRegression\n",
        "from sklearn.naive_bayes import MultinomialNB, ComplementNB\n",
        "from sklearn.svm import LinearSVC, SVC\n",
        "from sklearn.ensemble import RandomForestRegressor, RandomForestClassifier\n",
        "from xgboost import XGBClassifier\n",
        "from lightgbm import LGBMClassifier\n",
        "\n",
        "# Statsmodels\n",
        "from statsmodels.stats.outliers_influence import variance_inflation_factor\n",
        "\n",
        "# Deep Learning (TensorFlow/Keras and PyTorch)\n",
        "from tqdm.auto import tqdm\n",
        "from tqdm.notebook import tqdm\n",
        "\n",
        "import tensorflow as tf\n",
        "from tensorflow import keras\n",
        "from tensorflow.keras.preprocessing.text import Tokenizer\n",
        "from tensorflow.keras.preprocessing.sequence import pad_sequences\n",
        "from tensorflow.keras.layers import Input, Embedding, Conv1D, GlobalMaxPooling1D, Bidirectional, LSTM, Dense, Concatenate, Reshape\n",
        "from tensorflow.keras.models import Model\n",
        "from tensorflow.keras.optimizers import Adam\n",
        "\n",
        "import torch\n",
        "import torch.nn as nn\n",
        "from torch.utils.data import DataLoader, TensorDataset\n",
        "from torch.nn.utils.rnn import pad_sequence\n",
        "\n",
        "# Statistical Distributions (for RandomizedSearchCV)\n",
        "from scipy.stats import uniform, randint\n",
        "\n",
        "# File Saving/Loading\n",
        "import joblib\n",
        "\n",
        "from scipy.stats import pointbiserialr\n",
        "import pandas as pd\n",
        "import seaborn as sns\n",
        "import matplotlib.pyplot as plt\n",
        "\n",
        "# Suppress warnings\n",
        "warnings.simplefilter(action=\"ignore\", category=FutureWarning)\n",
        "warnings.filterwarnings(\"ignore\", category=UserWarning)"
      ],
      "metadata": {
        "id": "RNgLYXq2oY47",
        "colab": {
          "base_uri": "https://localhost:8080/"
        },
        "outputId": "d7caf8dc-143a-4e79-e0b4-32b4586db0d7"
      },
      "id": "RNgLYXq2oY47",
      "execution_count": 3,
      "outputs": [
        {
          "output_type": "stream",
          "name": "stderr",
          "text": [
            "/tmp/ipython-input-3673746933.py:32: DeprecationWarning: pkg_resources is deprecated as an API. See https://setuptools.pypa.io/en/latest/pkg_resources.html\n",
            "  import pkg_resources\n"
          ]
        }
      ]
    },
    {
      "cell_type": "markdown",
      "source": [
        "Data Preparation will contain the following parts:"
      ],
      "metadata": {
        "id": "b-J2wYrkpFHJ"
      },
      "id": "b-J2wYrkpFHJ"
    },
    {
      "cell_type": "markdown",
      "source": [
        "### Data Acquisition"
      ],
      "metadata": {
        "id": "qJQN9JdspGMy"
      },
      "id": "qJQN9JdspGMy"
    },
    {
      "cell_type": "markdown",
      "source": [
        "In order to pull the data for this analysis, I am going to download the data directly from Kaggle. To be able to complete this task, I am first going to create a connection with Kaggle API.\n",
        "\n",
        "The code below is used to create a connection with Kaggle Public API. The only change that is needed below is to edit the following part by finding your API token information in your Kaggle account settings part:\n",
        "\n",
        "*   \"username\":\"ADD_KEY HERE\"\n",
        "*   \"key\":\"ADD_KEY HERE\"\n",
        "\n",
        "IMPORTANT - After you ran the below code, make sure to delete your 'username' and 'key' as that information is personal and should not be made available in any public site like Github. More information on Kaggle's API can be found here."
      ],
      "metadata": {
        "id": "x7-9_puNBvdf"
      },
      "id": "x7-9_puNBvdf"
    },
    {
      "cell_type": "code",
      "source": [
        "#Loading needed libraries to create the API connection\n",
        "import json\n",
        "import os\n",
        "from pathlib import Path\n",
        "\n",
        "# Go to Kaggle and get your API public https://www.kaggle.com/docs/api\n",
        "api_key = {\n",
        "    \"username\":\"\", #add your Kaggle API username\n",
        "    \"key\":\"\"       #add your Kaggle API key\n",
        "    }\n",
        "\n",
        "# uses pathlib Path\n",
        "kaggle_path = Path('/root/.kaggle')\n",
        "os.makedirs(kaggle_path, exist_ok=True)\n",
        "\n",
        "# opens file and dumps python dict to json object\n",
        "with open (kaggle_path/'kaggle.json', 'w') as handl:\n",
        "    json.dump(api_key,handl)\n",
        "\n",
        "os.chmod(kaggle_path/'kaggle.json', 600)\n",
        "\n",
        "#IMPORTANT: after running this code, delete your username and key"
      ],
      "metadata": {
        "id": "ePY8VKzeBb3g"
      },
      "id": "ePY8VKzeBb3g",
      "execution_count": 4,
      "outputs": []
    },
    {
      "cell_type": "code",
      "source": [
        "# Download latest dataset version\n",
        "! kaggle datasets download -d thedevastator/booking-com-hotel-reviews\n",
        "! unzip booking-com-hotel-reviews.zip\n",
        "# The below code is use to rename the file name within the .zip file\n",
        "! mv booking_reviews\\ copy.csv booking_reviews.csv"
      ],
      "metadata": {
        "colab": {
          "base_uri": "https://localhost:8080/"
        },
        "id": "PukZQdOlCb_J",
        "outputId": "09994b91-a6d7-493f-b9d5-f6371ae05e9e"
      },
      "id": "PukZQdOlCb_J",
      "execution_count": 5,
      "outputs": [
        {
          "output_type": "stream",
          "name": "stdout",
          "text": [
            "Dataset URL: https://www.kaggle.com/datasets/thedevastator/booking-com-hotel-reviews\n",
            "License(s): other\n",
            "Downloading booking-com-hotel-reviews.zip to /content\n",
            "  0% 0.00/3.96M [00:00<?, ?B/s]\n",
            "100% 3.96M/3.96M [00:00<00:00, 738MB/s]\n",
            "Archive:  booking-com-hotel-reviews.zip\n",
            "  inflating: booking_reviews copy.csv  \n"
          ]
        }
      ]
    },
    {
      "cell_type": "code",
      "source": [
        "# The path where the data is in the environment\n",
        "base_dataset_directory = \"/content\"\n",
        "csv_file_name = \"booking_reviews.csv\"\n",
        "full_csv_path = os.path.join(base_dataset_directory, csv_file_name)\n",
        "df = pd.read_csv(full_csv_path)"
      ],
      "metadata": {
        "id": "NW1fb8ktCg4w"
      },
      "id": "NW1fb8ktCg4w",
      "execution_count": 6,
      "outputs": []
    },
    {
      "cell_type": "markdown",
      "source": [
        "## Exploratory Data Analysis"
      ],
      "metadata": {
        "id": "pXP80x5spTu_"
      },
      "id": "pXP80x5spTu_"
    },
    {
      "cell_type": "markdown",
      "source": [
        "### Evaluating the dataframe\n",
        "\n",
        "This part of the project will contain an evaluation of the dataframa and the columns available in order to decide which ones to drop based on their relevance for the analysis.\n"
      ],
      "metadata": {
        "id": "G48vAq-MpWXD"
      },
      "id": "G48vAq-MpWXD"
    },
    {
      "cell_type": "code",
      "source": [
        "df.shape"
      ],
      "metadata": {
        "colab": {
          "base_uri": "https://localhost:8080/"
        },
        "id": "GtQVLxfAoZEB",
        "outputId": "b93b13fc-fded-4e24-f75b-8001c42277f5"
      },
      "id": "GtQVLxfAoZEB",
      "execution_count": 7,
      "outputs": [
        {
          "output_type": "execute_result",
          "data": {
            "text/plain": [
              "(26675, 16)"
            ]
          },
          "metadata": {},
          "execution_count": 7
        }
      ]
    },
    {
      "cell_type": "code",
      "source": [
        "df.info()"
      ],
      "metadata": {
        "colab": {
          "base_uri": "https://localhost:8080/"
        },
        "id": "T-QYPX7xoZG3",
        "outputId": "5e3dd3d1-df47-4521-bd4d-4d6c7fb37905"
      },
      "id": "T-QYPX7xoZG3",
      "execution_count": 8,
      "outputs": [
        {
          "output_type": "stream",
          "name": "stdout",
          "text": [
            "<class 'pandas.core.frame.DataFrame'>\n",
            "RangeIndex: 26675 entries, 0 to 26674\n",
            "Data columns (total 16 columns):\n",
            " #   Column           Non-Null Count  Dtype  \n",
            "---  ------           --------------  -----  \n",
            " 0   index            26675 non-null  int64  \n",
            " 1   review_title     26674 non-null  object \n",
            " 2   reviewed_at      26570 non-null  object \n",
            " 3   reviewed_by      26570 non-null  object \n",
            " 4   images           938 non-null    object \n",
            " 5   crawled_at       26386 non-null  object \n",
            " 6   url              26386 non-null  object \n",
            " 7   hotel_name       26386 non-null  object \n",
            " 8   hotel_url        26386 non-null  object \n",
            " 9   avg_rating       26386 non-null  float64\n",
            " 10  nationality      26370 non-null  object \n",
            " 11  rating           26386 non-null  float64\n",
            " 12  review_text      26386 non-null  object \n",
            " 13  raw_review_text  26202 non-null  object \n",
            " 14  tags             26202 non-null  object \n",
            " 15  meta             26202 non-null  object \n",
            "dtypes: float64(2), int64(1), object(13)\n",
            "memory usage: 3.3+ MB\n"
          ]
        }
      ]
    },
    {
      "cell_type": "code",
      "source": [
        "df.describe()"
      ],
      "metadata": {
        "colab": {
          "base_uri": "https://localhost:8080/",
          "height": 300
        },
        "id": "7JbnXr1BoZJw",
        "outputId": "f2407726-8ec6-4ac9-faff-331b944b18cc"
      },
      "id": "7JbnXr1BoZJw",
      "execution_count": 9,
      "outputs": [
        {
          "output_type": "execute_result",
          "data": {
            "text/plain": [
              "              index    avg_rating        rating\n",
              "count  26675.000000  26386.000000  26386.000000\n",
              "mean   13337.000000      8.449242      8.560669\n",
              "std     7700.553552      0.716427      1.566554\n",
              "min        0.000000      3.800000      1.000000\n",
              "25%     6668.500000      8.100000      7.900000\n",
              "50%    13337.000000      8.500000      9.000000\n",
              "75%    20005.500000      8.900000     10.000000\n",
              "max    26674.000000     10.000000     10.000000"
            ],
            "text/html": [
              "\n",
              "  <div id=\"df-ee18827a-30ed-4527-8d4f-599f57a14156\" class=\"colab-df-container\">\n",
              "    <div>\n",
              "<style scoped>\n",
              "    .dataframe tbody tr th:only-of-type {\n",
              "        vertical-align: middle;\n",
              "    }\n",
              "\n",
              "    .dataframe tbody tr th {\n",
              "        vertical-align: top;\n",
              "    }\n",
              "\n",
              "    .dataframe thead th {\n",
              "        text-align: right;\n",
              "    }\n",
              "</style>\n",
              "<table border=\"1\" class=\"dataframe\">\n",
              "  <thead>\n",
              "    <tr style=\"text-align: right;\">\n",
              "      <th></th>\n",
              "      <th>index</th>\n",
              "      <th>avg_rating</th>\n",
              "      <th>rating</th>\n",
              "    </tr>\n",
              "  </thead>\n",
              "  <tbody>\n",
              "    <tr>\n",
              "      <th>count</th>\n",
              "      <td>26675.000000</td>\n",
              "      <td>26386.000000</td>\n",
              "      <td>26386.000000</td>\n",
              "    </tr>\n",
              "    <tr>\n",
              "      <th>mean</th>\n",
              "      <td>13337.000000</td>\n",
              "      <td>8.449242</td>\n",
              "      <td>8.560669</td>\n",
              "    </tr>\n",
              "    <tr>\n",
              "      <th>std</th>\n",
              "      <td>7700.553552</td>\n",
              "      <td>0.716427</td>\n",
              "      <td>1.566554</td>\n",
              "    </tr>\n",
              "    <tr>\n",
              "      <th>min</th>\n",
              "      <td>0.000000</td>\n",
              "      <td>3.800000</td>\n",
              "      <td>1.000000</td>\n",
              "    </tr>\n",
              "    <tr>\n",
              "      <th>25%</th>\n",
              "      <td>6668.500000</td>\n",
              "      <td>8.100000</td>\n",
              "      <td>7.900000</td>\n",
              "    </tr>\n",
              "    <tr>\n",
              "      <th>50%</th>\n",
              "      <td>13337.000000</td>\n",
              "      <td>8.500000</td>\n",
              "      <td>9.000000</td>\n",
              "    </tr>\n",
              "    <tr>\n",
              "      <th>75%</th>\n",
              "      <td>20005.500000</td>\n",
              "      <td>8.900000</td>\n",
              "      <td>10.000000</td>\n",
              "    </tr>\n",
              "    <tr>\n",
              "      <th>max</th>\n",
              "      <td>26674.000000</td>\n",
              "      <td>10.000000</td>\n",
              "      <td>10.000000</td>\n",
              "    </tr>\n",
              "  </tbody>\n",
              "</table>\n",
              "</div>\n",
              "    <div class=\"colab-df-buttons\">\n",
              "\n",
              "  <div class=\"colab-df-container\">\n",
              "    <button class=\"colab-df-convert\" onclick=\"convertToInteractive('df-ee18827a-30ed-4527-8d4f-599f57a14156')\"\n",
              "            title=\"Convert this dataframe to an interactive table.\"\n",
              "            style=\"display:none;\">\n",
              "\n",
              "  <svg xmlns=\"http://www.w3.org/2000/svg\" height=\"24px\" viewBox=\"0 -960 960 960\">\n",
              "    <path d=\"M120-120v-720h720v720H120Zm60-500h600v-160H180v160Zm220 220h160v-160H400v160Zm0 220h160v-160H400v160ZM180-400h160v-160H180v160Zm440 0h160v-160H620v160ZM180-180h160v-160H180v160Zm440 0h160v-160H620v160Z\"/>\n",
              "  </svg>\n",
              "    </button>\n",
              "\n",
              "  <style>\n",
              "    .colab-df-container {\n",
              "      display:flex;\n",
              "      gap: 12px;\n",
              "    }\n",
              "\n",
              "    .colab-df-convert {\n",
              "      background-color: #E8F0FE;\n",
              "      border: none;\n",
              "      border-radius: 50%;\n",
              "      cursor: pointer;\n",
              "      display: none;\n",
              "      fill: #1967D2;\n",
              "      height: 32px;\n",
              "      padding: 0 0 0 0;\n",
              "      width: 32px;\n",
              "    }\n",
              "\n",
              "    .colab-df-convert:hover {\n",
              "      background-color: #E2EBFA;\n",
              "      box-shadow: 0px 1px 2px rgba(60, 64, 67, 0.3), 0px 1px 3px 1px rgba(60, 64, 67, 0.15);\n",
              "      fill: #174EA6;\n",
              "    }\n",
              "\n",
              "    .colab-df-buttons div {\n",
              "      margin-bottom: 4px;\n",
              "    }\n",
              "\n",
              "    [theme=dark] .colab-df-convert {\n",
              "      background-color: #3B4455;\n",
              "      fill: #D2E3FC;\n",
              "    }\n",
              "\n",
              "    [theme=dark] .colab-df-convert:hover {\n",
              "      background-color: #434B5C;\n",
              "      box-shadow: 0px 1px 3px 1px rgba(0, 0, 0, 0.15);\n",
              "      filter: drop-shadow(0px 1px 2px rgba(0, 0, 0, 0.3));\n",
              "      fill: #FFFFFF;\n",
              "    }\n",
              "  </style>\n",
              "\n",
              "    <script>\n",
              "      const buttonEl =\n",
              "        document.querySelector('#df-ee18827a-30ed-4527-8d4f-599f57a14156 button.colab-df-convert');\n",
              "      buttonEl.style.display =\n",
              "        google.colab.kernel.accessAllowed ? 'block' : 'none';\n",
              "\n",
              "      async function convertToInteractive(key) {\n",
              "        const element = document.querySelector('#df-ee18827a-30ed-4527-8d4f-599f57a14156');\n",
              "        const dataTable =\n",
              "          await google.colab.kernel.invokeFunction('convertToInteractive',\n",
              "                                                    [key], {});\n",
              "        if (!dataTable) return;\n",
              "\n",
              "        const docLinkHtml = 'Like what you see? Visit the ' +\n",
              "          '<a target=\"_blank\" href=https://colab.research.google.com/notebooks/data_table.ipynb>data table notebook</a>'\n",
              "          + ' to learn more about interactive tables.';\n",
              "        element.innerHTML = '';\n",
              "        dataTable['output_type'] = 'display_data';\n",
              "        await google.colab.output.renderOutput(dataTable, element);\n",
              "        const docLink = document.createElement('div');\n",
              "        docLink.innerHTML = docLinkHtml;\n",
              "        element.appendChild(docLink);\n",
              "      }\n",
              "    </script>\n",
              "  </div>\n",
              "\n",
              "\n",
              "    <div id=\"df-e2a886d0-09b2-4020-98b6-9fe131efd6e2\">\n",
              "      <button class=\"colab-df-quickchart\" onclick=\"quickchart('df-e2a886d0-09b2-4020-98b6-9fe131efd6e2')\"\n",
              "                title=\"Suggest charts\"\n",
              "                style=\"display:none;\">\n",
              "\n",
              "<svg xmlns=\"http://www.w3.org/2000/svg\" height=\"24px\"viewBox=\"0 0 24 24\"\n",
              "     width=\"24px\">\n",
              "    <g>\n",
              "        <path d=\"M19 3H5c-1.1 0-2 .9-2 2v14c0 1.1.9 2 2 2h14c1.1 0 2-.9 2-2V5c0-1.1-.9-2-2-2zM9 17H7v-7h2v7zm4 0h-2V7h2v10zm4 0h-2v-4h2v4z\"/>\n",
              "    </g>\n",
              "</svg>\n",
              "      </button>\n",
              "\n",
              "<style>\n",
              "  .colab-df-quickchart {\n",
              "      --bg-color: #E8F0FE;\n",
              "      --fill-color: #1967D2;\n",
              "      --hover-bg-color: #E2EBFA;\n",
              "      --hover-fill-color: #174EA6;\n",
              "      --disabled-fill-color: #AAA;\n",
              "      --disabled-bg-color: #DDD;\n",
              "  }\n",
              "\n",
              "  [theme=dark] .colab-df-quickchart {\n",
              "      --bg-color: #3B4455;\n",
              "      --fill-color: #D2E3FC;\n",
              "      --hover-bg-color: #434B5C;\n",
              "      --hover-fill-color: #FFFFFF;\n",
              "      --disabled-bg-color: #3B4455;\n",
              "      --disabled-fill-color: #666;\n",
              "  }\n",
              "\n",
              "  .colab-df-quickchart {\n",
              "    background-color: var(--bg-color);\n",
              "    border: none;\n",
              "    border-radius: 50%;\n",
              "    cursor: pointer;\n",
              "    display: none;\n",
              "    fill: var(--fill-color);\n",
              "    height: 32px;\n",
              "    padding: 0;\n",
              "    width: 32px;\n",
              "  }\n",
              "\n",
              "  .colab-df-quickchart:hover {\n",
              "    background-color: var(--hover-bg-color);\n",
              "    box-shadow: 0 1px 2px rgba(60, 64, 67, 0.3), 0 1px 3px 1px rgba(60, 64, 67, 0.15);\n",
              "    fill: var(--button-hover-fill-color);\n",
              "  }\n",
              "\n",
              "  .colab-df-quickchart-complete:disabled,\n",
              "  .colab-df-quickchart-complete:disabled:hover {\n",
              "    background-color: var(--disabled-bg-color);\n",
              "    fill: var(--disabled-fill-color);\n",
              "    box-shadow: none;\n",
              "  }\n",
              "\n",
              "  .colab-df-spinner {\n",
              "    border: 2px solid var(--fill-color);\n",
              "    border-color: transparent;\n",
              "    border-bottom-color: var(--fill-color);\n",
              "    animation:\n",
              "      spin 1s steps(1) infinite;\n",
              "  }\n",
              "\n",
              "  @keyframes spin {\n",
              "    0% {\n",
              "      border-color: transparent;\n",
              "      border-bottom-color: var(--fill-color);\n",
              "      border-left-color: var(--fill-color);\n",
              "    }\n",
              "    20% {\n",
              "      border-color: transparent;\n",
              "      border-left-color: var(--fill-color);\n",
              "      border-top-color: var(--fill-color);\n",
              "    }\n",
              "    30% {\n",
              "      border-color: transparent;\n",
              "      border-left-color: var(--fill-color);\n",
              "      border-top-color: var(--fill-color);\n",
              "      border-right-color: var(--fill-color);\n",
              "    }\n",
              "    40% {\n",
              "      border-color: transparent;\n",
              "      border-right-color: var(--fill-color);\n",
              "      border-top-color: var(--fill-color);\n",
              "    }\n",
              "    60% {\n",
              "      border-color: transparent;\n",
              "      border-right-color: var(--fill-color);\n",
              "    }\n",
              "    80% {\n",
              "      border-color: transparent;\n",
              "      border-right-color: var(--fill-color);\n",
              "      border-bottom-color: var(--fill-color);\n",
              "    }\n",
              "    90% {\n",
              "      border-color: transparent;\n",
              "      border-bottom-color: var(--fill-color);\n",
              "    }\n",
              "  }\n",
              "</style>\n",
              "\n",
              "      <script>\n",
              "        async function quickchart(key) {\n",
              "          const quickchartButtonEl =\n",
              "            document.querySelector('#' + key + ' button');\n",
              "          quickchartButtonEl.disabled = true;  // To prevent multiple clicks.\n",
              "          quickchartButtonEl.classList.add('colab-df-spinner');\n",
              "          try {\n",
              "            const charts = await google.colab.kernel.invokeFunction(\n",
              "                'suggestCharts', [key], {});\n",
              "          } catch (error) {\n",
              "            console.error('Error during call to suggestCharts:', error);\n",
              "          }\n",
              "          quickchartButtonEl.classList.remove('colab-df-spinner');\n",
              "          quickchartButtonEl.classList.add('colab-df-quickchart-complete');\n",
              "        }\n",
              "        (() => {\n",
              "          let quickchartButtonEl =\n",
              "            document.querySelector('#df-e2a886d0-09b2-4020-98b6-9fe131efd6e2 button');\n",
              "          quickchartButtonEl.style.display =\n",
              "            google.colab.kernel.accessAllowed ? 'block' : 'none';\n",
              "        })();\n",
              "      </script>\n",
              "    </div>\n",
              "\n",
              "    </div>\n",
              "  </div>\n"
            ],
            "application/vnd.google.colaboratory.intrinsic+json": {
              "type": "dataframe",
              "summary": "{\n  \"name\": \"df\",\n  \"rows\": 8,\n  \"fields\": [\n    {\n      \"column\": \"index\",\n      \"properties\": {\n        \"dtype\": \"number\",\n        \"std\": 9613.5800836857,\n        \"min\": 0.0,\n        \"max\": 26675.0,\n        \"num_unique_values\": 7,\n        \"samples\": [\n          26675.0,\n          13337.0,\n          20005.5\n        ],\n        \"semantic_type\": \"\",\n        \"description\": \"\"\n      }\n    },\n    {\n      \"column\": \"avg_rating\",\n      \"properties\": {\n        \"dtype\": \"number\",\n        \"std\": 9326.412397939608,\n        \"min\": 0.7164265501238433,\n        \"max\": 26386.0,\n        \"num_unique_values\": 8,\n        \"samples\": [\n          8.449242022284546,\n          8.5,\n          26386.0\n        ],\n        \"semantic_type\": \"\",\n        \"description\": \"\"\n      }\n    },\n    {\n      \"column\": \"rating\",\n      \"properties\": {\n        \"dtype\": \"number\",\n        \"std\": 9326.434717298118,\n        \"min\": 1.0,\n        \"max\": 26386.0,\n        \"num_unique_values\": 7,\n        \"samples\": [\n          26386.0,\n          8.56066853634503,\n          9.0\n        ],\n        \"semantic_type\": \"\",\n        \"description\": \"\"\n      }\n    }\n  ]\n}"
            }
          },
          "metadata": {},
          "execution_count": 9
        }
      ]
    },
    {
      "cell_type": "code",
      "source": [
        "df.head(-5)"
      ],
      "metadata": {
        "colab": {
          "base_uri": "https://localhost:8080/",
          "height": 964
        },
        "id": "vPV8SGoSoZMV",
        "outputId": "d8f270fa-a87b-4fe0-8eda-87f998d434e2"
      },
      "id": "vPV8SGoSoZMV",
      "execution_count": 10,
      "outputs": [
        {
          "output_type": "execute_result",
          "data": {
            "text/plain": [
              "       index                                       review_title  \\\n",
              "0          0                                        Exceptional   \n",
              "1          1  I highly recommend this b&b! We enjoyed it a lot!   \n",
              "2          2                                        Exceptional   \n",
              "3          3  My stay in the house was a experiencing bliss ...   \n",
              "4          4  One bedroom apartment with wonderful view and ...   \n",
              "...      ...                                                ...   \n",
              "26665  26665                                             Superb   \n",
              "26666  26666                                           Fabulous   \n",
              "26667  26667                                        Exceptional   \n",
              "26668  26668                                             Superb   \n",
              "26669  26669        Almost perfect hotel - criticisms are minor   \n",
              "\n",
              "             reviewed_at reviewed_by  \\\n",
              "0           11 July 2021      Kyrylo   \n",
              "1       24 November 2019     Dimitri   \n",
              "2         3 January 2020    Virginia   \n",
              "3       8 September 2019      Kannan   \n",
              "4           23 June 2019         Sue   \n",
              "...                  ...         ...   \n",
              "26665  14 September 2018         Ann   \n",
              "26666     1 October 2018       Hamed   \n",
              "26667      17 March 2020        Olya   \n",
              "26668     8 October 2019      Subodh   \n",
              "26669    18 October 2018   Anonymous   \n",
              "\n",
              "                                                  images  \\\n",
              "0                                                    NaN   \n",
              "1                                                    NaN   \n",
              "2                                                    NaN   \n",
              "3                                                    NaN   \n",
              "4      https://cf.bstatic.com/xdata/images/xphoto/squ...   \n",
              "...                                                  ...   \n",
              "26665                                                NaN   \n",
              "26666                                                NaN   \n",
              "26667                                                NaN   \n",
              "26668                                                NaN   \n",
              "26669                                                NaN   \n",
              "\n",
              "                 crawled_at  \\\n",
              "0      07/20/2021, 01:09:27   \n",
              "1      07/20/2021, 01:09:27   \n",
              "2      07/20/2021, 01:09:27   \n",
              "3      07/20/2021, 01:09:28   \n",
              "4      07/20/2021, 01:09:28   \n",
              "...                     ...   \n",
              "26665  07/20/2021, 02:15:50   \n",
              "26666  07/20/2021, 02:15:50   \n",
              "26667  07/20/2021, 02:15:50   \n",
              "26668  07/20/2021, 02:15:50   \n",
              "26669  07/20/2021, 02:15:50   \n",
              "\n",
              "                                                     url  \\\n",
              "0      https://www.booking.com/reviews/be/hotel/villa...   \n",
              "1      https://www.booking.com/reviews/be/hotel/villa...   \n",
              "2      https://www.booking.com/reviews/be/hotel/hydro...   \n",
              "3      https://www.booking.com/reviews/be/hotel/villa...   \n",
              "4      https://www.booking.com/reviews/be/hotel/hydro...   \n",
              "...                                                  ...   \n",
              "26665  https://www.booking.com/reviews/be/hotel/oudhu...   \n",
              "26666  https://www.booking.com/reviews/be/hotel/warwi...   \n",
              "26667  https://www.booking.com/reviews/be/hotel/winds...   \n",
              "26668  https://www.booking.com/reviews/be/hotel/best-...   \n",
              "26669  https://www.booking.com/reviews/be/hotel/amigo...   \n",
              "\n",
              "                           hotel_name  \\\n",
              "0                     Villa Pura Vida   \n",
              "1                     Villa Pura Vida   \n",
              "2              Hydro Palace Apartment   \n",
              "3                     Villa Pura Vida   \n",
              "4              Hydro Palace Apartment   \n",
              "...                               ...   \n",
              "26665                 Martin's Relais   \n",
              "26666  Warwick Brussels - Grand Place   \n",
              "26667                  Logies Windsor   \n",
              "26668                  Hotel Ter Elst   \n",
              "26669         Rocco Forte Hotel Amigo   \n",
              "\n",
              "                                               hotel_url  avg_rating  \\\n",
              "0      https://www.booking.com/hotel/be/villa-pura-vi...         9.7   \n",
              "1      https://www.booking.com/hotel/be/villa-pura-vi...         9.7   \n",
              "2      https://www.booking.com/hotel/be/hydro-palace....         9.2   \n",
              "3      https://www.booking.com/hotel/be/villa-pura-vi...         9.7   \n",
              "4      https://www.booking.com/hotel/be/hydro-palace....         9.2   \n",
              "...                                                  ...         ...   \n",
              "26665  https://www.booking.com/hotel/be/oudhuisamster...         8.6   \n",
              "26666  https://www.booking.com/hotel/be/warwick-bruss...         8.2   \n",
              "26667  https://www.booking.com/hotel/be/windsor-castl...         8.5   \n",
              "26668  https://www.booking.com/hotel/be/best-western-...         8.3   \n",
              "26669  https://www.booking.com/hotel/be/amigo.en-gb.h...         9.1   \n",
              "\n",
              "          nationality  rating  \\\n",
              "0              Poland    10.0   \n",
              "1             Belgium     9.0   \n",
              "2      United Kingdom    10.0   \n",
              "3         Netherlands    10.0   \n",
              "4        South Africa     9.2   \n",
              "...               ...     ...   \n",
              "26665  United Kingdom     9.2   \n",
              "26666            Iran     8.8   \n",
              "26667         Belgium    10.0   \n",
              "26668         Germany     9.0   \n",
              "26669           Italy     9.6   \n",
              "\n",
              "                                             review_text  \\\n",
              "0      Everything was perfect! Quite, cozy place to r...   \n",
              "1              Very friendly host and perfect breakfast!   \n",
              "2      It was just what we wanted for a week by the b...   \n",
              "3      My stay in the house was a experiencing bliss ...   \n",
              "4      The building itself has a very musty smell in ...   \n",
              "...                                                  ...   \n",
              "26665  The expensive price of breakfast.,\\n\\nFabulous...   \n",
              "26666                Best location,\\n\\nExcelent location   \n",
              "26667  Everything was great. thank you!,\\n\\nThe guest...   \n",
              "26668    There are no comments available for this review   \n",
              "26669  The bed duvet was too hot and heavy; they coul...   \n",
              "\n",
              "                                         raw_review_text  \\\n",
              "0      <p class=\"review_pos \"><svg aria-label=\"Positi...   \n",
              "1      <p class=\"review_pos \"><svg aria-label=\"Positi...   \n",
              "2      <p class=\"review_neg \"><svg aria-label=\"Negati...   \n",
              "3      <p class=\"review_pos \"><svg aria-label=\"Positi...   \n",
              "4      <p class=\"review_neg \"><svg aria-label=\"Negati...   \n",
              "...                                                  ...   \n",
              "26665  <p class=\"review_neg \"><svg aria-label=\"Negati...   \n",
              "26666  <p class=\"review_neg \"><svg aria-label=\"Negati...   \n",
              "26667  <p class=\"review_neg \"><svg aria-label=\"Negati...   \n",
              "26668  <p class=\"review_none\"><em>There are no commen...   \n",
              "26669  <p class=\"review_neg \"><svg aria-label=\"Negati...   \n",
              "\n",
              "                                                    tags  \\\n",
              "0      Business trip~Solo traveller~Junior Suite~Stay...   \n",
              "1      Leisure trip~Couple~Deluxe Suite~Stayed 1 nigh...   \n",
              "2      Leisure trip~Couple~Apartment with Sea View~St...   \n",
              "3      Business trip~Solo traveller~Junior Suite~Stay...   \n",
              "4      Leisure trip~People with friends~Apartment wit...   \n",
              "...                                                  ...   \n",
              "26665  Leisure trip~Couple~Comfort Double Room with C...   \n",
              "26666  Leisure trip~Couple~Classic Queen Room~Stayed ...   \n",
              "26667  Leisure trip~Solo traveller~Double Room~Stayed...   \n",
              "26668  Business trip~Solo traveller~Standard Double R...   \n",
              "26669  Leisure trip~Couple~Deluxe Double Room~Stayed ...   \n",
              "\n",
              "                                                    meta  \n",
              "0      {'language': 'en-gb', 'source': 'https://www.b...  \n",
              "1      {'language': 'en-gb', 'source': 'https://www.b...  \n",
              "2      {'language': 'en-gb', 'source': 'https://www.b...  \n",
              "3      {'language': 'en-gb', 'source': 'https://www.b...  \n",
              "4      {'language': 'en-gb', 'source': 'https://www.b...  \n",
              "...                                                  ...  \n",
              "26665  {'language': 'en-gb', 'source': 'https://www.b...  \n",
              "26666  {'language': 'en-gb', 'source': 'https://www.b...  \n",
              "26667  {'language': 'en-gb', 'source': 'https://www.b...  \n",
              "26668  {'language': 'en-gb', 'source': 'https://www.b...  \n",
              "26669  {'language': 'en-gb', 'source': 'https://www.b...  \n",
              "\n",
              "[26670 rows x 16 columns]"
            ],
            "text/html": [
              "\n",
              "  <div id=\"df-ea3ac674-d45c-4ad7-8835-2b56c0b867b6\" class=\"colab-df-container\">\n",
              "    <div>\n",
              "<style scoped>\n",
              "    .dataframe tbody tr th:only-of-type {\n",
              "        vertical-align: middle;\n",
              "    }\n",
              "\n",
              "    .dataframe tbody tr th {\n",
              "        vertical-align: top;\n",
              "    }\n",
              "\n",
              "    .dataframe thead th {\n",
              "        text-align: right;\n",
              "    }\n",
              "</style>\n",
              "<table border=\"1\" class=\"dataframe\">\n",
              "  <thead>\n",
              "    <tr style=\"text-align: right;\">\n",
              "      <th></th>\n",
              "      <th>index</th>\n",
              "      <th>review_title</th>\n",
              "      <th>reviewed_at</th>\n",
              "      <th>reviewed_by</th>\n",
              "      <th>images</th>\n",
              "      <th>crawled_at</th>\n",
              "      <th>url</th>\n",
              "      <th>hotel_name</th>\n",
              "      <th>hotel_url</th>\n",
              "      <th>avg_rating</th>\n",
              "      <th>nationality</th>\n",
              "      <th>rating</th>\n",
              "      <th>review_text</th>\n",
              "      <th>raw_review_text</th>\n",
              "      <th>tags</th>\n",
              "      <th>meta</th>\n",
              "    </tr>\n",
              "  </thead>\n",
              "  <tbody>\n",
              "    <tr>\n",
              "      <th>0</th>\n",
              "      <td>0</td>\n",
              "      <td>Exceptional</td>\n",
              "      <td>11 July 2021</td>\n",
              "      <td>Kyrylo</td>\n",
              "      <td>NaN</td>\n",
              "      <td>07/20/2021, 01:09:27</td>\n",
              "      <td>https://www.booking.com/reviews/be/hotel/villa...</td>\n",
              "      <td>Villa Pura Vida</td>\n",
              "      <td>https://www.booking.com/hotel/be/villa-pura-vi...</td>\n",
              "      <td>9.7</td>\n",
              "      <td>Poland</td>\n",
              "      <td>10.0</td>\n",
              "      <td>Everything was perfect! Quite, cozy place to r...</td>\n",
              "      <td>&lt;p class=\"review_pos \"&gt;&lt;svg aria-label=\"Positi...</td>\n",
              "      <td>Business trip~Solo traveller~Junior Suite~Stay...</td>\n",
              "      <td>{'language': 'en-gb', 'source': 'https://www.b...</td>\n",
              "    </tr>\n",
              "    <tr>\n",
              "      <th>1</th>\n",
              "      <td>1</td>\n",
              "      <td>I highly recommend this b&amp;b! We enjoyed it a lot!</td>\n",
              "      <td>24 November 2019</td>\n",
              "      <td>Dimitri</td>\n",
              "      <td>NaN</td>\n",
              "      <td>07/20/2021, 01:09:27</td>\n",
              "      <td>https://www.booking.com/reviews/be/hotel/villa...</td>\n",
              "      <td>Villa Pura Vida</td>\n",
              "      <td>https://www.booking.com/hotel/be/villa-pura-vi...</td>\n",
              "      <td>9.7</td>\n",
              "      <td>Belgium</td>\n",
              "      <td>9.0</td>\n",
              "      <td>Very friendly host and perfect breakfast!</td>\n",
              "      <td>&lt;p class=\"review_pos \"&gt;&lt;svg aria-label=\"Positi...</td>\n",
              "      <td>Leisure trip~Couple~Deluxe Suite~Stayed 1 nigh...</td>\n",
              "      <td>{'language': 'en-gb', 'source': 'https://www.b...</td>\n",
              "    </tr>\n",
              "    <tr>\n",
              "      <th>2</th>\n",
              "      <td>2</td>\n",
              "      <td>Exceptional</td>\n",
              "      <td>3 January 2020</td>\n",
              "      <td>Virginia</td>\n",
              "      <td>NaN</td>\n",
              "      <td>07/20/2021, 01:09:27</td>\n",
              "      <td>https://www.booking.com/reviews/be/hotel/hydro...</td>\n",
              "      <td>Hydro Palace Apartment</td>\n",
              "      <td>https://www.booking.com/hotel/be/hydro-palace....</td>\n",
              "      <td>9.2</td>\n",
              "      <td>United Kingdom</td>\n",
              "      <td>10.0</td>\n",
              "      <td>It was just what we wanted for a week by the b...</td>\n",
              "      <td>&lt;p class=\"review_neg \"&gt;&lt;svg aria-label=\"Negati...</td>\n",
              "      <td>Leisure trip~Couple~Apartment with Sea View~St...</td>\n",
              "      <td>{'language': 'en-gb', 'source': 'https://www.b...</td>\n",
              "    </tr>\n",
              "    <tr>\n",
              "      <th>3</th>\n",
              "      <td>3</td>\n",
              "      <td>My stay in the house was a experiencing bliss ...</td>\n",
              "      <td>8 September 2019</td>\n",
              "      <td>Kannan</td>\n",
              "      <td>NaN</td>\n",
              "      <td>07/20/2021, 01:09:28</td>\n",
              "      <td>https://www.booking.com/reviews/be/hotel/villa...</td>\n",
              "      <td>Villa Pura Vida</td>\n",
              "      <td>https://www.booking.com/hotel/be/villa-pura-vi...</td>\n",
              "      <td>9.7</td>\n",
              "      <td>Netherlands</td>\n",
              "      <td>10.0</td>\n",
              "      <td>My stay in the house was a experiencing bliss ...</td>\n",
              "      <td>&lt;p class=\"review_pos \"&gt;&lt;svg aria-label=\"Positi...</td>\n",
              "      <td>Business trip~Solo traveller~Junior Suite~Stay...</td>\n",
              "      <td>{'language': 'en-gb', 'source': 'https://www.b...</td>\n",
              "    </tr>\n",
              "    <tr>\n",
              "      <th>4</th>\n",
              "      <td>4</td>\n",
              "      <td>One bedroom apartment with wonderful view and ...</td>\n",
              "      <td>23 June 2019</td>\n",
              "      <td>Sue</td>\n",
              "      <td>https://cf.bstatic.com/xdata/images/xphoto/squ...</td>\n",
              "      <td>07/20/2021, 01:09:28</td>\n",
              "      <td>https://www.booking.com/reviews/be/hotel/hydro...</td>\n",
              "      <td>Hydro Palace Apartment</td>\n",
              "      <td>https://www.booking.com/hotel/be/hydro-palace....</td>\n",
              "      <td>9.2</td>\n",
              "      <td>South Africa</td>\n",
              "      <td>9.2</td>\n",
              "      <td>The building itself has a very musty smell in ...</td>\n",
              "      <td>&lt;p class=\"review_neg \"&gt;&lt;svg aria-label=\"Negati...</td>\n",
              "      <td>Leisure trip~People with friends~Apartment wit...</td>\n",
              "      <td>{'language': 'en-gb', 'source': 'https://www.b...</td>\n",
              "    </tr>\n",
              "    <tr>\n",
              "      <th>...</th>\n",
              "      <td>...</td>\n",
              "      <td>...</td>\n",
              "      <td>...</td>\n",
              "      <td>...</td>\n",
              "      <td>...</td>\n",
              "      <td>...</td>\n",
              "      <td>...</td>\n",
              "      <td>...</td>\n",
              "      <td>...</td>\n",
              "      <td>...</td>\n",
              "      <td>...</td>\n",
              "      <td>...</td>\n",
              "      <td>...</td>\n",
              "      <td>...</td>\n",
              "      <td>...</td>\n",
              "      <td>...</td>\n",
              "    </tr>\n",
              "    <tr>\n",
              "      <th>26665</th>\n",
              "      <td>26665</td>\n",
              "      <td>Superb</td>\n",
              "      <td>14 September 2018</td>\n",
              "      <td>Ann</td>\n",
              "      <td>NaN</td>\n",
              "      <td>07/20/2021, 02:15:50</td>\n",
              "      <td>https://www.booking.com/reviews/be/hotel/oudhu...</td>\n",
              "      <td>Martin's Relais</td>\n",
              "      <td>https://www.booking.com/hotel/be/oudhuisamster...</td>\n",
              "      <td>8.6</td>\n",
              "      <td>United Kingdom</td>\n",
              "      <td>9.2</td>\n",
              "      <td>The expensive price of breakfast.,\\n\\nFabulous...</td>\n",
              "      <td>&lt;p class=\"review_neg \"&gt;&lt;svg aria-label=\"Negati...</td>\n",
              "      <td>Leisure trip~Couple~Comfort Double Room with C...</td>\n",
              "      <td>{'language': 'en-gb', 'source': 'https://www.b...</td>\n",
              "    </tr>\n",
              "    <tr>\n",
              "      <th>26666</th>\n",
              "      <td>26666</td>\n",
              "      <td>Fabulous</td>\n",
              "      <td>1 October 2018</td>\n",
              "      <td>Hamed</td>\n",
              "      <td>NaN</td>\n",
              "      <td>07/20/2021, 02:15:50</td>\n",
              "      <td>https://www.booking.com/reviews/be/hotel/warwi...</td>\n",
              "      <td>Warwick Brussels - Grand Place</td>\n",
              "      <td>https://www.booking.com/hotel/be/warwick-bruss...</td>\n",
              "      <td>8.2</td>\n",
              "      <td>Iran</td>\n",
              "      <td>8.8</td>\n",
              "      <td>Best location,\\n\\nExcelent location</td>\n",
              "      <td>&lt;p class=\"review_neg \"&gt;&lt;svg aria-label=\"Negati...</td>\n",
              "      <td>Leisure trip~Couple~Classic Queen Room~Stayed ...</td>\n",
              "      <td>{'language': 'en-gb', 'source': 'https://www.b...</td>\n",
              "    </tr>\n",
              "    <tr>\n",
              "      <th>26667</th>\n",
              "      <td>26667</td>\n",
              "      <td>Exceptional</td>\n",
              "      <td>17 March 2020</td>\n",
              "      <td>Olya</td>\n",
              "      <td>NaN</td>\n",
              "      <td>07/20/2021, 02:15:50</td>\n",
              "      <td>https://www.booking.com/reviews/be/hotel/winds...</td>\n",
              "      <td>Logies Windsor</td>\n",
              "      <td>https://www.booking.com/hotel/be/windsor-castl...</td>\n",
              "      <td>8.5</td>\n",
              "      <td>Belgium</td>\n",
              "      <td>10.0</td>\n",
              "      <td>Everything was great. thank you!,\\n\\nThe guest...</td>\n",
              "      <td>&lt;p class=\"review_neg \"&gt;&lt;svg aria-label=\"Negati...</td>\n",
              "      <td>Leisure trip~Solo traveller~Double Room~Stayed...</td>\n",
              "      <td>{'language': 'en-gb', 'source': 'https://www.b...</td>\n",
              "    </tr>\n",
              "    <tr>\n",
              "      <th>26668</th>\n",
              "      <td>26668</td>\n",
              "      <td>Superb</td>\n",
              "      <td>8 October 2019</td>\n",
              "      <td>Subodh</td>\n",
              "      <td>NaN</td>\n",
              "      <td>07/20/2021, 02:15:50</td>\n",
              "      <td>https://www.booking.com/reviews/be/hotel/best-...</td>\n",
              "      <td>Hotel Ter Elst</td>\n",
              "      <td>https://www.booking.com/hotel/be/best-western-...</td>\n",
              "      <td>8.3</td>\n",
              "      <td>Germany</td>\n",
              "      <td>9.0</td>\n",
              "      <td>There are no comments available for this review</td>\n",
              "      <td>&lt;p class=\"review_none\"&gt;&lt;em&gt;There are no commen...</td>\n",
              "      <td>Business trip~Solo traveller~Standard Double R...</td>\n",
              "      <td>{'language': 'en-gb', 'source': 'https://www.b...</td>\n",
              "    </tr>\n",
              "    <tr>\n",
              "      <th>26669</th>\n",
              "      <td>26669</td>\n",
              "      <td>Almost perfect hotel - criticisms are minor</td>\n",
              "      <td>18 October 2018</td>\n",
              "      <td>Anonymous</td>\n",
              "      <td>NaN</td>\n",
              "      <td>07/20/2021, 02:15:50</td>\n",
              "      <td>https://www.booking.com/reviews/be/hotel/amigo...</td>\n",
              "      <td>Rocco Forte Hotel Amigo</td>\n",
              "      <td>https://www.booking.com/hotel/be/amigo.en-gb.h...</td>\n",
              "      <td>9.1</td>\n",
              "      <td>Italy</td>\n",
              "      <td>9.6</td>\n",
              "      <td>The bed duvet was too hot and heavy; they coul...</td>\n",
              "      <td>&lt;p class=\"review_neg \"&gt;&lt;svg aria-label=\"Negati...</td>\n",
              "      <td>Leisure trip~Couple~Deluxe Double Room~Stayed ...</td>\n",
              "      <td>{'language': 'en-gb', 'source': 'https://www.b...</td>\n",
              "    </tr>\n",
              "  </tbody>\n",
              "</table>\n",
              "<p>26670 rows × 16 columns</p>\n",
              "</div>\n",
              "    <div class=\"colab-df-buttons\">\n",
              "\n",
              "  <div class=\"colab-df-container\">\n",
              "    <button class=\"colab-df-convert\" onclick=\"convertToInteractive('df-ea3ac674-d45c-4ad7-8835-2b56c0b867b6')\"\n",
              "            title=\"Convert this dataframe to an interactive table.\"\n",
              "            style=\"display:none;\">\n",
              "\n",
              "  <svg xmlns=\"http://www.w3.org/2000/svg\" height=\"24px\" viewBox=\"0 -960 960 960\">\n",
              "    <path d=\"M120-120v-720h720v720H120Zm60-500h600v-160H180v160Zm220 220h160v-160H400v160Zm0 220h160v-160H400v160ZM180-400h160v-160H180v160Zm440 0h160v-160H620v160ZM180-180h160v-160H180v160Zm440 0h160v-160H620v160Z\"/>\n",
              "  </svg>\n",
              "    </button>\n",
              "\n",
              "  <style>\n",
              "    .colab-df-container {\n",
              "      display:flex;\n",
              "      gap: 12px;\n",
              "    }\n",
              "\n",
              "    .colab-df-convert {\n",
              "      background-color: #E8F0FE;\n",
              "      border: none;\n",
              "      border-radius: 50%;\n",
              "      cursor: pointer;\n",
              "      display: none;\n",
              "      fill: #1967D2;\n",
              "      height: 32px;\n",
              "      padding: 0 0 0 0;\n",
              "      width: 32px;\n",
              "    }\n",
              "\n",
              "    .colab-df-convert:hover {\n",
              "      background-color: #E2EBFA;\n",
              "      box-shadow: 0px 1px 2px rgba(60, 64, 67, 0.3), 0px 1px 3px 1px rgba(60, 64, 67, 0.15);\n",
              "      fill: #174EA6;\n",
              "    }\n",
              "\n",
              "    .colab-df-buttons div {\n",
              "      margin-bottom: 4px;\n",
              "    }\n",
              "\n",
              "    [theme=dark] .colab-df-convert {\n",
              "      background-color: #3B4455;\n",
              "      fill: #D2E3FC;\n",
              "    }\n",
              "\n",
              "    [theme=dark] .colab-df-convert:hover {\n",
              "      background-color: #434B5C;\n",
              "      box-shadow: 0px 1px 3px 1px rgba(0, 0, 0, 0.15);\n",
              "      filter: drop-shadow(0px 1px 2px rgba(0, 0, 0, 0.3));\n",
              "      fill: #FFFFFF;\n",
              "    }\n",
              "  </style>\n",
              "\n",
              "    <script>\n",
              "      const buttonEl =\n",
              "        document.querySelector('#df-ea3ac674-d45c-4ad7-8835-2b56c0b867b6 button.colab-df-convert');\n",
              "      buttonEl.style.display =\n",
              "        google.colab.kernel.accessAllowed ? 'block' : 'none';\n",
              "\n",
              "      async function convertToInteractive(key) {\n",
              "        const element = document.querySelector('#df-ea3ac674-d45c-4ad7-8835-2b56c0b867b6');\n",
              "        const dataTable =\n",
              "          await google.colab.kernel.invokeFunction('convertToInteractive',\n",
              "                                                    [key], {});\n",
              "        if (!dataTable) return;\n",
              "\n",
              "        const docLinkHtml = 'Like what you see? Visit the ' +\n",
              "          '<a target=\"_blank\" href=https://colab.research.google.com/notebooks/data_table.ipynb>data table notebook</a>'\n",
              "          + ' to learn more about interactive tables.';\n",
              "        element.innerHTML = '';\n",
              "        dataTable['output_type'] = 'display_data';\n",
              "        await google.colab.output.renderOutput(dataTable, element);\n",
              "        const docLink = document.createElement('div');\n",
              "        docLink.innerHTML = docLinkHtml;\n",
              "        element.appendChild(docLink);\n",
              "      }\n",
              "    </script>\n",
              "  </div>\n",
              "\n",
              "\n",
              "    <div id=\"df-5d96e075-45de-4d1a-8ea6-9e95d311a38b\">\n",
              "      <button class=\"colab-df-quickchart\" onclick=\"quickchart('df-5d96e075-45de-4d1a-8ea6-9e95d311a38b')\"\n",
              "                title=\"Suggest charts\"\n",
              "                style=\"display:none;\">\n",
              "\n",
              "<svg xmlns=\"http://www.w3.org/2000/svg\" height=\"24px\"viewBox=\"0 0 24 24\"\n",
              "     width=\"24px\">\n",
              "    <g>\n",
              "        <path d=\"M19 3H5c-1.1 0-2 .9-2 2v14c0 1.1.9 2 2 2h14c1.1 0 2-.9 2-2V5c0-1.1-.9-2-2-2zM9 17H7v-7h2v7zm4 0h-2V7h2v10zm4 0h-2v-4h2v4z\"/>\n",
              "    </g>\n",
              "</svg>\n",
              "      </button>\n",
              "\n",
              "<style>\n",
              "  .colab-df-quickchart {\n",
              "      --bg-color: #E8F0FE;\n",
              "      --fill-color: #1967D2;\n",
              "      --hover-bg-color: #E2EBFA;\n",
              "      --hover-fill-color: #174EA6;\n",
              "      --disabled-fill-color: #AAA;\n",
              "      --disabled-bg-color: #DDD;\n",
              "  }\n",
              "\n",
              "  [theme=dark] .colab-df-quickchart {\n",
              "      --bg-color: #3B4455;\n",
              "      --fill-color: #D2E3FC;\n",
              "      --hover-bg-color: #434B5C;\n",
              "      --hover-fill-color: #FFFFFF;\n",
              "      --disabled-bg-color: #3B4455;\n",
              "      --disabled-fill-color: #666;\n",
              "  }\n",
              "\n",
              "  .colab-df-quickchart {\n",
              "    background-color: var(--bg-color);\n",
              "    border: none;\n",
              "    border-radius: 50%;\n",
              "    cursor: pointer;\n",
              "    display: none;\n",
              "    fill: var(--fill-color);\n",
              "    height: 32px;\n",
              "    padding: 0;\n",
              "    width: 32px;\n",
              "  }\n",
              "\n",
              "  .colab-df-quickchart:hover {\n",
              "    background-color: var(--hover-bg-color);\n",
              "    box-shadow: 0 1px 2px rgba(60, 64, 67, 0.3), 0 1px 3px 1px rgba(60, 64, 67, 0.15);\n",
              "    fill: var(--button-hover-fill-color);\n",
              "  }\n",
              "\n",
              "  .colab-df-quickchart-complete:disabled,\n",
              "  .colab-df-quickchart-complete:disabled:hover {\n",
              "    background-color: var(--disabled-bg-color);\n",
              "    fill: var(--disabled-fill-color);\n",
              "    box-shadow: none;\n",
              "  }\n",
              "\n",
              "  .colab-df-spinner {\n",
              "    border: 2px solid var(--fill-color);\n",
              "    border-color: transparent;\n",
              "    border-bottom-color: var(--fill-color);\n",
              "    animation:\n",
              "      spin 1s steps(1) infinite;\n",
              "  }\n",
              "\n",
              "  @keyframes spin {\n",
              "    0% {\n",
              "      border-color: transparent;\n",
              "      border-bottom-color: var(--fill-color);\n",
              "      border-left-color: var(--fill-color);\n",
              "    }\n",
              "    20% {\n",
              "      border-color: transparent;\n",
              "      border-left-color: var(--fill-color);\n",
              "      border-top-color: var(--fill-color);\n",
              "    }\n",
              "    30% {\n",
              "      border-color: transparent;\n",
              "      border-left-color: var(--fill-color);\n",
              "      border-top-color: var(--fill-color);\n",
              "      border-right-color: var(--fill-color);\n",
              "    }\n",
              "    40% {\n",
              "      border-color: transparent;\n",
              "      border-right-color: var(--fill-color);\n",
              "      border-top-color: var(--fill-color);\n",
              "    }\n",
              "    60% {\n",
              "      border-color: transparent;\n",
              "      border-right-color: var(--fill-color);\n",
              "    }\n",
              "    80% {\n",
              "      border-color: transparent;\n",
              "      border-right-color: var(--fill-color);\n",
              "      border-bottom-color: var(--fill-color);\n",
              "    }\n",
              "    90% {\n",
              "      border-color: transparent;\n",
              "      border-bottom-color: var(--fill-color);\n",
              "    }\n",
              "  }\n",
              "</style>\n",
              "\n",
              "      <script>\n",
              "        async function quickchart(key) {\n",
              "          const quickchartButtonEl =\n",
              "            document.querySelector('#' + key + ' button');\n",
              "          quickchartButtonEl.disabled = true;  // To prevent multiple clicks.\n",
              "          quickchartButtonEl.classList.add('colab-df-spinner');\n",
              "          try {\n",
              "            const charts = await google.colab.kernel.invokeFunction(\n",
              "                'suggestCharts', [key], {});\n",
              "          } catch (error) {\n",
              "            console.error('Error during call to suggestCharts:', error);\n",
              "          }\n",
              "          quickchartButtonEl.classList.remove('colab-df-spinner');\n",
              "          quickchartButtonEl.classList.add('colab-df-quickchart-complete');\n",
              "        }\n",
              "        (() => {\n",
              "          let quickchartButtonEl =\n",
              "            document.querySelector('#df-5d96e075-45de-4d1a-8ea6-9e95d311a38b button');\n",
              "          quickchartButtonEl.style.display =\n",
              "            google.colab.kernel.accessAllowed ? 'block' : 'none';\n",
              "        })();\n",
              "      </script>\n",
              "    </div>\n",
              "\n",
              "    </div>\n",
              "  </div>\n"
            ],
            "application/vnd.google.colaboratory.intrinsic+json": {
              "type": "dataframe",
              "variable_name": "df",
              "summary": "{\n  \"name\": \"df\",\n  \"rows\": 26675,\n  \"fields\": [\n    {\n      \"column\": \"index\",\n      \"properties\": {\n        \"dtype\": \"number\",\n        \"std\": 7700,\n        \"min\": 0,\n        \"max\": 26674,\n        \"num_unique_values\": 26675,\n        \"samples\": [\n          2501,\n          18439,\n          5357\n        ],\n        \"semantic_type\": \"\",\n        \"description\": \"\"\n      }\n    },\n    {\n      \"column\": \"review_title\",\n      \"properties\": {\n        \"dtype\": \"category\",\n        \"num_unique_values\": 8960,\n        \"samples\": [\n          \"Good hotel great location.\",\n          \"Just wanted we wanted for a one night stop on the way to France\",\n          \"Great hotel in excellent location\"\n        ],\n        \"semantic_type\": \"\",\n        \"description\": \"\"\n      }\n    },\n    {\n      \"column\": \"reviewed_at\",\n      \"properties\": {\n        \"dtype\": \"category\",\n        \"num_unique_values\": 1240,\n        \"samples\": [\n          \"18 November 2019\",\n          \"12 September 2019\",\n          \"24 February 2019\"\n        ],\n        \"semantic_type\": \"\",\n        \"description\": \"\"\n      }\n    },\n    {\n      \"column\": \"reviewed_by\",\n      \"properties\": {\n        \"dtype\": \"category\",\n        \"num_unique_values\": 8566,\n        \"samples\": [\n          \"Caique\",\n          \"C\\u0103t\\u0103lina\",\n          \"Ly\"\n        ],\n        \"semantic_type\": \"\",\n        \"description\": \"\"\n      }\n    },\n    {\n      \"column\": \"images\",\n      \"properties\": {\n        \"dtype\": \"category\",\n        \"num_unique_values\": 755,\n        \"samples\": [\n          \"https://cf.bstatic.com/xdata/images/xphoto/square60_ao/84037692.jpg?k=4b76c4c778e09dba380afe6c523540da58736372fa7bbc06008b08cb3235abe0&o=\",\n          \"https://cf.bstatic.com/xdata/images/xphoto/square60_ao/47061700.jpg?k=f48cbb215dccdd568ae3949c94aaf71ce2373a477465da20b091e7948b64d9ec&o=~https://cf.bstatic.com/xdata/images/xphoto/square60_ao/47061703.jpg?k=71f53255e1f1fa1450bf6b174f1c676e66e225c49d0747220c3ff140be2f3b6a&o=~https://cf.bstatic.com/xdata/images/xphoto/square60_ao/47061745.jpg?k=d5f48838770205cdbddc8e4c926eea8e1f3669cbe738027cacebac433dd07d4c&o=\",\n          \"https://cf.bstatic.com/xdata/images/xphoto/square60_ao/70795776.jpg?k=c96d1901be7f9393d6976768e73bc8e0531bdddec0347cabd54035c53e6042be&o=\"\n        ],\n        \"semantic_type\": \"\",\n        \"description\": \"\"\n      }\n    },\n    {\n      \"column\": \"crawled_at\",\n      \"properties\": {\n        \"dtype\": \"object\",\n        \"num_unique_values\": 3968,\n        \"samples\": [\n          \"07/20/2021, 01:54:37\",\n          \"07/20/2021, 01:43:31\",\n          \"07/20/2021, 01:14:42\"\n        ],\n        \"semantic_type\": \"\",\n        \"description\": \"\"\n      }\n    },\n    {\n      \"column\": \"url\",\n      \"properties\": {\n        \"dtype\": \"category\",\n        \"num_unique_values\": 1412,\n        \"samples\": [\n          \"https://www.booking.com/reviews/be/hotel/jeanne-nieuwpoort.en-gb.html?label=gen173nr-1DCA0oFUIRamVhbm5lLW5pZXV3cG9vcnRIM1gEaGyIAQGYAQm4AQfIAQ3YAQPoAQGIAgGoAgO4Ao-414cGwAIB0gIkOTM0MDkxZmEtYjdmOC00NDIyLTk2NTAtZTI2Njg3MGUxMDBl2AIE4AIB;sid=cb78d8489b9c18246aa9830225a71862;customer_type=total&hp_nav=0&keep_landing=1&order=featuredreviews&page=1&r_lang=en&rows=75&\",\n          \"https://www.booking.com/reviews/be/hotel/tibrusselsboulevard.en-gb.html?label=gen173nr-1DCA0oFUITdGlicnVzc2Vsc2JvdWxldmFyZEgzWARobIgBAZgBCbgBB8gBDdgBA-gBAYgCAagCA7gCvLjXhwbAAgHSAiQ3OGVlOWZhNi00MjNkLTQwNDYtOTUyNi04NDZlZTIxNWU3MjTYAgTgAgE;sid=cb78d8489b9c18246aa9830225a71862;customer_type=total;hp_nav=0;old_page=0;order=featuredreviews;page=7;r_lang=en;rows=75&\",\n          \"https://www.booking.com/reviews/be/hotel/housing.en-gb.html?label=gen173nr-1DCA0oFUIHaG91c2luZ0gzWARobIgBAZgBCbgBB8gBDdgBA-gBAYgCAagCA7gCjrDXhwbAAgHSAiRhZjA4NzM0Mi05YTdlLTRlODktYWJiYi00ZGMwZmY5MTcyZDDYAgTgAgE;sid=cb78d8489b9c18246aa9830225a71862;customer_type=total&hp_nav=0&keep_landing=1&order=featuredreviews&page=1&r_lang=en&rows=75&\"\n        ],\n        \"semantic_type\": \"\",\n        \"description\": \"\"\n      }\n    },\n    {\n      \"column\": \"hotel_name\",\n      \"properties\": {\n        \"dtype\": \"category\",\n        \"num_unique_values\": 819,\n        \"samples\": [\n          \"Apartment Aurora\",\n          \"Au Marronnier\",\n          \"Spacious Guest Suites near Historic Market - 5 Min Walk\"\n        ],\n        \"semantic_type\": \"\",\n        \"description\": \"\"\n      }\n    },\n    {\n      \"column\": \"hotel_url\",\n      \"properties\": {\n        \"dtype\": \"category\",\n        \"num_unique_values\": 822,\n        \"samples\": [\n          \"https://www.booking.com/hotel/be/auberge-de-la-lesse-celles.en-gb.html?label=gen173nr-1DCA0oFUIaYXViZXJnZS1kZS1sYS1sZXNzZS1jZWxsZXNIM1gEaGyIAQGYAQm4AQfIAQ3YAQPoAQGIAgGoAgO4At2-14cGwAIB0gIkMTc0ZDgwNTUtYmI0NS00Yjg5LWI4YjgtN2I3MTc2NTMzMDlm2AIE4AIB;sid=cb78d8489b9c18246aa9830225a71862\",\n          \"https://www.booking.com/hotel/be/le-cerf-volant.en-gb.html?label=gen173nr-1DCA0oFUIObGUtY2VyZi12b2xhbnRIM1gEaGyIAQGYAQm4AQfIAQ3YAQPoAQGIAgGoAgO4AvGu14cGwAIB0gIkMDVkYjI3ODktZTE4Ni00ZTlmLWE0MGYtZTY4NjkxMGM5ZGRj2AIE4AIB;sid=cb78d8489b9c18246aa9830225a71862\",\n          \"https://www.booking.com/hotel/be/wilgenhof-maaseik.en-gb.html?label=gen173nr-1DCA0oFUIRd2lsZ2VuaG9mLW1hYXNlaWtIM1gEaGyIAQGYAQm4AQfIAQ3YAQPoAQGIAgGoAgO4Ao-r14cGwAIB0gIkNGIzYWI4ZGQtODIyMS00M2MyLWExMGYtZjg4MTczODg0MGY02AIE4AIB;sid=cb78d8489b9c18246aa9830225a71862\"\n        ],\n        \"semantic_type\": \"\",\n        \"description\": \"\"\n      }\n    },\n    {\n      \"column\": \"avg_rating\",\n      \"properties\": {\n        \"dtype\": \"number\",\n        \"std\": 0.7164265501238433,\n        \"min\": 3.8,\n        \"max\": 10.0,\n        \"num_unique_values\": 42,\n        \"samples\": [\n          9.6,\n          8.9,\n          8.5\n        ],\n        \"semantic_type\": \"\",\n        \"description\": \"\"\n      }\n    },\n    {\n      \"column\": \"nationality\",\n      \"properties\": {\n        \"dtype\": \"category\",\n        \"num_unique_values\": 163,\n        \"samples\": [\n          \"Cambodia\",\n          \"Tunisia\",\n          \"Nicaragua\"\n        ],\n        \"semantic_type\": \"\",\n        \"description\": \"\"\n      }\n    },\n    {\n      \"column\": \"rating\",\n      \"properties\": {\n        \"dtype\": \"number\",\n        \"std\": 1.5665535076243988,\n        \"min\": 1.0,\n        \"max\": 10.0,\n        \"num_unique_values\": 36,\n        \"samples\": [\n          6.9,\n          5.0,\n          2.9\n        ],\n        \"semantic_type\": \"\",\n        \"description\": \"\"\n      }\n    },\n    {\n      \"column\": \"review_text\",\n      \"properties\": {\n        \"dtype\": \"string\",\n        \"num_unique_values\": 18501,\n        \"samples\": [\n          \"Breakfast 18 EUR per person is ridiculous.\",\n          \"Room wasn\\u2019t clean and it was very very cold inside( we were at December), because condition didn\\u2019t work.,\\n\\nGreat location, 25 minutes by foot to the city center.\",\n          \"Nothing really, very nice all round\"\n        ],\n        \"semantic_type\": \"\",\n        \"description\": \"\"\n      }\n    },\n    {\n      \"column\": \"raw_review_text\",\n      \"properties\": {\n        \"dtype\": \"string\",\n        \"num_unique_values\": 18352,\n        \"samples\": [\n          \"<p class=\\\"review_pos \\\"><svg aria-label=\\\"Positive point\\\" class=\\\"bk-icon -fonticon-plus review_item_icon\\\" fill=\\\"#008009\\\" height=\\\"14\\\" role=\\\"img\\\" width=\\\"14\\\" viewbox=\\\"0 0 32 32\\\" aria-hidden=\\\"true\\\" focusable=\\\"false\\\">\\n  <path d=\\\"M32 16c0 8.836-7.162 16-16 16-8.834 0-16-5.74-16-16C0 6.451 7.166 0 16 0c8.838 0 16 7.162 16 16zm-6.4-2.585c0-.369-.031-.616-.4-.616h-5.998V7.018c0-.369-.297-.62-.666-.62h-5.068c-.369 0-.666.251-.666.62v5.781H6.901c-.369 0-.499.247-.499.616v5.118c0 .369.132.666.499.666H12.8v5.833c0 .369.297.565.666.565h5.068c.369 0 .666-.196.666-.565v-5.833h5.998c.369 0 .4-.297.4-.666v-5.118z\\\"></path>\\n</svg><span itemprop=\\\"reviewBody\\\">Food was very of a very good standard!</span></p>\",\n          \"<p class=\\\"review_pos \\\"><svg aria-label=\\\"Positive point\\\" class=\\\"bk-icon -fonticon-plus review_item_icon\\\" fill=\\\"#008009\\\" height=\\\"14\\\" role=\\\"img\\\" width=\\\"14\\\" viewbox=\\\"0 0 32 32\\\" aria-hidden=\\\"true\\\" focusable=\\\"false\\\">\\n  <path d=\\\"M32 16c0 8.836-7.162 16-16 16-8.834 0-16-5.74-16-16C0 6.451 7.166 0 16 0c8.838 0 16 7.162 16 16zm-6.4-2.585c0-.369-.031-.616-.4-.616h-5.998V7.018c0-.369-.297-.62-.666-.62h-5.068c-.369 0-.666.251-.666.62v5.781H6.901c-.369 0-.499.247-.499.616v5.118c0 .369.132.666.499.666H12.8v5.833c0 .369.297.565.666.565h5.068c.369 0 .666-.196.666-.565v-5.833h5.998c.369 0 .4-.297.4-.666v-5.118z\\\"></path>\\n</svg><span itemprop=\\\"reviewBody\\\">Friendly and helpful staff. Good breakfast. Good advice. Bike rental.</span></p>\",\n          \"<p class=\\\"review_pos \\\"><svg aria-label=\\\"Positive point\\\" class=\\\"bk-icon -fonticon-plus review_item_icon\\\" fill=\\\"#008009\\\" height=\\\"14\\\" role=\\\"img\\\" width=\\\"14\\\" viewbox=\\\"0 0 32 32\\\" aria-hidden=\\\"true\\\" focusable=\\\"false\\\">\\n  <path d=\\\"M32 16c0 8.836-7.162 16-16 16-8.834 0-16-5.74-16-16C0 6.451 7.166 0 16 0c8.838 0 16 7.162 16 16zm-6.4-2.585c0-.369-.031-.616-.4-.616h-5.998V7.018c0-.369-.297-.62-.666-.62h-5.068c-.369 0-.666.251-.666.62v5.781H6.901c-.369 0-.499.247-.499.616v5.118c0 .369.132.666.499.666H12.8v5.833c0 .369.297.565.666.565h5.068c.369 0 .666-.196.666-.565v-5.833h5.998c.369 0 .4-.297.4-.666v-5.118z\\\"></path>\\n</svg><span itemprop=\\\"reviewBody\\\">Wonderful, Fabulous, attention to every detail, and host friendly, helpful, and made a healthy breakfast as well. accommodations exceeded expectation w nice linens, computer, espresso machine in room, &amp; grand shower.  Felt Very luxurious, calm, comfortable space to just be. Within walking distance of all the sites.</span></p>\"\n        ],\n        \"semantic_type\": \"\",\n        \"description\": \"\"\n      }\n    },\n    {\n      \"column\": \"tags\",\n      \"properties\": {\n        \"dtype\": \"category\",\n        \"num_unique_values\": 8082,\n        \"samples\": [\n          \"Leisure trip~Solo traveller~Studio (2 Adults)~Stayed 4 nights~Submitted via mobile\",\n          \"Business trip~Group~Superior Double Room~Stayed 4 nights~Submitted via mobile\",\n          \"Leisure trip~Couple~Comfort Double Room~Stayed 4 nights\"\n        ],\n        \"semantic_type\": \"\",\n        \"description\": \"\"\n      }\n    },\n    {\n      \"column\": \"meta\",\n      \"properties\": {\n        \"dtype\": \"category\",\n        \"num_unique_values\": 1,\n        \"samples\": [\n          \"{'language': 'en-gb', 'source': 'https://www.booking.com'}\"\n        ],\n        \"semantic_type\": \"\",\n        \"description\": \"\"\n      }\n    }\n  ]\n}"
            }
          },
          "metadata": {},
          "execution_count": 10
        }
      ]
    },
    {
      "cell_type": "code",
      "source": [
        "# Handle potential NaN values for comparison between raw_review_text and review_text\n",
        "# For this I fill NaN with a placeholder string to avoid issues, as NaN != NaN\n",
        "df_temp = df.fillna({'review_text': '', 'raw_review_text': ''}).copy()\n",
        "\n",
        "# Count how many rows have identical content\n",
        "identical_reviews = (df_temp['review_text'] == df_temp['raw_review_text']).sum()\n",
        "# Only count rows where both are non-null\n",
        "total_reviews_comparable = len(df_temp) - df_temp['review_text'].isnull().sum() - df_temp['raw_review_text'].isnull().sum()\n",
        "\n",
        "print(f\"Number of reviews where 'review_text' and 'raw_review_text' are identical (after filling NaN): {identical_reviews}\")\n",
        "print(f\"Total comparable reviews (where both are non-null): {total_reviews_comparable}\")\n",
        "print(f\"Percentage identical: {((identical_reviews / total_reviews_comparable) * 100):.2f}%\")"
      ],
      "metadata": {
        "colab": {
          "base_uri": "https://localhost:8080/"
        },
        "id": "M4C-3JA2oZPS",
        "outputId": "6e80af68-bfeb-409b-cd25-ff1358b72911"
      },
      "id": "M4C-3JA2oZPS",
      "execution_count": 11,
      "outputs": [
        {
          "output_type": "stream",
          "name": "stdout",
          "text": [
            "Number of reviews where 'review_text' and 'raw_review_text' are identical (after filling NaN): 289\n",
            "Total comparable reviews (where both are non-null): 26675\n",
            "Percentage identical: 1.08%\n"
          ]
        }
      ]
    },
    {
      "cell_type": "markdown",
      "source": [
        "Given that only 1.08% of review_text and raw_review_text are identical,this indicates significant differences between the two. Because of this it's crucial to understand the nature of these disparities before deciding which column to retain for further analysis."
      ],
      "metadata": {
        "id": "4TkfCqWXpmUe"
      },
      "id": "4TkfCqWXpmUe"
    },
    {
      "cell_type": "code",
      "source": [
        "# Calculate the length of 'review_text' and 'raw_review_text'\n",
        "df_temp['review_text_len'] = df_temp['review_text'].apply(len)\n",
        "df_temp['raw_review_text_len'] = df_temp['raw_review_text'].apply(len)\n",
        "\n",
        "# Look at descriptive statistics of lengths\n",
        "print(\"\\nDescriptive statistics for 'review_text' length:\")\n",
        "print(df_temp['review_text_len'].describe())\n",
        "\n",
        "print(\"\\nDescriptive statistics for 'raw_review_text' length:\")\n",
        "print(df_temp['raw_review_text_len'].describe())\n",
        "\n",
        "# Check for rows where one is significantly longer than the other (e.g., >20 characters difference)\n",
        "print(\"\\n--- Examples where review_text is MUCH longer (diff > 20 chars) ---\")\n",
        "longer_review_text_diff = df_temp[df_temp['review_text_len'] - df_temp['raw_review_text_len'] > 20]\n",
        "print(f\"Number of such rows: {len(longer_review_text_diff)}\")\n",
        "if not longer_review_text_diff.empty:\n",
        "    print(longer_review_text_diff[['review_text', 'raw_review_text']].head(3).to_string())\n",
        "\n",
        "print(\"\\n--- Examples where raw_review_text is MUCH longer (diff > 20 chars) ---\")\n",
        "longer_raw_review_text_diff = df_temp[df_temp['raw_review_text_len'] - df_temp['review_text_len'] > 20]\n",
        "print(f\"Number of such rows: {len(longer_raw_review_text_diff)}\")\n",
        "if not longer_raw_review_text_diff.empty:\n",
        "    print(longer_raw_review_text_diff[['review_text', 'raw_review_text']].head(3).to_string())"
      ],
      "metadata": {
        "colab": {
          "base_uri": "https://localhost:8080/"
        },
        "id": "UW7eyV6zoZR6",
        "outputId": "1d822433-afe1-4d71-db10-e3f540021d22"
      },
      "id": "UW7eyV6zoZR6",
      "execution_count": 12,
      "outputs": [
        {
          "output_type": "stream",
          "name": "stdout",
          "text": [
            "\n",
            "Descriptive statistics for 'review_text' length:\n",
            "count    26675.000000\n",
            "mean       160.166111\n",
            "std        201.930996\n",
            "min          0.000000\n",
            "25%         47.000000\n",
            "50%         78.000000\n",
            "75%        204.000000\n",
            "max       3368.000000\n",
            "Name: review_text_len, dtype: float64\n",
            "\n",
            "Descriptive statistics for 'raw_review_text' length:\n",
            "count    26675.000000\n",
            "mean       782.758163\n",
            "std        547.427211\n",
            "min          0.000000\n",
            "25%         83.000000\n",
            "50%        837.000000\n",
            "75%       1193.000000\n",
            "max       4392.000000\n",
            "Name: raw_review_text_len, dtype: float64\n",
            "\n",
            "--- Examples where review_text is MUCH longer (diff > 20 chars) ---\n",
            "Number of such rows: 149\n",
            "                                                                                           review_text raw_review_text\n",
            "54   Very clean and warm chalet. Friendly hosts willing to help and provide everything that is needed.                \n",
            "75                                                                           Vicinity to train station                \n",
            "241                                                         good hi-tech hotel with a private parking.                \n",
            "\n",
            "--- Examples where raw_review_text is MUCH longer (diff > 20 chars) ---\n",
            "Number of such rows: 26202\n",
            "                                                                                                                                  review_text                                                                                                                                                                                                                                                                                                                                                                                                                                                                                                                                                                                                                                                                                                                                                                                                                                                                                                                                                                                                                                                                                                                                                                                             raw_review_text\n",
            "0                                                                                         Everything was perfect! Quite, cozy place to relax.                                                                                                                                                                                                                                                                                                                                                                                                                                                                        <p class=\"review_pos \"><svg aria-label=\"Positive point\" class=\"bk-icon -fonticon-plus review_item_icon\" fill=\"#008009\" height=\"14\" role=\"img\" width=\"14\" viewbox=\"0 0 32 32\" aria-hidden=\"true\" focusable=\"false\">\\n  <path d=\"M32 16c0 8.836-7.162 16-16 16-8.834 0-16-5.74-16-16C0 6.451 7.166 0 16 0c8.838 0 16 7.162 16 16zm-6.4-2.585c0-.369-.031-.616-.4-.616h-5.998V7.018c0-.369-.297-.62-.666-.62h-5.068c-.369 0-.666.251-.666.62v5.781H6.901c-.369 0-.499.247-.499.616v5.118c0 .369.132.666.499.666H12.8v5.833c0 .369.297.565.666.565h5.068c.369 0 .666-.196.666-.565v-5.833h5.998c.369 0 .4-.297.4-.666v-5.118z\"></path>\\n</svg><span itemprop=\"reviewBody\">Everything was perfect! Quite, cozy place to relax.</span></p>\n",
            "1                                                                                                   Very friendly host and perfect breakfast!                                                                                                                                                                                                                                                                                                                                                                                                                                                                                  <p class=\"review_pos \"><svg aria-label=\"Positive point\" class=\"bk-icon -fonticon-plus review_item_icon\" fill=\"#008009\" height=\"14\" role=\"img\" width=\"14\" viewbox=\"0 0 32 32\" aria-hidden=\"true\" focusable=\"false\">\\n  <path d=\"M32 16c0 8.836-7.162 16-16 16-8.834 0-16-5.74-16-16C0 6.451 7.166 0 16 0c8.838 0 16 7.162 16 16zm-6.4-2.585c0-.369-.031-.616-.4-.616h-5.998V7.018c0-.369-.297-.62-.666-.62h-5.068c-.369 0-.666.251-.666.62v5.781H6.901c-.369 0-.499.247-.499.616v5.118c0 .369.132.666.499.666H12.8v5.833c0 .369.297.565.666.565h5.068c.369 0 .666-.196.666-.565v-5.833h5.998c.369 0 .4-.297.4-.666v-5.118z\"></path>\\n</svg><span itemprop=\"reviewBody\">Very friendly host and perfect breakfast!</span></p>\n",
            "2  It was just what we wanted for a week by the beach in winter,\\n\\nLocation was fab, apartment quiet and very well-equipped. Spotless clean.  <p class=\"review_neg \"><svg aria-label=\"Negative point\" class=\"bk-icon -fonticon-removecircle review_item_icon\" fill=\"#BDBDBD\" height=\"14\" role=\"img\" width=\"14\" viewbox=\"0 0 32 32\" aria-hidden=\"true\" focusable=\"false\"><path d=\"m16 0c-8.84 0-16 7.16-16 16s7.16 16 16 16 16-7.16 16-16-7.16-16-16-16zm8 17.6h-16v-3.2h16z\"></path></svg><span itemprop=\"reviewBody\">It was just what we wanted for a week by the beach in winter</span></p>,<p class=\"review_pos \"><svg aria-label=\"Positive point\" class=\"bk-icon -fonticon-plus review_item_icon\" fill=\"#008009\" height=\"14\" role=\"img\" width=\"14\" viewbox=\"0 0 32 32\" aria-hidden=\"true\" focusable=\"false\">\\n  <path d=\"M32 16c0 8.836-7.162 16-16 16-8.834 0-16-5.74-16-16C0 6.451 7.166 0 16 0c8.838 0 16 7.162 16 16zm-6.4-2.585c0-.369-.031-.616-.4-.616h-5.998V7.018c0-.369-.297-.62-.666-.62h-5.068c-.369 0-.666.251-.666.62v5.781H6.901c-.369 0-.499.247-.499.616v5.118c0 .369.132.666.499.666H12.8v5.833c0 .369.297.565.666.565h5.068c.369 0 .666-.196.666-.565v-5.833h5.998c.369 0 .4-.297.4-.666v-5.118z\"></path>\\n</svg><span itemprop=\"reviewBody\">Location was fab, apartment quiet and very well-equipped. Spotless clean.</span></p>\n"
          ]
        }
      ]
    },
    {
      "cell_type": "code",
      "source": [
        "# Find a few rows where they are different (and both non-empty) for manual inspection\n",
        "diff_reviews_sample = df_temp[(df_temp['review_text'] != df_temp['raw_review_text']) &\n",
        "                              (df_temp['review_text'] != '') & (df_temp['raw_review_text'] != '')].sample(min(5, len(df_temp))).copy()\n",
        "\n",
        "print(\"\\n--- Detailed Examples of Differences (5 random samples) ---\")\n",
        "for index, row in diff_reviews_sample.iterrows():\n",
        "    print(f\"\\nRow Index: {index}\")\n",
        "    print(f\"review_text:     '{row['review_text']}'\")\n",
        "    print(f\"raw_review_text: '{row['raw_review_text']}'\")\n",
        "    print(\"-\" * 50)"
      ],
      "metadata": {
        "colab": {
          "base_uri": "https://localhost:8080/"
        },
        "id": "dLroB-bBoZUp",
        "outputId": "27feb630-2488-45e4-9cb2-58fb049a1111"
      },
      "id": "dLroB-bBoZUp",
      "execution_count": 13,
      "outputs": [
        {
          "output_type": "stream",
          "name": "stdout",
          "text": [
            "\n",
            "--- Detailed Examples of Differences (5 random samples) ---\n",
            "\n",
            "Row Index: 17511\n",
            "review_text:     'There are no comments available for this review'\n",
            "raw_review_text: '<p class=\"review_none\"><em>There are no comments available for this review</em></p>'\n",
            "--------------------------------------------------\n",
            "\n",
            "Row Index: 18000\n",
            "review_text:     'Loved this apartment, perfect central location. Excellently stocked kitchen and lovely welcome (thanks for the bottle of wine!). Highly recommend and would happily stay again.'\n",
            "raw_review_text: '<p class=\"review_pos \"><svg aria-label=\"Positive point\" class=\"bk-icon -fonticon-plus review_item_icon\" fill=\"#008009\" height=\"14\" role=\"img\" width=\"14\" viewbox=\"0 0 32 32\" aria-hidden=\"true\" focusable=\"false\">\n",
            "  <path d=\"M32 16c0 8.836-7.162 16-16 16-8.834 0-16-5.74-16-16C0 6.451 7.166 0 16 0c8.838 0 16 7.162 16 16zm-6.4-2.585c0-.369-.031-.616-.4-.616h-5.998V7.018c0-.369-.297-.62-.666-.62h-5.068c-.369 0-.666.251-.666.62v5.781H6.901c-.369 0-.499.247-.499.616v5.118c0 .369.132.666.499.666H12.8v5.833c0 .369.297.565.666.565h5.068c.369 0 .666-.196.666-.565v-5.833h5.998c.369 0 .4-.297.4-.666v-5.118z\"></path>\n",
            "</svg><span itemprop=\"reviewBody\">Loved this apartment, perfect central location. Excellently stocked kitchen and lovely welcome (thanks for the bottle of wine!). Highly recommend and would happily stay again.</span></p>'\n",
            "--------------------------------------------------\n",
            "\n",
            "Row Index: 6711\n",
            "review_text:     'There are no comments available for this review'\n",
            "raw_review_text: '<p class=\"review_none\"><em>There are no comments available for this review</em></p>'\n",
            "--------------------------------------------------\n",
            "\n",
            "Row Index: 7465\n",
            "review_text:     'Lovely breakfast and our room was beautiful.'\n",
            "raw_review_text: '<p class=\"review_pos \"><svg aria-label=\"Positive point\" class=\"bk-icon -fonticon-plus review_item_icon\" fill=\"#008009\" height=\"14\" role=\"img\" width=\"14\" viewbox=\"0 0 32 32\" aria-hidden=\"true\" focusable=\"false\">\n",
            "  <path d=\"M32 16c0 8.836-7.162 16-16 16-8.834 0-16-5.74-16-16C0 6.451 7.166 0 16 0c8.838 0 16 7.162 16 16zm-6.4-2.585c0-.369-.031-.616-.4-.616h-5.998V7.018c0-.369-.297-.62-.666-.62h-5.068c-.369 0-.666.251-.666.62v5.781H6.901c-.369 0-.499.247-.499.616v5.118c0 .369.132.666.499.666H12.8v5.833c0 .369.297.565.666.565h5.068c.369 0 .666-.196.666-.565v-5.833h5.998c.369 0 .4-.297.4-.666v-5.118z\"></path>\n",
            "</svg><span itemprop=\"reviewBody\">Lovely breakfast and our room was beautiful.</span></p>'\n",
            "--------------------------------------------------\n",
            "\n",
            "Row Index: 26371\n",
            "review_text:     'No sound proof rooms. You can easily and unfortunately hear all noise of next, up&down rooms. Even low voices can be heard and it disturbs very much. ,\n",
            "\n",
            "Reception and easy check in is good. Breakfast is OK. You can walk to city centre, historical places in 20 minutes. Very near location to midi train gar. So easily hop on trains for visiting Brugge and Gent cities daily'\n",
            "raw_review_text: '<p class=\"review_neg \"><svg aria-label=\"Negative point\" class=\"bk-icon -fonticon-removecircle review_item_icon\" fill=\"#BDBDBD\" height=\"14\" role=\"img\" width=\"14\" viewbox=\"0 0 32 32\" aria-hidden=\"true\" focusable=\"false\"><path d=\"m16 0c-8.84 0-16 7.16-16 16s7.16 16 16 16 16-7.16 16-16-7.16-16-16-16zm8 17.6h-16v-3.2h16z\"></path></svg><span itemprop=\"reviewBody\">No sound proof rooms. You can easily and unfortunately hear all noise of next, up&amp;down rooms. Even low voices can be heard and it disturbs very much. </span></p>,<p class=\"review_pos \"><svg aria-label=\"Positive point\" class=\"bk-icon -fonticon-plus review_item_icon\" fill=\"#008009\" height=\"14\" role=\"img\" width=\"14\" viewbox=\"0 0 32 32\" aria-hidden=\"true\" focusable=\"false\">\n",
            "  <path d=\"M32 16c0 8.836-7.162 16-16 16-8.834 0-16-5.74-16-16C0 6.451 7.166 0 16 0c8.838 0 16 7.162 16 16zm-6.4-2.585c0-.369-.031-.616-.4-.616h-5.998V7.018c0-.369-.297-.62-.666-.62h-5.068c-.369 0-.666.251-.666.62v5.781H6.901c-.369 0-.499.247-.499.616v5.118c0 .369.132.666.499.666H12.8v5.833c0 .369.297.565.666.565h5.068c.369 0 .666-.196.666-.565v-5.833h5.998c.369 0 .4-.297.4-.666v-5.118z\"></path>\n",
            "</svg><span itemprop=\"reviewBody\">Reception and easy check in is good. Breakfast is OK. You can walk to city centre, historical places in 20 minutes. Very near location to midi train gar. So easily hop on trains for visiting Brugge and Gent cities daily</span></p>'\n",
            "--------------------------------------------------\n"
          ]
        }
      ]
    },
    {
      "cell_type": "code",
      "source": [
        "# Displaying the first few non-null entries\n",
        "print(\"First 10 non-null entries in 'meta' column:\")\n",
        "print(df['meta'].dropna().head(10).tolist())\n",
        "\n",
        "# Displaying a random sample\n",
        "print(\"\\n10 random non-null entries in 'meta' column:\")\n",
        "print(df['meta'].dropna().sample(10).tolist())"
      ],
      "metadata": {
        "colab": {
          "base_uri": "https://localhost:8080/"
        },
        "id": "agY45fGboZXg",
        "outputId": "5c9984ef-8b29-42b5-a5b6-3b6f4b05a6d5"
      },
      "id": "agY45fGboZXg",
      "execution_count": 14,
      "outputs": [
        {
          "output_type": "stream",
          "name": "stdout",
          "text": [
            "First 10 non-null entries in 'meta' column:\n",
            "[\"{'language': 'en-gb', 'source': 'https://www.booking.com'}\", \"{'language': 'en-gb', 'source': 'https://www.booking.com'}\", \"{'language': 'en-gb', 'source': 'https://www.booking.com'}\", \"{'language': 'en-gb', 'source': 'https://www.booking.com'}\", \"{'language': 'en-gb', 'source': 'https://www.booking.com'}\", \"{'language': 'en-gb', 'source': 'https://www.booking.com'}\", \"{'language': 'en-gb', 'source': 'https://www.booking.com'}\", \"{'language': 'en-gb', 'source': 'https://www.booking.com'}\", \"{'language': 'en-gb', 'source': 'https://www.booking.com'}\", \"{'language': 'en-gb', 'source': 'https://www.booking.com'}\"]\n",
            "\n",
            "10 random non-null entries in 'meta' column:\n",
            "[\"{'language': 'en-gb', 'source': 'https://www.booking.com'}\", \"{'language': 'en-gb', 'source': 'https://www.booking.com'}\", \"{'language': 'en-gb', 'source': 'https://www.booking.com'}\", \"{'language': 'en-gb', 'source': 'https://www.booking.com'}\", \"{'language': 'en-gb', 'source': 'https://www.booking.com'}\", \"{'language': 'en-gb', 'source': 'https://www.booking.com'}\", \"{'language': 'en-gb', 'source': 'https://www.booking.com'}\", \"{'language': 'en-gb', 'source': 'https://www.booking.com'}\", \"{'language': 'en-gb', 'source': 'https://www.booking.com'}\", \"{'language': 'en-gb', 'source': 'https://www.booking.com'}\"]\n"
          ]
        }
      ]
    },
    {
      "cell_type": "markdown",
      "source": [
        "Based on the above checks, I will be dropping the following columns that are not relevant for this analysis:\n",
        "\n",
        "1. index: Redundant DataFrame index.\n",
        "\n",
        "2. images: Too sparse, and image analysis is out of scope for this analysis as we are using text for hotel rating prediction.\n",
        "\n",
        "3. crawled_at: Irrelevant timestamp for this analysis as this is when the review was crawled from the site.\n",
        "\n",
        "4. url: Unique identifier for the review page, no predictive power.\n",
        "\n",
        "5. hotel_url: Unique identifier for the hotel page, but this becomes redundant if hotel_name or hotel_id is used.\n",
        "\n",
        "6. meta: content is consistently redundant, specifying 'en-gb' language and 'booking.com' source, and therefore provides no unique or discriminative information for this analysis.\n",
        "\n",
        "7. review_text: as it seems to be a simplified version of raw_review_text and is better to keep the columns with full information to better extract richer features for the analysis."
      ],
      "metadata": {
        "id": "wnv7C5Fdp8aR"
      },
      "id": "wnv7C5Fdp8aR"
    },
    {
      "cell_type": "code",
      "source": [
        "# Dropping unnecesary columns\n",
        "# Create a list of columns to drop\n",
        "columns_to_drop = ['index', 'images', 'crawled_at', 'url', 'hotel_url', 'meta', 'review_text']\n",
        "\n",
        "# Perform the drop operation\n",
        "df_cleaned = df.drop(columns=columns_to_drop, errors='ignore')\n",
        "\n",
        "# Inspecting new dataframe\n",
        "df_cleaned.info()"
      ],
      "metadata": {
        "colab": {
          "base_uri": "https://localhost:8080/"
        },
        "id": "-9HCOMOdoZat",
        "outputId": "1db91d0b-1dce-4aed-f324-d2bec7228dcf"
      },
      "id": "-9HCOMOdoZat",
      "execution_count": 15,
      "outputs": [
        {
          "output_type": "stream",
          "name": "stdout",
          "text": [
            "<class 'pandas.core.frame.DataFrame'>\n",
            "RangeIndex: 26675 entries, 0 to 26674\n",
            "Data columns (total 9 columns):\n",
            " #   Column           Non-Null Count  Dtype  \n",
            "---  ------           --------------  -----  \n",
            " 0   review_title     26674 non-null  object \n",
            " 1   reviewed_at      26570 non-null  object \n",
            " 2   reviewed_by      26570 non-null  object \n",
            " 3   hotel_name       26386 non-null  object \n",
            " 4   avg_rating       26386 non-null  float64\n",
            " 5   nationality      26370 non-null  object \n",
            " 6   rating           26386 non-null  float64\n",
            " 7   raw_review_text  26202 non-null  object \n",
            " 8   tags             26202 non-null  object \n",
            "dtypes: float64(2), object(7)\n",
            "memory usage: 1.8+ MB\n"
          ]
        }
      ]
    },
    {
      "cell_type": "code",
      "source": [
        "#Initial Missing Value Overview\n",
        "df_cleaned.isnull().sum()"
      ],
      "metadata": {
        "colab": {
          "base_uri": "https://localhost:8080/",
          "height": 366
        },
        "id": "w89emybNoZd2",
        "outputId": "c5a6519f-1242-4595-f3cf-8de0b8484262"
      },
      "id": "w89emybNoZd2",
      "execution_count": 16,
      "outputs": [
        {
          "output_type": "execute_result",
          "data": {
            "text/plain": [
              "review_title         1\n",
              "reviewed_at        105\n",
              "reviewed_by        105\n",
              "hotel_name         289\n",
              "avg_rating         289\n",
              "nationality        305\n",
              "rating             289\n",
              "raw_review_text    473\n",
              "tags               473\n",
              "dtype: int64"
            ],
            "text/html": [
              "<div>\n",
              "<style scoped>\n",
              "    .dataframe tbody tr th:only-of-type {\n",
              "        vertical-align: middle;\n",
              "    }\n",
              "\n",
              "    .dataframe tbody tr th {\n",
              "        vertical-align: top;\n",
              "    }\n",
              "\n",
              "    .dataframe thead th {\n",
              "        text-align: right;\n",
              "    }\n",
              "</style>\n",
              "<table border=\"1\" class=\"dataframe\">\n",
              "  <thead>\n",
              "    <tr style=\"text-align: right;\">\n",
              "      <th></th>\n",
              "      <th>0</th>\n",
              "    </tr>\n",
              "  </thead>\n",
              "  <tbody>\n",
              "    <tr>\n",
              "      <th>review_title</th>\n",
              "      <td>1</td>\n",
              "    </tr>\n",
              "    <tr>\n",
              "      <th>reviewed_at</th>\n",
              "      <td>105</td>\n",
              "    </tr>\n",
              "    <tr>\n",
              "      <th>reviewed_by</th>\n",
              "      <td>105</td>\n",
              "    </tr>\n",
              "    <tr>\n",
              "      <th>hotel_name</th>\n",
              "      <td>289</td>\n",
              "    </tr>\n",
              "    <tr>\n",
              "      <th>avg_rating</th>\n",
              "      <td>289</td>\n",
              "    </tr>\n",
              "    <tr>\n",
              "      <th>nationality</th>\n",
              "      <td>305</td>\n",
              "    </tr>\n",
              "    <tr>\n",
              "      <th>rating</th>\n",
              "      <td>289</td>\n",
              "    </tr>\n",
              "    <tr>\n",
              "      <th>raw_review_text</th>\n",
              "      <td>473</td>\n",
              "    </tr>\n",
              "    <tr>\n",
              "      <th>tags</th>\n",
              "      <td>473</td>\n",
              "    </tr>\n",
              "  </tbody>\n",
              "</table>\n",
              "</div><br><label><b>dtype:</b> int64</label>"
            ]
          },
          "metadata": {},
          "execution_count": 16
        }
      ]
    },
    {
      "cell_type": "markdown",
      "source": [
        "Before analyzing the distribution of our target variable 'rating', it's crucial to address its missing values. As observed, the rating column contains 289 missing entries. For supervised learning, every data point used in the target distribution analysis and model training must have a defined target value.\n",
        "\n",
        "Therefore, I made the decision to drop all rows where the rating value was NaN. This ensures the integrity of our target variable. Given this drop accounts for only about 1.08% of our total dataset, the data loss is minimal and justified to maintain data quality for supervised learning."
      ],
      "metadata": {
        "id": "jx1ney9uqAp4"
      },
      "id": "jx1ney9uqAp4"
    },
    {
      "cell_type": "code",
      "source": [
        "# Dropping NAN from target variable 'rating'\n",
        "df_cleaned = df_cleaned.dropna(subset=['rating']).copy()"
      ],
      "metadata": {
        "id": "zw2jYlHaoZgj"
      },
      "id": "zw2jYlHaoZgj",
      "execution_count": 17,
      "outputs": []
    },
    {
      "cell_type": "code",
      "source": [
        "# Additional Missing Value Overview\n",
        "df_cleaned.isnull().sum()"
      ],
      "metadata": {
        "colab": {
          "base_uri": "https://localhost:8080/",
          "height": 366
        },
        "id": "DROpvEkhoZjb",
        "outputId": "15b645f4-a417-4539-c23b-086196578a13"
      },
      "id": "DROpvEkhoZjb",
      "execution_count": 18,
      "outputs": [
        {
          "output_type": "execute_result",
          "data": {
            "text/plain": [
              "review_title         1\n",
              "reviewed_at          0\n",
              "reviewed_by          0\n",
              "hotel_name           0\n",
              "avg_rating           0\n",
              "nationality         16\n",
              "rating               0\n",
              "raw_review_text    184\n",
              "tags               184\n",
              "dtype: int64"
            ],
            "text/html": [
              "<div>\n",
              "<style scoped>\n",
              "    .dataframe tbody tr th:only-of-type {\n",
              "        vertical-align: middle;\n",
              "    }\n",
              "\n",
              "    .dataframe tbody tr th {\n",
              "        vertical-align: top;\n",
              "    }\n",
              "\n",
              "    .dataframe thead th {\n",
              "        text-align: right;\n",
              "    }\n",
              "</style>\n",
              "<table border=\"1\" class=\"dataframe\">\n",
              "  <thead>\n",
              "    <tr style=\"text-align: right;\">\n",
              "      <th></th>\n",
              "      <th>0</th>\n",
              "    </tr>\n",
              "  </thead>\n",
              "  <tbody>\n",
              "    <tr>\n",
              "      <th>review_title</th>\n",
              "      <td>1</td>\n",
              "    </tr>\n",
              "    <tr>\n",
              "      <th>reviewed_at</th>\n",
              "      <td>0</td>\n",
              "    </tr>\n",
              "    <tr>\n",
              "      <th>reviewed_by</th>\n",
              "      <td>0</td>\n",
              "    </tr>\n",
              "    <tr>\n",
              "      <th>hotel_name</th>\n",
              "      <td>0</td>\n",
              "    </tr>\n",
              "    <tr>\n",
              "      <th>avg_rating</th>\n",
              "      <td>0</td>\n",
              "    </tr>\n",
              "    <tr>\n",
              "      <th>nationality</th>\n",
              "      <td>16</td>\n",
              "    </tr>\n",
              "    <tr>\n",
              "      <th>rating</th>\n",
              "      <td>0</td>\n",
              "    </tr>\n",
              "    <tr>\n",
              "      <th>raw_review_text</th>\n",
              "      <td>184</td>\n",
              "    </tr>\n",
              "    <tr>\n",
              "      <th>tags</th>\n",
              "      <td>184</td>\n",
              "    </tr>\n",
              "  </tbody>\n",
              "</table>\n",
              "</div><br><label><b>dtype:</b> int64</label>"
            ]
          },
          "metadata": {},
          "execution_count": 18
        }
      ]
    },
    {
      "cell_type": "markdown",
      "source": [
        "The additional missing values will be managed later in the Data processing part."
      ],
      "metadata": {
        "id": "J-EMsG5HqGSl"
      },
      "id": "J-EMsG5HqGSl"
    },
    {
      "cell_type": "markdown",
      "source": [
        "### Target Variable Distribution Analysis\n",
        "\n",
        "For this project, the target variable is rating, which mean that I have two different ways to approach the solution:\n",
        "\n",
        "1.   A regression approach by predicting the exact rating\n",
        "2.   A classification approach by converting rating to sentiment categories\n",
        "\n",
        "So in this part, I will conduct a distribution analysis for both, since I have a numerical rating from the Booking.com data I will first approach a solution with a regression problem to predict a numerical rating and then explore the sentiment classification as an alternative."
      ],
      "metadata": {
        "id": "PmvJaencqbFh"
      },
      "id": "PmvJaencqbFh"
    },
    {
      "cell_type": "markdown",
      "source": [
        "#### Rating Prediction (Regression Problem)"
      ],
      "metadata": {
        "id": "5ZYyqGOQqdvP"
      },
      "id": "5ZYyqGOQqdvP"
    },
    {
      "cell_type": "code",
      "source": [
        "#Creating an histogram for the target variable 'rating'\n",
        "rating_column_name = 'rating'\n",
        "\n",
        "plt.figure(figsize=(10, 6))\n",
        "sns.histplot(df_cleaned[rating_column_name], bins=20, kde=True) # Adjust bins if rating scale is very small/large\n",
        "plt.title(f'Distribution of Hotel Ratings (Target Variable)')\n",
        "plt.xlabel('Rating Score')\n",
        "plt.ylabel('Number of Reviews')\n",
        "plt.grid(axis='y', alpha=0.75)\n",
        "plt.show()\n",
        "\n",
        "# Get descriptive statistics for the varible 'rating'\n",
        "print(f\"\\nDescriptive Statistics for '{rating_column_name}':\")\n",
        "print(df_cleaned[rating_column_name].describe())\n",
        "\n",
        "# Check for specific unique values (e.g., 1-10)\n",
        "if df_cleaned[rating_column_name].dtype in ['int64', 'float64']:\n",
        "    print(f\"\\nUnique values in '{rating_column_name}':\")\n",
        "    print(df_cleaned[rating_column_name].unique())\n",
        "    print(f\"\\nValue counts for '{rating_column_name}':\")\n",
        "    print(df_cleaned[rating_column_name].value_counts().sort_index())"
      ],
      "metadata": {
        "colab": {
          "base_uri": "https://localhost:8080/",
          "height": 1000
        },
        "id": "vxUZnNZDptNH",
        "outputId": "3e6d28b6-b17e-439a-e47c-244d38de3bcc"
      },
      "id": "vxUZnNZDptNH",
      "execution_count": 19,
      "outputs": [
        {
          "output_type": "display_data",
          "data": {
            "text/plain": [
              "<Figure size 1000x600 with 1 Axes>"
            ],
            "image/png": "[encoded data removed]"
          },
          "metadata": {}
        },
        {
          "output_type": "stream",
          "name": "stdout",
          "text": [
            "\n",
            "Descriptive Statistics for 'rating':\n",
            "count    26386.000000\n",
            "mean         8.560669\n",
            "std          1.566554\n",
            "min          1.000000\n",
            "25%          7.900000\n",
            "50%          9.000000\n",
            "75%         10.000000\n",
            "max         10.000000\n",
            "Name: rating, dtype: float64\n",
            "\n",
            "Unique values in 'rating':\n",
            "[10.   9.   9.2  8.3  7.5  8.   9.6  8.8  7.9  7.   7.1  6.   6.7  5.\n",
            "  9.5  2.   3.   3.8  4.2  5.8  5.4  1.   4.6  6.3  8.5  3.3  2.9  4.\n",
            "  2.5  4.5  5.5  8.1  3.5  9.4  6.5  6.9]\n",
            "\n",
            "Value counts for 'rating':\n",
            "rating\n",
            "1.0       95\n",
            "2.0       44\n",
            "2.5       55\n",
            "2.9       40\n",
            "3.0       78\n",
            "3.3       67\n",
            "3.5        1\n",
            "3.8       81\n",
            "4.0      104\n",
            "4.2      101\n",
            "4.5        6\n",
            "4.6      162\n",
            "5.0      384\n",
            "5.4      228\n",
            "5.5       12\n",
            "5.8      294\n",
            "6.0      305\n",
            "6.3      400\n",
            "6.5       10\n",
            "6.7      512\n",
            "6.9        1\n",
            "7.0      907\n",
            "7.1      735\n",
            "7.5     1242\n",
            "7.9     1141\n",
            "8.0     2086\n",
            "8.1        1\n",
            "8.3     1393\n",
            "8.5       33\n",
            "8.8     1538\n",
            "9.0     2319\n",
            "9.2     2050\n",
            "9.4        8\n",
            "9.5       57\n",
            "9.6     2463\n",
            "10.0    7433\n",
            "Name: count, dtype: int64\n"
          ]
        }
      ]
    },
    {
      "cell_type": "markdown",
      "source": [
        "Based on the histogram, the key findings are that the 'rating' column is a numerical target with ample data (26386 non-null entries). However, it exhibits a strong positive skew, with a mean of 8.56, and over 75% of ratings are 7.9 or higher, making lower ratings significantly sparse.\n",
        "\n",
        "This skew will cause regression models to be biased towards predicting higher ratings, potentially performing poorly on and underrepresenting the crucial, but rare, lower (negative) ratings.\n",
        "\n",
        "Moving forward with the regression to predict the rating will mean that:\n",
        "\n",
        "*   I will need to prioritize MAE/RMSE for evaluation and analyze errors across rating ranges.\n",
        "*  Employ robust regression models like Gradient Boosting Machines (XGBoost, LightGBM).\n",
        "*   Focus feature engineering on attributes indicative of negative sentiment to aid prediction of sparse low ratings.\n",
        "*   Consider converting to a classification problem by binning ratings if direct regression proves too challenging."
      ],
      "metadata": {
        "id": "VViH_j1Tqj48"
      },
      "id": "VViH_j1Tqj48"
    },
    {
      "cell_type": "markdown",
      "source": [
        "#### Sentiment Classification (Classification Problem derived from rating)\n",
        "\n",
        "add a reasoning for the 9/0 threshold and not the 8.0"
      ],
      "metadata": {
        "id": "RM5D6a26qmva"
      },
      "id": "RM5D6a26qmva"
    },
    {
      "cell_type": "code",
      "source": [
        "# Define a function to categorize ratings into sentiments\n",
        "def derive_binary_sentiment(rating):\n",
        "    if rating >= 9.0:\n",
        "        return 'Positive'\n",
        "    else:\n",
        "        return 'Negative'\n",
        "\n",
        "# Create the new binary sentiment column\n",
        "df_cleaned['sentiment_label'] = df_cleaned[rating_column_name].apply(derive_binary_sentiment)\n",
        "\n",
        "#df_classification['sentiment_label'] = df_classification['rating'].apply(derive_binary_sentiment)\n",
        "\n",
        "# Display the distribution of sentiment labels\n",
        "plt.figure(figsize=(8, 5))\n",
        "sns.countplot(x='sentiment_label', data=df_cleaned, order=['Negative', 'Positive'])\n",
        "plt.title('Distribution of Derived Binary Sentiment Labels (Threshold: 9.0)')\n",
        "plt.xlabel('Sentiment')\n",
        "plt.ylabel('Number of Reviews')\n",
        "plt.show()\n",
        "\n",
        "# Print counts and percentages to quantify imbalance\n",
        "sentiment_counts = df_cleaned['sentiment_label'].value_counts()\n",
        "print(\"\\nDerived Binary Sentiment Label Counts:\")\n",
        "print(sentiment_counts)\n",
        "print(\"\\nDerived Binary Sentiment Label Proportions:\")\n",
        "print((df_cleaned['sentiment_label'].value_counts(normalize=True) * 100).round(2))\n"
      ],
      "metadata": {
        "colab": {
          "base_uri": "https://localhost:8080/",
          "height": 695
        },
        "id": "PTKWZeilptPu",
        "outputId": "1b5492d5-453c-413d-a6bf-573f2cd3631e"
      },
      "id": "PTKWZeilptPu",
      "execution_count": 20,
      "outputs": [
        {
          "output_type": "display_data",
          "data": {
            "text/plain": [
              "<Figure size 800x500 with 1 Axes>"
            ],
            "image/png": "[encoded data removed]"
          },
          "metadata": {}
        },
        {
          "output_type": "stream",
          "name": "stdout",
          "text": [
            "\n",
            "Derived Binary Sentiment Label Counts:\n",
            "sentiment_label\n",
            "Positive    14330\n",
            "Negative    12056\n",
            "Name: count, dtype: int64\n",
            "\n",
            "Derived Binary Sentiment Label Proportions:\n",
            "sentiment_label\n",
            "Positive    54.31\n",
            "Negative    45.69\n",
            "Name: proportion, dtype: float64\n"
          ]
        }
      ]
    },
    {
      "cell_type": "markdown",
      "source": [
        "Your rating data was effectively transformed into a well-balanced binary classification target (Positive: 53.72%, Negative: 46.28%) using the rating 9.0 as a threshold. This near-even split mitigates class imbalance issues, aiding robust classifier training and evaluation.\n",
        "\n",
        "The limitations of this split is that, the 9.0 threshold is arbitrary, leading to a loss of original rating granularity where diverse dissatisfaction levels are grouped. Reviews just below 9.0 are categorized with truly negative ones, potentially misrepresenting nuanced sentiment. \"Neutral\" reviews might also fall into \"Negative\" based purely on score.\n",
        "\n",
        "To address the limitations, I will be performing a boundary analysis during model evaluation to understand misclassifications near the 9.0 mark as well a conducting detailed error analysis on miscategorized reviews."
      ],
      "metadata": {
        "id": "vpH_8wtpqq_Q"
      },
      "id": "vpH_8wtpqq_Q"
    },
    {
      "cell_type": "markdown",
      "source": [
        "## Data Processing"
      ],
      "metadata": {
        "id": "qd4jEBhCqu2t"
      },
      "id": "qd4jEBhCqu2t"
    },
    {
      "cell_type": "markdown",
      "source": [
        "### Handling missing values"
      ],
      "metadata": {
        "id": "rVNJxDQwqvdE"
      },
      "id": "rVNJxDQwqvdE"
    },
    {
      "cell_type": "code",
      "source": [
        "# Current missing values\n",
        "df_cleaned.isnull().sum()"
      ],
      "metadata": {
        "colab": {
          "base_uri": "https://localhost:8080/",
          "height": 397
        },
        "id": "Q9f_VShCqulT",
        "outputId": "e3fef442-359e-4711-c0cd-aa0b5bc569e8"
      },
      "id": "Q9f_VShCqulT",
      "execution_count": 21,
      "outputs": [
        {
          "output_type": "execute_result",
          "data": {
            "text/plain": [
              "review_title         1\n",
              "reviewed_at          0\n",
              "reviewed_by          0\n",
              "hotel_name           0\n",
              "avg_rating           0\n",
              "nationality         16\n",
              "rating               0\n",
              "raw_review_text    184\n",
              "tags               184\n",
              "sentiment_label      0\n",
              "dtype: int64"
            ],
            "text/html": [
              "<div>\n",
              "<style scoped>\n",
              "    .dataframe tbody tr th:only-of-type {\n",
              "        vertical-align: middle;\n",
              "    }\n",
              "\n",
              "    .dataframe tbody tr th {\n",
              "        vertical-align: top;\n",
              "    }\n",
              "\n",
              "    .dataframe thead th {\n",
              "        text-align: right;\n",
              "    }\n",
              "</style>\n",
              "<table border=\"1\" class=\"dataframe\">\n",
              "  <thead>\n",
              "    <tr style=\"text-align: right;\">\n",
              "      <th></th>\n",
              "      <th>0</th>\n",
              "    </tr>\n",
              "  </thead>\n",
              "  <tbody>\n",
              "    <tr>\n",
              "      <th>review_title</th>\n",
              "      <td>1</td>\n",
              "    </tr>\n",
              "    <tr>\n",
              "      <th>reviewed_at</th>\n",
              "      <td>0</td>\n",
              "    </tr>\n",
              "    <tr>\n",
              "      <th>reviewed_by</th>\n",
              "      <td>0</td>\n",
              "    </tr>\n",
              "    <tr>\n",
              "      <th>hotel_name</th>\n",
              "      <td>0</td>\n",
              "    </tr>\n",
              "    <tr>\n",
              "      <th>avg_rating</th>\n",
              "      <td>0</td>\n",
              "    </tr>\n",
              "    <tr>\n",
              "      <th>nationality</th>\n",
              "      <td>16</td>\n",
              "    </tr>\n",
              "    <tr>\n",
              "      <th>rating</th>\n",
              "      <td>0</td>\n",
              "    </tr>\n",
              "    <tr>\n",
              "      <th>raw_review_text</th>\n",
              "      <td>184</td>\n",
              "    </tr>\n",
              "    <tr>\n",
              "      <th>tags</th>\n",
              "      <td>184</td>\n",
              "    </tr>\n",
              "    <tr>\n",
              "      <th>sentiment_label</th>\n",
              "      <td>0</td>\n",
              "    </tr>\n",
              "  </tbody>\n",
              "</table>\n",
              "</div><br><label><b>dtype:</b> int64</label>"
            ]
          },
          "metadata": {},
          "execution_count": 21
        }
      ]
    },
    {
      "cell_type": "markdown",
      "source": [
        "We will manage the the missing values for 'review_title', 'nationality', 'raw_review_text' and 'tags' in the following way:\n",
        "\n",
        "1.  review_title: I will add a placeholder \"No Title\" to preserve data. This approach is ideal because only one value is missing, and mean/median/mode imputation isn't suitable for text.\n",
        "2.  nationality: I will fill in the NaNs with the mode so the most frequent nationality. Using the mode is a common and  reasonable approach for categorical features as it preserves the distribution of the existing data as much as possible by assuming the missing values are most likely to belong to the most common category. While it might introduce a slight bias towards the mode, for a small number of missing values (16 in this case), the impact will be minimal.\n",
        "\n",
        "3.  raw_review_text: I will add a placeholder in this case an empty string. In this case an empty String '' is the best option as in an NLP pipeline this will naturally result in no tokens or zero vectors, which is the correct representation for an absent review.\n",
        "\n",
        "4.  tags: I will add a placeholder in this case an empty string.\n"
      ],
      "metadata": {
        "id": "W6PFqeBrq3vJ"
      },
      "id": "W6PFqeBrq3vJ"
    },
    {
      "cell_type": "code",
      "source": [
        "# Review title\n",
        "df_cleaned['review_title'].fillna('No Title', inplace=True)\n",
        "\n",
        "# Nationality\n",
        "most_frequent_nationality = df_cleaned['nationality'].mode()[0]\n",
        "df_cleaned['nationality'].fillna(most_frequent_nationality, inplace=True)\n",
        "\n",
        "# Raw_review_text\n",
        "df_cleaned['raw_review_text'].fillna('', inplace=True)\n",
        "\n",
        "# Tags\n",
        "df_cleaned['tags'].fillna('', inplace=True)"
      ],
      "metadata": {
        "id": "R_ZhNIKCptR7"
      },
      "id": "R_ZhNIKCptR7",
      "execution_count": 22,
      "outputs": []
    },
    {
      "cell_type": "code",
      "source": [
        "# Validating that the missing values were handled\n",
        "df_cleaned.isnull().sum()"
      ],
      "metadata": {
        "colab": {
          "base_uri": "https://localhost:8080/",
          "height": 397
        },
        "id": "DZ2ttvc9ptUV",
        "outputId": "fe18a86b-b8c0-40d9-e965-223096bb8657"
      },
      "id": "DZ2ttvc9ptUV",
      "execution_count": 23,
      "outputs": [
        {
          "output_type": "execute_result",
          "data": {
            "text/plain": [
              "review_title       0\n",
              "reviewed_at        0\n",
              "reviewed_by        0\n",
              "hotel_name         0\n",
              "avg_rating         0\n",
              "nationality        0\n",
              "rating             0\n",
              "raw_review_text    0\n",
              "tags               0\n",
              "sentiment_label    0\n",
              "dtype: int64"
            ],
            "text/html": [
              "<div>\n",
              "<style scoped>\n",
              "    .dataframe tbody tr th:only-of-type {\n",
              "        vertical-align: middle;\n",
              "    }\n",
              "\n",
              "    .dataframe tbody tr th {\n",
              "        vertical-align: top;\n",
              "    }\n",
              "\n",
              "    .dataframe thead th {\n",
              "        text-align: right;\n",
              "    }\n",
              "</style>\n",
              "<table border=\"1\" class=\"dataframe\">\n",
              "  <thead>\n",
              "    <tr style=\"text-align: right;\">\n",
              "      <th></th>\n",
              "      <th>0</th>\n",
              "    </tr>\n",
              "  </thead>\n",
              "  <tbody>\n",
              "    <tr>\n",
              "      <th>review_title</th>\n",
              "      <td>0</td>\n",
              "    </tr>\n",
              "    <tr>\n",
              "      <th>reviewed_at</th>\n",
              "      <td>0</td>\n",
              "    </tr>\n",
              "    <tr>\n",
              "      <th>reviewed_by</th>\n",
              "      <td>0</td>\n",
              "    </tr>\n",
              "    <tr>\n",
              "      <th>hotel_name</th>\n",
              "      <td>0</td>\n",
              "    </tr>\n",
              "    <tr>\n",
              "      <th>avg_rating</th>\n",
              "      <td>0</td>\n",
              "    </tr>\n",
              "    <tr>\n",
              "      <th>nationality</th>\n",
              "      <td>0</td>\n",
              "    </tr>\n",
              "    <tr>\n",
              "      <th>rating</th>\n",
              "      <td>0</td>\n",
              "    </tr>\n",
              "    <tr>\n",
              "      <th>raw_review_text</th>\n",
              "      <td>0</td>\n",
              "    </tr>\n",
              "    <tr>\n",
              "      <th>tags</th>\n",
              "      <td>0</td>\n",
              "    </tr>\n",
              "    <tr>\n",
              "      <th>sentiment_label</th>\n",
              "      <td>0</td>\n",
              "    </tr>\n",
              "  </tbody>\n",
              "</table>\n",
              "</div><br><label><b>dtype:</b> int64</label>"
            ]
          },
          "metadata": {},
          "execution_count": 23
        }
      ]
    },
    {
      "cell_type": "markdown",
      "source": [
        "### Feature Engineering from Structured Data\n",
        "\n",
        "The goal of this part is to extract more information from existing numerical and categorical features, especially time-related ones, to potentially improve model performance or provide deeper insights."
      ],
      "metadata": {
        "id": "6GEW30n4q-TP"
      },
      "id": "6GEW30n4q-TP"
    },
    {
      "cell_type": "markdown",
      "source": [
        "#### Step 1: Convert reviewed_at to Datetime object\n",
        "\n",
        "Convert reviewed_at in df_cleaned to a pandas datetime object as this allows easy extraction of year, month, day, day of week and facilitates date arithmetic."
      ],
      "metadata": {
        "id": "ahGs4w3wrDby"
      },
      "id": "ahGs4w3wrDby"
    },
    {
      "cell_type": "code",
      "source": [
        "# Convert to datetime\n",
        "df_cleaned['reviewed_at'] = pd.to_datetime(df_cleaned['reviewed_at'])\n"
      ],
      "metadata": {
        "id": "pDi3LcbrptW1"
      },
      "id": "pDi3LcbrptW1",
      "execution_count": 24,
      "outputs": []
    },
    {
      "cell_type": "code",
      "source": [
        "# Now that reviewed_at is a datetime object, I can easily extract various time-based features.\n",
        "# Seasonality: Month, quarter, and day of week can capture seasonal trends in reviews.\n",
        "# Temporal Trends: Year can capture long-term trends or changes.\n",
        "# Recency: review_age_days\n",
        "\n",
        "# Basic features to create\n",
        "df_cleaned['review_year'] = df_cleaned['reviewed_at'].dt.year\n",
        "df_cleaned['review_month'] = df_cleaned['reviewed_at'].dt.month\n",
        "df_cleaned['review_day'] = df_cleaned['reviewed_at'].dt.day\n",
        "df_cleaned['review_day_of_week'] = df_cleaned['reviewed_at'].dt.dayofweek # Monday=0, Sunday=6\n",
        "df_cleaned['review_quarter'] = df_cleaned['reviewed_at'].dt.quarter\n",
        "\n",
        "# Age relative to the latest review date in the dataset\n",
        "latest_review_date = df_cleaned['reviewed_at'].max()\n",
        "df_cleaned['review_age_days'] = (latest_review_date - df_cleaned['reviewed_at']).dt.days\n",
        "\n",
        "print(\"\\nDataFrame after adding time-based features:\")\n",
        "print(df_cleaned[['reviewed_at', 'review_year', 'review_month', 'review_day', 'review_day_of_week', 'review_quarter', 'review_age_days']].head())"
      ],
      "metadata": {
        "colab": {
          "base_uri": "https://localhost:8080/"
        },
        "id": "zdIGKhVZptZU",
        "outputId": "b6631290-1ebe-4894-b4b5-8eac46250eee"
      },
      "id": "zdIGKhVZptZU",
      "execution_count": 25,
      "outputs": [
        {
          "output_type": "stream",
          "name": "stdout",
          "text": [
            "\n",
            "DataFrame after adding time-based features:\n",
            "  reviewed_at  review_year  review_month  review_day  review_day_of_week  \\\n",
            "0  2021-07-11         2021             7          11                   6   \n",
            "1  2019-11-24         2019            11          24                   6   \n",
            "2  2020-01-03         2020             1           3                   4   \n",
            "3  2019-09-08         2019             9           8                   6   \n",
            "4  2019-06-23         2019             6          23                   6   \n",
            "\n",
            "   review_quarter  review_age_days  \n",
            "0               3                8  \n",
            "1               4              603  \n",
            "2               1              563  \n",
            "3               3              680  \n",
            "4               2              757  \n"
          ]
        }
      ]
    },
    {
      "cell_type": "markdown",
      "source": [
        "#### Step 2: Aggregation Features\n",
        "\n",
        "Reviewer centric metrics?"
      ],
      "metadata": {
        "id": "1WFybdwNrcgk"
      },
      "id": "1WFybdwNrcgk"
    },
    {
      "cell_type": "code",
      "source": [
        "#reviewer_stats = df_cleaned.groupby('reviewed_by').agg(reviewer_total_reviews=('reviewed_by', 'count'),reviewer_avg_rating=('rating', 'mean')).reset_index()\n",
        "#df_cleaned = pd.merge(df_cleaned, reviewer_stats, on='reviewed_by', how='left')\n",
        "\n",
        "#print(\"\\nDataFrame after adding aggregation features:\")\n",
        "#print(df_cleaned[['hotel_name', 'rating', 'hotel_avg_rating', 'hotel_total_reviews',\n",
        "#          'reviewed_by', 'reviewer_total_reviews', 'reviewer_avg_rating']].head())"
      ],
      "metadata": {
        "id": "hD8T-IMUptbv"
      },
      "id": "hD8T-IMUptbv",
      "execution_count": 26,
      "outputs": []
    },
    {
      "cell_type": "markdown",
      "source": [
        "### Feature Selection"
      ],
      "metadata": {
        "id": "3-mElPOjrqp1"
      },
      "id": "3-mElPOjrqp1"
    },
    {
      "cell_type": "code",
      "source": [
        "# Define target variable\n",
        "y = df_cleaned['rating']\n",
        "\n",
        "X = df_cleaned.drop(columns=[\n",
        "    'rating', 'reviewed_at', 'review_title', 'raw_review_text', 'tags',\n",
        "    'nationality', 'reviewed_by', 'hotel_name', 'sentiment_label'\n",
        "\n",
        "])\n"
      ],
      "metadata": {
        "id": "1hu0Bnw3pteH"
      },
      "id": "1hu0Bnw3pteH",
      "execution_count": 27,
      "outputs": []
    },
    {
      "cell_type": "code",
      "source": [
        "# Select only numerical columns for correlation calculation\n",
        "numerical_cols = X.select_dtypes(include=np.number).columns\n",
        "\n",
        "# Calculate correlation with the target variable\n",
        "correlations = X[numerical_cols].corrwith(y).sort_values(ascending=False)\n",
        "print(\"\\nCorrelation of numerical features with 'rating':\\n\", correlations)\n",
        "\n",
        "# Visualize correlation matrix among numerical features if you have many\n",
        "plt.figure(figsize=(12, 10))\n",
        "sns.heatmap(X[numerical_cols].corr(), annot=True, cmap='coolwarm', fmt=\".2f\")\n",
        "plt.title('Correlation Matrix of Numerical Features')\n",
        "plt.show()\n"
      ],
      "metadata": {
        "colab": {
          "base_uri": "https://localhost:8080/",
          "height": 1000
        },
        "id": "Zl4Z3hA1ptgm",
        "outputId": "fee48f87-02c8-4ddb-a594-ac15e8e69b05"
      },
      "id": "Zl4Z3hA1ptgm",
      "execution_count": 28,
      "outputs": [
        {
          "output_type": "stream",
          "name": "stdout",
          "text": [
            "\n",
            "Correlation of numerical features with 'rating':\n",
            " avg_rating            0.470730\n",
            "review_age_days       0.048466\n",
            "review_month          0.012990\n",
            "review_quarter        0.007443\n",
            "review_day           -0.008063\n",
            "review_day_of_week   -0.009854\n",
            "review_year          -0.047088\n",
            "dtype: float64\n"
          ]
        },
        {
          "output_type": "display_data",
          "data": {
            "text/plain": [
              "<Figure size 1200x1000 with 2 Axes>"
            ],
            "image/png": "[encoded data removed]"
          },
          "metadata": {}
        }
      ]
    },
    {
      "cell_type": "markdown",
      "source": [
        "Based on the correlation matrix, we will be dropping the following variables: review_quarter, review_day and review_year. These show extremely low correlation with rating and review_quarter is redundant with review_month. review_year is also redundant with review_age_days. Removing them reduces noise and multicollinearity.\n",
        "\n",
        "I'm keeping review_age_days because even if correlation is low, temporal features can have non-linear impacts or interactions not captured by simple correlation, warranting further evaluation by other methods."
      ],
      "metadata": {
        "id": "ObO1uoCzrwX-"
      },
      "id": "ObO1uoCzrwX-"
    },
    {
      "cell_type": "code",
      "source": [
        "# Columns to drop based on low correlation and redundancy\n",
        "columns_to_drop_now = [\n",
        "    'review_quarter',\n",
        "    'review_day',\n",
        "    'review_year'\n",
        "]\n",
        "\n",
        "# Ensure these columns actually exist in X before dropping\n",
        "existing_columns_to_drop = [col for col in columns_to_drop_now if col in X.columns]\n",
        "\n",
        "if existing_columns_to_drop:\n",
        "    X_filtered = X.drop(columns=existing_columns_to_drop)\n",
        "    print(f\"\\nDropped columns: {existing_columns_to_drop}\")\n",
        "    print(\"\\nFeatures (X_filtered) columns after preliminary drops:\\n\", X_filtered.columns.tolist())\n",
        "    print(\"\\nShape of X_filtered:\", X_filtered.shape)\n",
        "else:\n",
        "    X_filtered = X.copy()\n",
        "    print(\"\\nNo additional columns to drop based on this correlation analysis.\")"
      ],
      "metadata": {
        "colab": {
          "base_uri": "https://localhost:8080/"
        },
        "id": "qRtwB19Gpti_",
        "outputId": "b8ceaeae-1929-4926-94de-ba1ba51ae6e0"
      },
      "id": "qRtwB19Gpti_",
      "execution_count": 29,
      "outputs": [
        {
          "output_type": "stream",
          "name": "stdout",
          "text": [
            "\n",
            "Dropped columns: ['review_quarter', 'review_day', 'review_year']\n",
            "\n",
            "Features (X_filtered) columns after preliminary drops:\n",
            " ['avg_rating', 'review_month', 'review_day_of_week', 'review_age_days']\n",
            "\n",
            "Shape of X_filtered: (26386, 4)\n"
          ]
        }
      ]
    },
    {
      "cell_type": "code",
      "source": [
        "# F-regression\n",
        "print(\"\\n--- Feature Selection using F-regression (SelectKBest) on X_filtered ---\")\n",
        "selector_f_reg_filtered = SelectKBest(score_func=f_regression, k='all')\n",
        "selector_f_reg_filtered.fit(X_filtered, y)\n",
        "f_scores_filtered = pd.DataFrame({'Feature': X_filtered.columns, 'F-Score': selector_f_reg_filtered.scores_, 'P-value': selector_f_reg_filtered.pvalues_})\n",
        "f_scores_filtered = f_scores_filtered.sort_values(by='F-Score', ascending=False)\n",
        "print(f_scores_filtered)\n",
        "\n",
        "# Mutual Information Regression\n",
        "print(\"\\n--- Feature Selection using Mutual Information Regression (SelectKBest) on X_filtered ---\")\n",
        "selector_mi_filtered = SelectKBest(score_func=mutual_info_regression, k='all')\n",
        "selector_mi_filtered.fit(X_filtered, y)\n",
        "mi_scores_filtered = pd.DataFrame({'Feature': X_filtered.columns, 'Mutual_Info_Score': selector_mi_filtered.scores_})\n",
        "mi_scores_filtered = mi_scores_filtered.sort_values(by='Mutual_Info_Score', ascending=False)\n",
        "print(mi_scores_filtered)"
      ],
      "metadata": {
        "colab": {
          "base_uri": "https://localhost:8080/"
        },
        "id": "C9oRwmn8ptlU",
        "outputId": "c1f29e3d-9c87-4a32-c0e5-e3f0be18d4db"
      },
      "id": "C9oRwmn8ptlU",
      "execution_count": 30,
      "outputs": [
        {
          "output_type": "stream",
          "name": "stdout",
          "text": [
            "\n",
            "--- Feature Selection using F-regression (SelectKBest) on X_filtered ---\n",
            "              Feature      F-Score       P-value\n",
            "0          avg_rating  7510.571920  0.000000e+00\n",
            "3     review_age_days    62.121234  3.353500e-15\n",
            "1        review_month     4.452992  3.484954e-02\n",
            "2  review_day_of_week     2.561953  1.094753e-01\n",
            "\n",
            "--- Feature Selection using Mutual Information Regression (SelectKBest) on X_filtered ---\n",
            "              Feature  Mutual_Info_Score\n",
            "3     review_age_days           0.321365\n",
            "0          avg_rating           0.162666\n",
            "1        review_month           0.018086\n",
            "2  review_day_of_week           0.004292\n"
          ]
        }
      ]
    },
    {
      "cell_type": "markdown",
      "source": [
        "Based on the F-regression and Mutual Information scores we will drop and keep the following variables:\n",
        "\n",
        "Drop:\n",
        "\n",
        "1. review_day_of_week: Its F-score is low, and the P-value (0.109) is above the 0.05 significance threshold. The Mutual Information score is also extremely low (0.006). This indicates it has little to no linear or non-linear relationship with rating.\n",
        "\n",
        "Keep (for further evaluation by model-based methods):\n",
        "\n",
        "1. review_age_days: Exhibits high statistical significance (low P-value) and is the strongest feature by Mutual Information, suggesting a potentially strong non-linear relationship.\n",
        "\n",
        "2. review_month: While its Mutual Information score is low, its F-score's P-value (0.0348) is still below 0.05. It might have a subtle linear impact or interact with other features, so it's worth assessing with tree-based models next.\n",
        "\n",
        "As only 'review_month' and 'review_age_days' are left, I'm going to evaluate if it will be ok keeping both or not using a Variance Inflation Factor (VIF) calculation:"
      ],
      "metadata": {
        "id": "anWlPVo1r2rM"
      },
      "id": "anWlPVo1r2rM"
    },
    {
      "cell_type": "code",
      "source": [
        "# Adding a constant as this is a good practice for VIF calculation\n",
        "X_vif = X_filtered[['review_month', 'review_age_days']].copy() # Just these two for now\n",
        "X_vif['intercept'] = 1\n",
        "\n",
        "vif_data = pd.DataFrame()\n",
        "vif_data[\"feature\"] = X_vif.columns\n",
        "vif_data[\"VIF\"] = [variance_inflation_factor(X_vif.values, i) for i in range(X_vif.shape[1])]\n",
        "\n",
        "print(\"\\nVariance Inflation Factor (VIF) for review_month and review_age_days:\")\n",
        "print(vif_data)"
      ],
      "metadata": {
        "colab": {
          "base_uri": "https://localhost:8080/"
        },
        "id": "afPNMykvptns",
        "outputId": "f786b490-05e6-4c9a-b939-43c33d656cc7"
      },
      "id": "afPNMykvptns",
      "execution_count": 31,
      "outputs": [
        {
          "output_type": "stream",
          "name": "stdout",
          "text": [
            "\n",
            "Variance Inflation Factor (VIF) for review_month and review_age_days:\n",
            "           feature       VIF\n",
            "0     review_month  1.027271\n",
            "1  review_age_days  1.027271\n",
            "2        intercept  9.789823\n"
          ]
        }
      ]
    },
    {
      "cell_type": "markdown",
      "source": [
        "The Variance Inflation Factor (VIF) for both review_month and review_age_days is approximately 1.03. This score, being very close to 1, indicates extremely low multicollinearity between these two features.\n",
        "\n",
        "Crucially, these variables capture distinct temporal aspects. Review_month accounts for seasonality, reflecting potential cyclical patterns in hotel ratings throughout the year (e.g., holiday seasons, peak travel months). In contrast, review_age_days measures recency, indicating how old a review is, which can reflect current hotel conditions or reviewer sentiment trends over time.\n",
        "\n",
        "Since they provide independent information about different facets of time and do not exhibit problematic redundancy, retaining both enriches the model's understanding of review dynamics. This allows the model to leverage both seasonal influences and the impact of review recency, leading to a more comprehensive and potentially more accurate predictive capability without introducing noise or instability."
      ],
      "metadata": {
        "id": "YkX8oIBYr68C"
      },
      "id": "YkX8oIBYr68C"
    },
    {
      "cell_type": "code",
      "source": [
        "# Final cleaned df with feature engineering variables define through feature selection\n",
        "df_filtered = df_cleaned.drop(columns=[ 'review_quarter', 'review_day', 'review_year',  'review_day_of_week'])\n",
        "\n",
        "df_filtered.info()"
      ],
      "metadata": {
        "colab": {
          "base_uri": "https://localhost:8080/"
        },
        "id": "-heFcJXYptqF",
        "outputId": "4c71903e-9fb1-4692-a8b7-2c52079d5c68"
      },
      "id": "-heFcJXYptqF",
      "execution_count": 32,
      "outputs": [
        {
          "output_type": "stream",
          "name": "stdout",
          "text": [
            "<class 'pandas.core.frame.DataFrame'>\n",
            "Index: 26386 entries, 0 to 26674\n",
            "Data columns (total 12 columns):\n",
            " #   Column           Non-Null Count  Dtype         \n",
            "---  ------           --------------  -----         \n",
            " 0   review_title     26386 non-null  object        \n",
            " 1   reviewed_at      26386 non-null  datetime64[ns]\n",
            " 2   reviewed_by      26386 non-null  object        \n",
            " 3   hotel_name       26386 non-null  object        \n",
            " 4   avg_rating       26386 non-null  float64       \n",
            " 5   nationality      26386 non-null  object        \n",
            " 6   rating           26386 non-null  float64       \n",
            " 7   raw_review_text  26386 non-null  object        \n",
            " 8   tags             26386 non-null  object        \n",
            " 9   sentiment_label  26386 non-null  object        \n",
            " 10  review_month     26386 non-null  int32         \n",
            " 11  review_age_days  26386 non-null  int64         \n",
            "dtypes: datetime64[ns](1), float64(2), int32(1), int64(1), object(7)\n",
            "memory usage: 2.5+ MB\n"
          ]
        }
      ]
    },
    {
      "cell_type": "markdown",
      "source": [
        "### Text Preprocessing\n",
        "\n",
        "This text preprocessing methodology is meticulously designed to transform raw, unstructured review data into a clean, normalized, and semantically rich format suitable for advanced natural language processing tasks.\n",
        "\n",
        "This multi-stage process begins with fundamental cleanups, including lowercasing to standardize text representation and the removal of URLs and HTML tags to eliminate extraneous noise. Subsequently, emojis and emoticons are converted into descriptive text to capture their inherent sentiment, while the text is simultaneously tokenized into individual words. I then apply lemmatization to reduce words to their base forms, ensuring consistent representation across variations, and systematically remove punctuation and numbers to focus on meaningful lexical content. A crucial step involves comprehensive stop word removal, which not only leverages standard lists but also incorporates custom, domain-specific terms (e.g., \"hotel,\" \"room\") that lack discriminative power in review contexts.\n",
        "\n",
        "Furthermore, I implement sophisticated negation handling by tagging words that follow negations (e.g., \"good_NEG\" from \"not good\"), thus preserving accurate sentiment. Finally, optional spell correction is employed to address typographical errors, preventing data sparsity and ensuring that misspelled words contribute correctly to feature representation. This rigorous preprocessing pipeline is essential for generating high-quality features for subsequent TF-IDF modeling and enhancing the overall performance of our machine learning models.\n"
      ],
      "metadata": {
        "id": "yBP9ooqwsGGh"
      },
      "id": "yBP9ooqwsGGh"
    },
    {
      "cell_type": "code",
      "source": [
        "# Initialize spaCy\n",
        "# Load a pre-trained English model. 'en_core_web_sm' is a good starting point.\n",
        "try:\n",
        "    nlp = spacy.load(\"en_core_web_sm\")\n",
        "    print(\"spaCy 'en_core_web_sm' model loaded successfully.\")\n",
        "except OSError:\n",
        "    print(\"spaCy 'en_core_web_sm' model not found. Please run: !python -m spacy download en_core_web_sm\")\n",
        "    import sys\n",
        "    sys.exit(\"SpaCy model not found. Please download it first.\")"
      ],
      "metadata": {
        "colab": {
          "base_uri": "https://localhost:8080/"
        },
        "id": "uxuzbFvdptsZ",
        "outputId": "1b98f264-6d89-4436-f500-3600f623d61b"
      },
      "id": "uxuzbFvdptsZ",
      "execution_count": 33,
      "outputs": [
        {
          "output_type": "stream",
          "name": "stdout",
          "text": [
            "spaCy 'en_core_web_sm' model loaded successfully.\n"
          ]
        }
      ]
    },
    {
      "cell_type": "code",
      "source": [
        "# 1. Clone my github to bring my helper function: processing_text.py file into my Colab environment.\n",
        "repo_url = \"https://github.com/KBE25/hotel_sentiment.git\"\n",
        "repo_name = \"hotel_sentiment\"\n",
        "\n",
        "# Check if the repo is already cloned to avoid re-cloning on successive runs\n",
        "if not os.path.exists(repo_name):\n",
        "    print(f\"Cloning {repo_name} from GitHub...\")\n",
        "    !git clone {repo_url}\n",
        "    print(f\"Repository '{repo_name}' cloned successfully.\")\n",
        "else:\n",
        "    print(f\"Repository '{repo_name}' already exists. Skipping clone.\")\n",
        "\n",
        "# Navigate into the cloned repository's directory\n",
        "# This is important so Python can find the helper file directly\n",
        "%cd {repo_name}/\n",
        "print(f\"Current working directory changed to: {os.getcwd()}\")"
      ],
      "metadata": {
        "colab": {
          "base_uri": "https://localhost:8080/"
        },
        "id": "VydnFmjeptu4",
        "outputId": "be690f24-a830-4d6c-cbd1-b366d8351c3d"
      },
      "id": "VydnFmjeptu4",
      "execution_count": 34,
      "outputs": [
        {
          "output_type": "stream",
          "name": "stdout",
          "text": [
            "Cloning hotel_sentiment from GitHub...\n",
            "Cloning into 'hotel_sentiment'...\n",
            "remote: Enumerating objects: 226, done.\u001b[K\n",
            "remote: Counting objects: 100% (127/127), done.\u001b[K\n",
            "remote: Compressing objects: 100% (89/89), done.\u001b[K\n",
            "remote: Total 226 (delta 92), reused 40 (delta 38), pack-reused 99 (from 1)\u001b[K\n",
            "Receiving objects: 100% (226/226), 2.00 MiB | 5.10 MiB/s, done.\n",
            "Resolving deltas: 100% (138/138), done.\n",
            "Repository 'hotel_sentiment' cloned successfully.\n",
            "/content/hotel_sentiment\n",
            "Current working directory changed to: /content/hotel_sentiment\n"
          ]
        }
      ]
    },
    {
      "cell_type": "code",
      "source": [
        "# The current working directory should now be the root of your cloned repo\n",
        "# 'processing_text.py' is directly in the root of my repository.\n",
        "path_to_add = os.getcwd()\n",
        "\n",
        "if path_to_add not in sys.path:\n",
        "    sys.path.append(path_to_add)\n",
        "    print(f\"Added '{path_to_add}' to sys.path for module import.\")"
      ],
      "metadata": {
        "colab": {
          "base_uri": "https://localhost:8080/"
        },
        "id": "IjehQeXDptxR",
        "outputId": "ef6bc701-7897-446d-d1f6-ff9529d4545b"
      },
      "id": "IjehQeXDptxR",
      "execution_count": 35,
      "outputs": [
        {
          "output_type": "stream",
          "name": "stdout",
          "text": [
            "Added '/content/hotel_sentiment' to sys.path for module import.\n"
          ]
        }
      ]
    },
    {
      "cell_type": "code",
      "source": [
        "# 2. Import the functions from my processing_text.py helper file\n",
        "try:\n",
        "    from processing_text import (preprocess_text_enhanced_spacy, parallelize_series_with_tqdm, worker_initializer)\n",
        "    print(\"Successfully imported preprocessing functions from 'processing_text.py'.\")\n",
        "except ImportError as e:\n",
        "    print(f\"Error importing functions from processing_text.py: {e}\")\n",
        "    print(\"Please check: 1. File name 'processing_text.py'. 2. Its location in your repo. 3. Python path.\")\n",
        "    # Exit the script if the helper cannot be loaded\n",
        "    sys.exit(\"Failed to import preprocessing helper. Exiting.\")"
      ],
      "metadata": {
        "colab": {
          "base_uri": "https://localhost:8080/"
        },
        "id": "aw8tS3gWptzu",
        "outputId": "02abbe36-ad9d-4e98-95a6-8856b682d1af"
      },
      "id": "aw8tS3gWptzu",
      "execution_count": 36,
      "outputs": [
        {
          "output_type": "stream",
          "name": "stdout",
          "text": [
            "Successfully imported preprocessing functions from 'processing_text.py'.\n"
          ]
        }
      ]
    },
    {
      "cell_type": "code",
      "source": [
        "# These lines are currently commented out because the core text preprocessing took a really long time\n",
        "# In this case, we ran the preprocessing and then saved the filtered dataframe with the preprocessed text information\n",
        "# To run the model below, you will need to uncomment all the below line\n",
        "# This step takes a really long time so after running it the next step will be to save it so is easier just to load the data and run the rest of the analysis\n",
        "\n",
        "# 3. Run the core text preprocessing\n",
        "\n",
        "#if __name__ == '__main__':\n",
        "#    text_cols_to_process = ['raw_review_text', 'review_title', 'tags']\n",
        "#    processed_output_cols = [f'{col}_processed' for col in text_cols_to_process]\n",
        "#\n",
        "#    for col in text_cols_to_process:\n",
        "#        print(f\"Starting parallel processing for column: '{col}' (with full spaCy pipeline)...\")\n",
        "#        df_filtered[f'{col}_processed'] = parallelize_series_with_tqdm(\n",
        "#            df_filtered[col],\n",
        "#            preprocess_text_enhanced_spacy,\n",
        "#            n_cores=None, # Use all available CPU cores\n",
        "#           apply_spell_correction=True # Pass keyword arguments\n",
        "#         )\n",
        "#\n",
        "#print(f\"Finished processing column: '{col}'\")\n",
        "#print(\"\\n--- Processed Text Columns Sample (after all preprocessing) ---\")\n",
        "#print(df_filtered[processed_output_cols].head(2).to_string())\n",
        "#print(\"-\" * 50)"
      ],
      "metadata": {
        "id": "DCYawVYppt2R"
      },
      "id": "DCYawVYppt2R",
      "execution_count": 37,
      "outputs": []
    },
    {
      "cell_type": "code",
      "source": [
        "# These code lines are currently commented out as we have already saved the dataframe\n",
        "# This step saves the df_filtered (including original and new processed columns) to a file for later use, avoiding reprocessing.\n",
        "\n",
        "# 4. Saving the processed dataframe\n",
        "\n",
        "# Create the local directory if it doesn't exist\n",
        "# This block should ideally be run once before any saving operation to this directory\n",
        "#local_save_dir = '/content/downloaded_models'\n",
        "#os.makedirs(local_save_dir, exist_ok=True)\n",
        "\n",
        "# Define the full path for your saved dataframe file within the specified directory\n",
        "#output_filename = os.path.join(local_save_dir, 'df_filtered_processed_3.parquet')\n",
        "#df_filtered.to_parquet(output_filename, index=False)\n",
        "\n",
        "#print(f\"Processed dataframe saved to: {output_filename}\")"
      ],
      "metadata": {
        "id": "ia-JzG7DR0TJ"
      },
      "id": "ia-JzG7DR0TJ",
      "execution_count": 38,
      "outputs": []
    },
    {
      "cell_type": "markdown",
      "source": [
        "To be able to load the data saved in step (4) we are going to have to complete a couple of additional steps using Kaggle. After I completed step (4) and saved the df_filtered data I went ahead and downloaded the data and uploaded into Kaggle for easier management. To be able to recover this information the next steps are needed:\n",
        "\n",
        "1. Create an API connection with Kaggle (which was done when we load the dataset)\n",
        "2. Download the processed data from Kaggle\n",
        "3. Load the data\n"
      ],
      "metadata": {
        "id": "XcMLxaI02BvA"
      },
      "id": "XcMLxaI02BvA"
    },
    {
      "cell_type": "markdown",
      "source": [
        "1. Creating n API connection with Kaggle was completed at the beginning of data acquisition"
      ],
      "metadata": {
        "id": "A0MyowCm2-ke"
      },
      "id": "A0MyowCm2-ke"
    },
    {
      "cell_type": "markdown",
      "source": [
        " #### 2. Downloading the dataset from Kaggle to Colab"
      ],
      "metadata": {
        "id": "epR5MqvV3zKB"
      },
      "id": "epR5MqvV3zKB"
    },
    {
      "cell_type": "code",
      "source": [
        "! kaggle datasets download -d karinabe25us/df-filtered3\n",
        "! unzip df-filtered3.zip"
      ],
      "metadata": {
        "colab": {
          "base_uri": "https://localhost:8080/"
        },
        "id": "5UchRXh8xMFV",
        "outputId": "f71c2278-7522-4c5b-f658-6713fa5a4f3f"
      },
      "id": "5UchRXh8xMFV",
      "execution_count": 39,
      "outputs": [
        {
          "output_type": "stream",
          "name": "stdout",
          "text": [
            "Dataset URL: https://www.kaggle.com/datasets/karinabe25us/df-filtered3\n",
            "License(s): apache-2.0\n",
            "Downloading df-filtered3.zip to /content/hotel_sentiment\n",
            "  0% 0.00/4.42M [00:00<?, ?B/s]\n",
            "100% 4.42M/4.42M [00:00<00:00, 786MB/s]\n",
            "Archive:  df-filtered3.zip\n",
            "  inflating: df_filtered_processed_3.parquet  \n"
          ]
        }
      ]
    },
    {
      "cell_type": "markdown",
      "source": [
        " #### 3. Loading the dataset using pandas"
      ],
      "metadata": {
        "id": "GIu2enM64Nni"
      },
      "id": "GIu2enM64Nni"
    },
    {
      "cell_type": "code",
      "source": [
        "#Loading the model\n",
        "\n",
        "# Define the full path to the processed Parquet file\n",
        "file_path = '/content/hotel_sentiment/df_filtered_processed_3.parquet'\n",
        "\n",
        "# Load the DataFrame directly from the Parquet file\n",
        "df_filtered = pd.read_parquet(file_path)\n",
        "\n",
        "#Confirming the dataset has the correct information\n",
        "print(df_filtered.info())"
      ],
      "metadata": {
        "colab": {
          "base_uri": "https://localhost:8080/"
        },
        "id": "xomcg9-RxMID",
        "outputId": "c56a09fa-c07b-4784-8dbf-2839d40634d9"
      },
      "id": "xomcg9-RxMID",
      "execution_count": 40,
      "outputs": [
        {
          "output_type": "stream",
          "name": "stdout",
          "text": [
            "<class 'pandas.core.frame.DataFrame'>\n",
            "RangeIndex: 26386 entries, 0 to 26385\n",
            "Data columns (total 15 columns):\n",
            " #   Column                     Non-Null Count  Dtype         \n",
            "---  ------                     --------------  -----         \n",
            " 0   review_title               26386 non-null  object        \n",
            " 1   reviewed_at                26386 non-null  datetime64[ns]\n",
            " 2   reviewed_by                26386 non-null  object        \n",
            " 3   hotel_name                 26386 non-null  object        \n",
            " 4   avg_rating                 26386 non-null  float64       \n",
            " 5   nationality                26386 non-null  object        \n",
            " 6   rating                     26386 non-null  float64       \n",
            " 7   raw_review_text            26386 non-null  object        \n",
            " 8   tags                       26386 non-null  object        \n",
            " 9   sentiment_label            26386 non-null  object        \n",
            " 10  review_month               26386 non-null  int32         \n",
            " 11  review_age_days            26386 non-null  int64         \n",
            " 12  raw_review_text_processed  26386 non-null  object        \n",
            " 13  review_title_processed     26386 non-null  object        \n",
            " 14  tags_processed             26386 non-null  object        \n",
            "dtypes: datetime64[ns](1), float64(2), int32(1), int64(1), object(10)\n",
            "memory usage: 2.9+ MB\n",
            "None\n"
          ]
        }
      ]
    },
    {
      "cell_type": "markdown",
      "source": [
        "Now that we have loaded the processed data we can move it the next step, running TF-IDF."
      ],
      "metadata": {
        "id": "eZt7Q4hG6YdF"
      },
      "id": "eZt7Q4hG6YdF"
    },
    {
      "cell_type": "markdown",
      "source": [
        "### TF-IDF Modelling\n",
        "\n",
        "Why TF-IDF?\n",
        "\n",
        "\n",
        "The method that I will be using for TF-IDF is by concatenning all processed text columns."
      ],
      "metadata": {
        "id": "mcJDeWFb76W7"
      },
      "id": "mcJDeWFb76W7"
    },
    {
      "cell_type": "code",
      "source": [
        "# 1. Create a combined text column with the text processed data\n",
        "\n",
        "# Create a new 'combined_text' column by joining the processed text from all relevant columns\n",
        "processed_cols = ['raw_review_text_processed', 'review_title_processed', 'tags_processed']\n",
        "\n",
        "#  Processed_cols will be ['raw_review_text_processed', 'review_title_processed', 'tags_processed']\n",
        "df_filtered['combined_text'] = df_filtered[processed_cols].fillna('').agg(' '.join, axis=1)\n",
        "\n",
        "# Display a sample of the combined text to verify\n",
        "print(\"\\nSample of 'combined_text' column:\")\n",
        "for i, text in enumerate(df_filtered['combined_text'].head(3)):\n",
        "    print(f\"Review {i+1}: {text[:100]}...\")\n",
        "print(\"-\" * 50)"
      ],
      "metadata": {
        "colab": {
          "base_uri": "https://localhost:8080/"
        },
        "id": "bDmQ-KXXxMKi",
        "outputId": "3c490213-4507-417f-ec78-515cdb9dba27"
      },
      "id": "bDmQ-KXXxMKi",
      "execution_count": 41,
      "outputs": [
        {
          "output_type": "stream",
          "name": "stdout",
          "text": [
            "\n",
            "Sample of 'combined_text' column:\n",
            "Review 1: perfect copy relax exceptional junior suite stay submit...\n",
            "Review 2: friendly host perfect breakfast highly recommend b&b enjoy lot deluxe suite stay submit...\n",
            "Review 3: want beach winter location fab apartment quiet equip spotless clean exceptional apartment sea view s...\n",
            "--------------------------------------------------\n"
          ]
        }
      ]
    },
    {
      "cell_type": "code",
      "source": [
        "# 2. Extract the combined documents into a list\n",
        "documents_for_tfidf = df_filtered['combined_text'].tolist()\n",
        "\n",
        "# 3. Initialize TfidfVectorizer\n",
        "#    - max_features: Limits the vocabulary size to the top 5000 most frequent terms/n-grams\n",
        "#    - ngram_range=(1, 2): Considers both single words (unigrams) and two-word phrases (bigrams) as features\n",
        "tfidf_vectorizer = TfidfVectorizer(max_features=5000,ngram_range=(1, 2))\n",
        "\n",
        "\n",
        "# 4. Fit and Transform the documents\n",
        "#    - fit: learns the vocabulary and IDF values from your combined_text documents\n",
        "#    - transform: converts the documents into the TF-IDF numerical matrix\n",
        "tfidf_matrix = tfidf_vectorizer.fit_transform(documents_for_tfidf)\n",
        "\n",
        "print(f\"\\nTF-IDF Matrix Shape (rows: reviews, columns: features): {tfidf_matrix.shape}\")\n",
        "print(f\"Sample TF-IDF features (first 10 out of {tfidf_vectorizer.get_feature_names_out().shape[0]}):\")\n",
        "print(tfidf_vectorizer.get_feature_names_out()[:10])\n",
        "print(\"\\nAnd some last 10 features:\")\n",
        "print(tfidf_vectorizer.get_feature_names_out()[-10:])\n",
        "print(\"-\" * 50)\n"
      ],
      "metadata": {
        "colab": {
          "base_uri": "https://localhost:8080/"
        },
        "id": "cNdGXFGHxMM6",
        "outputId": "85115b8e-7a4d-42e9-e6b8-e0efc97f7825"
      },
      "id": "cNdGXFGHxMM6",
      "execution_count": 42,
      "outputs": [
        {
          "output_type": "stream",
          "name": "stdout",
          "text": [
            "\n",
            "TF-IDF Matrix Shape (rows: reviews, columns: features): (26386, 5000)\n",
            "Sample TF-IDF features (first 10 out of 5000):\n",
            "['30am' '30pm' '_neg' '_neg star_neg' 'able' 'able park' 'able_neg'\n",
            " 'absolute' 'absolutely' 'absolutely amazing']\n",
            "\n",
            "And some last 10 features:\n",
            "['yoghurt' 'yogurt' 'yore' 'young' 'young child' 'youth' 'ypres' 'yummy'\n",
            " 'zircon' 'zone']\n",
            "--------------------------------------------------\n"
          ]
        }
      ]
    },
    {
      "cell_type": "markdown",
      "source": [
        "Below we will be evaluating the above TF-IDF for sentiment analysis"
      ],
      "metadata": {
        "id": "4vIm9i_I-ClD"
      },
      "id": "4vIm9i_I-ClD"
    },
    {
      "cell_type": "code",
      "source": [
        "# Step 1: Inspect Global TF-IDF Features (Vocabulary and IDF Scores)\n",
        "# This helps understand what words/phrases the vectorizer considers most \"important\"\n",
        "# High IDF values usually mean a term is more discriminative.\n",
        "\n",
        "print(\"\\n### 1. Global TF-IDF Feature Inspection (Vocabulary & IDF Scores) ###\")\n",
        "\n",
        "feature_names = tfidf_vectorizer.get_feature_names_out()\n",
        "idf_scores = tfidf_vectorizer.idf_\n",
        "\n",
        "# Create a DataFrame for easier sorting and inspection of features\n",
        "feature_idf_df = pd.DataFrame({'feature': feature_names, 'idf_score': idf_scores})\n",
        "\n",
        "# Sort by IDF score in descending order to see the most discriminative terms\n",
        "feature_idf_df_sorted_desc = feature_idf_df.sort_values(by='idf_score', ascending=False).reset_index(drop=True)\n",
        "\n",
        "print(\"\\nTop 20 global features by IDF score (most discriminative terms):\")\n",
        "print(feature_idf_df_sorted_desc.head(20).to_string())\n",
        "print(\"\\nInterpretation: These terms appear relatively rarely but are impactful when they do, \\nImportant to look for strong sentiment words, specific complaints/praises, or critical aspects of a hotel.\")\n",
        "print(\"-\" * 50)\n",
        "\n",
        "# Sort by IDF score in ascending order to see the least discriminative terms\n",
        "feature_idf_df_sorted_asc = feature_idf_df.sort_values(by='idf_score', ascending=True).reset_index(drop=True)\n",
        "\n",
        "print(\"\\nBottom 20 global features by IDF score (least discriminative, very common terms):\")\n",
        "print(feature_idf_df_sorted_asc.head(20).to_string())\n",
        "print(\"\\nInterpretation: These terms appear in many documents. These are words survived preprocessing but hold little sentiment weight. \\nIf there are highly emotional or specific terms here, min_df/max_df or stop words might need adjustment.\")\n",
        "print(\"-\" * 50)"
      ],
      "metadata": {
        "colab": {
          "base_uri": "https://localhost:8080/"
        },
        "id": "PLrFSWScxMSC",
        "outputId": "eafc9e7a-9ead-47a8-ba8d-3675f67698b2"
      },
      "id": "PLrFSWScxMSC",
      "execution_count": 43,
      "outputs": [
        {
          "output_type": "stream",
          "name": "stdout",
          "text": [
            "\n",
            "### 1. Global TF-IDF Feature Inspection (Vocabulary & IDF Scores) ###\n",
            "\n",
            "Top 20 global features by IDF score (most discriminative terms):\n",
            "                  feature  idf_score\n",
            "0   downthumbs downthumbs  10.487480\n",
            "1              downthumbs  10.487480\n",
            "2                  bedbug   9.101185\n",
            "3                   quilt   8.983402\n",
            "4             holiday inn   8.878042\n",
            "5             thumb thumb   8.878042\n",
            "6                  cinema   8.878042\n",
            "7                  steven   8.878042\n",
            "8                  sensor   8.782731\n",
            "9                restroom   8.782731\n",
            "10                    mon   8.782731\n",
            "11                  lodge   8.782731\n",
            "12               art deco   8.695720\n",
            "13                 father   8.695720\n",
            "14               baby cot   8.695720\n",
            "15                extreme   8.695720\n",
            "16               high end   8.695720\n",
            "17                  haven   8.695720\n",
            "18         host fantastic   8.615677\n",
            "19             super easy   8.615677\n",
            "\n",
            "Interpretation: These terms appear relatively rarely but are impactful when they do, \n",
            "Important to look for strong sentiment words, specific complaints/praises, or critical aspects of a hotel.\n",
            "--------------------------------------------------\n",
            "\n",
            "Bottom 20 global features by IDF score (least discriminative, very common terms):\n",
            "                      feature  idf_score\n",
            "0                        stay   1.037335\n",
            "1                      submit   1.416689\n",
            "2                       night   1.657302\n",
            "3                  stay night   1.705003\n",
            "4                        good   1.968388\n",
            "5                night submit   2.068451\n",
            "6                 stay submit   2.172403\n",
            "7               available_neg   2.221829\n",
            "8                 comment_neg   2.229835\n",
            "9   comment_neg available_neg   2.233211\n",
            "10                   location   2.287054\n",
            "11                exceptional   2.469019\n",
            "12                   standard   2.493016\n",
            "13                  breakfast   2.497580\n",
            "14                       twin   2.639131\n",
            "15                      young   2.643435\n",
            "16                      child   2.644612\n",
            "17                young child   2.655664\n",
            "18                      staff   2.658844\n",
            "19                      great   2.761708\n",
            "\n",
            "Interpretation: These terms appear in many documents. These are words survived preprocessing but hold little sentiment weight. \n",
            "If there are highly emotional or specific terms here, min_df/max_df or stop words might need adjustment.\n",
            "--------------------------------------------------\n"
          ]
        }
      ]
    },
    {
      "cell_type": "code",
      "source": [
        "# Step 2: Inspect Top TF-IDF Terms for Specific Documents\n",
        "# This helps confirm if the vectorizer captures the essence of individual reviews and their sentiment.\n",
        "# Pay attention to strong positive/negative words and aspects mentioned.\n",
        "\n",
        "print(\"\\n### 2. Per-Document TF-IDF Feature Inspection (Top Terms per Review) ###\")\n",
        "\n",
        "# Function to get top N TF-IDF terms for a given document index\n",
        "def get_top_tfidf_terms_for_doc(doc_index, tfidf_matrix, tfidf_vectorizer, n=15):\n",
        "    if not 0 <= doc_index < tfidf_matrix.shape[0]:\n",
        "        return \"Invalid document index.\"\n",
        "\n",
        "    feature_array = np.array(tfidf_vectorizer.get_feature_names_out())\n",
        "    tfidf_row = tfidf_matrix[doc_index].toarray().flatten()\n",
        "\n",
        "    # Get indices of the top N scores in descending order\n",
        "    top_n_indices = tfidf_row.argsort()[-n:][::-1]\n",
        "    top_n_scores = tfidf_row[top_n_indices]\n",
        "    top_n_features = feature_array[top_n_indices]\n",
        "\n",
        "    return list(zip(top_n_features, top_n_scores))\n",
        "\n",
        "# Select some review indices to inspect\n",
        "review_indices_to_inspect = [300, 50, 10000, 20000]\n",
        "\n",
        "for idx in review_indices_to_inspect:\n",
        "    # Ensure the index exists in your DataFrame\n",
        "    if idx < len(df_filtered):\n",
        "        print(f\"\\n--- Review Index: {df_filtered.index[idx]} ---\")\n",
        "        print(f\"Original Text: {df_filtered.loc[df_filtered.index[idx], 'raw_review_text']}\")\n",
        "        print(f\"Combined Processed Text: {df_filtered.loc[df_filtered.index[idx], 'combined_text']}\")\n",
        "\n",
        "        top_terms = get_top_tfidf_terms_for_doc(idx, tfidf_matrix, tfidf_vectorizer, n=15)\n",
        "        print(\"Top 15 TF-IDF Terms and Scores for this review:\")\n",
        "        for term, score in top_terms:\n",
        "            print(f\"  - {term}: {score:.4f}\")\n",
        "    else:\n",
        "        print(f\"\\nWarning: Review index {idx} out of bounds for df_filtered.\")\n",
        "    print(\"-\" * 60)\n"
      ],
      "metadata": {
        "id": "tWfY7TT2_E-F",
        "outputId": "6724bbf0-c781-4a40-e253-9ae888495b12",
        "colab": {
          "base_uri": "https://localhost:8080/"
        }
      },
      "id": "tWfY7TT2_E-F",
      "execution_count": 44,
      "outputs": [
        {
          "output_type": "stream",
          "name": "stdout",
          "text": [
            "\n",
            "### 2. Per-Document TF-IDF Feature Inspection (Top Terms per Review) ###\n",
            "\n",
            "--- Review Index: 300 ---\n",
            "Original Text: <p class=\"review_pos \"><svg aria-label=\"Positive point\" class=\"bk-icon -fonticon-plus review_item_icon\" fill=\"#008009\" height=\"14\" role=\"img\" width=\"14\" viewbox=\"0 0 32 32\" aria-hidden=\"true\" focusable=\"false\">\n",
            "  <path d=\"M32 16c0 8.836-7.162 16-16 16-8.834 0-16-5.74-16-16C0 6.451 7.166 0 16 0c8.838 0 16 7.162 16 16zm-6.4-2.585c0-.369-.031-.616-.4-.616h-5.998V7.018c0-.369-.297-.62-.666-.62h-5.068c-.369 0-.666.251-.666.62v5.781H6.901c-.369 0-.499.247-.499.616v5.118c0 .369.132.666.499.666H12.8v5.833c0 .369.297.565.666.565h5.068c.369 0 .666-.196.666-.565v-5.833h5.998c.369 0 .4-.297.4-.666v-5.118z\"></path>\n",
            "</svg><span itemprop=\"reviewBody\">I usually don't like to spend time rating hotels. However, this place left me with such a great memory that I feel it is necessary to share my view with others.This one bed house is so beautifully decorated and the bed is extremely comfortable. Host was very nice and we were even given a free bottle of red wine, which was amazing! One of the best place I have ever stayed at!!! Definitely recommend to anyone who is staying near Namur.</span></p>\n",
            "Combined Processed Text: usually like_NEG spend rating hotel leave great memory feel necessary share view others.this bed house beautifully decorate bed extremely comfortable host nice give free bottle red wine amazing good stay definitely recommend stay near amur beautiful love come young child bedroom house stay submit\n",
            "Top 15 TF-IDF Terms and Scores for this review:\n",
            "  - house: 0.2090\n",
            "  - come young: 0.2005\n",
            "  - comfortable host: 0.1978\n",
            "  - love come: 0.1978\n",
            "  - amazing good: 0.1943\n",
            "  - rating: 0.1894\n",
            "  - bed extremely: 0.1868\n",
            "  - recommend stay: 0.1838\n",
            "  - usually: 0.1818\n",
            "  - red: 0.1805\n",
            "  - extremely comfortable: 0.1782\n",
            "  - amur: 0.1766\n",
            "  - beautifully decorate: 0.1750\n",
            "  - necessary: 0.1675\n",
            "  - host nice: 0.1661\n",
            "------------------------------------------------------------\n",
            "\n",
            "--- Review Index: 50 ---\n",
            "Original Text: <p class=\"review_pos \"><svg aria-label=\"Positive point\" class=\"bk-icon -fonticon-plus review_item_icon\" fill=\"#008009\" height=\"14\" role=\"img\" width=\"14\" viewbox=\"0 0 32 32\" aria-hidden=\"true\" focusable=\"false\">\n",
            "  <path d=\"M32 16c0 8.836-7.162 16-16 16-8.834 0-16-5.74-16-16C0 6.451 7.166 0 16 0c8.838 0 16 7.162 16 16zm-6.4-2.585c0-.369-.031-.616-.4-.616h-5.998V7.018c0-.369-.297-.62-.666-.62h-5.068c-.369 0-.666.251-.666.62v5.781H6.901c-.369 0-.499.247-.499.616v5.118c0 .369.132.666.499.666H12.8v5.833c0 .369.297.565.666.565h5.068c.369 0 .666-.196.666-.565v-5.833h5.998c.369 0 .4-.297.4-.666v-5.118z\"></path>\n",
            "</svg><span itemprop=\"reviewBody\">The Villa Pura Vida was lovely, super clean with most comfortable bed I have ever slept on! and OMG love they pillows!!!:))) bathroom with shower and bad very clean. Stylish and design look...  Breakfast was great! Thumbs up for Liesbeth !! </span></p>\n",
            "Combined Processed Text: villa pure vida lovely super clean comfortable bed sleep org love pillow bathroom shower bad clean stylish design look breakfast great thumb liesbeth kortrijk king suite bathtub stay submit\n",
            "Top 15 TF-IDF Terms and Scores for this review:\n",
            "  - kortrijk: 0.2777\n",
            "  - pure: 0.2754\n",
            "  - bed sleep: 0.2733\n",
            "  - thumb: 0.2369\n",
            "  - bathroom shower: 0.2326\n",
            "  - villa: 0.2320\n",
            "  - king suite: 0.2309\n",
            "  - super clean: 0.2158\n",
            "  - bathtub: 0.2154\n",
            "  - stylish: 0.1989\n",
            "  - clean: 0.1844\n",
            "  - breakfast great: 0.1837\n",
            "  - pillow: 0.1714\n",
            "  - design: 0.1696\n",
            "  - clean comfortable: 0.1657\n",
            "------------------------------------------------------------\n",
            "\n",
            "--- Review Index: 10000 ---\n",
            "Original Text: <p class=\"review_none\"><em>There are no comments available for this review</em></p>\n",
            "Combined Processed Text: comment_NEG available_NEG good standard quadruple stay\n",
            "Top 15 TF-IDF Terms and Scores for this review:\n",
            "  - quadruple stay: 0.5129\n",
            "  - quadruple: 0.4950\n",
            "  - good standard: 0.4043\n",
            "  - available_neg good: 0.3183\n",
            "  - standard: 0.2327\n",
            "  - comment_neg available_neg: 0.2085\n",
            "  - comment_neg: 0.2082\n",
            "  - available_neg: 0.2074\n",
            "  - good: 0.1838\n",
            "  - stay: 0.0968\n",
            "  - extensive: 0.0000\n",
            "  - exterior: 0.0000\n",
            "  - external: 0.0000\n",
            "  - external bathroom: 0.0000\n",
            "  - extreme: 0.0000\n",
            "------------------------------------------------------------\n",
            "\n",
            "--- Review Index: 20000 ---\n",
            "Original Text: <p class=\"review_neg \"><svg aria-label=\"Negative point\" class=\"bk-icon -fonticon-removecircle review_item_icon\" fill=\"#BDBDBD\" height=\"14\" role=\"img\" width=\"14\" viewbox=\"0 0 32 32\" aria-hidden=\"true\" focusable=\"false\"><path d=\"m16 0c-8.84 0-16 7.16-16 16s7.16 16 16 16 16-7.16 16-16-7.16-16-16-16zm8 17.6h-16v-3.2h16z\"></path></svg><span itemprop=\"reviewBody\">Lack of plates and bawl available for the hotel guests during corona times.</span></p>,<p class=\"review_pos \"><svg aria-label=\"Positive point\" class=\"bk-icon -fonticon-plus review_item_icon\" fill=\"#008009\" height=\"14\" role=\"img\" width=\"14\" viewbox=\"0 0 32 32\" aria-hidden=\"true\" focusable=\"false\">\n",
            "  <path d=\"M32 16c0 8.836-7.162 16-16 16-8.834 0-16-5.74-16-16C0 6.451 7.166 0 16 0c8.838 0 16 7.162 16 16zm-6.4-2.585c0-.369-.031-.616-.4-.616h-5.998V7.018c0-.369-.297-.62-.666-.62h-5.068c-.369 0-.666.251-.666.62v5.781H6.901c-.369 0-.499.247-.499.616v5.118c0 .369.132.666.499.666H12.8v5.833c0 .369.297.565.666.565h5.068c.369 0 .666-.196.666-.565v-5.833h5.998c.369 0 .4-.297.4-.666v-5.118z\"></path>\n",
            "</svg><span itemprop=\"reviewBody\">Very nice small hotel with the specious rooms and comfortable sofa to sit. Very helpful staff and possibility to have catering with additional fee. Microwave available for all guests of the hotel with cutlery available.</span></p>\n",
            "Combined Processed Text: lack plate bawl available guest corona time nice small specious room comfortable sofa sit helpful staff possibility cater additional fee microwave available guest cutlery available good standard stay night\n",
            "Top 15 TF-IDF Terms and Scores for this review:\n",
            "  - available: 0.4143\n",
            "  - guest: 0.2895\n",
            "  - specious: 0.2319\n",
            "  - available good: 0.2266\n",
            "  - corona time: 0.2266\n",
            "  - nice small: 0.2151\n",
            "  - cater: 0.2094\n",
            "  - fee: 0.2041\n",
            "  - cutlery: 0.2021\n",
            "  - plate: 0.1990\n",
            "  - possibility: 0.1938\n",
            "  - room comfortable: 0.1915\n",
            "  - additional: 0.1898\n",
            "  - microwave: 0.1842\n",
            "  - corona: 0.1799\n",
            "------------------------------------------------------------\n"
          ]
        }
      ]
    },
    {
      "cell_type": "code",
      "source": [
        "# Ensure current_feature_names is obtained fresh, right before this check.\n",
        "# This variable comes from the tfidf_vectorizer fitted in your main notebook cells.\n",
        "current_feature_names = tfidf_vectorizer.get_feature_names_out()\n",
        "\n",
        "# Search for the lowercase '_neg' suffix, as seen in your LR coefficients (e.g., 'available_neg good')\n",
        "found_negated_features = [f for f in current_feature_names if '_neg' in f]\n",
        "\n",
        "if found_negated_features:\n",
        "    print(f\"\\n Found {len(found_negated_features)} negated features in the vocabulary.\")\n",
        "    print(\"Sample of found negated features (first 20):\")\n",
        "    for f in found_negated_features[:min(20, len(found_negated_features))]:\n",
        "        print(f\"  - {f}\")\n",
        "\n",
        "    # Checking for specific expected negated terms (using lowercase _neg for consistency)\n",
        "    expected_negations_to_check = ['good_neg', 'bad_neg', 'clean_neg', 'comfortable_neg', 'not_good_neg', 'available_neg good']\n",
        "    print(\"\\nChecking for specific expected negated terms:\")\n",
        "    for neg_term in expected_negations_to_check:\n",
        "        if neg_term in current_feature_names:\n",
        "            print(f\"  - '{neg_term}' found.\")\n",
        "        else:\n",
        "            print(f\"  - '{neg_term}' NOT found. (This might be due to low frequency/min_df or specific context).\")\n",
        "else:\n",
        "    print(\"\\nATTENTION: Still no negated features found in the vocabulary by this diagnostic.\")\n",
        "    print(\"This is highly unusual given the previous strong evidence from Logistic Regression and Chi-Squared results.\")\n",
        "    print(\"This suggests the problem is specifically with *this diagnostic block* and NOT your actual preprocessing or TF-IDF effectiveness.\")\n",
        "    print(\"\\nDebugging Info - First 100 features in current vocabulary:\")\n",
        "    print(current_feature_names[:100])\n",
        "    print(\"\\nDebugging Info - Checking for 'available_neg good' (known from LR) directly:\")\n",
        "    if 'available_neg good' in current_feature_names:\n",
        "        print(\"  - 'available_neg good' IS PRESENT in the vocabulary.\")\n",
        "        print(\"  - The diagnostic logic is flawed if it still reports no negated features.\")\n",
        "    else:\n",
        "        print(\"  - 'available_neg good' is NOT present in the vocabulary. This would contradict LR/Chi2 results and suggest TF-IDF filtering is too aggressive for these terms.\")\n",
        "    print(\"\\nConsider checking if TF-IDF was re-fitted without updating `tfidf_vectorizer` variable globally.\")\n",
        "\n",
        "print(\"-\" * 50)"
      ],
      "metadata": {
        "colab": {
          "base_uri": "https://localhost:8080/"
        },
        "id": "TWN3LMn-xMUT",
        "outputId": "41c2f729-a59e-4dda-c2f4-43932b454756"
      },
      "id": "TWN3LMn-xMUT",
      "execution_count": 45,
      "outputs": [
        {
          "output_type": "stream",
          "name": "stdout",
          "text": [
            "\n",
            " Found 213 negated features in the vocabulary.\n",
            "Sample of found negated features (first 20):\n",
            "  - _neg\n",
            "  - _neg star_neg\n",
            "  - able_neg\n",
            "  - ac_neg\n",
            "  - acceptable_neg\n",
            "  - access_neg\n",
            "  - affect_neg\n",
            "  - air_neg\n",
            "  - air_neg con_neg\n",
            "  - air_neg condition_neg\n",
            "  - air_neg conditioner_neg\n",
            "  - air_neg conditioning_neg\n",
            "  - airco_neg\n",
            "  - aircon_neg\n",
            "  - allow_neg\n",
            "  - applicable_neg\n",
            "  - ask_neg\n",
            "  - available_neg\n",
            "  - available_neg disappointing\n",
            "  - available_neg excellent\n",
            "\n",
            "Checking for specific expected negated terms:\n",
            "  - 'good_neg' found.\n",
            "  - 'bad_neg' found.\n",
            "  - 'clean_neg' found.\n",
            "  - 'comfortable_neg' found.\n",
            "  - 'not_good_neg' NOT found. (This might be due to low frequency/min_df or specific context).\n",
            "  - 'available_neg good' found.\n",
            "--------------------------------------------------\n"
          ]
        }
      ]
    },
    {
      "cell_type": "code",
      "source": [
        "# Step 4: Dimensionality and Sparsity Check\n",
        "# Understand the basic structure of the TF-IDF matrix.\n",
        "\n",
        "print(\"\\n### 4. Dimensionality and Sparsity Check ###\")\n",
        "print(f\"TF-IDF Matrix Shape: {tfidf_matrix.shape}\")\n",
        "print(f\"Number of non-zero elements (NNZ): {tfidf_matrix.nnz}\")\n",
        "total_elements = tfidf_matrix.shape[0] * tfidf_matrix.shape[1]\n",
        "sparsity = 100 * (1 - (tfidf_matrix.nnz / total_elements))\n",
        "print(f\"Sparsity of TF-IDF Matrix: {sparsity:.2f}%\")\n",
        "print(\"\\nInterpretation: High sparsity (e.g., >98%) is typical for TF-IDF and indicates that most documents do not contain most words in the vocabulary. \\nThis confirms it's a sparse matrix and might benefit from dimensionality reduction for some models or memory efficiency.\")\n",
        "print(\"-\" * 50)\n"
      ],
      "metadata": {
        "colab": {
          "base_uri": "https://localhost:8080/"
        },
        "id": "LTASlLMJxMWu",
        "outputId": "fbfdb4c5-2068-4fa0-a592-42c34e804490"
      },
      "id": "LTASlLMJxMWu",
      "execution_count": 46,
      "outputs": [
        {
          "output_type": "stream",
          "name": "stdout",
          "text": [
            "\n",
            "### 4. Dimensionality and Sparsity Check ###\n",
            "TF-IDF Matrix Shape: (26386, 5000)\n",
            "Number of non-zero elements (NNZ): 632612\n",
            "Sparsity of TF-IDF Matrix: 99.52%\n",
            "\n",
            "Interpretation: High sparsity (e.g., >98%) is typical for TF-IDF and indicates that most documents do not contain most words in the vocabulary. \n",
            "This confirms it's a sparse matrix and might benefit from dimensionality reduction for some models or memory efficiency.\n",
            "--------------------------------------------------\n"
          ]
        }
      ]
    },
    {
      "cell_type": "code",
      "source": [
        "# Step 5: Pre-Modeling data preprocessing\n",
        "\n",
        "# Currently sentiment_label is set as positive/negative in df_filtered so we will map it to 1/0\n",
        "# Convert 'Positive'/'Negative' sentiment labels to numerical (1/0)\n",
        "df_filtered['sentiment_numeric'] = df_filtered['sentiment_label'].map({'Positive': 1, 'Negative': 0})\n",
        "\n",
        "# Step 6: Perform Train-Test Split\n",
        "# For the split, X should be the tfidf_matrix and y should be the numeric sentiment.\n",
        "# No need to drop other columns from df_filtered here, as we are working directly with tfidf_matrix.\n",
        "X_features = tfidf_matrix\n",
        "y_target = df_filtered['sentiment_numeric']\n",
        "\n",
        "# Split the data, ensuring stratification (balanced sentiment classes in train/test)\n",
        "X_train, X_test, y_train, y_test = train_test_split(X_features, y_target, test_size=0.2, random_state=42, stratify=y_target)\n",
        "\n",
        "print(f\"X_train shape: {X_train.shape}\")\n",
        "print(f\"X_test shape: {X_test.shape}\")\n",
        "print(f\"y_train shape: {y_train.shape}\")\n",
        "print(f\"y_test shape: {y_test.shape}\")\n",
        "print(f\"\\nTraining sentiment distribution:\\n{y_train.value_counts(normalize=True)}\")\n",
        "print(f\"Testing sentiment distribution:\\n{y_test.value_counts(normalize=True)}\")\n",
        "print(\"-\" * 50)"
      ],
      "metadata": {
        "colab": {
          "base_uri": "https://localhost:8080/"
        },
        "id": "Tw67_URixMZF",
        "outputId": "acd86e98-1019-445c-925b-061e86d6c2c5"
      },
      "id": "Tw67_URixMZF",
      "execution_count": 47,
      "outputs": [
        {
          "output_type": "stream",
          "name": "stdout",
          "text": [
            "X_train shape: (21108, 5000)\n",
            "X_test shape: (5278, 5000)\n",
            "y_train shape: (21108,)\n",
            "y_test shape: (5278,)\n",
            "\n",
            "Training sentiment distribution:\n",
            "sentiment_numeric\n",
            "1    0.543112\n",
            "0    0.456888\n",
            "Name: proportion, dtype: float64\n",
            "Testing sentiment distribution:\n",
            "sentiment_numeric\n",
            "1    0.543009\n",
            "0    0.456991\n",
            "Name: proportion, dtype: float64\n",
            "--------------------------------------------------\n"
          ]
        }
      ]
    },
    {
      "cell_type": "code",
      "source": [
        "# Step 7: Evaluating the data using X_train, y_train\n",
        "\n",
        "#Evaluation Method 1: Top TF-IDF Words per Sentiment Class (Refined Average TF-IDF Score)\n",
        "# For this, we use the training data's TF-IDF matrix and labels.\n",
        "print(\"\\n1. Top TF-IDF Words by Sentiment Class (Average Score) on TRAINING Data\")\n",
        "\n",
        "# Convert X_train (sparse matrix) to a DataFrame for easier manipulation\n",
        "temp_train_tfidf_df = pd.DataFrame(X_train.toarray(), columns=feature_names)\n",
        "temp_train_tfidf_df['sentiment_numeric'] = y_train.values\n",
        "\n",
        "positive_train_reviews_tfidf = temp_train_tfidf_df[temp_train_tfidf_df['sentiment_numeric'] == 1]\n",
        "negative_train_reviews_tfidf = temp_train_tfidf_df[temp_train_tfidf_df['sentiment_numeric'] == 0]\n",
        "\n",
        "positive_avg_tfidf = positive_train_reviews_tfidf.drop('sentiment_numeric', axis=1).mean().sort_values(ascending=False)\n",
        "negative_avg_tfidf = negative_train_reviews_tfidf.drop('sentiment_numeric', axis=1).mean().sort_values(ascending=False)\n",
        "\n",
        "print(\"\\nTop 20 words/n-grams with highest AVERAGE TF-IDF in POSITIVE TRAINING reviews:\")\n",
        "print(positive_avg_tfidf.head(20).to_string())\n",
        "\n",
        "print(\"\\nTop 20 words/n-grams with highest AVERAGE TF-IDF in NEGATIVE TRAINING reviews:\")\n",
        "print(negative_avg_tfidf.head(20).to_string())\n",
        "print(\"-\" * 70)\n",
        "\n",
        "print(\"\\nInterpretation:\")\n",
        "print(\"- These are the words that appear to be most characteristic of positive/negative sentiment within my training data.\")\n",
        "print(\"- These give you a good idea of what 'positive' and 'negative' reviews look like in terms of word importance.\")\n",
        "print(\"-\" * 70)\n",
        "\n"
      ],
      "metadata": {
        "colab": {
          "base_uri": "https://localhost:8080/"
        },
        "id": "niM8Hs0fJHhI",
        "outputId": "2905223e-2d52-488e-f63e-90c18a3dee4b"
      },
      "id": "niM8Hs0fJHhI",
      "execution_count": 48,
      "outputs": [
        {
          "output_type": "stream",
          "name": "stdout",
          "text": [
            "\n",
            "1. Top TF-IDF Words by Sentiment Class (Average Score) on TRAINING Data\n",
            "\n",
            "Top 20 words/n-grams with highest AVERAGE TF-IDF in POSITIVE TRAINING reviews:\n",
            "exceptional                  0.066912\n",
            "stay                         0.054401\n",
            "submit                       0.052706\n",
            "comment_neg                  0.051616\n",
            "comment_neg available_neg    0.051603\n",
            "available_neg                0.051415\n",
            "available_neg exceptional    0.048858\n",
            "night                        0.044855\n",
            "stay night                   0.044246\n",
            "superb                       0.039599\n",
            "night submit                 0.039163\n",
            "stay submit                  0.039110\n",
            "standard                     0.029227\n",
            "available_neg superb         0.028921\n",
            "great                        0.027700\n",
            "child                        0.026709\n",
            "young                        0.026371\n",
            "young child                  0.026267\n",
            "twin                         0.025895\n",
            "location                     0.025211\n",
            "\n",
            "Top 20 words/n-grams with highest AVERAGE TF-IDF in NEGATIVE TRAINING reviews:\n",
            "good                         0.076502\n",
            "available_neg good           0.057834\n",
            "available_neg                0.054123\n",
            "comment_neg                  0.054013\n",
            "comment_neg available_neg    0.053953\n",
            "stay                         0.053572\n",
            "submit                       0.048538\n",
            "night                        0.043631\n",
            "stay night                   0.042725\n",
            "standard                     0.036605\n",
            "stay submit                  0.036537\n",
            "night submit                 0.035576\n",
            "twin                         0.030506\n",
            "twin stay                    0.028495\n",
            "location                     0.027290\n",
            "good standard                0.025086\n",
            "child                        0.023634\n",
            "young                        0.023282\n",
            "bed                          0.023176\n",
            "young child                  0.023078\n",
            "----------------------------------------------------------------------\n",
            "\n",
            "Interpretation:\n",
            "- These are the words that appear to be most characteristic of positive/negative sentiment within my training data.\n",
            "- These give you a good idea of what 'positive' and 'negative' reviews look like in terms of word importance.\n",
            "----------------------------------------------------------------------\n"
          ]
        }
      ]
    },
    {
      "cell_type": "code",
      "source": [
        "# Evaluation Method 2: Feature Importance from a Simple Linear Classifier\n",
        "print(\"\\n2. Feature Importance from a Logistic Regression Model\")\n",
        "\n",
        "# Train Logistic Regression on the training data's TF-IDF features\n",
        "lr_model = LogisticRegression(solver='liblinear', C=1.0, max_iter=1000, random_state=42)\n",
        "lr_model.fit(X_train, y_train)\n",
        "\n",
        "feature_coefficients = pd.Series(lr_model.coef_[0], index=feature_names)\n",
        "\n",
        "print(\"\\nTop 20 words/n-grams most indicative of POSITIVE sentiment (highest positive coefficients):\")\n",
        "print(feature_coefficients.nlargest(20).to_string())\n",
        "\n",
        "print(\"\\nTop 20 words/n-grams most indicative of NEGATIVE sentiment (most negative coefficients):\")\n",
        "print(feature_coefficients.nsmallest(20).to_string())\n",
        "print(\"-\" * 70)\n",
        "\n",
        "print(\"\\nInterpretation:\")\n",
        "print(\"- This shows what my simple classification model learned about word importance.\")\n",
        "print(\"- Words with large positive coefficients strongly predict 'Positive' sentiment.\")\n",
        "print(\"- Words with large negative coefficients strongly predict 'Negative' sentiment.\")\n",
        "print(\"-\" * 70)\n"
      ],
      "metadata": {
        "colab": {
          "base_uri": "https://localhost:8080/"
        },
        "id": "yCy8LgUkKA6W",
        "outputId": "1a91ca72-896c-4299-f7b0-6ebd1863dc4f"
      },
      "id": "yCy8LgUkKA6W",
      "execution_count": 49,
      "outputs": [
        {
          "output_type": "stream",
          "name": "stdout",
          "text": [
            "\n",
            "2. Feature Importance from a Logistic Regression Model\n",
            "\n",
            "Top 20 words/n-grams most indicative of POSITIVE sentiment (highest positive coefficients):\n",
            "exceptional                  17.166843\n",
            "superb                       14.192039\n",
            "perfect                       4.968718\n",
            "excellent                     4.604977\n",
            "exceptional young             4.469084\n",
            "available_neg exceptional     4.311501\n",
            "exceptional standard          3.763704\n",
            "great                         3.702157\n",
            "amazing                       3.345981\n",
            "wonderful                     3.307240\n",
            "available_neg superb          3.058096\n",
            "lovely                        3.004068\n",
            "superb young                  2.992529\n",
            "superb standard               2.988076\n",
            "recommend                     2.944926\n",
            "definitely                    2.851537\n",
            "fantastic                     2.771722\n",
            "exceptional group             2.731396\n",
            "exceptional friend            2.647765\n",
            "exceptional superior          2.391509\n",
            "\n",
            "Top 20 words/n-grams most indicative of NEGATIVE sentiment (most negative coefficients):\n",
            "fabulous                 -7.210987\n",
            "good young               -7.061121\n",
            "good                     -5.979509\n",
            "available_neg good       -5.791214\n",
            "passable                 -4.870000\n",
            "good standard            -4.680420\n",
            "poor                     -4.544867\n",
            "good group               -4.497368\n",
            "good friend              -4.335172\n",
            "disappointing            -3.937826\n",
            "okay                     -3.742952\n",
            "good superior            -3.314844\n",
            "pleasant                 -3.291194\n",
            "good deluxe              -3.279595\n",
            "available_neg pleasant   -3.194039\n",
            "fabulous young           -3.007820\n",
            "dirty                    -3.001611\n",
            "smell                    -2.759024\n",
            "uncomfortable            -2.732677\n",
            "bad                      -2.578423\n",
            "----------------------------------------------------------------------\n",
            "\n",
            "Interpretation:\n",
            "- This shows what my simple classification model learned about word importance.\n",
            "- Words with large positive coefficients strongly predict 'Positive' sentiment.\n",
            "- Words with large negative coefficients strongly predict 'Negative' sentiment.\n",
            "----------------------------------------------------------------------\n"
          ]
        }
      ]
    },
    {
      "cell_type": "code",
      "source": [
        "# Evaluation Method 3: Chi-Squared Test for Feature Significance (on TRAINING Data) ---\n",
        "print(\"3. Chi-Squared Test for Feature Significance \")\n",
        "\n",
        "# Calculate chi2 scores for each feature on the training data\n",
        "f_scores, p_values = chi2(X_train, y_train) # Use X_train and y_train\n",
        "\n",
        "chi2_df = pd.DataFrame({'feature': feature_names, 'chi2_score': f_scores, 'p_value': p_values})\n",
        "chi2_df_sorted = chi2_df.sort_values(by='chi2_score', ascending=False).reset_index(drop=True)\n",
        "\n",
        "print(\"\\nTop 20 words/n-grams by Chi-Squared score (most statistically significant for sentiment):\")\n",
        "print(chi2_df_sorted.head(20).to_string())\n",
        "print(\"-\" * 70)\n",
        "\n",
        "print(\"\\nInterpretation:\")\n",
        "print(\"- These are the features whose presence/absence is most statistically correlated with sentiment.\")\n",
        "print(\"- High chi2 scores mean the feature is highly discriminative between positive and negative reviews.\")\n",
        "print(\"- These features are excellent candidates for classification models.\")\n",
        "print(\"-\" * 70)"
      ],
      "metadata": {
        "id": "c1LHeFVpxMgn",
        "colab": {
          "base_uri": "https://localhost:8080/"
        },
        "outputId": "1f22b8c4-e1e0-4338-be19-c5ee35c51007"
      },
      "id": "c1LHeFVpxMgn",
      "execution_count": 50,
      "outputs": [
        {
          "output_type": "stream",
          "name": "stdout",
          "text": [
            "3. Chi-Squared Test for Feature Significance \n",
            "\n",
            "Top 20 words/n-grams by Chi-Squared score (most statistically significant for sentiment):\n",
            "                      feature  chi2_score        p_value\n",
            "0          available_neg good  655.046677  1.784698e-144\n",
            "1                 exceptional  640.547700  2.539939e-141\n",
            "2   available_neg exceptional  471.189919  1.765364e-104\n",
            "3                        good  402.329925   1.712943e-89\n",
            "4                      superb  370.800219   1.253032e-82\n",
            "5        available_neg superb  278.917456   1.292715e-62\n",
            "6               good standard  275.020052   9.137921e-62\n",
            "7                  good young  206.130995   9.594220e-47\n",
            "8           exceptional young  196.288336   1.348457e-44\n",
            "9        exceptional standard  175.326516   5.080476e-40\n",
            "10                   fabulous  170.032766   7.277966e-39\n",
            "11                 good group  151.957709   6.472454e-35\n",
            "12     available_neg fabulous  150.687844   1.226353e-34\n",
            "13     available_neg pleasant  118.273453   1.510584e-27\n",
            "14                   pleasant  113.920617   1.356311e-26\n",
            "15          exceptional group  112.188408   3.249185e-26\n",
            "16              good superior  108.038530   2.636036e-25\n",
            "17            superb standard  103.665645   2.395085e-24\n",
            "18                  good stay  102.595456   4.110752e-24\n",
            "19                   passable   99.443992   2.017901e-23\n",
            "----------------------------------------------------------------------\n",
            "\n",
            "Interpretation:\n",
            "- These are the features whose presence/absence is most statistically correlated with sentiment.\n",
            "- High chi2 scores mean the feature is highly discriminative between positive and negative reviews.\n",
            "- These features are excellent candidates for classification models.\n",
            "----------------------------------------------------------------------\n"
          ]
        }
      ]
    },
    {
      "cell_type": "markdown",
      "source": [
        "# Modelling"
      ],
      "metadata": {
        "id": "I_vX_kcRx_pY"
      },
      "id": "I_vX_kcRx_pY"
    },
    {
      "cell_type": "markdown",
      "source": [
        "## Binary Classification Model\n",
        "\n",
        "These models will predict if we can correctly predict if the review are positive or negative.\n",
        "\n",
        "# ADD evaluation without avg.rating"
      ],
      "metadata": {
        "id": "IfXF3QPE0fDX"
      },
      "id": "IfXF3QPE0fDX"
    },
    {
      "cell_type": "code",
      "source": [
        "# Evaluating correlation between Sentiment numeric and average rating\n",
        "if 'sentiment_numeric' not in df_filtered.columns or 'avg_rating' not in df_filtered.columns:\n",
        "    print(\"Error: 'sentiment_numeric' or 'avg_rating' columns not found in df_filtered.\")\n",
        "    print(\"Please ensure df_filtered is correctly set up with these columns before running this code.\")\n",
        "else:\n",
        "    print(\"\\n--- Calculating Correlation between Sentiment (Numeric) and Average Rating ---\")\n",
        "\n",
        "    # Extract the numeric sentiment (0/1) and the average rating columns\n",
        "    y_numeric_for_corr = df_filtered['sentiment_numeric']\n",
        "    avg_rating_for_corr = df_filtered['avg_rating']\n",
        "\n",
        "    # Calculate Point-Biserial Correlation\n",
        "    # This function returns a tuple: (correlation_coefficient, p_value)\n",
        "    correlation, p_value = pointbiserialr(y_numeric_for_corr, avg_rating_for_corr)\n",
        "\n",
        "    print(f\"Point-Biserial Correlation Coefficient: {correlation:.4f}\")\n",
        "    print(f\"P-value: {p_value:.4e}\") # P-value in scientific notation\n",
        "\n",
        "    print(\"\\n--- Interpretation ---\")\n",
        "    print(f\"The Point-Biserial Correlation coefficient of {correlation:.4f} indicates a strong positive linear relationship between the hotel's average rating and the derived sentiment.\")\n",
        "    print(\"A positive coefficient means that as the 'avg_rating' increases, the likelihood of a review being classified as 'Positive' (represented by 1) also increases.\")\n",
        "    print(\"The very low p-value (typically less than 0.05, and here it is extremely small: {:.4e}) suggests that this correlation is statistically highly significant and not due to random chance.\".format(p_value))\n",
        "    print(\"This quantitative measure reinforces the visual insights from the box/violin plots and strongly supports why 'avg_rating' was a robust and highly influential predictor in your Logistic Regression model.\")\n",
        "\n",
        "    # Displaying visual as they complement the correlation coefficient\n",
        "\n",
        "    plt.figure(figsize=(8, 6))\n",
        "    sns.violinplot(x='sentiment_label', y='avg_rating', data=df_filtered, palette='muted')\n",
        "    plt.title('Distribution of Average Hotel Rating by Sentiment (Violin Plot)')\n",
        "    plt.xlabel('Sentiment (Derived from Review Rating)')\n",
        "    plt.ylabel('Average Hotel Rating')\n",
        "    plt.grid(axis='y', linestyle='--', alpha=0.7)\n",
        "    plt.show()"
      ],
      "metadata": {
        "colab": {
          "base_uri": "https://localhost:8080/",
          "height": 758
        },
        "id": "hZJuT1QrfEwg",
        "outputId": "87319ffd-80c2-4f64-f7b9-34fd2bf1fb1c"
      },
      "id": "hZJuT1QrfEwg",
      "execution_count": 51,
      "outputs": [
        {
          "output_type": "stream",
          "name": "stdout",
          "text": [
            "\n",
            "--- Calculating Correlation between Sentiment (Numeric) and Average Rating ---\n",
            "Point-Biserial Correlation Coefficient: 0.4189\n",
            "P-value: 0.0000e+00\n",
            "\n",
            "--- Interpretation ---\n",
            "The Point-Biserial Correlation coefficient of 0.4189 indicates a strong positive linear relationship between the hotel's average rating and the derived sentiment.\n",
            "A positive coefficient means that as the 'avg_rating' increases, the likelihood of a review being classified as 'Positive' (represented by 1) also increases.\n",
            "The very low p-value (typically less than 0.05, and here it is extremely small: 0.0000e+00) suggests that this correlation is statistically highly significant and not due to random chance.\n",
            "This quantitative measure reinforces the visual insights from the box/violin plots and strongly supports why 'avg_rating' was a robust and highly influential predictor in your Logistic Regression model.\n"
          ]
        },
        {
          "output_type": "display_data",
          "data": {
            "text/plain": [
              "<Figure size 800x600 with 1 Axes>"
            ],
            "image/png": "[encoded data removed]"
          },
          "metadata": {}
        }
      ]
    },
    {
      "cell_type": "markdown",
      "source": [
        "### Initial processing to create a ColumTransformer"
      ],
      "metadata": {
        "id": "20tSXSja1yNn"
      },
      "id": "20tSXSja1yNn"
    },
    {
      "cell_type": "code",
      "source": [
        "# Define Feature Sets for ColumnTransformer using df_filtered\n",
        "text_feature = 'combined_text'\n",
        "numerical_features = ['avg_rating', 'review_age_days']\n",
        "categorical_features = ['hotel_name', 'nationality', 'review_month']\n",
        "target_col = 'sentiment_numeric'"
      ],
      "metadata": {
        "id": "UDLBnbrC0d-E"
      },
      "id": "UDLBnbrC0d-E",
      "execution_count": 52,
      "outputs": []
    },
    {
      "cell_type": "code",
      "source": [
        "# Create X and y\n",
        "# Ensure X only contains the features that will be processed by the ColumnTransformer\n",
        "X = df_filtered[[text_feature] + numerical_features + categorical_features]\n",
        "y = df_filtered[target_col]"
      ],
      "metadata": {
        "id": "iWcEcSVWxMoO"
      },
      "id": "iWcEcSVWxMoO",
      "execution_count": 53,
      "outputs": []
    },
    {
      "cell_type": "code",
      "source": [
        "# Splitting data into train and test that will be used for model development, tuning, and initial evaluation\n",
        "# Then creating a validation set for final evaluation of your single best model\n",
        "# Step 1: Split data into training set (80%) and a temporary set (20%)\n",
        "# X_temp will contain the 15% for initial test and 5% for final validation\n",
        "X_train, X_temp, y_train, y_temp = train_test_split(X, y, test_size=0.2, random_state=42, stratify=y)\n",
        "\n",
        "# Step 2: Split the temporary set (X_temp, y_temp) into the Test set (15% of total)\n",
        "# and the Validation set (5% of total).\n",
        "X_test, X_val, y_test, y_val = train_test_split(X_temp, y_temp, test_size=0.25, random_state=42, stratify=y_temp)\n",
        "\n",
        "print(f\"X_train shape (80%): {X_train.shape}\")\n",
        "print(f\"y_train shape (80%): {y_train.shape}\")\n",
        "print(f\"X_test shape (15% - for initial model evaluation): {X_test.shape}\")\n",
        "print(f\"y_test shape (15% - for initial model evaluation): {y_test.shape}\")\n",
        "print(f\"X_val shape (5% - for final best model evaluation): {X_val.shape}\")\n",
        "print(f\"y_val shape (5% - for final best model evaluation): {y_val.shape}\")\n",
        "print(f\"Features being used: Text: {text_feature}, Numerical: {numerical_features}, Categorical: {categorical_features}\")"
      ],
      "metadata": {
        "colab": {
          "base_uri": "https://localhost:8080/"
        },
        "id": "-C54DFFsL7dW",
        "outputId": "026edf71-8275-42e2-ebae-4318b1d4a8d5"
      },
      "id": "-C54DFFsL7dW",
      "execution_count": 54,
      "outputs": [
        {
          "output_type": "stream",
          "name": "stdout",
          "text": [
            "X_train shape (80%): (21108, 6)\n",
            "y_train shape (80%): (21108,)\n",
            "X_test shape (15% - for initial model evaluation): (3958, 6)\n",
            "y_test shape (15% - for initial model evaluation): (3958,)\n",
            "X_val shape (5% - for final best model evaluation): (1320, 6)\n",
            "y_val shape (5% - for final best model evaluation): (1320,)\n",
            "Features being used: Text: combined_text, Numerical: ['avg_rating', 'review_age_days'], Categorical: ['hotel_name', 'nationality', 'review_month']\n"
          ]
        }
      ]
    },
    {
      "cell_type": "code",
      "source": [
        "#1. Text processing pipeline (for 'combined_text')\n",
        "text_transformer = Pipeline([\n",
        "    ('tfidf', TfidfVectorizer(stop_words='english', max_features=10000, ngram_range=(1,2)))\n",
        "])\n",
        "\n",
        "# 2. Numerical processing pipeline\n",
        "numerical_transformer = Pipeline([\n",
        "    ('imputer', SimpleImputer(strategy='mean')),\n",
        "    ('scaler', StandardScaler())\n",
        "])\n",
        "\n",
        "# 3. Categorical processing pipeline\n",
        "categorical_transformer = Pipeline([\n",
        "    ('imputer', SimpleImputer(strategy='most_frequent')),\n",
        "    ('onehot', OneHotEncoder(handle_unknown='ignore'))\n",
        "])\n",
        "\n",
        "# 4. Combine transformers using ColumnTransformer\n",
        "preprocessor_final = ColumnTransformer(\n",
        "    transformers=[\n",
        "        ('text', text_transformer, text_feature),\n",
        "        ('num', numerical_transformer, numerical_features),\n",
        "        ('cat', categorical_transformer, categorical_features)\n",
        "    ],\n",
        "    remainder='drop'\n",
        ")\n",
        "\n",
        "print(preprocessor_final)"
      ],
      "metadata": {
        "id": "PtF9tXqUxMtM",
        "colab": {
          "base_uri": "https://localhost:8080/"
        },
        "outputId": "80bdc4d2-a3eb-40fc-e8b0-61664ad349df"
      },
      "id": "PtF9tXqUxMtM",
      "execution_count": 55,
      "outputs": [
        {
          "output_type": "stream",
          "name": "stdout",
          "text": [
            "ColumnTransformer(transformers=[('text',\n",
            "                                 Pipeline(steps=[('tfidf',\n",
            "                                                  TfidfVectorizer(max_features=10000,\n",
            "                                                                  ngram_range=(1,\n",
            "                                                                               2),\n",
            "                                                                  stop_words='english'))]),\n",
            "                                 'combined_text'),\n",
            "                                ('num',\n",
            "                                 Pipeline(steps=[('imputer', SimpleImputer()),\n",
            "                                                 ('scaler', StandardScaler())]),\n",
            "                                 ['avg_rating', 'review_age_days']),\n",
            "                                ('cat',\n",
            "                                 Pipeline(steps=[('imputer',\n",
            "                                                  SimpleImputer(strategy='most_frequent')),\n",
            "                                                 ('onehot',\n",
            "                                                  OneHotEncoder(handle_unknown='ignore'))]),\n",
            "                                 ['hotel_name', 'nationality',\n",
            "                                  'review_month'])])\n"
          ]
        }
      ]
    },
    {
      "cell_type": "markdown",
      "source": [
        "### Baseline Binary Classification Model"
      ],
      "metadata": {
        "id": "1q1jjznA2NaM"
      },
      "id": "1q1jjznA2NaM"
    },
    {
      "cell_type": "code",
      "source": [
        "# Logistic Regression Baseline\n",
        "baseline_pipeline_lr_df_final = Pipeline([\n",
        "    ('preprocessor', preprocessor_final),\n",
        "    ('classifier', LogisticRegression(random_state=42, solver='liblinear', max_iter=1000))\n",
        "])\n",
        "baseline_pipeline_lr_df_final.fit(X_train, y_train)\n",
        "y_pred_lr_df_final = baseline_pipeline_lr_df_final.predict(X_test)\n",
        "y_prob_lr_df_final = baseline_pipeline_lr_df_final.predict_proba(X_test)[:, 1]\n",
        "\n",
        "print(\"\\nClassification Report (Logistic Regression Baseline):\")\n",
        "print(classification_report(y_test, y_pred_lr_df_final, target_names=['negative', 'positive']))\n",
        "print(f\"Accuracy Score: {accuracy_score(y_test, y_pred_lr_df_final):.4f}\")\n",
        "print(f\"ROC-AUC Score: {roc_auc_score(y_test, y_prob_lr_df_final):.4f}\")\n",
        "print(f\"F1-Score (Weighted Avg): {f1_score(y_test, y_pred_lr_df_final, average='weighted'):.4f}\") # ADDED LINE"
      ],
      "metadata": {
        "id": "lFT6CBFexMv7",
        "colab": {
          "base_uri": "https://localhost:8080/"
        },
        "outputId": "143ffc8d-390e-4195-8a49-649b76fb85eb"
      },
      "id": "lFT6CBFexMv7",
      "execution_count": 56,
      "outputs": [
        {
          "output_type": "stream",
          "name": "stdout",
          "text": [
            "\n",
            "Classification Report (Logistic Regression Baseline):\n",
            "              precision    recall  f1-score   support\n",
            "\n",
            "    negative       0.90      0.91      0.90      1809\n",
            "    positive       0.92      0.91      0.92      2149\n",
            "\n",
            "    accuracy                           0.91      3958\n",
            "   macro avg       0.91      0.91      0.91      3958\n",
            "weighted avg       0.91      0.91      0.91      3958\n",
            "\n",
            "Accuracy Score: 0.9116\n",
            "ROC-AUC Score: 0.9710\n",
            "F1-Score (Weighted Avg): 0.9116\n"
          ]
        }
      ]
    },
    {
      "cell_type": "code",
      "source": [
        "# Confusion Matrix Visualization\n",
        "cm_lr = confusion_matrix(y_test, y_pred_lr_df_final)\n",
        "plt.figure(figsize=(6, 5))\n",
        "sns.heatmap(cm_lr, annot=True, fmt='d', cmap='Blues', xticklabels=['negative', 'positive'], yticklabels=['negative', 'positive'])\n",
        "plt.title('Confusion Matrix - Logistic Regression Baseline')\n",
        "plt.xlabel('Predicted Label')\n",
        "plt.ylabel('True Label')\n",
        "plt.show()"
      ],
      "metadata": {
        "id": "5PtP8ufExMyZ",
        "colab": {
          "base_uri": "https://localhost:8080/",
          "height": 487
        },
        "outputId": "4a0a7559-dc1e-487a-8c9c-fdb577313da1"
      },
      "id": "5PtP8ufExMyZ",
      "execution_count": 57,
      "outputs": [
        {
          "output_type": "display_data",
          "data": {
            "text/plain": [
              "<Figure size 600x500 with 2 Axes>"
            ],
            "image/png": "[encoded data removed]"
          },
          "metadata": {}
        }
      ]
    },
    {
      "cell_type": "code",
      "source": [
        "# ROC Curve\n",
        "fpr_lr, tpr_lr, _ = roc_curve(y_test, y_pred_lr_df_final)\n",
        "plt.figure(figsize=(6, 5))\n",
        "plt.plot(fpr_lr, tpr_lr, color='darkorange', lw=2, label=f'ROC curve (area = {roc_auc_score(y_test, y_pred_lr_df_final):.2f})')\n",
        "plt.plot([0, 1], [0, 1], color='navy', lw=2, linestyle='--')\n",
        "plt.xlim([0.0, 1.0])\n",
        "plt.ylim([0.0, 1.05])\n",
        "plt.xlabel('False Positive Rate')\n",
        "plt.ylabel('True Positive Rate')\n",
        "plt.title('Receiver Operating Characteristic (ROC) - Logistic Regression')\n",
        "plt.legend(loc=\"lower right\")\n",
        "plt.show()"
      ],
      "metadata": {
        "id": "kGJdZuInxM04",
        "colab": {
          "base_uri": "https://localhost:8080/",
          "height": 487
        },
        "outputId": "767f26b9-3121-4c61-deb1-b222f0d19e7b"
      },
      "id": "kGJdZuInxM04",
      "execution_count": 58,
      "outputs": [
        {
          "output_type": "display_data",
          "data": {
            "text/plain": [
              "<Figure size 600x500 with 1 Axes>"
            ],
            "image/png": "[encoded data removed]"
          },
          "metadata": {}
        }
      ]
    },
    {
      "cell_type": "markdown",
      "source": [
        "Before moving forward with further models, I'm going to analyze my current results and refine my current baseline regression pipeline.\n",
        "\n"
      ],
      "metadata": {
        "id": "aSLBpm9T6ztg"
      },
      "id": "aSLBpm9T6ztg"
    },
    {
      "cell_type": "markdown",
      "source": [
        "#### Deep dive into misclassifications"
      ],
      "metadata": {
        "id": "8BPocjsBIERR"
      },
      "id": "8BPocjsBIERR"
    },
    {
      "cell_type": "code",
      "source": [
        "# Define the mapping from numeric to string sentiment labels for display\n",
        "sentiment_label_map = {0: 'Negative', 1: 'Positive'}\n",
        "\n",
        "# Ensure y_test is a Series with the correct index\n",
        "if not isinstance(y_test, pd.Series):\n",
        "    y_test_series = pd.Series(y_test, index=X_test.index)\n",
        "else:\n",
        "    y_test_series = y_test # It's already a Series with the correct index\n",
        "\n",
        "# Get indices for each type of classification\n",
        "true_positives_idx = X_test.index[(y_test_series == 1) & (y_pred_lr_df_final == 1)]\n",
        "true_negatives_idx = X_test.index[(y_test_series == 0) & (y_pred_lr_df_final == 0)]\n",
        "false_positives_idx = X_test.index[(y_test_series == 0) & (y_pred_lr_df_final == 1)] # Actual Negative, Predicted Positive\n",
        "false_negatives_idx = X_test.index[(y_test_series == 1) & (y_pred_lr_df_final == 0)] # Actual Positive, Predicted Negative\n",
        "\n",
        "print(f\"True Positives: {len(true_positives_idx)}\")\n",
        "print(f\"True Negatives: {len(true_negatives_idx)}\")\n",
        "print(f\"False Positives: {len(false_positives_idx)}\")\n",
        "print(f\"False Negatives: {len(false_negatives_idx)}\")"
      ],
      "metadata": {
        "colab": {
          "base_uri": "https://localhost:8080/"
        },
        "id": "QMkDcV9u7YbR",
        "outputId": "ef61e276-0e07-46ab-9b13-c8fbd21644c1"
      },
      "id": "QMkDcV9u7YbR",
      "execution_count": 59,
      "outputs": [
        {
          "output_type": "stream",
          "name": "stdout",
          "text": [
            "True Positives: 1966\n",
            "True Negatives: 1642\n",
            "False Positives: 167\n",
            "False Negatives: 183\n"
          ]
        }
      ]
    },
    {
      "cell_type": "code",
      "source": [
        "# Sample of False Positives (Actual Negative, Predicted Positive)\n",
        "print(\"\\n Sample of False Positives (Actual Negative, Predicted Positive)\")\n",
        "\n",
        "# Get the review texts using X_test directly\n",
        "fp_reviews_text = X_test.loc[false_positives_idx, 'combined_text']\n",
        "\n",
        "# Get the actual numeric sentiment and map to string label\n",
        "fp_actual_sentiment_numeric = y_test_series.loc[false_positives_idx]\n",
        "fp_actual_sentiment_str = fp_actual_sentiment_numeric.map(sentiment_label_map)\n",
        "\n",
        "# Get the predicted numeric sentiment (only for the FP instances) and map to string label\n",
        "# Need to use the boolean mask to get the corresponding predictions\n",
        "# FIX: Pass the 'false_positives_idx' to pd.Series constructor\n",
        "fp_predicted_sentiment_numeric = y_pred_lr_df_final[(y_test_series == 0) & (y_pred_lr_df_final == 1)]\n",
        "fp_predicted_sentiment_str = pd.Series(fp_predicted_sentiment_numeric, index=false_positives_idx).map(sentiment_label_map)\n",
        "\n",
        "# Create DataFrame for display\n",
        "fp_df_display = pd.DataFrame({\n",
        "    'Review': fp_reviews_text,\n",
        "    'Actual Sentiment': fp_actual_sentiment_str,\n",
        "    'Predicted Sentiment': fp_predicted_sentiment_str\n",
        "})\n",
        "print(fp_df_display.head(10).to_string())"
      ],
      "metadata": {
        "colab": {
          "base_uri": "https://localhost:8080/"
        },
        "id": "nxzMdzwz7YYD",
        "outputId": "e48efae2-a1ba-46a6-a640-8bec7b18960d"
      },
      "id": "nxzMdzwz7YYD",
      "execution_count": 60,
      "outputs": [
        {
          "output_type": "stream",
          "name": "stdout",
          "text": [
            "\n",
            " Sample of False Positives (Actual Negative, Predicted Positive)\n",
            "                                                                                                                                                                                                                                                                                                           Review Actual Sentiment Predicted Sentiment\n",
            "14560  visit enjoy relax stroll de panne need little attention area warm welcome feel.smiling face smile eye weather visit play monopoly bar 13year old afternoon love complimentary crisp belgium beer coke cosy bar area lovely breakfast morning overall lovely xxx break young child triple stay night submit         Negative            Positive\n",
            "24211                                                                                                                stuff member nice white exclamation mark specifically breakfast fresh juice short glass ware the bienheart exclamation perfect location tidy red heart group classic queen stay night submit         Negative            Positive\n",
            "22047                                                                                                                                                                   hide host nice friendly nice clean manage nice parking right property entrance overall comfy great value excellent thank hide budget stay         Negative            Positive\n",
            "16045                                                            location amazing calm peaceful neighbourhood scenic view host friendly gentle breakfast fresh organic delicious pay good value money forget_NEG dlr location amazing calm peaceful neighbourhood scenic view host friend garden view stay submit         Negative            Positive\n",
            "8960                                                                                                                                                                                       stay minsk happy satisfied client staff great clean service fast good quality great minsk group twin stay night submit         Negative            Positive\n",
            "20212                                                                                                                                                                              impersonal arrival staff_NEG combination building location suit visit nearby ww1 battle site breakfast fine fine superior stay         Negative            Positive\n",
            "18403                                                                                                                                                                                                                    great location happy mini fridge great location huge parking lot young child stay submit         Negative            Positive\n",
            "11322                                                                                                                                                                                                                                                                      toiletbril stud  apartment stay submit         Negative            Positive\n",
            "11720                                                                                                                                     bother enjoy big clean bathroom clean equip coffee nicely brew italian espresso juice fresh orange minute serve wifi good kind hospitable young child stay night submit         Negative            Positive\n",
            "11469                                                                                                                                                                                                        clean bathroom especially sink wall location friendly host group bedroom apartment stay night submit         Negative            Positive\n"
          ]
        }
      ]
    },
    {
      "cell_type": "code",
      "source": [
        "# Sample of False Negatives (Actual Positive, Predicted Negative)\n",
        "print(\"\\n Sample of False Negatives (Actual Positive, Predicted Negative)\")\n",
        "\n",
        "# Get the review texts using X_test directly\n",
        "fn_reviews_text = X_test.loc[false_negatives_idx, 'combined_text']\n",
        "\n",
        "# Get the actual numeric sentiment and map to string label\n",
        "fn_actual_sentiment_numeric = y_test_series.loc[false_negatives_idx]\n",
        "fn_actual_sentiment_str = fn_actual_sentiment_numeric.map(sentiment_label_map)\n",
        "\n",
        "# Get the predicted numeric sentiment (only for the FN instances) and map to string label\n",
        "# FIX: Pass the 'false_negatives_idx' to pd.Series constructor\n",
        "fn_predicted_sentiment_numeric = y_pred_lr_df_final[(y_test_series == 1) & (y_pred_lr_df_final == 0)]\n",
        "fn_predicted_sentiment_str = pd.Series(fn_predicted_sentiment_numeric, index=false_negatives_idx).map(sentiment_label_map)\n",
        "\n",
        "# Create DataFrame for display\n",
        "fn_df_display = pd.DataFrame({\n",
        "    'Review': fn_reviews_text,\n",
        "    'Actual Sentiment': fn_actual_sentiment_str,\n",
        "    'Predicted Sentiment': fn_predicted_sentiment_str\n",
        "})\n",
        "print(fn_df_display.head(10).to_string())"
      ],
      "metadata": {
        "colab": {
          "base_uri": "https://localhost:8080/"
        },
        "id": "ILksbpxP7YRm",
        "outputId": "4b3e857f-4e6a-4afb-e15d-e4564daeff65"
      },
      "id": "ILksbpxP7YRm",
      "execution_count": 61,
      "outputs": [
        {
          "output_type": "stream",
          "name": "stdout",
          "text": [
            "\n",
            " Sample of False Negatives (Actual Positive, Predicted Negative)\n",
            "                                                                                                                                                                                                                                                                                                                                                                                                                                           Review Actual Sentiment Predicted Sentiment\n",
            "4146                                                                                                                                                                                                                          little sachet soap shampoo mattress staff friendly location bang centre quiet breakfast excellent thing mattress bit soft sachet shower gel soap adequate well environment provide dispenser nice stay night submit         Positive            Negative\n",
            "5355                                                                                                                                                                                                                                                                                                                    comment_NEG available_NEG face tear joythumbs thumb thumbs thumbs thumb thumb bedroom apartment balcony stay night submit         Positive            Negative\n",
            "17510  breakfast area start morning service sound door open closing furniture move good good variety breakfast good brasserie service good child friendly jump castle conference room brasserie lounge area provide kid toy check prompt close shopping street are good restaurants(het magazine can orangery free parking marina area underground parking prompt service issue bed good price location child friendly young child bed stay night         Positive            Negative\n",
            "20759                                                                                                                                                                                                                                                                                                                                           request bath forehand possible_NEG arrive good flexible breakfast fine nice location classic stay         Positive            Negative\n",
            "18923                                                                                                                                                                                                                                                                                                                      bike lend pay extra breakfast option good restaurant clean overall look new good location great facility standard stay         Positive            Negative\n",
            "3766                                                                                                                                                                                                                                                                                                light inadequate female purpose staff friendliness professionalism cleanliness rate accommodation rate value money fabulous luxury stay night         Positive            Negative\n",
            "2895                                                                                                                                                                                                                                              noisy hear good manual english work cooker language good guarantee car parking excellent location spacious apartment comfortable bedssmiling face exceptional studio adults)~staye night submit         Positive            Negative\n",
            "9303                                                                                                                                                                                                                                                                                                                               go christmas break bookshop closed control nice good price quality relation nice breakfast great standard stay         Positive            Negative\n",
            "7678                                                                                                                                                                good snore roommate hostel like basically bruegel hostel bed light electric outlet bathroom clean locker use card enter safe importantly breakfast terrific good hostel stay far minute walk central station grand good hostel brussels bunk bed female dormitory stay submit         Positive            Negative\n",
            "11057                                                                                                                                                                                                                                                                      like friend good heating warm antwerp super cold hama beautiful good location dank willed in de personnel of hand hand hand friendly good friend apartment stay submit         Positive            Negative\n"
          ]
        }
      ]
    },
    {
      "cell_type": "markdown",
      "source": [
        "Based on the above examples, I'm going to summarize some findings below:\n",
        "\n",
        "1. False Positives (Actual Negative, Predicted Positive)\n",
        "\n",
        "Definition: These are reviews that the model confidently predicted as 'Positive' (rating ≥9.0), but I have label as 'Negative' (rating <9.0).\n",
        "\n",
        "\n",
        "*   Presence of Strong Positive Language: The most striking pattern is the abundance of highly positive keywords and phrases in these reviews (e.g., \"breathtaking view,\" \"excellent standard,\" \"friendly staff,\" \"fabulous,\" \"amazing location,\" \"great pool\"). The model trained on these positive indicators, is strongly biased towards predicting 'Positive' when it sees them.\n",
        "\n",
        "\n",
        "*  Subtle or Accumulating Negatives: Despite the positive language, these reviews often contain clear negative aspects that ultimately led to the lower (negative) rating. These negatives can be:\n",
        "\n",
        "  - Explicit complaints: \"loud neighbour,\" \"wake noise music,\" \"internet_NEG connection_NEG,\" \"door room slow internet.\"\n",
        "\n",
        "  - Accumulation of minor inconveniences: Several small issues mentioned together (e.g., coffee machine problems, restaurant closure, advising on planning for public holidays).\n",
        "\n",
        "  - Problems attributed to external factors but still impacting the stay: \"owner guilty_NEG covid- restriction.\"\n",
        "\n",
        "*  Model's Blind Spot: The model, being largely a bag-of-words approach, struggles to understand the relative weight of these mixed sentiments. It picks up the strong positives but fails to accurately assess that the listed negatives were significant enough to pull the overall rating below your 9.0 threshold.\n",
        "\n",
        "2. False Negatives (Actual Positive, Predicted Negative)\n",
        "\n",
        "Definition: These are reviews that your model predicted as 'Negative' (rating <9.0), but I have label as 'Positive' (rating ≥9.0).\n",
        "\n",
        "Key Characteristics:\n",
        "\n",
        "\n",
        "\n",
        "*   Problem Descriptions within Positive Reviews: Many of these reviews discuss specific problems or inconveniences (e.g., \"problem stroller new bear stair,\" \"poor water pressure shower,\" \"door lock apartment lock_NEG faulty,\" \"annoying light bathroom,\" \"bathroom leak bathtub,\" \"access car park tricky\").\n",
        "\n",
        "*   Overall Positive Outcome/Feeling: Crucially, despite detailing issues, the reviewers conclude with or frame the experience as overwhelmingly positive. They might mention positive aspects that outweigh the problem, or express satisfaction/willingness to return (e.g., \"great exceptional apartment terrace,\" \"nice maintain property general good,\" \"excellent group stay,\" \"amazing staff cool\").\n",
        "\n",
        "*   Model's Blind Spot: The model appears to be overly sensitive to the presence of \"problem\" words or descriptions of negative events. It flags the review as 'Negative' based on these keywords, failing to recognize the overall positive sentiment and the reviewer's ultimate satisfaction. The human reviewer gave a high rating despite the flaw, indicating the flaw was minor in the grand scheme.\n",
        "\n",
        "Overall Takeaways for the Model:\n",
        "\n",
        "\n",
        "*   Mixed Sentiment Challenge: The most significant challenge for the current model lies in handling reviews with mixed sentiments. It struggles to correctly weigh the balance of positive and negative statements when both are present.\n",
        "*   Nuance and Context: The model finds it difficult to discern subtle nuances, such as when a problem is mentioned but ultimately doesn't detract from a positive experience, or when strong positive words are used in a review that is, overall, dissatisfied.\n",
        "\n",
        "*   Limitations of Bag-of-Words: While TF-IDF with n-grams captures some context, a simple Logistic Regression model (based on these numerical feature representations) might not fully grasp complex linguistic phenomena like sarcasm, implied sentiment, or the precise interplay of clauses and conjunctions (even with your recent negation refinement, which didn't show a performance shift in this dataset).\n",
        "\n",
        "This analysis shows that the model is performing well on clear-cut positive or negative reviews, but the \"hard cases\" are where the true linguistic complexity lies.\n",
        "\n",
        "To try to solve the above, I'm going to be moving into Hyperparameter Tuning, to try to optimize how the current model balances and weighs all the features it has."
      ],
      "metadata": {
        "id": "BgbPB_U1GQJJ"
      },
      "id": "BgbPB_U1GQJJ"
    },
    {
      "cell_type": "markdown",
      "source": [
        "### Hyperparameter Tuning for Logistic Regression and TF-IDF\n",
        "\n",
        "Building upon othe Baseline Logistic Regression, the current step involves  hyperparameter tuning to optimize the model predictive performance. This process systematically explores various combinations of critical parameters across our entire machine learning pipeline. Specifically, we are tuning the regularization strength (C) of the Logistic Regression classifier, along with key parameters for the TF-IDF Vectorizer such as ngram_range, max_features, min_df, and max_df to refine text representation.\n",
        "\n",
        "Furthermore, the k parameter for SelectKBest is optimized to determine the ideal number of statistically significant textual features. By employing cross-validation techniques, this exhaustive search aims to identify the optimal parameter configuration that maximizes the model's generalization ability and overall performance metrics on unseen data."
      ],
      "metadata": {
        "id": "ajnTYwyHIImV"
      },
      "id": "ajnTYwyHIImV"
    },
    {
      "cell_type": "code",
      "source": [
        "# 1. Define the Pipeline with SelectKBest for Text Features\n",
        "# We'll re-define the text_transformer to include SelectKBest for tuning its 'k' parameter.\n",
        "text_transformer_with_selector = Pipeline([\n",
        "    ('tfidf', TfidfVectorizer(stop_words='english')), # max_features and ngram_range will be tuned\n",
        "    ('selector', SelectKBest(chi2)) # 'k' will be tuned\n",
        "])\n",
        "\n",
        "# Re-create the preprocessor to use the text_transformer with SelectKBest\n",
        "preprocessor_tuned = ColumnTransformer(\n",
        "    transformers=[\n",
        "        ('text', text_transformer_with_selector, text_feature),\n",
        "        ('num', numerical_transformer, numerical_features), # numerical_transformer defined previously\n",
        "        ('cat', categorical_transformer, categorical_features) # categorical_transformer defined previously\n",
        "    ],\n",
        "    remainder='drop'\n",
        ")\n",
        "\n",
        "\n",
        "# Define the full model pipeline for tuning\n",
        "model_pipeline_for_tuning = Pipeline(steps=[\n",
        "    ('preprocessor', preprocessor_tuned),\n",
        "    ('classifier', LogisticRegression(random_state=42, solver='liblinear', max_iter=1000))\n",
        "])\n"
      ],
      "metadata": {
        "id": "td94itFDJPHG"
      },
      "id": "td94itFDJPHG",
      "execution_count": 62,
      "outputs": []
    },
    {
      "cell_type": "code",
      "source": [
        "# 2. Define the Parameter Search Space\n",
        "# I will use RandomizedSearchCV for efficiency.\n",
        "# Adjust the ranges based on your dataset size and computational resources.\n",
        "# More n_iter will give a more thorough search but take longer.\n",
        "\n",
        "param_distributions = {\n",
        "    # Parameters for Logistic Regression Classifier\n",
        "    'classifier__C': uniform(loc=0.1, scale=100), # C values between 0.1 and 100.1 (stronger to weaker regularization)\n",
        "\n",
        "    # Parameters for TfidfVectorizer within the 'text' transformer\n",
        "    'preprocessor__text__tfidf__ngram_range': [(1, 1), (1, 2), (1, 3)], # Explore unigrams, bigrams, and trigrams\n",
        "    'preprocessor__text__tfidf__max_features': randint(5000, 20000), # Number of top features from TFIDF\n",
        "    'preprocessor__text__tfidf__min_df': randint(1, 10), # Ignore terms appearing in fewer than X documents\n",
        "    'preprocessor__text__tfidf__max_df': uniform(loc=0.7, scale=0.2), # Ignore terms appearing in more than X% of documents (e.g., 0.7 to 0.9)\n",
        "\n",
        "    # Parameters for SelectKBest within the 'text' transformer\n",
        "    # 'k' can be an int (number of features), or 'all'\n",
        "    'preprocessor__text__selector__k': randint(1000, 10000) # Number of best features to keep after Chi2\n",
        "}"
      ],
      "metadata": {
        "id": "uBh7sTdJJPEY"
      },
      "id": "uBh7sTdJJPEY",
      "execution_count": 63,
      "outputs": []
    },
    {
      "cell_type": "code",
      "source": [
        "# These lines are currently commented out because the model took a long time to run\n",
        "# In this case, I ran the model and then saved the outcome\n",
        "# To run the model below, you will need to uncomment all the below line\n",
        "# This step takes a really long time so after running it the next step will be to save it so is easier just to load the data and run the rest of the analysis\n",
        "\n",
        "# Define custom scorers for multiple metrics\n",
        "# This dictionary will be used for the 'scoring' parameter in RandomizedSearchCV\n",
        "#scorers = {\n",
        "#    'roc_auc': make_scorer(roc_auc_score, needs_proba=True), # Main metric to optimize for\n",
        "#    'accuracy': make_scorer(accuracy_score),\n",
        "#    'f1_weighted': make_scorer(f1_score, average='weighted'), # F1-score, weighted by support\n",
        "#    'f1_macro': make_scorer(f1_score, average='macro')        # F1-score, unweighted average per class\n",
        "#}\n",
        "\n",
        "# 3. Set up RandomizedSearchCV\n",
        "#random_search = RandomizedSearchCV(\n",
        "#    estimator=model_pipeline_for_tuning,\n",
        "#    param_distributions=param_distributions,\n",
        "#    n_iter=50,       # Number of parameter settings to sample. Increase for more exhaustive search.\n",
        "#    cv=5,            # Number of cross-validation folds.\n",
        "#    scoring=scorers,\n",
        "#    refit='roc_auc',\n",
        "#    random_state=42, # For reproducibility\n",
        "#    n_jobs=-1,       # Use all available CPU cores\n",
        "#    verbose=2        # Output verbosity (0 for silent, 1 for progress, 2 for detailed)\n",
        "#)\n",
        "\n",
        "\n",
        "# Fit the RandomizedSearchCV object to your training data\n",
        "#random_search.fit(X_train, y_train)"
      ],
      "metadata": {
        "id": "TYwvwrCKJPBr"
      },
      "id": "TYwvwrCKJPBr",
      "execution_count": 64,
      "outputs": []
    },
    {
      "cell_type": "code",
      "source": [
        "#To run the code below, you will need to uncomment the code by removing the # symbol.\n",
        "\n",
        "# Saving model\n",
        "#Create a local directory\n",
        "#local_save_dir = '/content/downloaded_models'\n",
        "#os.makedirs(local_save_dir, exist_ok=True)\n",
        "\n",
        "#Define the full path for your saved model file\n",
        "#model_filename = os.path.join(local_save_dir, 'random_search_3.joblib')\n",
        "\n",
        "# Save the entire RandomizedSearchCV object\n",
        "#joblib.dump(random_search, model_filename)\n",
        "\n",
        "#print(f\"Tuned Baseline model saved locally to: {model_filename}\")"
      ],
      "metadata": {
        "id": "DtnA4zlPFQhp"
      },
      "id": "DtnA4zlPFQhp",
      "execution_count": 65,
      "outputs": []
    },
    {
      "cell_type": "code",
      "source": [
        "# Downloading the model previously saved and uploaded into Kaggle datasets\n",
        "! kaggle datasets download -d karinabe25us/random-search-3\n",
        "! unzip random-search-3.zip"
      ],
      "metadata": {
        "colab": {
          "base_uri": "https://localhost:8080/"
        },
        "id": "ohLX5UErFj3l",
        "outputId": "9c9d85fa-55fe-41ee-a955-927b41860fb4"
      },
      "id": "ohLX5UErFj3l",
      "execution_count": 66,
      "outputs": [
        {
          "output_type": "stream",
          "name": "stdout",
          "text": [
            "Dataset URL: https://www.kaggle.com/datasets/karinabe25us/random-search-3\n",
            "License(s): apache-2.0\n",
            "Downloading random-search-3.zip to /content/hotel_sentiment\n",
            "  0% 0.00/313k [00:00<?, ?B/s]\n",
            "100% 313k/313k [00:00<00:00, 584MB/s]\n",
            "Archive:  random-search-3.zip\n",
            "  inflating: random_search_3.joblib  \n"
          ]
        }
      ]
    },
    {
      "cell_type": "code",
      "source": [
        "y# Loading the model for analysis\n",
        "model_file_path = '/content/hotel_sentiment/random_search_3.joblib'\n",
        "\n",
        "# Load the entire RandomizedSearchCV object\n",
        "random_search = joblib.load(model_file_path)"
      ],
      "metadata": {
        "id": "RBmL9cBuFjs2",
        "colab": {
          "base_uri": "https://localhost:8080/",
          "height": 297
        },
        "outputId": "3648100b-0567-4999-d732-63c5f4d52089"
      },
      "id": "RBmL9cBuFjs2",
      "execution_count": 67,
      "outputs": [
        {
          "output_type": "error",
          "ename": "FileNotFoundError",
          "evalue": "[Errno 2] No such file or directory: '/content/hotel_sentiment/hotel_sentiment/random_search_3.joblib'",
          "traceback": [
            "\u001b[0;31m---------------------------------------------------------------------------\u001b[0m",
            "\u001b[0;31mFileNotFoundError\u001b[0m                         Traceback (most recent call last)",
            "\u001b[0;32m/tmp/ipython-input-3024939166.py\u001b[0m in \u001b[0;36m<cell line: 0>\u001b[0;34m()\u001b[0m\n\u001b[1;32m      3\u001b[0m \u001b[0;34m\u001b[0m\u001b[0m\n\u001b[1;32m      4\u001b[0m \u001b[0;31m# Load the entire RandomizedSearchCV object\u001b[0m\u001b[0;34m\u001b[0m\u001b[0;34m\u001b[0m\u001b[0m\n\u001b[0;32m----> 5\u001b[0;31m \u001b[0mrandom_search\u001b[0m \u001b[0;34m=\u001b[0m \u001b[0mjoblib\u001b[0m\u001b[0;34m.\u001b[0m\u001b[0mload\u001b[0m\u001b[0;34m(\u001b[0m\u001b[0mmodel_file_path\u001b[0m\u001b[0;34m)\u001b[0m\u001b[0;34m\u001b[0m\u001b[0;34m\u001b[0m\u001b[0m\n\u001b[0m",
            "\u001b[0;32m/usr/local/lib/python3.11/dist-packages/joblib/numpy_pickle.py\u001b[0m in \u001b[0;36mload\u001b[0;34m(filename, mmap_mode, ensure_native_byte_order)\u001b[0m\n\u001b[1;32m    733\u001b[0m             \u001b[0mobj\u001b[0m \u001b[0;34m=\u001b[0m \u001b[0m_unpickle\u001b[0m\u001b[0;34m(\u001b[0m\u001b[0mfobj\u001b[0m\u001b[0;34m,\u001b[0m \u001b[0mensure_native_byte_order\u001b[0m\u001b[0;34m=\u001b[0m\u001b[0mensure_native_byte_order\u001b[0m\u001b[0;34m)\u001b[0m\u001b[0;34m\u001b[0m\u001b[0;34m\u001b[0m\u001b[0m\n\u001b[1;32m    734\u001b[0m     \u001b[0;32melse\u001b[0m\u001b[0;34m:\u001b[0m\u001b[0;34m\u001b[0m\u001b[0;34m\u001b[0m\u001b[0m\n\u001b[0;32m--> 735\u001b[0;31m         \u001b[0;32mwith\u001b[0m \u001b[0mopen\u001b[0m\u001b[0;34m(\u001b[0m\u001b[0mfilename\u001b[0m\u001b[0;34m,\u001b[0m \u001b[0;34m\"rb\"\u001b[0m\u001b[0;34m)\u001b[0m \u001b[0;32mas\u001b[0m \u001b[0mf\u001b[0m\u001b[0;34m:\u001b[0m\u001b[0;34m\u001b[0m\u001b[0;34m\u001b[0m\u001b[0m\n\u001b[0m\u001b[1;32m    736\u001b[0m             with _validate_fileobject_and_memmap(f, filename, mmap_mode) as (\n\u001b[1;32m    737\u001b[0m                 \u001b[0mfobj\u001b[0m\u001b[0;34m,\u001b[0m\u001b[0;34m\u001b[0m\u001b[0;34m\u001b[0m\u001b[0m\n",
            "\u001b[0;31mFileNotFoundError\u001b[0m: [Errno 2] No such file or directory: '/content/hotel_sentiment/hotel_sentiment/random_search_3.joblib'"
          ]
        }
      ]
    },
    {
      "cell_type": "code",
      "source": [
        "# 4. Display Best Parameters and Score\n",
        "print(\"\\n--- Hyperparameter Tuning Results ---\")\n",
        "print(\"Best parameters found: \", random_search.best_params_)\n",
        "print(f\"Best ROC-AUC score (cross-validation): {random_search.best_score_:.4f}\")"
      ],
      "metadata": {
        "id": "sogoUeW9tWUk"
      },
      "id": "sogoUeW9tWUk",
      "execution_count": null,
      "outputs": []
    },
    {
      "cell_type": "code",
      "source": [
        "# 5. Evaluate the Best Model on the Test Set\n",
        "print(\"\\n--- Evaluating Best Model from RandomizedSearchCV on Test Set ---\")\n",
        "best_model = random_search.best_estimator_\n",
        "\n",
        "y_pred_best = best_model.predict(X_test)\n",
        "y_pred_proba_best = best_model.predict_proba(X_test)[:, 1] # Probabilities for ROC curve\n",
        "\n",
        "print(\"\\nClassification Report (Best Tuned Model):\\n\", classification_report(y_test, y_pred_best, target_names=['negative', 'positive']))\n",
        "print(f\"Accuracy Score (Best Tuned Model): {accuracy_score(y_test, y_pred_best):.4f}\")\n",
        "print(f\"ROC-AUC Score (Best Tuned Model): {roc_auc_score(y_test, y_pred_proba_best):.4f}\")\n",
        "print(f\"F1-Score (Weighted Avg): {f1_score(y_test, y_pred_best, average='weighted'):.4f}\")"
      ],
      "metadata": {
        "id": "cv6ObU8wJO_L"
      },
      "id": "cv6ObU8wJO_L",
      "execution_count": null,
      "outputs": []
    },
    {
      "cell_type": "code",
      "source": [
        "# 6. Plot Confusion Matrix for Best Tuned Model\n",
        "cm_best = confusion_matrix(y_test, y_pred_best)\n",
        "plt.figure(figsize=(7, 6))\n",
        "sns.heatmap(cm_best, annot=True, fmt='d', cmap='Blues',\n",
        "            xticklabels=['Negative', 'Positive'], yticklabels=['Negative', 'Positive'])\n",
        "plt.title('Confusion Matrix - Logistic Regression (Tuned)')\n",
        "plt.xlabel('Predicted Label')\n",
        "plt.ylabel('True Label')\n",
        "plt.show()"
      ],
      "metadata": {
        "id": "YLlZrtYItaxt"
      },
      "id": "YLlZrtYItaxt",
      "execution_count": null,
      "outputs": []
    },
    {
      "cell_type": "code",
      "source": [
        "# 7. Plot ROC Curve for Best Tuned Model\n",
        "fpr_best, tpr_best, _ = roc_curve(y_test, y_pred_proba_best)\n",
        "plt.figure(figsize=(6, 5))\n",
        "plt.plot(fpr_best, tpr_best, color='darkorange', lw=2, label=f'ROC curve (area = {roc_auc_score(y_test, y_pred_proba_best):.2f})')\n",
        "plt.plot([0, 1], [0, 1], color='navy', lw=2, linestyle='--')\n",
        "plt.xlim([0.0, 1.0])\n",
        "plt.ylim([0.0, 1.05])\n",
        "plt.xlabel('False Positive Rate')\n",
        "plt.ylabel('True Positive Rate')\n",
        "plt.title('Receiver Operating Characteristic (ROC) - Logistic Regression (Tuned)')\n",
        "plt.legend(loc=\"lower right\")\n",
        "plt.show()"
      ],
      "metadata": {
        "id": "HPySJwhltaaD"
      },
      "id": "HPySJwhltaaD",
      "execution_count": null,
      "outputs": []
    },
    {
      "cell_type": "markdown",
      "source": [
        "### Advanced Machine learning Models"
      ],
      "metadata": {
        "id": "54H3Sj-RMhWz"
      },
      "id": "54H3Sj-RMhWz"
    },
    {
      "cell_type": "markdown",
      "source": [
        "#### Supprt Vector Machine (SVC) Classifier\n",
        "\n",
        "SVMs are powerful for high-dimensional data, common with TF-IDF, by finding optimal separation hyperplanes.\n",
        "\n"
      ],
      "metadata": {
        "id": "3A8M5xTUNEIT"
      },
      "id": "3A8M5xTUNEIT"
    },
    {
      "cell_type": "code",
      "source": [
        "# 1. Define SVM Pipeline\n",
        "svm_pipeline = Pipeline(steps=[\n",
        "    ('preprocessor', preprocessor_tuned),\n",
        "    ('classifier', SVC(random_state=42, probability=True))\n",
        "])"
      ],
      "metadata": {
        "id": "3Qt29E_8JO8d"
      },
      "id": "3Qt29E_8JO8d",
      "execution_count": null,
      "outputs": []
    },
    {
      "cell_type": "code",
      "source": [
        "# 2. Define Parameter Search Space for SVM\n",
        "param_distributions_svm = {\n",
        "    'classifier__C': uniform(loc=0.1, scale=10), # Typically between 0.1 and 100 for text\n",
        "    'classifier__kernel': ['linear', 'rbf'], # Linear often performs well on sparse text data\n",
        "    'classifier__gamma': ['scale', 'auto'] # Kernel coefficient, 'scale' is default\n",
        "}"
      ],
      "metadata": {
        "id": "4ahsj4T0NSqV"
      },
      "id": "4ahsj4T0NSqV",
      "execution_count": null,
      "outputs": []
    },
    {
      "cell_type": "code",
      "source": [
        "# These lines are currently commented out because the model took a long time to run\n",
        "# In this case, I ran the model and then saved the outcome\n",
        "# To run the model below, you will need to uncomment all the below line\n",
        "# This step takes a really long time so after running it the next step will be to save it so is easier just to load the data and run the rest of the analysis\n",
        "\n",
        "# Define custom scorers for multiple metrics\n",
        "# This dictionary will be used for the 'scoring' parameter in RandomizedSearchCV\n",
        "#scorers = {\n",
        "#    'roc_auc': make_scorer(roc_auc_score, needs_proba=True), # Main metric to optimize for\n",
        "#    'accuracy': make_scorer(accuracy_score),\n",
        "#    'f1_weighted': make_scorer(f1_score, average='weighted'), # F1-score, weighted by support\n",
        "#    'f1_macro': make_scorer(f1_score, average='macro')        # F1-score, unweighted average per class\n",
        "#}\n",
        "\n",
        "# 3. Perform Hyperparameter Tuning for SVM\n",
        "# n_iter should be adjusted based on computational resources\n",
        "#random_search_svm = RandomizedSearchCV(\n",
        "#    estimator=svm_pipeline,\n",
        "#    param_distributions=param_distributions_svm,\n",
        "#    n_iter=20, # Reduced for initial exploration, increase for more thorough search\n",
        "#    cv=3,       # Reduced CV folds for faster initial exploration\n",
        "#    scoring=scorers,\n",
        "#    refit='roc_auc',\n",
        "#    random_state=42,\n",
        "#    n_jobs=-1,\n",
        "#    verbose=2\n",
        "#)\n",
        "\n",
        "#random_search_svm.fit(X_train, y_train)"
      ],
      "metadata": {
        "id": "NnkjfeVUNSnG"
      },
      "id": "NnkjfeVUNSnG",
      "execution_count": null,
      "outputs": []
    },
    {
      "cell_type": "code",
      "source": [
        "# Saving model\n",
        "# Create a local directory\n",
        "#local_save_dir = '/content/downloaded_models'\n",
        "#os.makedirs(local_save_dir, exist_ok=True)\n",
        "\n",
        "# Define the full path for your saved model file\n",
        "#model_filename = os.path.join(local_save_dir, 'random_search_svm_2.joblib')\n",
        "\n",
        "# Save the entire RandomizedSearchCV object\n",
        "#joblib.dump(random_search_svm, model_filename)\n",
        "\n",
        "#print(f\"Tuned SVC model saved locally to: {model_filename}\")"
      ],
      "metadata": {
        "id": "ohNDTjYNDvQB"
      },
      "id": "ohNDTjYNDvQB",
      "execution_count": null,
      "outputs": []
    },
    {
      "cell_type": "code",
      "source": [
        "# Downloading the model previously saved and uploaded into Kaggle datasets\n",
        "! kaggle datasets download -d karinabe25us/random-search-svm-2\n",
        "! unzip random-search-svm-2.zip"
      ],
      "metadata": {
        "id": "iAzBW9qfEpGv"
      },
      "id": "iAzBW9qfEpGv",
      "execution_count": null,
      "outputs": []
    },
    {
      "cell_type": "code",
      "source": [
        "# Loading the model for analysis\n",
        "model_file_path = '/content/hotel_sentiment/random_search_svm_2.joblib'\n",
        "\n",
        "# Load the entire RandomizedSearchCV object\n",
        "random_search_svm = joblib.load(model_file_path)"
      ],
      "metadata": {
        "id": "sRAHcLd2ErsD"
      },
      "id": "sRAHcLd2ErsD",
      "execution_count": null,
      "outputs": []
    },
    {
      "cell_type": "code",
      "source": [
        "# 4. Display Best Parameters and Score for SVM\n",
        "print(\"\\n--- SVM Hyperparameter Tuning Results ---\")\n",
        "print(\"Best parameters found: \", random_search_svm.best_params_)\n",
        "print(f\"Best ROC-AUC score (cross-validation): {random_search_svm.best_score_:.4f}\")"
      ],
      "metadata": {
        "id": "DxNXotfUNSkR"
      },
      "id": "DxNXotfUNSkR",
      "execution_count": null,
      "outputs": []
    },
    {
      "cell_type": "code",
      "source": [
        "# 5. Evaluate the Best SVM Model on the Test Set\n",
        "print(\"\\n--- Evaluating Best SVM Model on Test Set ---\")\n",
        "best_svm_model = random_search_svm.best_estimator_\n",
        "\n",
        "y_pred_svm = best_svm_model.predict(X_test)\n",
        "y_pred_proba_svm = best_svm_model.predict_proba(X_test)[:, 1]\n",
        "\n",
        "print(\"\\nClassification Report (Best Tuned SVM Model):\\n\", classification_report(y_test, y_pred_svm, target_names=['negative', 'positive']))\n",
        "print(f\"Accuracy Score (Best Tuned SVM Model): {accuracy_score(y_test, y_pred_svm):.4f}\")\n",
        "print(f\"ROC-AUC Score (Best Tuned SVM Model): {roc_auc_score(y_test, y_pred_proba_svm):.4f}\")\n",
        "print(f\"F1-Score (Weighted Avg): {f1_score(y_test, y_pred_svm, average='weighted'):.4f}\")"
      ],
      "metadata": {
        "id": "HiLAKS3oNShZ"
      },
      "id": "HiLAKS3oNShZ",
      "execution_count": null,
      "outputs": []
    },
    {
      "cell_type": "code",
      "source": [
        "# Plot Confusion Matrix for Best SVM Model\n",
        "cm_svm = confusion_matrix(y_test, y_pred_svm)\n",
        "plt.figure(figsize=(7, 6))\n",
        "sns.heatmap(cm_svm, annot=True, fmt='d', cmap='Blues',\n",
        "            xticklabels=['Negative', 'Positive'], yticklabels=['Negative', 'Positive'])\n",
        "plt.title('Confusion Matrix - SVM (Tuned)')\n",
        "plt.xlabel('Predicted Label')\n",
        "plt.ylabel('True Label')\n",
        "plt.show()"
      ],
      "metadata": {
        "id": "V8U9c4MtNSeq"
      },
      "id": "V8U9c4MtNSeq",
      "execution_count": null,
      "outputs": []
    },
    {
      "cell_type": "code",
      "source": [
        "# Plot ROC Curve for Best SVM Model\n",
        "fpr_svm, tpr_svm, _ = roc_curve(y_test, y_pred_proba_svm)\n",
        "plt.figure(figsize=(6, 5))\n",
        "plt.plot(fpr_svm, tpr_svm, color='darkorange', lw=2, label=f'ROC curve (area = {roc_auc_score(y_test, y_pred_proba_svm):.2f})')\n",
        "plt.plot([0, 1], [0, 1], color='navy', lw=2, linestyle='--')\n",
        "plt.xlim([0.0, 1.0])\n",
        "plt.ylim([0.0, 1.05])\n",
        "plt.xlabel('False Positive Rate')\n",
        "plt.ylabel('True Positive Rate')\n",
        "plt.title('Receiver Operating Characteristic (ROC) - SVM (Tuned)')\n",
        "plt.legend(loc=\"lower right\")\n",
        "plt.show()"
      ],
      "metadata": {
        "id": "L7ZKqVPI7YOp"
      },
      "id": "L7ZKqVPI7YOp",
      "execution_count": null,
      "outputs": []
    },
    {
      "cell_type": "markdown",
      "source": [
        "#### LightGBM (LGBM) Classifier\n",
        "\n",
        "LightGBM is a highly efficient and effective gradient boosting framework that often outperforms other GBMs in terms of speed and accuracy, especially with large datasets."
      ],
      "metadata": {
        "id": "Lm2Idu6z6oMP"
      },
      "id": "Lm2Idu6z6oMP"
    },
    {
      "cell_type": "code",
      "source": [
        "# 1. Define LightGBM Pipeline\n",
        "lgbm_pipeline = Pipeline(steps=[\n",
        "    ('preprocessor', preprocessor_tuned),\n",
        "    ('classifier', LGBMClassifier(random_state=42))\n",
        "])"
      ],
      "metadata": {
        "id": "Zu9EYMqv7YLZ"
      },
      "id": "Zu9EYMqv7YLZ",
      "execution_count": null,
      "outputs": []
    },
    {
      "cell_type": "code",
      "source": [
        "# 2. Define Parameter Search Space for LightGBM\n",
        "param_distributions_lgbm = {\n",
        "    'classifier__n_estimators': randint(100, 500), # Number of boosting stages\n",
        "    'classifier__learning_rate': uniform(loc=0.01, scale=0.2), # Step size shrinkage\n",
        "    'classifier__num_leaves': randint(20, 60), # Max tree leaves for base learners\n",
        "    'classifier__max_depth': randint(5, 15), # Max tree depth\n",
        "    'classifier__reg_alpha': uniform(loc=0, scale=0.5), # L1 regularization\n",
        "    'classifier__reg_lambda': uniform(loc=0, scale=0.5), # L2 regularization\n",
        "    'classifier__colsample_bytree': uniform(loc=0.6, scale=0.4), # Subsample ratio of columns when constructing each tree\n",
        "    'classifier__subsample': uniform(loc=0.6, scale=0.4), # Subsample ratio of the training instance\n",
        "}"
      ],
      "metadata": {
        "id": "FNXCN3R57YIV"
      },
      "id": "FNXCN3R57YIV",
      "execution_count": null,
      "outputs": []
    },
    {
      "cell_type": "code",
      "source": [
        "# Define custom scorers for multiple metrics\n",
        "# This dictionary will be used for the 'scoring' parameter in RandomizedSearchCV\n",
        "#scorers = {\n",
        "#    'roc_auc': make_scorer(roc_auc_score, needs_proba=True), # Main metric to optimize for\n",
        "#    'accuracy': make_scorer(accuracy_score),\n",
        "#    'f1_weighted': make_scorer(f1_score, average='weighted'), # F1-score, weighted by support\n",
        "#    'f1_macro': make_scorer(f1_score, average='macro')        # F1-score, unweighted average per class\n",
        "#}\n",
        "\n",
        "\n",
        "# 3. Perform Hyperparameter Tuning for LightGBM\n",
        "#random_search_lgbm = RandomizedSearchCV(\n",
        "#    estimator=lgbm_pipeline,\n",
        "#    param_distributions=param_distributions_lgbm,\n",
        "#    n_iter=30, # More iterations for GBMs can be beneficial\n",
        "#    cv=3,\n",
        "#    scoring=scorers,\n",
        "#    refit='roc_auc',\n",
        "#    random_state=42,\n",
        "#    n_jobs=-1,\n",
        "#    verbose=2\n",
        "#)\n",
        "\n",
        "#random_search_lgbm.fit(X_train, y_train)"
      ],
      "metadata": {
        "id": "wVx2DIXo7YEC"
      },
      "id": "wVx2DIXo7YEC",
      "execution_count": null,
      "outputs": []
    },
    {
      "cell_type": "code",
      "source": [
        "# Saving model\n",
        "# Create a local directory if it doesn't exist\n",
        "#local_save_dir = '/content/downloaded_models'\n",
        "#os.makedirs(local_save_dir, exist_ok=True)\n",
        "\n",
        "# Define the full path for your saved model file\n",
        "#model_filename = os.path.join(local_save_dir, 'random_search_lgbm_1.joblib')\n",
        "\n",
        "# Save the entire RandomizedSearchCV object\n",
        "#joblib.dump(random_search_lgbm, model_filename)\n",
        "\n",
        "#print(f\"Tuned LightGBM model saved locally to: {model_filename}\")\n"
      ],
      "metadata": {
        "id": "pbOHKlg7Sxtk"
      },
      "id": "pbOHKlg7Sxtk",
      "execution_count": null,
      "outputs": []
    },
    {
      "cell_type": "code",
      "source": [
        "# Downloading the model previously saved and uploaded into Kaggle datasets\n",
        "! kaggle datasets download -d karinabe25us/random-search-lgbm-1\n",
        "! unzip random-search-lgbm-1.zip"
      ],
      "metadata": {
        "id": "dvlvTTyBB3ch"
      },
      "id": "dvlvTTyBB3ch",
      "execution_count": null,
      "outputs": []
    },
    {
      "cell_type": "code",
      "source": [
        "# Loading the model for analysis\n",
        "model_file_path = '/content/hotel_sentiment/random_search_lgbm_1.joblib'\n",
        "\n",
        "# Load the entire RandomizedSearchCV object\n",
        "random_search_lgbm = joblib.load(model_file_path)"
      ],
      "metadata": {
        "id": "LD_BC4rBCpFV"
      },
      "id": "LD_BC4rBCpFV",
      "execution_count": null,
      "outputs": []
    },
    {
      "cell_type": "code",
      "source": [
        "# 4. Display Best Parameters and Score for LightGBM\n",
        "print(\"\\n--- LightGBM Hyperparameter Tuning Results ---\")\n",
        "print(\"Best parameters found: \", random_search_lgbm.best_params_)\n",
        "print(f\"Best ROC-AUC score (cross-validation): {random_search_lgbm.best_score_:.4f}\")"
      ],
      "metadata": {
        "id": "44T3VprSBZr5"
      },
      "id": "44T3VprSBZr5",
      "execution_count": null,
      "outputs": []
    },
    {
      "cell_type": "code",
      "source": [
        "# 5. Evaluate the Best LightGBM Model on the Test Set\n",
        "print(\"\\n--- Evaluating Best LightGBM Model on Test Set ---\")\n",
        "best_lgbm_model = random_search_lgbm.best_estimator_\n",
        "\n",
        "y_pred_lgbm = best_lgbm_model.predict(X_test)\n",
        "y_pred_proba_lgbm = best_lgbm_model.predict_proba(X_test)[:, 1]\n",
        "\n",
        "print(\"\\nClassification Report (Best Tuned LightGBM Model):\\n\", classification_report(y_test, y_pred_lgbm, target_names=['negative', 'positive']))\n",
        "print(f\"Accuracy Score (Best Tuned LightGBM Model): {accuracy_score(y_test, y_pred_lgbm):.4f}\")\n",
        "print(f\"ROC-AUC Score (Best Tuned LightGBM Model): {roc_auc_score(y_test, y_pred_proba_lgbm):.4f}\")\n",
        "print(f\"F1-Score (Weighted Avg): {f1_score(y_test, y_pred_lgbm, average='weighted'):.4f}\")"
      ],
      "metadata": {
        "id": "Nj8YngBOBg6n"
      },
      "id": "Nj8YngBOBg6n",
      "execution_count": null,
      "outputs": []
    },
    {
      "cell_type": "code",
      "source": [
        "# Plot Confusion Matrix for Best LightGBM Model\n",
        "cm_lgbm = confusion_matrix(y_test, y_pred_lgbm)\n",
        "plt.figure(figsize=(7, 6))\n",
        "sns.heatmap(cm_lgbm, annot=True, fmt='d', cmap='Blues',\n",
        "            xticklabels=['Negative', 'Positive'], yticklabels=['Negative', 'Positive'])\n",
        "plt.title('Confusion Matrix - LightGBM (Tuned)')\n",
        "plt.xlabel('Predicted Label')\n",
        "plt.ylabel('True Label')\n",
        "plt.show()"
      ],
      "metadata": {
        "id": "4OuPtDWnBjJ2"
      },
      "id": "4OuPtDWnBjJ2",
      "execution_count": null,
      "outputs": []
    },
    {
      "cell_type": "code",
      "source": [
        "# Plot ROC Curve for Best LightGBM Model\n",
        "fpr_lgbm, tpr_lgbm, _ = roc_curve(y_test, y_pred_proba_lgbm)\n",
        "plt.figure(figsize=(6, 5))\n",
        "plt.plot(fpr_lgbm, tpr_lgbm, color='darkorange', lw=2, label=f'ROC curve (area = {roc_auc_score(y_test, y_pred_proba_lgbm):.2f})')\n",
        "plt.plot([0, 1], [0, 1], color='navy', lw=2, linestyle='--')\n",
        "plt.xlim([0.0, 1.0])\n",
        "plt.ylim([0.0, 1.05])\n",
        "plt.xlabel('False Positive Rate')\n",
        "plt.ylabel('True Positive Rate')\n",
        "plt.title('Receiver Operating Characteristic (ROC) - LightGBM (Tuned)')\n",
        "plt.legend(loc=\"lower right\")\n",
        "plt.show()"
      ],
      "metadata": {
        "id": "rxBHzsK3Bl9j"
      },
      "id": "rxBHzsK3Bl9j",
      "execution_count": null,
      "outputs": []
    },
    {
      "cell_type": "markdown",
      "source": [
        "#### Random Forest Classifier\n",
        "\n",
        "Random Forests are versatile, robust to overfitting, and can capture non-linear relationships, making them a solid choice for a comparative benchmark."
      ],
      "metadata": {
        "id": "n70X8secWAJ7"
      },
      "id": "n70X8secWAJ7"
    },
    {
      "cell_type": "code",
      "source": [
        "# 1. Define Random Forest Pipeline\n",
        "rf_pipeline = Pipeline(steps=[\n",
        "    ('preprocessor', preprocessor_tuned),\n",
        "    ('classifier', RandomForestClassifier(random_state=42))\n",
        "])"
      ],
      "metadata": {
        "id": "6WDU8iVGVkBt"
      },
      "id": "6WDU8iVGVkBt",
      "execution_count": null,
      "outputs": []
    },
    {
      "cell_type": "code",
      "source": [
        "# 2. Define Parameter Search Space for Random Forest\n",
        "param_distributions_rf = {\n",
        "    'classifier__n_estimators': randint(100, 500),\n",
        "    'classifier__max_features': ['sqrt', 'log2'],\n",
        "    'classifier__max_depth': randint(10, 30),\n",
        "    'classifier__min_samples_split': randint(2, 10),\n",
        "    'classifier__min_samples_leaf': randint(1, 5),\n",
        "    'classifier__bootstrap': [True, False]\n",
        "}"
      ],
      "metadata": {
        "id": "vtyMa6tWW1M8"
      },
      "id": "vtyMa6tWW1M8",
      "execution_count": null,
      "outputs": []
    },
    {
      "cell_type": "code",
      "source": [
        "# Define custom scorers for multiple metrics\n",
        "# This dictionary will be used for the 'scoring' parameter in RandomizedSearchCV\n",
        "#scorers = {\n",
        "#    'roc_auc': make_scorer(roc_auc_score, needs_proba=True), # Main metric to optimize for\n",
        "#    'accuracy': make_scorer(accuracy_score),\n",
        "#    'f1_weighted': make_scorer(f1_score, average='weighted'), # F1-score, weighted by support\n",
        "#    'f1_macro': make_scorer(f1_score, average='macro')        # F1-score, unweighted average per class\n",
        "#}\n",
        "\n",
        "# 3. Perform Hyperparameter Tuning for Random Forest\n",
        "#random_search_rf = RandomizedSearchCV(\n",
        "#    estimator=rf_pipeline,\n",
        "#    param_distributions=param_distributions_rf,\n",
        "#    n_iter=30, # Can be resource intensive, so change as needed\n",
        "#    cv=3,\n",
        "#    scoring=scorers,\n",
        "#    refit='roc_auc',\n",
        "#    random_state=42,\n",
        "#    n_jobs=-1,\n",
        "#    verbose=2\n",
        "#)\n",
        "\n",
        "#random_search_rf.fit(X_train, y_train)"
      ],
      "metadata": {
        "id": "Sd-qlSSEW1KC"
      },
      "id": "Sd-qlSSEW1KC",
      "execution_count": null,
      "outputs": []
    },
    {
      "cell_type": "code",
      "source": [
        "# Saving model\n",
        "# Create a local directory if it doesn't exist\n",
        "#local_save_dir = '/content/downloaded_models'\n",
        "#os.makedirs(local_save_dir, exist_ok=True)\n",
        "\n",
        "# Define the full path for your saved model file\n",
        "#model_filename = os.path.join(local_save_dir, 'random_search_rf_1.joblib')\n",
        "#joblib.dump(random_search_rf, model_filename)\n",
        "\n",
        "#print(f\"Tuned Random Forest Classifier saved locally to: {model_filename}\")"
      ],
      "metadata": {
        "id": "m5YrpF7YSFtP"
      },
      "id": "m5YrpF7YSFtP",
      "execution_count": null,
      "outputs": []
    },
    {
      "cell_type": "code",
      "source": [
        "# Downloading the model previously saved and uploaded into Kaggle datasets\n",
        "! kaggle datasets download -d karinabe25us/random-search-rf-1\n",
        "! unzip random-search-rf-1.zip"
      ],
      "metadata": {
        "id": "rVlbHkdNYzfn"
      },
      "id": "rVlbHkdNYzfn",
      "execution_count": null,
      "outputs": []
    },
    {
      "cell_type": "code",
      "source": [
        "# Loading the model for analysis\n",
        "model_file_path = '/content/hotel_sentiment/random_search_rf_1.joblib'\n",
        "\n",
        "# Load the entire RandomizedSearchCV object\n",
        "random_search_rf = joblib.load(model_file_path)"
      ],
      "metadata": {
        "id": "CPkJtrmCaRQi"
      },
      "id": "CPkJtrmCaRQi",
      "execution_count": null,
      "outputs": []
    },
    {
      "cell_type": "code",
      "source": [
        "# 4. Display Best Parameters and Score for Random Forest\n",
        "print(\"\\n--- Random Forest Hyperparameter Tuning Results ---\")\n",
        "print(\"Best parameters found: \", random_search_rf.best_params_)\n",
        "print(f\"Best ROC-AUC score (cross-validation): {random_search_rf.best_score_:.4f}\")"
      ],
      "metadata": {
        "id": "0ki-nJJqW1HE"
      },
      "id": "0ki-nJJqW1HE",
      "execution_count": null,
      "outputs": []
    },
    {
      "cell_type": "code",
      "source": [
        "# 5. Evaluate the Best Random Forest Model on the Test Set\n",
        "print(\"\\n--- Evaluating Best Random Forest Model on Test Set ---\")\n",
        "best_rf_model = random_search_rf.best_estimator_\n",
        "\n",
        "y_pred_rf = best_rf_model.predict(X_test)\n",
        "y_pred_proba_rf = best_rf_model.predict_proba(X_test)[:, 1]\n",
        "\n",
        "print(\"\\nClassification Report (Best Tuned Random Forest Model):\\n\", classification_report(y_test, y_pred_rf, target_names=['negative', 'positive']))\n",
        "print(f\"Accuracy Score (Best Tuned Random Forest Model): {accuracy_score(y_test, y_pred_rf):.4f}\")\n",
        "print(f\"ROC-AUC Score (Best Tuned Random Forest Model): {roc_auc_score(y_test, y_pred_proba_rf):.4f}\")\n",
        "print(f\"F1-Score (Weighted Avg): {f1_score(y_test, y_pred_rf, average='weighted'):.4f}\")"
      ],
      "metadata": {
        "id": "FfyiU9AjW0-K"
      },
      "id": "FfyiU9AjW0-K",
      "execution_count": null,
      "outputs": []
    },
    {
      "cell_type": "code",
      "source": [
        "# Plot Confusion Matrix for Best Random Forest Model\n",
        "cm_rf = confusion_matrix(y_test, y_pred_rf)\n",
        "plt.figure(figsize=(7, 6))\n",
        "sns.heatmap(cm_rf, annot=True, fmt='d', cmap='Blues',\n",
        "            xticklabels=['Negative', 'Positive'], yticklabels=['Negative', 'Positive'])\n",
        "plt.title('Confusion Matrix - Random Forest (Tuned)')\n",
        "plt.xlabel('Predicted Label')\n",
        "plt.ylabel('True Label')\n",
        "plt.show()"
      ],
      "metadata": {
        "id": "eQTMnfNeXCOD"
      },
      "id": "eQTMnfNeXCOD",
      "execution_count": null,
      "outputs": []
    },
    {
      "cell_type": "code",
      "source": [
        "# Plot ROC Curve for Best Random Forest Model\n",
        "fpr_rf, tpr_rf, _ = roc_curve(y_test, y_pred_proba_rf)\n",
        "plt.figure(figsize=(6, 5))\n",
        "plt.plot(fpr_rf, tpr_rf, color='darkorange', lw=2, label=f'ROC curve (area = {roc_auc_score(y_test, y_pred_proba_rf):.2f})')\n",
        "plt.plot([0, 1], [0, 1], color='navy', lw=2, linestyle='--')\n",
        "plt.xlim([0.0, 1.0])\n",
        "plt.ylim([0.0, 1.05])\n",
        "plt.xlabel('False Positive Rate')\n",
        "plt.ylabel('True Positive Rate')\n",
        "plt.title('Receiver Operating Characteristic (ROC) - Random Forest (Tuned)')\n",
        "plt.legend(loc=\"lower right\")\n",
        "plt.show()"
      ],
      "metadata": {
        "id": "jsyn1ixDXCKa"
      },
      "id": "jsyn1ixDXCKa",
      "execution_count": null,
      "outputs": []
    },
    {
      "cell_type": "markdown",
      "source": [
        "## Model Evaluation"
      ],
      "metadata": {
        "id": "iRflS3h6vKax"
      },
      "id": "iRflS3h6vKax"
    },
    {
      "cell_type": "code",
      "source": [
        "# --- Capture metrics for Logistic Regression ---\n",
        "accuracy_lr = accuracy_score(y_test, y_pred_best)\n",
        "roc_auc_lr = roc_auc_score(y_test, y_pred_proba_best)\n",
        "class_report_lr = classification_report(y_test, y_pred_best, target_names=['negative', 'positive'], output_dict=True)\n",
        "f1_neg_lr = class_report_lr['negative']['f1-score']\n",
        "f1_pos_lr = class_report_lr['positive']['f1-score']\n",
        "f1_weighted_lr = class_report_lr['weighted avg']['f1-score'] # CAPTURE WEIGHTED F1\n",
        "cm_lr = confusion_matrix(y_test, y_pred_best)\n",
        "tn_lr, fp_lr, fn_lr, tp_lr = cm_lr.ravel()\n",
        "\n",
        "# --- Capture metrics for SVM ---\n",
        "accuracy_svm = accuracy_score(y_test, y_pred_svm)\n",
        "roc_auc_svm = roc_auc_score(y_test, y_pred_proba_svm)\n",
        "class_report_svm = classification_report(y_test, y_pred_svm, target_names=['negative', 'positive'], output_dict=True)\n",
        "f1_neg_svm = class_report_svm['negative']['f1-score']\n",
        "f1_pos_svm = class_report_svm['positive']['f1-score']\n",
        "f1_weighted_svm = class_report_svm['weighted avg']['f1-score'] # CAPTURE WEIGHTED F1\n",
        "cm_svm = confusion_matrix(y_test, y_pred_svm)\n",
        "tn_svm, fp_svm, fn_svm, tp_svm = cm_svm.ravel()\n",
        "\n",
        "# --- Capture metrics for LightGBM ---\n",
        "accuracy_lgbm = accuracy_score(y_test, y_pred_lgbm)\n",
        "roc_auc_lgbm = roc_auc_score(y_test, y_pred_proba_lgbm)\n",
        "class_report_lgbm = classification_report(y_test, y_pred_lgbm, target_names=['negative', 'positive'], output_dict=True)\n",
        "f1_neg_lgbm = class_report_lgbm['negative']['f1-score']\n",
        "f1_pos_lgbm = class_report_lgbm['positive']['f1-score']\n",
        "f1_weighted_lgbm = class_report_lgbm['weighted avg']['f1-score'] # CAPTURE WEIGHTED F1\n",
        "cm_lgbm = confusion_matrix(y_test, y_pred_lgbm)\n",
        "tn_lgbm, fp_lgbm, fn_lgbm, tp_lgbm = cm_lgbm.ravel()\n",
        "\n",
        "# --- Capture metrics for Random Forest ---\n",
        "accuracy_rf = accuracy_score(y_test, y_pred_rf)\n",
        "roc_auc_rf = roc_auc_score(y_test, y_pred_proba_rf)\n",
        "class_report_rf = classification_report(y_test, y_pred_rf, target_names=['negative', 'positive'], output_dict=True)\n",
        "f1_neg_rf = class_report_rf['negative']['f1-score']\n",
        "f1_pos_rf = class_report_rf['positive']['f1-score']\n",
        "f1_weighted_rf = class_report_rf['weighted avg']['f1-score'] # CAPTURE WEIGHTED F1\n",
        "cm_rf = confusion_matrix(y_test, y_pred_rf)\n",
        "tn_rf, fp_rf, fn_rf, tp_rf = cm_rf.ravel()\n",
        "\n",
        "\n",
        "# --- Create a dictionary to hold all results (now including CM counts) ---\n",
        "results_data = {\n",
        "    'Model': [\n",
        "        'Tuned Logistic Regression',\n",
        "        'Tuned LightGBM',\n",
        "        'Tuned Random Forest',\n",
        "        'Tuned SVM'\n",
        "    ],\n",
        "    'Accuracy': [\n",
        "        accuracy_lr,\n",
        "        accuracy_lgbm,\n",
        "        accuracy_rf,\n",
        "        accuracy_svm\n",
        "    ],\n",
        "    'ROC-AUC': [\n",
        "        roc_auc_lr,\n",
        "        roc_auc_lgbm,\n",
        "        roc_auc_rf,\n",
        "        roc_auc_svm\n",
        "    ],\n",
        "    'Negative F1': [\n",
        "        f1_neg_lr,\n",
        "        f1_neg_lgbm,\n",
        "        f1_neg_rf,\n",
        "        f1_neg_svm\n",
        "    ],\n",
        "    'Positive F1': [\n",
        "        f1_pos_lr,\n",
        "        f1_pos_lgbm,\n",
        "        f1_pos_rf,\n",
        "        f1_pos_svm\n",
        "    ],\n",
        "    'Weighted F1': [ # ADDED THIS COLUMN\n",
        "        f1_weighted_lr,\n",
        "        f1_weighted_lgbm,\n",
        "        f1_weighted_rf,\n",
        "        f1_weighted_svm\n",
        "    ],\n",
        "    'True Negatives (TN)': [\n",
        "        tn_lr,\n",
        "        tn_lgbm,\n",
        "        tn_rf,\n",
        "        tn_svm\n",
        "    ],\n",
        "    'False Positives (FP)': [\n",
        "        fp_lr,\n",
        "        fp_lgbm,\n",
        "        fp_rf,\n",
        "        fp_svm\n",
        "    ],\n",
        "    'False Negatives (FN)': [\n",
        "        fn_lr,\n",
        "        fn_lgbm,\n",
        "        fn_rf,\n",
        "        fn_svm\n",
        "    ],\n",
        "    'True Positives (TP)': [\n",
        "        tp_lr,\n",
        "        tp_lgbm,\n",
        "        tp_rf,\n",
        "        tp_svm\n",
        "    ]\n",
        "}\n",
        "\n",
        "# Create a DataFrame\n",
        "results_df = pd.DataFrame(results_data)\n",
        "\n",
        "# Sort by ROC-AUC (or Accuracy) to easily see the best performing model\n",
        "results_df_sorted = results_df.sort_values(by='ROC-AUC', ascending=False)\n",
        "\n",
        "# Convert to HTML and print\n",
        "html_output = results_df_sorted.to_html(index=False)\n",
        "display(HTML(html_output))"
      ],
      "metadata": {
        "id": "koypy6Tgz-jo"
      },
      "id": "koypy6Tgz-jo",
      "execution_count": null,
      "outputs": []
    },
    {
      "cell_type": "markdown",
      "source": [
        "ADD description of results and choosing the best model and why?\n",
        "Explain why the tuned logistic regression might be the best model even with the advanced models."
      ],
      "metadata": {
        "id": "AkPeoXkEwiVu"
      },
      "id": "AkPeoXkEwiVu"
    },
    {
      "cell_type": "markdown",
      "source": [
        "###  In-Depth Error Analysis (Revisit for Tuned LR - Final Pass)\n",
        "\n",
        "Crucial to understand why is this the best model"
      ],
      "metadata": {
        "id": "x3xj1UUDwzIm"
      },
      "id": "x3xj1UUDwzIm"
    },
    {
      "cell_type": "code",
      "source": [
        "# Ensure y_test is a Series with the correct index for slicing\n",
        "if not isinstance(y_test, pd.Series):\n",
        "    y_test_series = pd.Series(y_test, index=X_test.index)\n",
        "else:\n",
        "    y_test_series = y_test\n",
        "\n",
        "# Define the mapping from numeric to string sentiment labels for display\n",
        "sentiment_label_map = {0: 'Negative', 1: 'Positive'}\n",
        "\n",
        "# Get indices for each type of classification using the TUNED model's predictions\n",
        "true_positives_idx = X_test.index[(y_test_series == 1) & (y_pred_best == 1)]\n",
        "true_negatives_idx = X_test.index[(y_test_series == 0) & (y_pred_best == 0)]\n",
        "false_positives_idx = X_test.index[(y_test_series == 0) & (y_pred_best == 1)] # Actual Negative, Predicted Positive\n",
        "false_negatives_idx = X_test.index[(y_test_series == 1) & (y_pred_best == 0)] # Actual Positive, Predicted Negative\n",
        "\n",
        "print(f\"True Positives (Tuned LR): {len(true_positives_idx)}\")\n",
        "print(f\"True Negatives (Tuned LR): {len(true_negatives_idx)}\")\n",
        "print(f\"False Positives (Tuned LR): {len(false_positives_idx)}\")\n",
        "print(f\"False Negatives (Tuned LR): {len(false_negatives_idx)}\")\n",
        "\n",
        "\n",
        "# --- Sample of False Positives (Actual Negative, Predicted Positive) for Tuned LR ---\n",
        "print(\"\\n--- Sample of False Positives (Actual Negative, Predicted Positive) for Tuned LR ---\")\n",
        "fp_reviews_text = X_test.loc[false_positives_idx, 'combined_text']\n",
        "fp_actual_sentiment_numeric = y_test_series.loc[false_positives_idx]\n",
        "fp_actual_sentiment_str = fp_actual_sentiment_numeric.map(sentiment_label_map)\n",
        "fp_predicted_sentiment_numeric = y_pred_best[(y_test_series == 0) & (y_pred_best == 1)]\n",
        "fp_predicted_sentiment_str = pd.Series(fp_predicted_sentiment_numeric, index=false_positives_idx).map(sentiment_label_map)\n",
        "\n",
        "fp_df_display = pd.DataFrame({\n",
        "    'Review': fp_reviews_text,\n",
        "    'Actual Sentiment': fp_actual_sentiment_str,\n",
        "    'Predicted Sentiment': fp_predicted_sentiment_str\n",
        "})\n",
        "print(fp_df_display.head(10).to_string())\n",
        "\n",
        "\n",
        "# --- Sample of False Negatives (Actual Positive, Predicted Negative) for Tuned LR ---\n",
        "print(\"\\n--- Sample of False Negatives (Actual Positive, Predicted Negative) for Tuned LR ---\")\n",
        "fn_reviews_text = X_test.loc[false_negatives_idx, 'combined_text']\n",
        "fn_actual_sentiment_numeric = y_test_series.loc[false_negatives_idx]\n",
        "fn_actual_sentiment_str = fn_actual_sentiment_numeric.map(sentiment_label_map)\n",
        "fn_predicted_sentiment_numeric = y_pred_best[(y_test_series == 1) & (y_pred_best == 0)]\n",
        "fn_predicted_sentiment_str = pd.Series(fn_predicted_sentiment_numeric, index=false_negatives_idx).map(sentiment_label_map)\n",
        "\n",
        "fn_df_display = pd.DataFrame({\n",
        "    'Review': fn_reviews_text,\n",
        "    'Actual Sentiment': fn_actual_sentiment_str,\n",
        "    'Predicted Sentiment': fn_predicted_sentiment_str\n",
        "})\n",
        "print(fn_df_display.head(10).to_string())\n"
      ],
      "metadata": {
        "id": "vqzKozTDXCD0"
      },
      "id": "vqzKozTDXCD0",
      "execution_count": null,
      "outputs": []
    },
    {
      "cell_type": "markdown",
      "source": [
        "Following hyperparameter tuning, our Logistic Regression model demonstrated a modest yet significant improvement in overall performance metrics, including accuracy and ROC-AUC. However, a detailed error analysis revealed persistent misclassification patterns, particularly concerning reviews with mixed sentiments. False positives frequently occurred when reviews contained prominent positive keywords, which the model prioritized over more nuanced or accumulated negative details that led to an overall low rating. Conversely, false negatives arose when genuinely positive reviews discussed minor issues or inconveniences, causing the model to incorrectly predict a negative sentiment despite the reviewer's clear satisfaction. This suggests that while our tuned model excels at identifying explicit sentiment, it struggles with the intricate contextual understanding, relative weighting of conflicting information, and subtle nuances inherent in human language that define these challenging mixed-sentiment cases.\n",
        "\n",
        "Based on this our next step will be deep learning for text classification"
      ],
      "metadata": {
        "id": "K4WMemz2yBDd"
      },
      "id": "K4WMemz2yBDd"
    },
    {
      "cell_type": "markdown",
      "source": [
        "### Feature Importance (for Tuned LR)"
      ],
      "metadata": {
        "id": "oi3VIKwVzlWx"
      },
      "id": "oi3VIKwVzlWx"
    },
    {
      "cell_type": "code",
      "source": [
        "# Get the preprocessor step\n",
        "preprocessor_step = best_model.named_steps['preprocessor']\n",
        "\n",
        "# Get the classifier step\n",
        "classifier = best_model.named_steps['classifier']\n",
        "\n",
        "# Get the fitted TfidfVectorizer from the 'text' transformer\n",
        "tfidf_vectorizer = preprocessor_step.named_transformers_['text'].named_steps['tfidf']\n",
        "\n",
        "# Get the fitted SelectKBest from the 'text' transformer\n",
        "text_selector = preprocessor_step.named_transformers_['text'].named_steps['selector']\n",
        "\n",
        "# Get the feature names for the TF-IDF part *after* selection\n",
        "text_feature_names = tfidf_vectorizer.get_feature_names_out()\n",
        "selected_tfidf_features = [text_feature_names[i] for i in text_selector.get_support(indices=True)]\n",
        "\n",
        "# Get the fitted StandardScaler for numerical features (from the 'num' transformer)\n",
        "numerical_scaler_pipeline = preprocessor_step.named_transformers_['num']\n",
        "# Numerical features are just their names\n",
        "numerical_feature_names = numerical_features\n",
        "\n",
        "# Get the fitted OneHotEncoder for categorical features (from the 'cat' transformer)\n",
        "categorical_encoder_pipeline = preprocessor_step.named_transformers_['cat']\n",
        "encoded_categorical_features = list(categorical_encoder_pipeline.named_steps['onehot'].get_feature_names_out(categorical_features))"
      ],
      "metadata": {
        "id": "g3ghzgLryAvH"
      },
      "id": "g3ghzgLryAvH",
      "execution_count": null,
      "outputs": []
    },
    {
      "cell_type": "code",
      "source": [
        "# Combine all feature names in the order they appear in the transformed output\n",
        "all_feature_names = selected_tfidf_features + numerical_feature_names + encoded_categorical_features\n",
        "\n",
        "# Get the coefficients from the Logistic Regression model\n",
        "coefficients = classifier.coef_[0]\n",
        "\n",
        "# Create a DataFrame for all feature importances\n",
        "all_feature_importances = pd.DataFrame({\n",
        "    'feature': all_feature_names,\n",
        "    'coefficient': coefficients\n",
        "})\n",
        "\n",
        "# Sort and display top positive and negative coefficients\n",
        "top_positive_coeffs = all_feature_importances.sort_values(by='coefficient', ascending=False).head(20)\n",
        "print(\"\\n--- Top 20 features most indicative of POSITIVE sentiment (highest positive coefficients) - Tuned LR ---\")\n",
        "for _, row in top_positive_coeffs.iterrows():\n",
        "    print(f\"{row['feature']:<40} {row['coefficient']:.6f}\")\n",
        "\n",
        "top_negative_coeffs = all_feature_importances.sort_values(by='coefficient', ascending=True).head(20)\n",
        "print(\"\\n--- Top 20 features most indicative of NEGATIVE sentiment (most negative coefficients) - Tuned LR ---\")\n",
        "for _, row in top_negative_coeffs.iterrows():\n",
        "    print(f\"{row['feature']:<40} {row['coefficient']:.6f}\")"
      ],
      "metadata": {
        "id": "uGy185MyXCA6"
      },
      "id": "uGy185MyXCA6",
      "execution_count": null,
      "outputs": []
    },
    {
      "cell_type": "code",
      "source": [
        "# CHANGE this code\n",
        "# Creating a figure with 2 subplots\n",
        "fig, axes = plt.subplots(1, 2, figsize=(20, 10))\n",
        "\n",
        "# Plot Top Positive Text Features (Left Subplot) ---\n",
        "sns.barplot(x='coefficient', y='feature', data=top_positive_coeffs, palette='Greens_r', ax=axes[0]) # '_r' reverses the palette\n",
        "axes[0].set_title('Top Positive Text Features (Tuned LR)')\n",
        "axes[0].set_xlabel('Coefficient Value')\n",
        "axes[0].set_ylabel('Feature (Word/N-gram)')\n",
        "axes[0].invert_xaxis()\n",
        "axes[0].invert_yaxis()\n",
        "\n",
        "\n",
        "# Plot Top Negative Text Features (Right Subplot) ---\n",
        "top_negative_text_coeffs_abs = top_negative_coeffs.copy()\n",
        "top_negative_text_coeffs_abs['coefficient'] = top_negative_text_coeffs_abs['coefficient'].abs()\n",
        "\n",
        "top_negative_text_coeffs_abs = top_negative_text_coeffs_abs.sort_values(by='coefficient', ascending=False)\n",
        "\n",
        "sns.barplot(x='coefficient', y='feature', data=top_negative_text_coeffs_abs, palette='Reds', ax=axes[1])\n",
        "axes[1].set_title('Top Negative Text Features (Tuned LR)')\n",
        "axes[1].set_xlabel('Absolute Coefficient Value')\n",
        "axes[1].set_ylabel('')\n",
        "\n",
        "axes[1].invert_yaxis()\n",
        "\n",
        "\n",
        "# Final adjustments for the entire figure\n",
        "plt.suptitle('Feature Importances: Positive vs. Negative Sentiment (Tuned LR)', fontsize=16)\n",
        "plt.tight_layout(rect=[0, 0.03, 1, 0.95])\n",
        "plt.show()"
      ],
      "metadata": {
        "id": "7UgPs6qqFQoW"
      },
      "id": "7UgPs6qqFQoW",
      "execution_count": null,
      "outputs": []
    },
    {
      "cell_type": "code",
      "source": [
        "# Top numerical features\n",
        "print(\"\\n--- Numerical Feature Importances (from Tuned LR) ---\")\n",
        "num_coeffs_df = all_feature_importances[all_feature_importances['feature'].isin(numerical_features)]\n",
        "print(num_coeffs_df.to_string(index=False))"
      ],
      "metadata": {
        "id": "NbDDZUYZXB9y"
      },
      "id": "NbDDZUYZXB9y",
      "execution_count": null,
      "outputs": []
    },
    {
      "cell_type": "code",
      "source": [
        "# Top categorical features\n",
        "print(\"\\n--- Categorical Feature Importances (Top/Bottom 10 from Tuned LR) ---\")\n",
        "cat_coeffs_df = all_feature_importances[all_feature_importances['feature'].isin(encoded_categorical_features)]\n",
        "print(\"Top 10 positive categorical:\\n\", cat_coeffs_df.sort_values(by='coefficient', ascending=False).head(10).to_string(index=False))\n",
        "print(\"\\nTop 10 negative categorical:\\n\", cat_coeffs_df.sort_values(by='coefficient', ascending=True).head(10).to_string(index=False))"
      ],
      "metadata": {
        "id": "RNXDmF1ZUzhP"
      },
      "id": "RNXDmF1ZUzhP",
      "execution_count": null,
      "outputs": []
    },
    {
      "cell_type": "markdown",
      "source": [
        "# Additional tests"
      ],
      "metadata": {
        "id": "s9Dr90d0Ccjv"
      },
      "id": "s9Dr90d0Ccjv"
    },
    {
      "cell_type": "markdown",
      "source": [
        "## ADD permutations?"
      ],
      "metadata": {
        "id": "Ld7PAuhSe93x"
      },
      "id": "Ld7PAuhSe93x"
    },
    {
      "cell_type": "markdown",
      "source": [
        "# Deep Learning for Text Classification\n",
        "\n",
        "The reason to run this deep learning for text classification is because it fundamentally changes how text is pre-processed (from TF-IDF to embedding) and introduces neural networks architectures.\n",
        "\n",
        "Core Differences from Traditional ML (TF-IDF):\n",
        "\n",
        "\n",
        "\n",
        "*   Text Representation: Converts words into dense, continuous vectors (embeddings) that capture semantic relationships, rather than sparse frequency counts.\n",
        "*   Model Architecture: Uses neural network layers (like LSTM, CNN) to learn hierarchical features and dependencies in sequences of words.\n",
        "*   Preprocessing: Requires mapping words to integers and then padding sequences to a fixed length.\n",
        "\n",
        "Assumptions before starting:\n",
        "\n",
        "1. X_train, X_test, y_train, y_test is prepared.\n",
        "\n",
        "2. numerical_features and categorical_features lists are correctly defined.\n",
        "\n",
        "3. numerical_transformer and categorical_transformer Pipelines are available.\n",
        "\n",
        "\n",
        "\n",
        "\n",
        "\n",
        "\n",
        "\n",
        "\n",
        "\n",
        "\n",
        "\n",
        "\n"
      ],
      "metadata": {
        "id": "UgLYFfQ_05p-"
      },
      "id": "UgLYFfQ_05p-"
    },
    {
      "cell_type": "code",
      "source": [
        "# Adding random_seed for reproducibility\n",
        "\n",
        "# 1. Set `PYTHONHASHSEED` environment variable at a fixed value\n",
        "os.environ['PYTHONHASHSEED'] = '0'\n",
        "\n",
        "# 2. Set `python` built-in pseudo-random generator at a fixed value\n",
        "rn.seed(42)\n",
        "\n",
        "# 3. Set `numpy` pseudo-random generator at a fixed value\n",
        "np.random.seed(42)\n",
        "\n",
        "# 4. Set `tensorflow` pseudo-random generator at a fixed value\n",
        "tf.random.set_seed(42)"
      ],
      "metadata": {
        "id": "CIBJW3HZNDP5"
      },
      "id": "CIBJW3HZNDP5",
      "execution_count": null,
      "outputs": []
    },
    {
      "cell_type": "markdown",
      "source": [
        "How to define MAX_NUM_WORDS?\n",
        "\n",
        "For this Deep Learning model's text preprocessing, I selected a MAX_NUM_WORDS value of 20K as the optimal vocabulary size.\n",
        "\n",
        "This parameter dictates the maximum number of most frequent individual words the Keras Tokenizer will retain, mapping them to unique integer indices. This choice is well-justified by my previous TF-IDF analysis, where the optimized Logistic Regression model leveraged approximately 9K features, comprising a blend of unigrams, bigrams, and trigrams.\n",
        "\n",
        "Given that Deep Learning models primarily learn embeddings for individual words, a vocabulary size of 20K unigrams provides a significantly broader and more comprehensive coverage than the previously effective n-gram set. This robust size is sufficient to capture the vast majority of semantically relevant terms in the dataset, allowing the embedding layer to learn rich word representations while efficiently managing less frequent words through an Out-Of-Vocabulary token."
      ],
      "metadata": {
        "id": "q4yQyI1YQGiq"
      },
      "id": "q4yQyI1YQGiq"
    },
    {
      "cell_type": "markdown",
      "source": [
        "How to define MAX_SEQUENCE_LENGTH?\n",
        "\n",
        "To select the correct value for MAX_SEQUENCE_LENGTH I analyzed the length of the integer sequences generated by the tokenizer before padding.\n"
      ],
      "metadata": {
        "id": "U2Kk5FRxQqcW"
      },
      "id": "U2Kk5FRxQqcW"
    },
    {
      "cell_type": "markdown",
      "source": [
        "Based on these results for review length, MAX_SEQUENCE_LENGTH = 100 will be correct.Here's why this value is appropriate:\n",
        "\n",
        "1.   Excellent Coverage: The 95th percentile is 49 words, The 99th percentile is 82 words. This means that setting MAX_SEQUENCE_LENGTH to 100 allows me to capture 99% of the reviews in their entirety without any truncation. Only the very longest 1% of reviews (those above 82 words, up to 274 words max) will be truncated. The amount of information lost from this is minimal.\n",
        "2.   Efficiency: While most reviews are much shorter (median 14 words, average 19.46 words), 100 is a standard length that provides a good balance. Going much longer would mean excessive padding for the majority of the reviews without providing significant benefit, and it will  potentially increasing training time unnecessarily."
      ],
      "metadata": {
        "id": "eYEVv37COvzp"
      },
      "id": "eYEVv37COvzp"
    },
    {
      "cell_type": "code",
      "source": [
        "# 1. Starting Deep Learning Text Preprocessing\n",
        "\n",
        "# Define vocabulary size and max sequence length\n",
        "# MAX_NUM_WORDS: The maximum number of words to keep, based on word frequency. Adjust based on your vocabulary size. Too small loses info, too big adds noise/complexity.\n",
        "#\n",
        "# MAX_SEQUENCE_LENGTH: Reviews will be padded/truncated to this length. Choose based on the distribution of your review lengths.\n",
        "MAX_NUM_WORDS = 20000  # Example: Top 20,000 most frequent words\n",
        "MAX_SEQUENCE_LENGTH = 100 # Example: Pad/truncate reviews to 100 words\n",
        "\n",
        "# Initialize Keras Tokenizer\n",
        "# oov_token handles words not in the top MAX_NUM_WORDS vocabulary.\n",
        "tokenizer = Tokenizer(num_words=MAX_NUM_WORDS, oov_token=\"<oov>\")\n",
        "\n",
        "# Fit the tokenizer ONLY on the training text data to prevent data leakage.\n",
        "# This builds the vocabulary (word-to-integer mapping).\n",
        "tokenizer.fit_on_texts(X_train['combined_text'])\n",
        "\n",
        "word_index = tokenizer.word_index\n",
        "print(f\"Found {len(word_index)} unique tokens.\")\n",
        "print(f\"Using top {min(MAX_NUM_WORDS, len(word_index))} words from vocabulary.\")\n",
        "print(f\"Max sequence length for padding: {MAX_SEQUENCE_LENGTH}\")\n",
        "\n",
        "# Convert text to sequences of integers\n",
        "X_train_sequences = tokenizer.texts_to_sequences(X_train['combined_text'])\n",
        "X_test_sequences = tokenizer.texts_to_sequences(X_test['combined_text'])\n",
        "\n",
        "# Pad sequences to a fixed length\n",
        "# 'padding=post' adds zeros after the sequence.\n",
        "# 'truncating=post' truncates long sequences from the end.\n",
        "X_train_padded = pad_sequences(X_train_sequences, maxlen=MAX_SEQUENCE_LENGTH, padding='post', truncating='post')\n",
        "X_test_padded = pad_sequences(X_test_sequences, maxlen=MAX_SEQUENCE_LENGTH, padding='post', truncating='post')\n",
        "\n",
        "print(f\"Shape of X_train_padded: {X_train_padded.shape}\")\n",
        "print(f\"Shape of X_test_padded: {X_test_padded.shape}\")\n",
        "\n",
        "# Prepare y labels for Keras (ensure they are numpy arrays and correct dtype)\n",
        "y_train_dl = np.asarray(y_train).astype('float32') # Keras often prefers float32 for binary targets\n",
        "y_test_dl = np.asarray(y_test).astype('float32')"
      ],
      "metadata": {
        "id": "agkx5sR205hu"
      },
      "id": "agkx5sR205hu",
      "execution_count": null,
      "outputs": []
    },
    {
      "cell_type": "code",
      "source": [
        "# 2. Preparing Numerical and Categorical Features for Deep Learning Hybrid Model\n",
        "\n",
        "# Create a ColumnTransformer that ONLY processes numerical and categorical features.\n",
        "# We don't want the TF-IDF part from preprocessor_tuned here, as text will be handled by Keras Tokenizer.\n",
        "non_text_preprocessor = ColumnTransformer(\n",
        "    transformers=[\n",
        "        ('num', numerical_transformer, numerical_features),\n",
        "        ('cat', categorical_transformer, categorical_features)\n",
        "    ],\n",
        "    remainder='drop' # Drops any other columns not specified\n",
        ")\n",
        "\n",
        "# Fit this preprocessor on X_train and transform X_train and X_test\n",
        "X_train_non_text = non_text_preprocessor.fit_transform(X_train)\n",
        "X_test_non_text = non_text_preprocessor.transform(X_test)\n",
        "\n",
        "# Convert to dense numpy arrays for Keras. ColumnTransformer might output sparse.\n",
        "X_train_non_text_dense = X_train_non_text.toarray() if hasattr(X_train_non_text, 'toarray') else X_train_non_text\n",
        "X_test_non_text_dense = X_test_non_text.toarray() if hasattr(X_test_non_text, 'toarray') else X_test_non_text\n",
        "\n",
        "print(f\"Shape of X_train_non_text_dense: {X_train_non_text_dense.shape}\")\n",
        "print(f\"Shape of X_test_non_text_dense: {X_test_non_text_dense.shape}\")"
      ],
      "metadata": {
        "id": "_fEKxvfU05fR"
      },
      "id": "_fEKxvfU05fR",
      "execution_count": null,
      "outputs": []
    },
    {
      "cell_type": "code",
      "source": [
        "# 3. Defining and Training Hybrid Deep Learning Model\n",
        "\n",
        "# Determine input dimensions for non-text features\n",
        "non_text_input_dim = X_train_non_text_dense.shape[1]\n",
        "\n",
        "# Define embedding dimension for word embeddings\n",
        "# Adjust based on complexity desired. Larger values capture more info.\n",
        "embedding_dim = 100"
      ],
      "metadata": {
        "id": "CNekLXwuLNap"
      },
      "id": "CNekLXwuLNap",
      "execution_count": null,
      "outputs": []
    },
    {
      "cell_type": "code",
      "source": [
        "# --- Step 1: Text Input Branch ---\n",
        "text_input = Input(shape=(MAX_SEQUENCE_LENGTH,), name='text_input')\n",
        "\n",
        "# Embedding Layer: Converts integer sequences to dense vectors.\n",
        "# input_dim: Size of the vocabulary (MAX_NUM_WORDS + 1 because 0 is reserved for padding).\n",
        "# output_dim: Dimension of the dense embedding.\n",
        "# input_length: Fixed length of input sequences.\n",
        "x = Embedding(input_dim=MAX_NUM_WORDS + 1, output_dim=embedding_dim,\n",
        "              input_length=MAX_SEQUENCE_LENGTH)(text_input)\n",
        "\n",
        "# Choose one: Bidirectional LSTM or 1D CNN for sequential processing\n",
        "# Option A: Bidirectional LSTM. Provides contextual understanding from both directions of the sequence.\n",
        "# Option B: 1D CNN (Uncomment to use this instead of LSTM. Good for local patterns like n-grams)\n",
        "# x = Conv1D(filters=128, kernel_size=5, activation='relu')(x) # 128 filters, 5-word window\n",
        "# x = GlobalMaxPooling1D()(x) # Takes the maximum value over all features in each filter\n",
        "# For this model I am using Option A\n",
        "x = Bidirectional(LSTM(64, return_sequences=False))(x)\n",
        "\n",
        "# Add a Dense layer for the text branch output\n",
        "x = Dense(64, activation='relu')(x) # A simple fully connected layer"
      ],
      "metadata": {
        "id": "TJhLrPCDLQLt"
      },
      "id": "TJhLrPCDLQLt",
      "execution_count": null,
      "outputs": []
    },
    {
      "cell_type": "code",
      "source": [
        "# --- Step 2: Non-Text Input Branch ---\n",
        "non_text_input = Input(shape=(non_text_input_dim,), name='non_text_input')\n",
        "\n",
        "# You can add dense layers here to process the numerical/categorical features before merging.\n",
        "# This allows the network to learn interactions within these features.\n",
        "y = Dense(32, activation='relu')(non_text_input) # A simple fully connected layer"
      ],
      "metadata": {
        "id": "TlTUIInr05c6"
      },
      "id": "TlTUIInr05c6",
      "execution_count": null,
      "outputs": []
    },
    {
      "cell_type": "code",
      "source": [
        "# --- Step 3: Concatenate and Final Output ---\n",
        "# Concatenate the outputs from both branches into a single merged layer\n",
        "merged = Concatenate()([x, y])\n",
        "\n",
        "# Add a final classification layer\n",
        "# For binary classification (Positive/Negative), use 1 unit and 'sigmoid' activation.\n",
        "output = Dense(1, activation='sigmoid', name='output')(merged)\n",
        "\n",
        "# Define the overall model with multiple inputs and one output\n",
        "model_dl = Model(inputs=[text_input, non_text_input], outputs=output)\n",
        "\n",
        "# Compile the model\n",
        "# optimizer: Adam is a good general-purpose optimizer.\n",
        "# loss: 'binary_crossentropy' is standard for binary classification.\n",
        "# metrics: 'accuracy' and 'auc' (Area Under ROC Curve) are good evaluation metrics.\n",
        "model_dl.compile(optimizer=Adam(learning_rate=0.001),\n",
        "                 loss='binary_crossentropy',\n",
        "                 metrics=['accuracy', tf.keras.metrics.AUC(name='auc')])\n",
        "\n",
        "# Display the model summary (shows layers, output shapes, and parameters)\n",
        "model_dl.summary()"
      ],
      "metadata": {
        "id": "_jlYp08GLbBB"
      },
      "id": "_jlYp08GLbBB",
      "execution_count": null,
      "outputs": []
    },
    {
      "cell_type": "code",
      "source": [
        "# 4. Train the model\n",
        "history_dl = model_dl.fit(\n",
        "    # Pass inputs as a dictionary mapping input names to data\n",
        "    {'text_input': X_train_padded, 'non_text_input': X_train_non_text_dense},\n",
        "    y_train_dl,\n",
        "    epochs=10,\n",
        "    batch_size=32,\n",
        "    validation_split=0.2,\n",
        "    verbose=1\n",
        ")"
      ],
      "metadata": {
        "id": "dFra4clOLe5M"
      },
      "id": "dFra4clOLe5M",
      "execution_count": null,
      "outputs": []
    },
    {
      "cell_type": "code",
      "source": [
        "# 5. Evaluating Deep Learning Model on Test Set\n",
        "\n",
        "loss_dl, accuracy_dl, auc_dl = model_dl.evaluate(\n",
        "    {'text_input': X_test_padded, 'non_text_input': X_test_non_text_dense},\n",
        "    y_test_dl,\n",
        "    verbose=0\n",
        ")\n",
        "\n",
        "print(f\"Deep Learning Test Accuracy: {accuracy_dl:.4f}\")\n",
        "print(f\"Deep Learning Test ROC-AUC: {auc_dl:.4f}\")"
      ],
      "metadata": {
        "id": "UcZGaD3F05aP"
      },
      "id": "UcZGaD3F05aP",
      "execution_count": null,
      "outputs": []
    },
    {
      "cell_type": "code",
      "source": [
        "# Get probabilities for ROC curve and binary predictions\n",
        "y_pred_proba_dl = model_dl.predict({'text_input': X_test_padded, 'non_text_input': X_test_non_text_dense}).flatten()\n",
        "y_pred_dl = (y_pred_proba_dl > 0.5).astype(int) # Convert probabilities to binary predictions (using 0.5 as threshold)\n",
        "\n",
        "# Generate classification report for detailed metrics\n",
        "print(\"\\nClassification Report (Deep Learning Model):\\n\", classification_report(y_test_dl, y_pred_dl, target_names=['negative', 'positive']))\n"
      ],
      "metadata": {
        "id": "55j65-7tMfEd"
      },
      "id": "55j65-7tMfEd",
      "execution_count": null,
      "outputs": []
    },
    {
      "cell_type": "code",
      "source": [
        "# Plot Confusion Matrix\n",
        "cm_dl = confusion_matrix(y_test_dl, y_pred_dl)\n",
        "plt.figure(figsize=(7, 6))\n",
        "sns.heatmap(cm_dl, annot=True, fmt='d', cmap='Blues',\n",
        "            xticklabels=['Negative', 'Positive'], yticklabels=['Negative', 'Positive'])\n",
        "plt.title('Confusion Matrix - Deep Learning Model')\n",
        "plt.xlabel('Predicted Label')\n",
        "plt.ylabel('True Label')\n",
        "plt.show()\n",
        "\n"
      ],
      "metadata": {
        "id": "N0pLaYT305X6"
      },
      "id": "N0pLaYT305X6",
      "execution_count": null,
      "outputs": []
    },
    {
      "cell_type": "code",
      "source": [
        "# Plot ROC Curve\n",
        "fpr_dl, tpr_dl, _ = roc_curve(y_test_dl, y_pred_proba_dl)\n",
        "plt.figure(figsize=(6, 5))\n",
        "plt.plot(fpr_dl, tpr_dl, color='darkorange', lw=2, label=f'ROC curve (area = {auc_dl:.2f})')\n",
        "plt.plot([0, 1], [0, 1], color='navy', lw=2, linestyle='--')\n",
        "plt.xlim([0.0, 1.0])\n",
        "plt.ylim([0.0, 1.05])\n",
        "plt.xlabel('False Positive Rate')\n",
        "plt.ylabel('True Positive Rate')\n",
        "plt.title('Receiver Operating Characteristic (ROC) - Deep Learning Model')\n",
        "plt.legend(loc=\"lower right\")\n",
        "plt.show()"
      ],
      "metadata": {
        "id": "ms9qvywO05VX"
      },
      "id": "ms9qvywO05VX",
      "execution_count": null,
      "outputs": []
    },
    {
      "cell_type": "code",
      "source": [
        "# --- Dynamically pull metrics for Tuned Logistic Regression ---\n",
        "accuracy_lr_tuned = accuracy_score(y_test, y_pred_best)\n",
        "roc_auc_lr_tuned = roc_auc_score(y_test, y_pred_proba_best)\n",
        "class_report_lr_tuned = classification_report(y_test, y_pred_best, target_names=['negative', 'positive'], output_dict=True)\n",
        "f1_neg_lr_tuned = class_report_lr_tuned['negative']['f1-score']\n",
        "f1_pos_lr_tuned = class_report_lr_tuned['positive']['f1-score']\n",
        "cm_lr_tuned = confusion_matrix(y_test, y_pred_best)\n",
        "tn_lr_tuned, fp_lr_tuned, fn_lr_tuned, tp_lr_tuned = cm_lr_tuned.ravel() # Flatten the 2x2 matrix into 4 values\n",
        "\n",
        "# --- Dynamically pull metrics for Deep Learning Model ---\n",
        "accuracy_dl_calculated = accuracy_score(y_test_dl, y_pred_dl)\n",
        "roc_auc_dl_calculated = roc_auc_score(y_test_dl, y_pred_proba_dl)\n",
        "class_report_dl_calculated = classification_report(y_test_dl, y_pred_dl, target_names=['negative', 'positive'], output_dict=True)\n",
        "f1_neg_dl_calculated = class_report_dl_calculated['negative']['f1-score']\n",
        "f1_pos_dl_calculated = class_report_dl_calculated['positive']['f1-score']\n",
        "cm_dl_calculated = confusion_matrix(y_test_dl, y_pred_dl)\n",
        "tn_dl_calculated, fp_dl_calculated, fn_dl_calculated, tp_dl_calculated = cm_dl_calculated.ravel()\n",
        "\n",
        "# --- Create a dictionary to hold only the two models' results ---\n",
        "comparison_data = {\n",
        "    'Model': [\n",
        "        'Tuned Logistic Regression',\n",
        "        'Deep Learning Model'\n",
        "    ],\n",
        "    'Accuracy': [\n",
        "        accuracy_lr_tuned,\n",
        "        accuracy_dl_calculated\n",
        "    ],\n",
        "    'ROC-AUC': [\n",
        "        roc_auc_lr_tuned,\n",
        "        roc_auc_dl_calculated\n",
        "    ],\n",
        "    'Negative F1': [\n",
        "        f1_neg_lr_tuned,\n",
        "        f1_neg_dl_calculated\n",
        "    ],\n",
        "    'Positive F1': [\n",
        "        f1_pos_lr_tuned,\n",
        "        f1_pos_dl_calculated\n",
        "    ],\n",
        "    'True Negatives (TN)': [\n",
        "        tn_lr_tuned,\n",
        "        tn_dl_calculated\n",
        "    ],\n",
        "    'False Positives (FP)': [\n",
        "        fp_lr_tuned,\n",
        "        fp_dl_calculated\n",
        "    ],\n",
        "    'False Negatives (FN)': [\n",
        "        fn_lr_tuned,\n",
        "        fn_dl_calculated\n",
        "    ],\n",
        "    'True Positives (TP)': [\n",
        "        tp_lr_tuned,\n",
        "        tp_dl_calculated\n",
        "    ]\n",
        "}\n",
        "\n",
        "# Create the DataFrame\n",
        "comparison_df = pd.DataFrame(comparison_data)\n",
        "\n",
        "# Convert to HTML and print\n",
        "html_output = comparison_df.to_html(index=False)\n",
        "#This will render the HTML table directly in the output instead of showing the raw HTML string\n",
        "display(HTML(html_output))"
      ],
      "metadata": {
        "id": "AYRFdsTH05QU"
      },
      "id": "AYRFdsTH05QU",
      "execution_count": null,
      "outputs": []
    },
    {
      "cell_type": "code",
      "source": [
        "# Change this code\n",
        "#Get lengths of all sequences\n",
        "train_sequence_lengths = [len(s) for s in X_train_sequences]\n",
        "test_sequence_lengths = [len(s) for s in X_test_sequences]\n",
        "\n",
        "all_sequence_lengths = train_sequence_lengths + test_sequence_lengths\n",
        "\n",
        "print(f\"\\n Analysis of Review Sequence Lengths (Number of Words)\")\n",
        "print(f\"Minimum length: {np.min(all_sequence_lengths)}\")\n",
        "print(f\"Maximum length: {np.max(all_sequence_lengths)}\")\n",
        "print(f\"Average length: {np.mean(all_sequence_lengths):.2f}\")\n",
        "print(f\"Median length: {np.median(all_sequence_lengths)}\")\n",
        "\n",
        "print(\"\\n Percentiles of review lengths:\")\n",
        "print(f\"25th percentile: {np.percentile(all_sequence_lengths, 25)}\")\n",
        "print(f\"50th percentile (median): {np.percentile(all_sequence_lengths, 50)}\")\n",
        "print(f\"75th percentile: {np.percentile(all_sequence_lengths, 75)}\")\n",
        "print(f\"90th percentile: {np.percentile(all_sequence_lengths, 90)}\")\n",
        "print(f\"95th percentile: {np.percentile(all_sequence_lengths, 95)}\")\n",
        "print(f\"99th percentile: {np.percentile(all_sequence_lengths, 99)}\")\n",
        "\n",
        "# Visualize the distribution\n",
        "plt.figure(figsize=(10, 6))\n",
        "sns.histplot(all_sequence_lengths, bins=50, kde=True)\n",
        "plt.axvline(MAX_SEQUENCE_LENGTH, color='red', linestyle='--', label=f'MAX_SEQUENCE_LENGTH ({MAX_SEQUENCE_LENGTH})')\n",
        "plt.title('Distribution of Review Lengths (Number of Words)')\n",
        "plt.xlabel('Number of Words (Tokens)')\n",
        "plt.ylabel('Count')\n",
        "plt.legend()\n",
        "plt.show()"
      ],
      "metadata": {
        "id": "o4H8_WOf05Gj"
      },
      "id": "o4H8_WOf05Gj",
      "execution_count": null,
      "outputs": []
    },
    {
      "cell_type": "code",
      "source": [],
      "metadata": {
        "id": "Xn5pPwSH05C5"
      },
      "id": "Xn5pPwSH05C5",
      "execution_count": null,
      "outputs": []
    },
    {
      "cell_type": "code",
      "source": [],
      "metadata": {
        "id": "77-UaB6vXB32"
      },
      "id": "77-UaB6vXB32",
      "execution_count": null,
      "outputs": []
    },
    {
      "cell_type": "code",
      "source": [],
      "metadata": {
        "id": "JHrMACnNXB0E"
      },
      "id": "JHrMACnNXB0E",
      "execution_count": null,
      "outputs": []
    },
    {
      "cell_type": "code",
      "source": [],
      "metadata": {
        "id": "RKGaKAr_XBxb"
      },
      "id": "RKGaKAr_XBxb",
      "execution_count": null,
      "outputs": []
    },
    {
      "cell_type": "code",
      "source": [],
      "metadata": {
        "id": "keb9QIHHXBu3"
      },
      "id": "keb9QIHHXBu3",
      "execution_count": null,
      "outputs": []
    },
    {
      "cell_type": "code",
      "source": [],
      "metadata": {
        "id": "dVx3s7kMXBqx"
      },
      "id": "dVx3s7kMXBqx",
      "execution_count": null,
      "outputs": []
    }
  ],
  "metadata": {
    "kernelspec": {
      "display_name": "Python (learn-env)",
      "language": "python",
      "name": "learn-env"
    },
    "language_info": {
      "codemirror_mode": {
        "name": "ipython",
        "version": 3
      },
      "file_extension": ".py",
      "mimetype": "text/x-python",
      "name": "python",
      "nbconvert_exporter": "python",
      "pygments_lexer": "ipython3",
      "version": "3.9.19"
    },
    "colab": {
      "provenance": [],
      "machine_shape": "hm",
      "gpuType": "A100",
      "include_colab_link": true
    },
    "accelerator": "GPU"
  },
  "nbformat": 4,
  "nbformat_minor": 5
}