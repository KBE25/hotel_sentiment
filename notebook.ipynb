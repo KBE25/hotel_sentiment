{
  "cells": [
    {
      "cell_type": "code",
      "execution_count": null,
      "id": "bfe9a434-ebc9-408f-9668-2d05cac70aa5",
      "metadata": {
        "id": "bfe9a434-ebc9-408f-9668-2d05cac70aa5"
      },
      "outputs": [],
      "source": []
    },
    {
      "cell_type": "code",
      "execution_count": null,
      "id": "8a5f7ff9-018c-460d-a10f-e643b24ccc34",
      "metadata": {
        "id": "8a5f7ff9-018c-460d-a10f-e643b24ccc34"
      },
      "outputs": [],
      "source": []
    },
    {
      "cell_type": "markdown",
      "id": "5c489f6d-f5b6-4926-aa73-d67c3308dca5",
      "metadata": {
        "id": "5c489f6d-f5b6-4926-aa73-d67c3308dca5"
      },
      "source": [
        "# Overview"
      ]
    },
    {
      "cell_type": "code",
      "execution_count": null,
      "id": "8d31b6cb-8d91-446a-9bcd-375e2504a686",
      "metadata": {
        "id": "8d31b6cb-8d91-446a-9bcd-375e2504a686"
      },
      "outputs": [],
      "source": []
    },
    {
      "cell_type": "code",
      "execution_count": null,
      "id": "468454b6-cbf2-48a5-a59a-b65bf7bc3590",
      "metadata": {
        "id": "468454b6-cbf2-48a5-a59a-b65bf7bc3590"
      },
      "outputs": [],
      "source": []
    },
    {
      "cell_type": "code",
      "execution_count": null,
      "id": "6db74824-75d2-46f6-b0eb-c2af854d2fee",
      "metadata": {
        "id": "6db74824-75d2-46f6-b0eb-c2af854d2fee"
      },
      "outputs": [],
      "source": []
    },
    {
      "cell_type": "code",
      "execution_count": null,
      "id": "0d2d6c87-1689-4e86-82d0-4bed4a154afd",
      "metadata": {
        "id": "0d2d6c87-1689-4e86-82d0-4bed4a154afd"
      },
      "outputs": [],
      "source": []
    },
    {
      "cell_type": "markdown",
      "id": "83200143-408a-4195-a6f4-b1d2cbc46b41",
      "metadata": {
        "id": "83200143-408a-4195-a6f4-b1d2cbc46b41"
      },
      "source": [
        "# Business Understanding"
      ]
    },
    {
      "cell_type": "code",
      "execution_count": null,
      "id": "c3ea2078-fb9a-4612-a60b-f4f5c887ab39",
      "metadata": {
        "id": "c3ea2078-fb9a-4612-a60b-f4f5c887ab39"
      },
      "outputs": [],
      "source": []
    },
    {
      "cell_type": "code",
      "execution_count": null,
      "id": "a972347a-f0c8-4340-b3ce-59308ef725ea",
      "metadata": {
        "id": "a972347a-f0c8-4340-b3ce-59308ef725ea"
      },
      "outputs": [],
      "source": []
    },
    {
      "cell_type": "code",
      "execution_count": null,
      "id": "4975946c-702c-4399-a1fb-1f0aac8500be",
      "metadata": {
        "id": "4975946c-702c-4399-a1fb-1f0aac8500be"
      },
      "outputs": [],
      "source": []
    },
    {
      "cell_type": "code",
      "execution_count": null,
      "id": "4f8c7000-11b2-40f8-b36c-34e473232e1b",
      "metadata": {
        "id": "4f8c7000-11b2-40f8-b36c-34e473232e1b"
      },
      "outputs": [],
      "source": []
    },
    {
      "cell_type": "markdown",
      "id": "30a28fdf-df88-4c3b-9550-63abb752cc94",
      "metadata": {
        "id": "30a28fdf-df88-4c3b-9550-63abb752cc94"
      },
      "source": [
        "# Data Understanding"
      ]
    },
    {
      "cell_type": "code",
      "execution_count": null,
      "id": "52c5d281-0928-4634-ad7a-1f6342a8f2a5",
      "metadata": {
        "id": "52c5d281-0928-4634-ad7a-1f6342a8f2a5"
      },
      "outputs": [],
      "source": []
    },
    {
      "cell_type": "markdown",
      "id": "e3772ac6-4d33-44d8-aa96-07e24a8561bd",
      "metadata": {
        "id": "e3772ac6-4d33-44d8-aa96-07e24a8561bd"
      },
      "source": [
        "## Data Preparation"
      ]
    },
    {
      "cell_type": "code",
      "source": [
        "import kagglehub\n",
        "import pandas as pd\n",
        "import os\n"
      ],
      "metadata": {
        "id": "eQy1llMPAA1w"
      },
      "id": "eQy1llMPAA1w",
      "execution_count": 1,
      "outputs": []
    },
    {
      "cell_type": "code",
      "source": [
        "# Download latest dataset version\n",
        "path = kagglehub.dataset_download(\"thedevastator/booking-com-hotel-reviews\")\n",
        "\n",
        "# Identify the path for the dataset\n",
        "print(\"Path to dataset files:\", path)"
      ],
      "metadata": {
        "id": "wVkBVCDNgi2M",
        "outputId": "cce41c9b-65a1-47b9-ad03-c459b4f25875",
        "colab": {
          "base_uri": "https://localhost:8080/"
        }
      },
      "id": "wVkBVCDNgi2M",
      "execution_count": 2,
      "outputs": [
        {
          "output_type": "stream",
          "name": "stdout",
          "text": [
            "Path to dataset files: /kaggle/input/booking-com-hotel-reviews\n"
          ]
        }
      ]
    },
    {
      "cell_type": "code",
      "source": [
        "# Downloading the latest data\n",
        "#base_dataset_path = \"/kaggle/input/thedevastator/booking-com-hotel-reviews\""
      ],
      "metadata": {
        "id": "TgDvkOZsErR0"
      },
      "id": "TgDvkOZsErR0",
      "execution_count": 5,
      "outputs": []
    },
    {
      "cell_type": "code",
      "source": [
        "# The path where the data is in the environment\n",
        "base_dataset_directory = \"/kaggle/input/booking-com-hotel-reviews\"\n",
        "csv_file_name = \"booking_reviews copy.csv\"\n",
        "full_csv_path = os.path.join(base_dataset_directory, csv_file_name)\n",
        "df = pd.read_csv(full_csv_path)\n"
      ],
      "metadata": {
        "id": "1pc2fMlvEuer"
      },
      "id": "1pc2fMlvEuer",
      "execution_count": 15,
      "outputs": []
    },
    {
      "cell_type": "code",
      "source": [
        "df.info()"
      ],
      "metadata": {
        "colab": {
          "base_uri": "https://localhost:8080/"
        },
        "id": "La5QsYVWFAbH",
        "outputId": "a5d2d875-432a-4bd9-f75a-b73f20582244"
      },
      "id": "La5QsYVWFAbH",
      "execution_count": 16,
      "outputs": [
        {
          "output_type": "stream",
          "name": "stdout",
          "text": [
            "<class 'pandas.core.frame.DataFrame'>\n",
            "RangeIndex: 26675 entries, 0 to 26674\n",
            "Data columns (total 16 columns):\n",
            " #   Column           Non-Null Count  Dtype  \n",
            "---  ------           --------------  -----  \n",
            " 0   index            26675 non-null  int64  \n",
            " 1   review_title     26674 non-null  object \n",
            " 2   reviewed_at      26570 non-null  object \n",
            " 3   reviewed_by      26570 non-null  object \n",
            " 4   images           938 non-null    object \n",
            " 5   crawled_at       26386 non-null  object \n",
            " 6   url              26386 non-null  object \n",
            " 7   hotel_name       26386 non-null  object \n",
            " 8   hotel_url        26386 non-null  object \n",
            " 9   avg_rating       26386 non-null  float64\n",
            " 10  nationality      26370 non-null  object \n",
            " 11  rating           26386 non-null  float64\n",
            " 12  review_text      26386 non-null  object \n",
            " 13  raw_review_text  26202 non-null  object \n",
            " 14  tags             26202 non-null  object \n",
            " 15  meta             26202 non-null  object \n",
            "dtypes: float64(2), int64(1), object(13)\n",
            "memory usage: 3.3+ MB\n"
          ]
        }
      ]
    },
    {
      "cell_type": "markdown",
      "id": "eee54994-1718-4fcf-804a-e0b1a123c3ad",
      "metadata": {
        "id": "eee54994-1718-4fcf-804a-e0b1a123c3ad"
      },
      "source": [
        "# Exploratory Data Understanding"
      ]
    },
    {
      "cell_type": "code",
      "execution_count": null,
      "id": "ce3bc250-b551-4b4a-a9ef-8f594da91948",
      "metadata": {
        "id": "ce3bc250-b551-4b4a-a9ef-8f594da91948"
      },
      "outputs": [],
      "source": []
    },
    {
      "cell_type": "code",
      "execution_count": null,
      "id": "2c475ff9-a24c-4e4b-b7e4-16bc02a53a0a",
      "metadata": {
        "id": "2c475ff9-a24c-4e4b-b7e4-16bc02a53a0a"
      },
      "outputs": [],
      "source": []
    },
    {
      "cell_type": "code",
      "execution_count": null,
      "id": "c528f4b5-0bf9-4699-a962-5e173cca3cb7",
      "metadata": {
        "id": "c528f4b5-0bf9-4699-a962-5e173cca3cb7"
      },
      "outputs": [],
      "source": []
    },
    {
      "cell_type": "code",
      "execution_count": null,
      "id": "31a6aff3-ca5f-49e3-84fe-de56e641ed4e",
      "metadata": {
        "id": "31a6aff3-ca5f-49e3-84fe-de56e641ed4e"
      },
      "outputs": [],
      "source": []
    },
    {
      "cell_type": "code",
      "execution_count": null,
      "id": "4b3b5e9e-3351-4611-ac31-6c244ed4bdfb",
      "metadata": {
        "id": "4b3b5e9e-3351-4611-ac31-6c244ed4bdfb"
      },
      "outputs": [],
      "source": []
    },
    {
      "cell_type": "code",
      "execution_count": null,
      "id": "7f789fea-0a64-4261-815f-0adb289b7faf",
      "metadata": {
        "id": "7f789fea-0a64-4261-815f-0adb289b7faf"
      },
      "outputs": [],
      "source": []
    },
    {
      "cell_type": "code",
      "execution_count": null,
      "id": "370e5496-a1a1-4cda-9073-51aa56452098",
      "metadata": {
        "id": "370e5496-a1a1-4cda-9073-51aa56452098"
      },
      "outputs": [],
      "source": []
    },
    {
      "cell_type": "code",
      "execution_count": null,
      "id": "ac808247-22af-4f4d-a3f9-0189e1cb6c96",
      "metadata": {
        "id": "ac808247-22af-4f4d-a3f9-0189e1cb6c96"
      },
      "outputs": [],
      "source": []
    },
    {
      "cell_type": "code",
      "execution_count": null,
      "id": "d1d649c5-6ae0-4c6a-9d66-202b394ad6e8",
      "metadata": {
        "id": "d1d649c5-6ae0-4c6a-9d66-202b394ad6e8"
      },
      "outputs": [],
      "source": []
    },
    {
      "cell_type": "code",
      "execution_count": null,
      "id": "ad6b9eed-0a13-4ccf-bf8c-12eafa956c70",
      "metadata": {
        "id": "ad6b9eed-0a13-4ccf-bf8c-12eafa956c70"
      },
      "outputs": [],
      "source": []
    },
    {
      "cell_type": "code",
      "execution_count": null,
      "id": "3a4c29be-a325-492f-9bb4-c529a3a59f6a",
      "metadata": {
        "id": "3a4c29be-a325-492f-9bb4-c529a3a59f6a"
      },
      "outputs": [],
      "source": []
    },
    {
      "cell_type": "code",
      "execution_count": null,
      "id": "0ad2e559-9568-4297-ae12-8acec87d93a0",
      "metadata": {
        "id": "0ad2e559-9568-4297-ae12-8acec87d93a0"
      },
      "outputs": [],
      "source": []
    },
    {
      "cell_type": "code",
      "execution_count": null,
      "id": "233fa516-9216-404b-a556-ec70cbe26623",
      "metadata": {
        "id": "233fa516-9216-404b-a556-ec70cbe26623"
      },
      "outputs": [],
      "source": []
    },
    {
      "cell_type": "code",
      "execution_count": null,
      "id": "490e2d9e-7d32-4ca8-8f40-33b8031d106f",
      "metadata": {
        "id": "490e2d9e-7d32-4ca8-8f40-33b8031d106f"
      },
      "outputs": [],
      "source": []
    },
    {
      "cell_type": "code",
      "execution_count": null,
      "id": "b5b66255-b4af-4169-8c9e-d096ce853347",
      "metadata": {
        "id": "b5b66255-b4af-4169-8c9e-d096ce853347"
      },
      "outputs": [],
      "source": []
    },
    {
      "cell_type": "code",
      "execution_count": null,
      "id": "e16c8003-626e-4bf8-bf1f-b0dbba94c527",
      "metadata": {
        "id": "e16c8003-626e-4bf8-bf1f-b0dbba94c527"
      },
      "outputs": [],
      "source": []
    },
    {
      "cell_type": "code",
      "execution_count": null,
      "id": "7addb94b-9b28-4aa4-8f90-67ddae938ec8",
      "metadata": {
        "id": "7addb94b-9b28-4aa4-8f90-67ddae938ec8"
      },
      "outputs": [],
      "source": []
    }
  ],
  "metadata": {
    "kernelspec": {
      "display_name": "Python (learn-env)",
      "language": "python",
      "name": "learn-env"
    },
    "language_info": {
      "codemirror_mode": {
        "name": "ipython",
        "version": 3
      },
      "file_extension": ".py",
      "mimetype": "text/x-python",
      "name": "python",
      "nbconvert_exporter": "python",
      "pygments_lexer": "ipython3",
      "version": "3.9.19"
    },
    "colab": {
      "provenance": []
    }
  },
  "nbformat": 4,
  "nbformat_minor": 5
}