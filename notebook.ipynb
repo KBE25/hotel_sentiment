{
  "cells": [
    {
      "cell_type": "markdown",
      "metadata": {
        "id": "view-in-github",
        "colab_type": "text"
      },
      "source": [
        "<a href=\"https://colab.research.google.com/github/KBE25/hotel_sentiment/blob/main/notebook.ipynb\" target=\"_parent\"><img src=\"https://colab.research.google.com/assets/colab-badge.svg\" alt=\"Open In Colab\"/></a>"
      ]
    },
    {
      "cell_type": "code",
      "execution_count": 1,
      "id": "9d3711a3-e242-44c2-aa6b-333e6abc2fd2",
      "metadata": {
        "id": "9d3711a3-e242-44c2-aa6b-333e6abc2fd2"
      },
      "outputs": [],
      "source": []
    },
    {
      "cell_type": "code",
      "source": [],
      "metadata": {
        "id": "2bEDtTnmoYhn"
      },
      "id": "2bEDtTnmoYhn",
      "execution_count": 1,
      "outputs": []
    },
    {
      "cell_type": "markdown",
      "source": [
        "# Overview"
      ],
      "metadata": {
        "id": "dlQWMMfrolxs"
      },
      "id": "dlQWMMfrolxs"
    },
    {
      "cell_type": "code",
      "source": [],
      "metadata": {
        "id": "jQGdfTfpoYkM"
      },
      "id": "jQGdfTfpoYkM",
      "execution_count": 1,
      "outputs": []
    },
    {
      "cell_type": "code",
      "source": [],
      "metadata": {
        "id": "JGx6zWh8oYmr"
      },
      "id": "JGx6zWh8oYmr",
      "execution_count": 1,
      "outputs": []
    },
    {
      "cell_type": "code",
      "source": [],
      "metadata": {
        "id": "lbq9MrdJoYpS"
      },
      "id": "lbq9MrdJoYpS",
      "execution_count": 1,
      "outputs": []
    },
    {
      "cell_type": "markdown",
      "source": [
        "# Business Understanding"
      ],
      "metadata": {
        "id": "Q9pTrIy_osiI"
      },
      "id": "Q9pTrIy_osiI"
    },
    {
      "cell_type": "code",
      "source": [],
      "metadata": {
        "id": "dCNX1WQ5oYrz"
      },
      "id": "dCNX1WQ5oYrz",
      "execution_count": 1,
      "outputs": []
    },
    {
      "cell_type": "code",
      "source": [],
      "metadata": {
        "id": "Cd5gJMW_oYuZ"
      },
      "id": "Cd5gJMW_oYuZ",
      "execution_count": 1,
      "outputs": []
    },
    {
      "cell_type": "code",
      "source": [],
      "metadata": {
        "id": "UpJ6o83IoYwv"
      },
      "id": "UpJ6o83IoYwv",
      "execution_count": 1,
      "outputs": []
    },
    {
      "cell_type": "markdown",
      "source": [
        "# Data Understanding"
      ],
      "metadata": {
        "id": "Hcthe6dAou9p"
      },
      "id": "Hcthe6dAou9p"
    },
    {
      "cell_type": "markdown",
      "source": [
        "## Data Preparation"
      ],
      "metadata": {
        "id": "GghVE8nPozSp"
      },
      "id": "GghVE8nPozSp"
    },
    {
      "cell_type": "code",
      "source": [
        "!pip install emoji"
      ],
      "metadata": {
        "colab": {
          "base_uri": "https://localhost:8080/"
        },
        "id": "_vYTRd3ioYze",
        "outputId": "fbc7cee8-5034-47f2-f707-e910f0d9008c"
      },
      "id": "_vYTRd3ioYze",
      "execution_count": 2,
      "outputs": [
        {
          "output_type": "stream",
          "name": "stdout",
          "text": [
            "Requirement already satisfied: emoji in /usr/local/lib/python3.11/dist-packages (2.14.1)\n"
          ]
        }
      ]
    },
    {
      "cell_type": "code",
      "source": [
        "!pip install symspellpy"
      ],
      "metadata": {
        "colab": {
          "base_uri": "https://localhost:8080/"
        },
        "id": "srnhTPVSoY2O",
        "outputId": "2c97f81d-43b2-4380-af6b-db6a01617915"
      },
      "id": "srnhTPVSoY2O",
      "execution_count": 3,
      "outputs": [
        {
          "output_type": "stream",
          "name": "stdout",
          "text": [
            "Collecting symspellpy\n",
            "  Downloading symspellpy-6.9.0-py3-none-any.whl.metadata (3.9 kB)\n",
            "Collecting editdistpy>=0.1.3 (from symspellpy)\n",
            "  Downloading editdistpy-0.1.6-cp311-cp311-manylinux_2_5_x86_64.manylinux1_x86_64.manylinux_2_17_x86_64.manylinux2014_x86_64.whl.metadata (6.7 kB)\n",
            "Downloading symspellpy-6.9.0-py3-none-any.whl (2.6 MB)\n",
            "\u001b[2K   \u001b[90m━━━━━━━━━━━━━━━━━━━━━━━━━━━━━━━━━━━━━━━━\u001b[0m \u001b[32m2.6/2.6 MB\u001b[0m \u001b[31m23.6 MB/s\u001b[0m eta \u001b[36m0:00:00\u001b[0m\n",
            "\u001b[?25hDownloading editdistpy-0.1.6-cp311-cp311-manylinux_2_5_x86_64.manylinux1_x86_64.manylinux_2_17_x86_64.manylinux2014_x86_64.whl (158 kB)\n",
            "\u001b[2K   \u001b[90m━━━━━━━━━━━━━━━━━━━━━━━━━━━━━━━━━━━━━━━━\u001b[0m \u001b[32m158.4/158.4 kB\u001b[0m \u001b[31m5.8 MB/s\u001b[0m eta \u001b[36m0:00:00\u001b[0m\n",
            "\u001b[?25hInstalling collected packages: editdistpy, symspellpy\n",
            "Successfully installed editdistpy-0.1.6 symspellpy-6.9.0\n"
          ]
        }
      ]
    },
    {
      "cell_type": "code",
      "source": [
        "#Importing relevant libraries\n",
        "import os\n",
        "import re\n",
        "import sys\n",
        "import string\n",
        "import warnings\n",
        "\n",
        "import matplotlib.pyplot as plt\n",
        "import numpy as np\n",
        "import pandas as pd\n",
        "import seaborn as sns\n",
        "\n",
        "import kagglehub\n",
        "\n",
        "import spacy\n",
        "import emoji\n",
        "\n",
        "from symspellpy import SymSpell, Verbosity\n",
        "import pkg_resources\n",
        "\n",
        "import nltk\n",
        "from nltk.corpus import stopwords\n",
        "from nltk.stem import WordNetLemmatizer\n",
        "from nltk.tokenize import word_tokenize\n",
        "\n",
        "from sklearn.feature_selection import SelectKBest, f_regression, mutual_info_regression\n",
        "from sklearn.ensemble import RandomForestRegressor\n",
        "from sklearn.inspection import permutation_importance\n",
        "from sklearn.linear_model import LinearRegression\n",
        "from sklearn.model_selection import train_test_split\n",
        "from sklearn.feature_extraction.text import TfidfVectorizer\n",
        "\n",
        "from statsmodels.stats.outliers_influence import variance_inflation_factor\n",
        "import pandas as pd\n",
        "import spacy\n",
        "import re\n",
        "import emoji\n",
        "from symspellpy import SymSpell, Verbosity\n",
        "import pkg_resources\n",
        "\n",
        "from sklearn.feature_extraction.text import TfidfVectorizer\n",
        "import multiprocessing as mp\n",
        "import numpy as np\n",
        "from tqdm.auto import tqdm\n",
        "import tensorflow as tf\n",
        "from tensorflow import keras\n",
        "\n",
        "import pandas as pd\n",
        "import numpy as np\n",
        "from sklearn.feature_extraction.text import TfidfVectorizer\n",
        "from sklearn.model_selection import train_test_split\n",
        "from sklearn.decomposition import TruncatedSVD, NMF\n",
        "from sklearn.preprocessing import StandardScaler, OneHotEncoder\n",
        "from sklearn.compose import ColumnTransformer\n",
        "from sklearn.pipeline import Pipeline\n",
        "from nltk.sentiment.vader import SentimentIntensityAnalyzer\n",
        "import nltk\n",
        "\n",
        "from sklearn.linear_model import LogisticRegression\n",
        "from sklearn.model_selection import train_test_split\n",
        "import pandas as pd\n",
        "import numpy as np\n",
        "from sklearn.feature_extraction.text import TfidfVectorizer\n",
        "from sklearn.model_selection import train_test_split\n",
        "from sklearn.linear_model import LogisticRegression\n",
        "from sklearn.feature_selection import chi2\n",
        "import nltk\n",
        "from nltk.sentiment.vader import SentimentIntensityAnalyzer\n",
        "\n",
        "\n",
        "# Suppress warnings\n",
        "warnings.simplefilter(action=\"ignore\", category=FutureWarning)"
      ],
      "metadata": {
        "id": "RNgLYXq2oY47",
        "colab": {
          "base_uri": "https://localhost:8080/"
        },
        "outputId": "5789a4f8-b0c5-486e-90d2-dfbf9d51b139"
      },
      "id": "RNgLYXq2oY47",
      "execution_count": 4,
      "outputs": [
        {
          "output_type": "stream",
          "name": "stderr",
          "text": [
            "/tmp/ipython-input-4-1741070136.py:19: DeprecationWarning: pkg_resources is deprecated as an API. See https://setuptools.pypa.io/en/latest/pkg_resources.html\n",
            "  import pkg_resources\n"
          ]
        }
      ]
    },
    {
      "cell_type": "markdown",
      "source": [
        "Data Preparation will contain the following parts:"
      ],
      "metadata": {
        "id": "b-J2wYrkpFHJ"
      },
      "id": "b-J2wYrkpFHJ"
    },
    {
      "cell_type": "markdown",
      "source": [
        "### Data Acquisition"
      ],
      "metadata": {
        "id": "qJQN9JdspGMy"
      },
      "id": "qJQN9JdspGMy"
    },
    {
      "cell_type": "markdown",
      "source": [
        "In order to pull the data for this analysis, I am going to download the data directly from Kaggle. To be able to complete this task, I am first going to create a connection with Kaggle API.\n",
        "\n",
        "The code below is used to create a connection with Kaggle Public API. The only change that is needed below is to edit the following part by finding your API token information in your Kaggle account settings part:\n",
        "\n",
        "*   \"username\":\"ADD_KEY HERE\"\n",
        "*   \"key\":\"ADD_KEY HERE\"\n",
        "\n",
        "IMPORTANT - After you ran the below code, make sure to delete your 'username' and 'key' as that information is personal and should not be made available in any public site like Github. More information on Kaggle's API can be found here."
      ],
      "metadata": {
        "id": "x7-9_puNBvdf"
      },
      "id": "x7-9_puNBvdf"
    },
    {
      "cell_type": "code",
      "source": [
        "#Loading needed libraries to create the API connection\n",
        "import json\n",
        "import os\n",
        "from pathlib import Path\n",
        "\n",
        "# Go to Kaggle and get your API public https://www.kaggle.com/docs/api\n",
        "api_key = {\n",
        "    \"username\":\"karinabe25us\", #add your Kaggle API username\n",
        "    \"key\":\"d7ab60b956001299a0cf40699ddf305c\"       #add your Kaggle API key\n",
        "    }\n",
        "\n",
        "# uses pathlib Path\n",
        "kaggle_path = Path('/root/.kaggle')\n",
        "os.makedirs(kaggle_path, exist_ok=True)\n",
        "\n",
        "# opens file and dumps python dict to json object\n",
        "with open (kaggle_path/'kaggle.json', 'w') as handl:\n",
        "    json.dump(api_key,handl)\n",
        "\n",
        "os.chmod(kaggle_path/'kaggle.json', 600)\n",
        "\n",
        "#IMPORTANT: after running this code, delete your username and key"
      ],
      "metadata": {
        "id": "ePY8VKzeBb3g"
      },
      "id": "ePY8VKzeBb3g",
      "execution_count": 5,
      "outputs": []
    },
    {
      "cell_type": "code",
      "source": [
        "# Download latest dataset version\n",
        "! kaggle datasets download -d thedevastator/booking-com-hotel-reviews\n",
        "! unzip booking-com-hotel-reviews.zip\n",
        "# The below code is use to rename the file name within the .zip file\n",
        "! mv booking_reviews\\ copy.csv booking_reviews.csv"
      ],
      "metadata": {
        "colab": {
          "base_uri": "https://localhost:8080/"
        },
        "id": "PukZQdOlCb_J",
        "outputId": "47260db7-9556-476a-c8b1-362710987799"
      },
      "id": "PukZQdOlCb_J",
      "execution_count": 6,
      "outputs": [
        {
          "output_type": "stream",
          "name": "stdout",
          "text": [
            "Dataset URL: https://www.kaggle.com/datasets/thedevastator/booking-com-hotel-reviews\n",
            "License(s): other\n",
            "Downloading booking-com-hotel-reviews.zip to /content\n",
            "  0% 0.00/3.96M [00:00<?, ?B/s]\n",
            "100% 3.96M/3.96M [00:00<00:00, 95.3MB/s]\n",
            "Archive:  booking-com-hotel-reviews.zip\n",
            "  inflating: booking_reviews copy.csv  \n"
          ]
        }
      ]
    },
    {
      "cell_type": "code",
      "source": [
        "# The path where the data is in the environment\n",
        "base_dataset_directory = \"/content\"\n",
        "csv_file_name = \"booking_reviews.csv\"\n",
        "full_csv_path = os.path.join(base_dataset_directory, csv_file_name)\n",
        "df = pd.read_csv(full_csv_path)"
      ],
      "metadata": {
        "id": "NW1fb8ktCg4w"
      },
      "id": "NW1fb8ktCg4w",
      "execution_count": 7,
      "outputs": []
    },
    {
      "cell_type": "markdown",
      "source": [
        "## Exploratory Data Analysis"
      ],
      "metadata": {
        "id": "pXP80x5spTu_"
      },
      "id": "pXP80x5spTu_"
    },
    {
      "cell_type": "code",
      "source": [],
      "metadata": {
        "id": "d3giXAtSsz72"
      },
      "id": "d3giXAtSsz72",
      "execution_count": 7,
      "outputs": []
    },
    {
      "cell_type": "markdown",
      "source": [
        "### Evaluating the dataframe\n",
        "\n",
        "This part of the project will contain an evaluation of the dataframa and the columns available in order to decide which ones to drop based on their relevance for the analysis.\n"
      ],
      "metadata": {
        "id": "G48vAq-MpWXD"
      },
      "id": "G48vAq-MpWXD"
    },
    {
      "cell_type": "code",
      "source": [
        "df.shape"
      ],
      "metadata": {
        "colab": {
          "base_uri": "https://localhost:8080/"
        },
        "id": "GtQVLxfAoZEB",
        "outputId": "1c55c66f-dc80-4f1e-db41-890af6b8a67f"
      },
      "id": "GtQVLxfAoZEB",
      "execution_count": 8,
      "outputs": [
        {
          "output_type": "execute_result",
          "data": {
            "text/plain": [
              "(26675, 16)"
            ]
          },
          "metadata": {},
          "execution_count": 8
        }
      ]
    },
    {
      "cell_type": "code",
      "source": [
        "df.info()"
      ],
      "metadata": {
        "colab": {
          "base_uri": "https://localhost:8080/"
        },
        "id": "T-QYPX7xoZG3",
        "outputId": "0a22a1ec-0f29-48e8-862a-8dbddcf4d79c"
      },
      "id": "T-QYPX7xoZG3",
      "execution_count": 9,
      "outputs": [
        {
          "output_type": "stream",
          "name": "stdout",
          "text": [
            "<class 'pandas.core.frame.DataFrame'>\n",
            "RangeIndex: 26675 entries, 0 to 26674\n",
            "Data columns (total 16 columns):\n",
            " #   Column           Non-Null Count  Dtype  \n",
            "---  ------           --------------  -----  \n",
            " 0   index            26675 non-null  int64  \n",
            " 1   review_title     26674 non-null  object \n",
            " 2   reviewed_at      26570 non-null  object \n",
            " 3   reviewed_by      26570 non-null  object \n",
            " 4   images           938 non-null    object \n",
            " 5   crawled_at       26386 non-null  object \n",
            " 6   url              26386 non-null  object \n",
            " 7   hotel_name       26386 non-null  object \n",
            " 8   hotel_url        26386 non-null  object \n",
            " 9   avg_rating       26386 non-null  float64\n",
            " 10  nationality      26370 non-null  object \n",
            " 11  rating           26386 non-null  float64\n",
            " 12  review_text      26386 non-null  object \n",
            " 13  raw_review_text  26202 non-null  object \n",
            " 14  tags             26202 non-null  object \n",
            " 15  meta             26202 non-null  object \n",
            "dtypes: float64(2), int64(1), object(13)\n",
            "memory usage: 3.3+ MB\n"
          ]
        }
      ]
    },
    {
      "cell_type": "code",
      "source": [
        "df.describe()"
      ],
      "metadata": {
        "colab": {
          "base_uri": "https://localhost:8080/",
          "height": 300
        },
        "id": "7JbnXr1BoZJw",
        "outputId": "aff931e5-38c3-4195-bfb2-d7e2723d5d58"
      },
      "id": "7JbnXr1BoZJw",
      "execution_count": 10,
      "outputs": [
        {
          "output_type": "execute_result",
          "data": {
            "text/plain": [
              "              index    avg_rating        rating\n",
              "count  26675.000000  26386.000000  26386.000000\n",
              "mean   13337.000000      8.449242      8.560669\n",
              "std     7700.553552      0.716427      1.566554\n",
              "min        0.000000      3.800000      1.000000\n",
              "25%     6668.500000      8.100000      7.900000\n",
              "50%    13337.000000      8.500000      9.000000\n",
              "75%    20005.500000      8.900000     10.000000\n",
              "max    26674.000000     10.000000     10.000000"
            ],
            "text/html": [
              "\n",
              "  <div id=\"df-d1a14801-546a-47d8-8254-927dc8196b2d\" class=\"colab-df-container\">\n",
              "    <div>\n",
              "<style scoped>\n",
              "    .dataframe tbody tr th:only-of-type {\n",
              "        vertical-align: middle;\n",
              "    }\n",
              "\n",
              "    .dataframe tbody tr th {\n",
              "        vertical-align: top;\n",
              "    }\n",
              "\n",
              "    .dataframe thead th {\n",
              "        text-align: right;\n",
              "    }\n",
              "</style>\n",
              "<table border=\"1\" class=\"dataframe\">\n",
              "  <thead>\n",
              "    <tr style=\"text-align: right;\">\n",
              "      <th></th>\n",
              "      <th>index</th>\n",
              "      <th>avg_rating</th>\n",
              "      <th>rating</th>\n",
              "    </tr>\n",
              "  </thead>\n",
              "  <tbody>\n",
              "    <tr>\n",
              "      <th>count</th>\n",
              "      <td>26675.000000</td>\n",
              "      <td>26386.000000</td>\n",
              "      <td>26386.000000</td>\n",
              "    </tr>\n",
              "    <tr>\n",
              "      <th>mean</th>\n",
              "      <td>13337.000000</td>\n",
              "      <td>8.449242</td>\n",
              "      <td>8.560669</td>\n",
              "    </tr>\n",
              "    <tr>\n",
              "      <th>std</th>\n",
              "      <td>7700.553552</td>\n",
              "      <td>0.716427</td>\n",
              "      <td>1.566554</td>\n",
              "    </tr>\n",
              "    <tr>\n",
              "      <th>min</th>\n",
              "      <td>0.000000</td>\n",
              "      <td>3.800000</td>\n",
              "      <td>1.000000</td>\n",
              "    </tr>\n",
              "    <tr>\n",
              "      <th>25%</th>\n",
              "      <td>6668.500000</td>\n",
              "      <td>8.100000</td>\n",
              "      <td>7.900000</td>\n",
              "    </tr>\n",
              "    <tr>\n",
              "      <th>50%</th>\n",
              "      <td>13337.000000</td>\n",
              "      <td>8.500000</td>\n",
              "      <td>9.000000</td>\n",
              "    </tr>\n",
              "    <tr>\n",
              "      <th>75%</th>\n",
              "      <td>20005.500000</td>\n",
              "      <td>8.900000</td>\n",
              "      <td>10.000000</td>\n",
              "    </tr>\n",
              "    <tr>\n",
              "      <th>max</th>\n",
              "      <td>26674.000000</td>\n",
              "      <td>10.000000</td>\n",
              "      <td>10.000000</td>\n",
              "    </tr>\n",
              "  </tbody>\n",
              "</table>\n",
              "</div>\n",
              "    <div class=\"colab-df-buttons\">\n",
              "\n",
              "  <div class=\"colab-df-container\">\n",
              "    <button class=\"colab-df-convert\" onclick=\"convertToInteractive('df-d1a14801-546a-47d8-8254-927dc8196b2d')\"\n",
              "            title=\"Convert this dataframe to an interactive table.\"\n",
              "            style=\"display:none;\">\n",
              "\n",
              "  <svg xmlns=\"http://www.w3.org/2000/svg\" height=\"24px\" viewBox=\"0 -960 960 960\">\n",
              "    <path d=\"M120-120v-720h720v720H120Zm60-500h600v-160H180v160Zm220 220h160v-160H400v160Zm0 220h160v-160H400v160ZM180-400h160v-160H180v160Zm440 0h160v-160H620v160ZM180-180h160v-160H180v160Zm440 0h160v-160H620v160Z\"/>\n",
              "  </svg>\n",
              "    </button>\n",
              "\n",
              "  <style>\n",
              "    .colab-df-container {\n",
              "      display:flex;\n",
              "      gap: 12px;\n",
              "    }\n",
              "\n",
              "    .colab-df-convert {\n",
              "      background-color: #E8F0FE;\n",
              "      border: none;\n",
              "      border-radius: 50%;\n",
              "      cursor: pointer;\n",
              "      display: none;\n",
              "      fill: #1967D2;\n",
              "      height: 32px;\n",
              "      padding: 0 0 0 0;\n",
              "      width: 32px;\n",
              "    }\n",
              "\n",
              "    .colab-df-convert:hover {\n",
              "      background-color: #E2EBFA;\n",
              "      box-shadow: 0px 1px 2px rgba(60, 64, 67, 0.3), 0px 1px 3px 1px rgba(60, 64, 67, 0.15);\n",
              "      fill: #174EA6;\n",
              "    }\n",
              "\n",
              "    .colab-df-buttons div {\n",
              "      margin-bottom: 4px;\n",
              "    }\n",
              "\n",
              "    [theme=dark] .colab-df-convert {\n",
              "      background-color: #3B4455;\n",
              "      fill: #D2E3FC;\n",
              "    }\n",
              "\n",
              "    [theme=dark] .colab-df-convert:hover {\n",
              "      background-color: #434B5C;\n",
              "      box-shadow: 0px 1px 3px 1px rgba(0, 0, 0, 0.15);\n",
              "      filter: drop-shadow(0px 1px 2px rgba(0, 0, 0, 0.3));\n",
              "      fill: #FFFFFF;\n",
              "    }\n",
              "  </style>\n",
              "\n",
              "    <script>\n",
              "      const buttonEl =\n",
              "        document.querySelector('#df-d1a14801-546a-47d8-8254-927dc8196b2d button.colab-df-convert');\n",
              "      buttonEl.style.display =\n",
              "        google.colab.kernel.accessAllowed ? 'block' : 'none';\n",
              "\n",
              "      async function convertToInteractive(key) {\n",
              "        const element = document.querySelector('#df-d1a14801-546a-47d8-8254-927dc8196b2d');\n",
              "        const dataTable =\n",
              "          await google.colab.kernel.invokeFunction('convertToInteractive',\n",
              "                                                    [key], {});\n",
              "        if (!dataTable) return;\n",
              "\n",
              "        const docLinkHtml = 'Like what you see? Visit the ' +\n",
              "          '<a target=\"_blank\" href=https://colab.research.google.com/notebooks/data_table.ipynb>data table notebook</a>'\n",
              "          + ' to learn more about interactive tables.';\n",
              "        element.innerHTML = '';\n",
              "        dataTable['output_type'] = 'display_data';\n",
              "        await google.colab.output.renderOutput(dataTable, element);\n",
              "        const docLink = document.createElement('div');\n",
              "        docLink.innerHTML = docLinkHtml;\n",
              "        element.appendChild(docLink);\n",
              "      }\n",
              "    </script>\n",
              "  </div>\n",
              "\n",
              "\n",
              "    <div id=\"df-5a2fb929-25ca-453c-ad92-6bd5b361a31d\">\n",
              "      <button class=\"colab-df-quickchart\" onclick=\"quickchart('df-5a2fb929-25ca-453c-ad92-6bd5b361a31d')\"\n",
              "                title=\"Suggest charts\"\n",
              "                style=\"display:none;\">\n",
              "\n",
              "<svg xmlns=\"http://www.w3.org/2000/svg\" height=\"24px\"viewBox=\"0 0 24 24\"\n",
              "     width=\"24px\">\n",
              "    <g>\n",
              "        <path d=\"M19 3H5c-1.1 0-2 .9-2 2v14c0 1.1.9 2 2 2h14c1.1 0 2-.9 2-2V5c0-1.1-.9-2-2-2zM9 17H7v-7h2v7zm4 0h-2V7h2v10zm4 0h-2v-4h2v4z\"/>\n",
              "    </g>\n",
              "</svg>\n",
              "      </button>\n",
              "\n",
              "<style>\n",
              "  .colab-df-quickchart {\n",
              "      --bg-color: #E8F0FE;\n",
              "      --fill-color: #1967D2;\n",
              "      --hover-bg-color: #E2EBFA;\n",
              "      --hover-fill-color: #174EA6;\n",
              "      --disabled-fill-color: #AAA;\n",
              "      --disabled-bg-color: #DDD;\n",
              "  }\n",
              "\n",
              "  [theme=dark] .colab-df-quickchart {\n",
              "      --bg-color: #3B4455;\n",
              "      --fill-color: #D2E3FC;\n",
              "      --hover-bg-color: #434B5C;\n",
              "      --hover-fill-color: #FFFFFF;\n",
              "      --disabled-bg-color: #3B4455;\n",
              "      --disabled-fill-color: #666;\n",
              "  }\n",
              "\n",
              "  .colab-df-quickchart {\n",
              "    background-color: var(--bg-color);\n",
              "    border: none;\n",
              "    border-radius: 50%;\n",
              "    cursor: pointer;\n",
              "    display: none;\n",
              "    fill: var(--fill-color);\n",
              "    height: 32px;\n",
              "    padding: 0;\n",
              "    width: 32px;\n",
              "  }\n",
              "\n",
              "  .colab-df-quickchart:hover {\n",
              "    background-color: var(--hover-bg-color);\n",
              "    box-shadow: 0 1px 2px rgba(60, 64, 67, 0.3), 0 1px 3px 1px rgba(60, 64, 67, 0.15);\n",
              "    fill: var(--button-hover-fill-color);\n",
              "  }\n",
              "\n",
              "  .colab-df-quickchart-complete:disabled,\n",
              "  .colab-df-quickchart-complete:disabled:hover {\n",
              "    background-color: var(--disabled-bg-color);\n",
              "    fill: var(--disabled-fill-color);\n",
              "    box-shadow: none;\n",
              "  }\n",
              "\n",
              "  .colab-df-spinner {\n",
              "    border: 2px solid var(--fill-color);\n",
              "    border-color: transparent;\n",
              "    border-bottom-color: var(--fill-color);\n",
              "    animation:\n",
              "      spin 1s steps(1) infinite;\n",
              "  }\n",
              "\n",
              "  @keyframes spin {\n",
              "    0% {\n",
              "      border-color: transparent;\n",
              "      border-bottom-color: var(--fill-color);\n",
              "      border-left-color: var(--fill-color);\n",
              "    }\n",
              "    20% {\n",
              "      border-color: transparent;\n",
              "      border-left-color: var(--fill-color);\n",
              "      border-top-color: var(--fill-color);\n",
              "    }\n",
              "    30% {\n",
              "      border-color: transparent;\n",
              "      border-left-color: var(--fill-color);\n",
              "      border-top-color: var(--fill-color);\n",
              "      border-right-color: var(--fill-color);\n",
              "    }\n",
              "    40% {\n",
              "      border-color: transparent;\n",
              "      border-right-color: var(--fill-color);\n",
              "      border-top-color: var(--fill-color);\n",
              "    }\n",
              "    60% {\n",
              "      border-color: transparent;\n",
              "      border-right-color: var(--fill-color);\n",
              "    }\n",
              "    80% {\n",
              "      border-color: transparent;\n",
              "      border-right-color: var(--fill-color);\n",
              "      border-bottom-color: var(--fill-color);\n",
              "    }\n",
              "    90% {\n",
              "      border-color: transparent;\n",
              "      border-bottom-color: var(--fill-color);\n",
              "    }\n",
              "  }\n",
              "</style>\n",
              "\n",
              "      <script>\n",
              "        async function quickchart(key) {\n",
              "          const quickchartButtonEl =\n",
              "            document.querySelector('#' + key + ' button');\n",
              "          quickchartButtonEl.disabled = true;  // To prevent multiple clicks.\n",
              "          quickchartButtonEl.classList.add('colab-df-spinner');\n",
              "          try {\n",
              "            const charts = await google.colab.kernel.invokeFunction(\n",
              "                'suggestCharts', [key], {});\n",
              "          } catch (error) {\n",
              "            console.error('Error during call to suggestCharts:', error);\n",
              "          }\n",
              "          quickchartButtonEl.classList.remove('colab-df-spinner');\n",
              "          quickchartButtonEl.classList.add('colab-df-quickchart-complete');\n",
              "        }\n",
              "        (() => {\n",
              "          let quickchartButtonEl =\n",
              "            document.querySelector('#df-5a2fb929-25ca-453c-ad92-6bd5b361a31d button');\n",
              "          quickchartButtonEl.style.display =\n",
              "            google.colab.kernel.accessAllowed ? 'block' : 'none';\n",
              "        })();\n",
              "      </script>\n",
              "    </div>\n",
              "\n",
              "    </div>\n",
              "  </div>\n"
            ],
            "application/vnd.google.colaboratory.intrinsic+json": {
              "type": "dataframe",
              "summary": "{\n  \"name\": \"df\",\n  \"rows\": 8,\n  \"fields\": [\n    {\n      \"column\": \"index\",\n      \"properties\": {\n        \"dtype\": \"number\",\n        \"std\": 9613.5800836857,\n        \"min\": 0.0,\n        \"max\": 26675.0,\n        \"num_unique_values\": 7,\n        \"samples\": [\n          26675.0,\n          13337.0,\n          20005.5\n        ],\n        \"semantic_type\": \"\",\n        \"description\": \"\"\n      }\n    },\n    {\n      \"column\": \"avg_rating\",\n      \"properties\": {\n        \"dtype\": \"number\",\n        \"std\": 9326.412397939608,\n        \"min\": 0.7164265501238433,\n        \"max\": 26386.0,\n        \"num_unique_values\": 8,\n        \"samples\": [\n          8.449242022284546,\n          8.5,\n          26386.0\n        ],\n        \"semantic_type\": \"\",\n        \"description\": \"\"\n      }\n    },\n    {\n      \"column\": \"rating\",\n      \"properties\": {\n        \"dtype\": \"number\",\n        \"std\": 9326.434717298118,\n        \"min\": 1.0,\n        \"max\": 26386.0,\n        \"num_unique_values\": 7,\n        \"samples\": [\n          26386.0,\n          8.56066853634503,\n          9.0\n        ],\n        \"semantic_type\": \"\",\n        \"description\": \"\"\n      }\n    }\n  ]\n}"
            }
          },
          "metadata": {},
          "execution_count": 10
        }
      ]
    },
    {
      "cell_type": "code",
      "source": [
        "df.head(-5)"
      ],
      "metadata": {
        "colab": {
          "base_uri": "https://localhost:8080/",
          "height": 964
        },
        "id": "vPV8SGoSoZMV",
        "outputId": "37460e49-6b28-44bb-e7e8-f8ae0da8f34e"
      },
      "id": "vPV8SGoSoZMV",
      "execution_count": 11,
      "outputs": [
        {
          "output_type": "execute_result",
          "data": {
            "text/plain": [
              "       index                                       review_title  \\\n",
              "0          0                                        Exceptional   \n",
              "1          1  I highly recommend this b&b! We enjoyed it a lot!   \n",
              "2          2                                        Exceptional   \n",
              "3          3  My stay in the house was a experiencing bliss ...   \n",
              "4          4  One bedroom apartment with wonderful view and ...   \n",
              "...      ...                                                ...   \n",
              "26665  26665                                             Superb   \n",
              "26666  26666                                           Fabulous   \n",
              "26667  26667                                        Exceptional   \n",
              "26668  26668                                             Superb   \n",
              "26669  26669        Almost perfect hotel - criticisms are minor   \n",
              "\n",
              "             reviewed_at reviewed_by  \\\n",
              "0           11 July 2021      Kyrylo   \n",
              "1       24 November 2019     Dimitri   \n",
              "2         3 January 2020    Virginia   \n",
              "3       8 September 2019      Kannan   \n",
              "4           23 June 2019         Sue   \n",
              "...                  ...         ...   \n",
              "26665  14 September 2018         Ann   \n",
              "26666     1 October 2018       Hamed   \n",
              "26667      17 March 2020        Olya   \n",
              "26668     8 October 2019      Subodh   \n",
              "26669    18 October 2018   Anonymous   \n",
              "\n",
              "                                                  images  \\\n",
              "0                                                    NaN   \n",
              "1                                                    NaN   \n",
              "2                                                    NaN   \n",
              "3                                                    NaN   \n",
              "4      https://cf.bstatic.com/xdata/images/xphoto/squ...   \n",
              "...                                                  ...   \n",
              "26665                                                NaN   \n",
              "26666                                                NaN   \n",
              "26667                                                NaN   \n",
              "26668                                                NaN   \n",
              "26669                                                NaN   \n",
              "\n",
              "                 crawled_at  \\\n",
              "0      07/20/2021, 01:09:27   \n",
              "1      07/20/2021, 01:09:27   \n",
              "2      07/20/2021, 01:09:27   \n",
              "3      07/20/2021, 01:09:28   \n",
              "4      07/20/2021, 01:09:28   \n",
              "...                     ...   \n",
              "26665  07/20/2021, 02:15:50   \n",
              "26666  07/20/2021, 02:15:50   \n",
              "26667  07/20/2021, 02:15:50   \n",
              "26668  07/20/2021, 02:15:50   \n",
              "26669  07/20/2021, 02:15:50   \n",
              "\n",
              "                                                     url  \\\n",
              "0      https://www.booking.com/reviews/be/hotel/villa...   \n",
              "1      https://www.booking.com/reviews/be/hotel/villa...   \n",
              "2      https://www.booking.com/reviews/be/hotel/hydro...   \n",
              "3      https://www.booking.com/reviews/be/hotel/villa...   \n",
              "4      https://www.booking.com/reviews/be/hotel/hydro...   \n",
              "...                                                  ...   \n",
              "26665  https://www.booking.com/reviews/be/hotel/oudhu...   \n",
              "26666  https://www.booking.com/reviews/be/hotel/warwi...   \n",
              "26667  https://www.booking.com/reviews/be/hotel/winds...   \n",
              "26668  https://www.booking.com/reviews/be/hotel/best-...   \n",
              "26669  https://www.booking.com/reviews/be/hotel/amigo...   \n",
              "\n",
              "                           hotel_name  \\\n",
              "0                     Villa Pura Vida   \n",
              "1                     Villa Pura Vida   \n",
              "2              Hydro Palace Apartment   \n",
              "3                     Villa Pura Vida   \n",
              "4              Hydro Palace Apartment   \n",
              "...                               ...   \n",
              "26665                 Martin's Relais   \n",
              "26666  Warwick Brussels - Grand Place   \n",
              "26667                  Logies Windsor   \n",
              "26668                  Hotel Ter Elst   \n",
              "26669         Rocco Forte Hotel Amigo   \n",
              "\n",
              "                                               hotel_url  avg_rating  \\\n",
              "0      https://www.booking.com/hotel/be/villa-pura-vi...         9.7   \n",
              "1      https://www.booking.com/hotel/be/villa-pura-vi...         9.7   \n",
              "2      https://www.booking.com/hotel/be/hydro-palace....         9.2   \n",
              "3      https://www.booking.com/hotel/be/villa-pura-vi...         9.7   \n",
              "4      https://www.booking.com/hotel/be/hydro-palace....         9.2   \n",
              "...                                                  ...         ...   \n",
              "26665  https://www.booking.com/hotel/be/oudhuisamster...         8.6   \n",
              "26666  https://www.booking.com/hotel/be/warwick-bruss...         8.2   \n",
              "26667  https://www.booking.com/hotel/be/windsor-castl...         8.5   \n",
              "26668  https://www.booking.com/hotel/be/best-western-...         8.3   \n",
              "26669  https://www.booking.com/hotel/be/amigo.en-gb.h...         9.1   \n",
              "\n",
              "          nationality  rating  \\\n",
              "0              Poland    10.0   \n",
              "1             Belgium     9.0   \n",
              "2      United Kingdom    10.0   \n",
              "3         Netherlands    10.0   \n",
              "4        South Africa     9.2   \n",
              "...               ...     ...   \n",
              "26665  United Kingdom     9.2   \n",
              "26666            Iran     8.8   \n",
              "26667         Belgium    10.0   \n",
              "26668         Germany     9.0   \n",
              "26669           Italy     9.6   \n",
              "\n",
              "                                             review_text  \\\n",
              "0      Everything was perfect! Quite, cozy place to r...   \n",
              "1              Very friendly host and perfect breakfast!   \n",
              "2      It was just what we wanted for a week by the b...   \n",
              "3      My stay in the house was a experiencing bliss ...   \n",
              "4      The building itself has a very musty smell in ...   \n",
              "...                                                  ...   \n",
              "26665  The expensive price of breakfast.,\\n\\nFabulous...   \n",
              "26666                Best location,\\n\\nExcelent location   \n",
              "26667  Everything was great. thank you!,\\n\\nThe guest...   \n",
              "26668    There are no comments available for this review   \n",
              "26669  The bed duvet was too hot and heavy; they coul...   \n",
              "\n",
              "                                         raw_review_text  \\\n",
              "0      <p class=\"review_pos \"><svg aria-label=\"Positi...   \n",
              "1      <p class=\"review_pos \"><svg aria-label=\"Positi...   \n",
              "2      <p class=\"review_neg \"><svg aria-label=\"Negati...   \n",
              "3      <p class=\"review_pos \"><svg aria-label=\"Positi...   \n",
              "4      <p class=\"review_neg \"><svg aria-label=\"Negati...   \n",
              "...                                                  ...   \n",
              "26665  <p class=\"review_neg \"><svg aria-label=\"Negati...   \n",
              "26666  <p class=\"review_neg \"><svg aria-label=\"Negati...   \n",
              "26667  <p class=\"review_neg \"><svg aria-label=\"Negati...   \n",
              "26668  <p class=\"review_none\"><em>There are no commen...   \n",
              "26669  <p class=\"review_neg \"><svg aria-label=\"Negati...   \n",
              "\n",
              "                                                    tags  \\\n",
              "0      Business trip~Solo traveller~Junior Suite~Stay...   \n",
              "1      Leisure trip~Couple~Deluxe Suite~Stayed 1 nigh...   \n",
              "2      Leisure trip~Couple~Apartment with Sea View~St...   \n",
              "3      Business trip~Solo traveller~Junior Suite~Stay...   \n",
              "4      Leisure trip~People with friends~Apartment wit...   \n",
              "...                                                  ...   \n",
              "26665  Leisure trip~Couple~Comfort Double Room with C...   \n",
              "26666  Leisure trip~Couple~Classic Queen Room~Stayed ...   \n",
              "26667  Leisure trip~Solo traveller~Double Room~Stayed...   \n",
              "26668  Business trip~Solo traveller~Standard Double R...   \n",
              "26669  Leisure trip~Couple~Deluxe Double Room~Stayed ...   \n",
              "\n",
              "                                                    meta  \n",
              "0      {'language': 'en-gb', 'source': 'https://www.b...  \n",
              "1      {'language': 'en-gb', 'source': 'https://www.b...  \n",
              "2      {'language': 'en-gb', 'source': 'https://www.b...  \n",
              "3      {'language': 'en-gb', 'source': 'https://www.b...  \n",
              "4      {'language': 'en-gb', 'source': 'https://www.b...  \n",
              "...                                                  ...  \n",
              "26665  {'language': 'en-gb', 'source': 'https://www.b...  \n",
              "26666  {'language': 'en-gb', 'source': 'https://www.b...  \n",
              "26667  {'language': 'en-gb', 'source': 'https://www.b...  \n",
              "26668  {'language': 'en-gb', 'source': 'https://www.b...  \n",
              "26669  {'language': 'en-gb', 'source': 'https://www.b...  \n",
              "\n",
              "[26670 rows x 16 columns]"
            ],
            "text/html": [
              "\n",
              "  <div id=\"df-3ea34ec0-f426-43a0-b83e-765a04207008\" class=\"colab-df-container\">\n",
              "    <div>\n",
              "<style scoped>\n",
              "    .dataframe tbody tr th:only-of-type {\n",
              "        vertical-align: middle;\n",
              "    }\n",
              "\n",
              "    .dataframe tbody tr th {\n",
              "        vertical-align: top;\n",
              "    }\n",
              "\n",
              "    .dataframe thead th {\n",
              "        text-align: right;\n",
              "    }\n",
              "</style>\n",
              "<table border=\"1\" class=\"dataframe\">\n",
              "  <thead>\n",
              "    <tr style=\"text-align: right;\">\n",
              "      <th></th>\n",
              "      <th>index</th>\n",
              "      <th>review_title</th>\n",
              "      <th>reviewed_at</th>\n",
              "      <th>reviewed_by</th>\n",
              "      <th>images</th>\n",
              "      <th>crawled_at</th>\n",
              "      <th>url</th>\n",
              "      <th>hotel_name</th>\n",
              "      <th>hotel_url</th>\n",
              "      <th>avg_rating</th>\n",
              "      <th>nationality</th>\n",
              "      <th>rating</th>\n",
              "      <th>review_text</th>\n",
              "      <th>raw_review_text</th>\n",
              "      <th>tags</th>\n",
              "      <th>meta</th>\n",
              "    </tr>\n",
              "  </thead>\n",
              "  <tbody>\n",
              "    <tr>\n",
              "      <th>0</th>\n",
              "      <td>0</td>\n",
              "      <td>Exceptional</td>\n",
              "      <td>11 July 2021</td>\n",
              "      <td>Kyrylo</td>\n",
              "      <td>NaN</td>\n",
              "      <td>07/20/2021, 01:09:27</td>\n",
              "      <td>https://www.booking.com/reviews/be/hotel/villa...</td>\n",
              "      <td>Villa Pura Vida</td>\n",
              "      <td>https://www.booking.com/hotel/be/villa-pura-vi...</td>\n",
              "      <td>9.7</td>\n",
              "      <td>Poland</td>\n",
              "      <td>10.0</td>\n",
              "      <td>Everything was perfect! Quite, cozy place to r...</td>\n",
              "      <td>&lt;p class=\"review_pos \"&gt;&lt;svg aria-label=\"Positi...</td>\n",
              "      <td>Business trip~Solo traveller~Junior Suite~Stay...</td>\n",
              "      <td>{'language': 'en-gb', 'source': 'https://www.b...</td>\n",
              "    </tr>\n",
              "    <tr>\n",
              "      <th>1</th>\n",
              "      <td>1</td>\n",
              "      <td>I highly recommend this b&amp;b! We enjoyed it a lot!</td>\n",
              "      <td>24 November 2019</td>\n",
              "      <td>Dimitri</td>\n",
              "      <td>NaN</td>\n",
              "      <td>07/20/2021, 01:09:27</td>\n",
              "      <td>https://www.booking.com/reviews/be/hotel/villa...</td>\n",
              "      <td>Villa Pura Vida</td>\n",
              "      <td>https://www.booking.com/hotel/be/villa-pura-vi...</td>\n",
              "      <td>9.7</td>\n",
              "      <td>Belgium</td>\n",
              "      <td>9.0</td>\n",
              "      <td>Very friendly host and perfect breakfast!</td>\n",
              "      <td>&lt;p class=\"review_pos \"&gt;&lt;svg aria-label=\"Positi...</td>\n",
              "      <td>Leisure trip~Couple~Deluxe Suite~Stayed 1 nigh...</td>\n",
              "      <td>{'language': 'en-gb', 'source': 'https://www.b...</td>\n",
              "    </tr>\n",
              "    <tr>\n",
              "      <th>2</th>\n",
              "      <td>2</td>\n",
              "      <td>Exceptional</td>\n",
              "      <td>3 January 2020</td>\n",
              "      <td>Virginia</td>\n",
              "      <td>NaN</td>\n",
              "      <td>07/20/2021, 01:09:27</td>\n",
              "      <td>https://www.booking.com/reviews/be/hotel/hydro...</td>\n",
              "      <td>Hydro Palace Apartment</td>\n",
              "      <td>https://www.booking.com/hotel/be/hydro-palace....</td>\n",
              "      <td>9.2</td>\n",
              "      <td>United Kingdom</td>\n",
              "      <td>10.0</td>\n",
              "      <td>It was just what we wanted for a week by the b...</td>\n",
              "      <td>&lt;p class=\"review_neg \"&gt;&lt;svg aria-label=\"Negati...</td>\n",
              "      <td>Leisure trip~Couple~Apartment with Sea View~St...</td>\n",
              "      <td>{'language': 'en-gb', 'source': 'https://www.b...</td>\n",
              "    </tr>\n",
              "    <tr>\n",
              "      <th>3</th>\n",
              "      <td>3</td>\n",
              "      <td>My stay in the house was a experiencing bliss ...</td>\n",
              "      <td>8 September 2019</td>\n",
              "      <td>Kannan</td>\n",
              "      <td>NaN</td>\n",
              "      <td>07/20/2021, 01:09:28</td>\n",
              "      <td>https://www.booking.com/reviews/be/hotel/villa...</td>\n",
              "      <td>Villa Pura Vida</td>\n",
              "      <td>https://www.booking.com/hotel/be/villa-pura-vi...</td>\n",
              "      <td>9.7</td>\n",
              "      <td>Netherlands</td>\n",
              "      <td>10.0</td>\n",
              "      <td>My stay in the house was a experiencing bliss ...</td>\n",
              "      <td>&lt;p class=\"review_pos \"&gt;&lt;svg aria-label=\"Positi...</td>\n",
              "      <td>Business trip~Solo traveller~Junior Suite~Stay...</td>\n",
              "      <td>{'language': 'en-gb', 'source': 'https://www.b...</td>\n",
              "    </tr>\n",
              "    <tr>\n",
              "      <th>4</th>\n",
              "      <td>4</td>\n",
              "      <td>One bedroom apartment with wonderful view and ...</td>\n",
              "      <td>23 June 2019</td>\n",
              "      <td>Sue</td>\n",
              "      <td>https://cf.bstatic.com/xdata/images/xphoto/squ...</td>\n",
              "      <td>07/20/2021, 01:09:28</td>\n",
              "      <td>https://www.booking.com/reviews/be/hotel/hydro...</td>\n",
              "      <td>Hydro Palace Apartment</td>\n",
              "      <td>https://www.booking.com/hotel/be/hydro-palace....</td>\n",
              "      <td>9.2</td>\n",
              "      <td>South Africa</td>\n",
              "      <td>9.2</td>\n",
              "      <td>The building itself has a very musty smell in ...</td>\n",
              "      <td>&lt;p class=\"review_neg \"&gt;&lt;svg aria-label=\"Negati...</td>\n",
              "      <td>Leisure trip~People with friends~Apartment wit...</td>\n",
              "      <td>{'language': 'en-gb', 'source': 'https://www.b...</td>\n",
              "    </tr>\n",
              "    <tr>\n",
              "      <th>...</th>\n",
              "      <td>...</td>\n",
              "      <td>...</td>\n",
              "      <td>...</td>\n",
              "      <td>...</td>\n",
              "      <td>...</td>\n",
              "      <td>...</td>\n",
              "      <td>...</td>\n",
              "      <td>...</td>\n",
              "      <td>...</td>\n",
              "      <td>...</td>\n",
              "      <td>...</td>\n",
              "      <td>...</td>\n",
              "      <td>...</td>\n",
              "      <td>...</td>\n",
              "      <td>...</td>\n",
              "      <td>...</td>\n",
              "    </tr>\n",
              "    <tr>\n",
              "      <th>26665</th>\n",
              "      <td>26665</td>\n",
              "      <td>Superb</td>\n",
              "      <td>14 September 2018</td>\n",
              "      <td>Ann</td>\n",
              "      <td>NaN</td>\n",
              "      <td>07/20/2021, 02:15:50</td>\n",
              "      <td>https://www.booking.com/reviews/be/hotel/oudhu...</td>\n",
              "      <td>Martin's Relais</td>\n",
              "      <td>https://www.booking.com/hotel/be/oudhuisamster...</td>\n",
              "      <td>8.6</td>\n",
              "      <td>United Kingdom</td>\n",
              "      <td>9.2</td>\n",
              "      <td>The expensive price of breakfast.,\\n\\nFabulous...</td>\n",
              "      <td>&lt;p class=\"review_neg \"&gt;&lt;svg aria-label=\"Negati...</td>\n",
              "      <td>Leisure trip~Couple~Comfort Double Room with C...</td>\n",
              "      <td>{'language': 'en-gb', 'source': 'https://www.b...</td>\n",
              "    </tr>\n",
              "    <tr>\n",
              "      <th>26666</th>\n",
              "      <td>26666</td>\n",
              "      <td>Fabulous</td>\n",
              "      <td>1 October 2018</td>\n",
              "      <td>Hamed</td>\n",
              "      <td>NaN</td>\n",
              "      <td>07/20/2021, 02:15:50</td>\n",
              "      <td>https://www.booking.com/reviews/be/hotel/warwi...</td>\n",
              "      <td>Warwick Brussels - Grand Place</td>\n",
              "      <td>https://www.booking.com/hotel/be/warwick-bruss...</td>\n",
              "      <td>8.2</td>\n",
              "      <td>Iran</td>\n",
              "      <td>8.8</td>\n",
              "      <td>Best location,\\n\\nExcelent location</td>\n",
              "      <td>&lt;p class=\"review_neg \"&gt;&lt;svg aria-label=\"Negati...</td>\n",
              "      <td>Leisure trip~Couple~Classic Queen Room~Stayed ...</td>\n",
              "      <td>{'language': 'en-gb', 'source': 'https://www.b...</td>\n",
              "    </tr>\n",
              "    <tr>\n",
              "      <th>26667</th>\n",
              "      <td>26667</td>\n",
              "      <td>Exceptional</td>\n",
              "      <td>17 March 2020</td>\n",
              "      <td>Olya</td>\n",
              "      <td>NaN</td>\n",
              "      <td>07/20/2021, 02:15:50</td>\n",
              "      <td>https://www.booking.com/reviews/be/hotel/winds...</td>\n",
              "      <td>Logies Windsor</td>\n",
              "      <td>https://www.booking.com/hotel/be/windsor-castl...</td>\n",
              "      <td>8.5</td>\n",
              "      <td>Belgium</td>\n",
              "      <td>10.0</td>\n",
              "      <td>Everything was great. thank you!,\\n\\nThe guest...</td>\n",
              "      <td>&lt;p class=\"review_neg \"&gt;&lt;svg aria-label=\"Negati...</td>\n",
              "      <td>Leisure trip~Solo traveller~Double Room~Stayed...</td>\n",
              "      <td>{'language': 'en-gb', 'source': 'https://www.b...</td>\n",
              "    </tr>\n",
              "    <tr>\n",
              "      <th>26668</th>\n",
              "      <td>26668</td>\n",
              "      <td>Superb</td>\n",
              "      <td>8 October 2019</td>\n",
              "      <td>Subodh</td>\n",
              "      <td>NaN</td>\n",
              "      <td>07/20/2021, 02:15:50</td>\n",
              "      <td>https://www.booking.com/reviews/be/hotel/best-...</td>\n",
              "      <td>Hotel Ter Elst</td>\n",
              "      <td>https://www.booking.com/hotel/be/best-western-...</td>\n",
              "      <td>8.3</td>\n",
              "      <td>Germany</td>\n",
              "      <td>9.0</td>\n",
              "      <td>There are no comments available for this review</td>\n",
              "      <td>&lt;p class=\"review_none\"&gt;&lt;em&gt;There are no commen...</td>\n",
              "      <td>Business trip~Solo traveller~Standard Double R...</td>\n",
              "      <td>{'language': 'en-gb', 'source': 'https://www.b...</td>\n",
              "    </tr>\n",
              "    <tr>\n",
              "      <th>26669</th>\n",
              "      <td>26669</td>\n",
              "      <td>Almost perfect hotel - criticisms are minor</td>\n",
              "      <td>18 October 2018</td>\n",
              "      <td>Anonymous</td>\n",
              "      <td>NaN</td>\n",
              "      <td>07/20/2021, 02:15:50</td>\n",
              "      <td>https://www.booking.com/reviews/be/hotel/amigo...</td>\n",
              "      <td>Rocco Forte Hotel Amigo</td>\n",
              "      <td>https://www.booking.com/hotel/be/amigo.en-gb.h...</td>\n",
              "      <td>9.1</td>\n",
              "      <td>Italy</td>\n",
              "      <td>9.6</td>\n",
              "      <td>The bed duvet was too hot and heavy; they coul...</td>\n",
              "      <td>&lt;p class=\"review_neg \"&gt;&lt;svg aria-label=\"Negati...</td>\n",
              "      <td>Leisure trip~Couple~Deluxe Double Room~Stayed ...</td>\n",
              "      <td>{'language': 'en-gb', 'source': 'https://www.b...</td>\n",
              "    </tr>\n",
              "  </tbody>\n",
              "</table>\n",
              "<p>26670 rows × 16 columns</p>\n",
              "</div>\n",
              "    <div class=\"colab-df-buttons\">\n",
              "\n",
              "  <div class=\"colab-df-container\">\n",
              "    <button class=\"colab-df-convert\" onclick=\"convertToInteractive('df-3ea34ec0-f426-43a0-b83e-765a04207008')\"\n",
              "            title=\"Convert this dataframe to an interactive table.\"\n",
              "            style=\"display:none;\">\n",
              "\n",
              "  <svg xmlns=\"http://www.w3.org/2000/svg\" height=\"24px\" viewBox=\"0 -960 960 960\">\n",
              "    <path d=\"M120-120v-720h720v720H120Zm60-500h600v-160H180v160Zm220 220h160v-160H400v160Zm0 220h160v-160H400v160ZM180-400h160v-160H180v160Zm440 0h160v-160H620v160ZM180-180h160v-160H180v160Zm440 0h160v-160H620v160Z\"/>\n",
              "  </svg>\n",
              "    </button>\n",
              "\n",
              "  <style>\n",
              "    .colab-df-container {\n",
              "      display:flex;\n",
              "      gap: 12px;\n",
              "    }\n",
              "\n",
              "    .colab-df-convert {\n",
              "      background-color: #E8F0FE;\n",
              "      border: none;\n",
              "      border-radius: 50%;\n",
              "      cursor: pointer;\n",
              "      display: none;\n",
              "      fill: #1967D2;\n",
              "      height: 32px;\n",
              "      padding: 0 0 0 0;\n",
              "      width: 32px;\n",
              "    }\n",
              "\n",
              "    .colab-df-convert:hover {\n",
              "      background-color: #E2EBFA;\n",
              "      box-shadow: 0px 1px 2px rgba(60, 64, 67, 0.3), 0px 1px 3px 1px rgba(60, 64, 67, 0.15);\n",
              "      fill: #174EA6;\n",
              "    }\n",
              "\n",
              "    .colab-df-buttons div {\n",
              "      margin-bottom: 4px;\n",
              "    }\n",
              "\n",
              "    [theme=dark] .colab-df-convert {\n",
              "      background-color: #3B4455;\n",
              "      fill: #D2E3FC;\n",
              "    }\n",
              "\n",
              "    [theme=dark] .colab-df-convert:hover {\n",
              "      background-color: #434B5C;\n",
              "      box-shadow: 0px 1px 3px 1px rgba(0, 0, 0, 0.15);\n",
              "      filter: drop-shadow(0px 1px 2px rgba(0, 0, 0, 0.3));\n",
              "      fill: #FFFFFF;\n",
              "    }\n",
              "  </style>\n",
              "\n",
              "    <script>\n",
              "      const buttonEl =\n",
              "        document.querySelector('#df-3ea34ec0-f426-43a0-b83e-765a04207008 button.colab-df-convert');\n",
              "      buttonEl.style.display =\n",
              "        google.colab.kernel.accessAllowed ? 'block' : 'none';\n",
              "\n",
              "      async function convertToInteractive(key) {\n",
              "        const element = document.querySelector('#df-3ea34ec0-f426-43a0-b83e-765a04207008');\n",
              "        const dataTable =\n",
              "          await google.colab.kernel.invokeFunction('convertToInteractive',\n",
              "                                                    [key], {});\n",
              "        if (!dataTable) return;\n",
              "\n",
              "        const docLinkHtml = 'Like what you see? Visit the ' +\n",
              "          '<a target=\"_blank\" href=https://colab.research.google.com/notebooks/data_table.ipynb>data table notebook</a>'\n",
              "          + ' to learn more about interactive tables.';\n",
              "        element.innerHTML = '';\n",
              "        dataTable['output_type'] = 'display_data';\n",
              "        await google.colab.output.renderOutput(dataTable, element);\n",
              "        const docLink = document.createElement('div');\n",
              "        docLink.innerHTML = docLinkHtml;\n",
              "        element.appendChild(docLink);\n",
              "      }\n",
              "    </script>\n",
              "  </div>\n",
              "\n",
              "\n",
              "    <div id=\"df-3b5f1108-e83d-4529-a4f6-c7adb4439e5e\">\n",
              "      <button class=\"colab-df-quickchart\" onclick=\"quickchart('df-3b5f1108-e83d-4529-a4f6-c7adb4439e5e')\"\n",
              "                title=\"Suggest charts\"\n",
              "                style=\"display:none;\">\n",
              "\n",
              "<svg xmlns=\"http://www.w3.org/2000/svg\" height=\"24px\"viewBox=\"0 0 24 24\"\n",
              "     width=\"24px\">\n",
              "    <g>\n",
              "        <path d=\"M19 3H5c-1.1 0-2 .9-2 2v14c0 1.1.9 2 2 2h14c1.1 0 2-.9 2-2V5c0-1.1-.9-2-2-2zM9 17H7v-7h2v7zm4 0h-2V7h2v10zm4 0h-2v-4h2v4z\"/>\n",
              "    </g>\n",
              "</svg>\n",
              "      </button>\n",
              "\n",
              "<style>\n",
              "  .colab-df-quickchart {\n",
              "      --bg-color: #E8F0FE;\n",
              "      --fill-color: #1967D2;\n",
              "      --hover-bg-color: #E2EBFA;\n",
              "      --hover-fill-color: #174EA6;\n",
              "      --disabled-fill-color: #AAA;\n",
              "      --disabled-bg-color: #DDD;\n",
              "  }\n",
              "\n",
              "  [theme=dark] .colab-df-quickchart {\n",
              "      --bg-color: #3B4455;\n",
              "      --fill-color: #D2E3FC;\n",
              "      --hover-bg-color: #434B5C;\n",
              "      --hover-fill-color: #FFFFFF;\n",
              "      --disabled-bg-color: #3B4455;\n",
              "      --disabled-fill-color: #666;\n",
              "  }\n",
              "\n",
              "  .colab-df-quickchart {\n",
              "    background-color: var(--bg-color);\n",
              "    border: none;\n",
              "    border-radius: 50%;\n",
              "    cursor: pointer;\n",
              "    display: none;\n",
              "    fill: var(--fill-color);\n",
              "    height: 32px;\n",
              "    padding: 0;\n",
              "    width: 32px;\n",
              "  }\n",
              "\n",
              "  .colab-df-quickchart:hover {\n",
              "    background-color: var(--hover-bg-color);\n",
              "    box-shadow: 0 1px 2px rgba(60, 64, 67, 0.3), 0 1px 3px 1px rgba(60, 64, 67, 0.15);\n",
              "    fill: var(--button-hover-fill-color);\n",
              "  }\n",
              "\n",
              "  .colab-df-quickchart-complete:disabled,\n",
              "  .colab-df-quickchart-complete:disabled:hover {\n",
              "    background-color: var(--disabled-bg-color);\n",
              "    fill: var(--disabled-fill-color);\n",
              "    box-shadow: none;\n",
              "  }\n",
              "\n",
              "  .colab-df-spinner {\n",
              "    border: 2px solid var(--fill-color);\n",
              "    border-color: transparent;\n",
              "    border-bottom-color: var(--fill-color);\n",
              "    animation:\n",
              "      spin 1s steps(1) infinite;\n",
              "  }\n",
              "\n",
              "  @keyframes spin {\n",
              "    0% {\n",
              "      border-color: transparent;\n",
              "      border-bottom-color: var(--fill-color);\n",
              "      border-left-color: var(--fill-color);\n",
              "    }\n",
              "    20% {\n",
              "      border-color: transparent;\n",
              "      border-left-color: var(--fill-color);\n",
              "      border-top-color: var(--fill-color);\n",
              "    }\n",
              "    30% {\n",
              "      border-color: transparent;\n",
              "      border-left-color: var(--fill-color);\n",
              "      border-top-color: var(--fill-color);\n",
              "      border-right-color: var(--fill-color);\n",
              "    }\n",
              "    40% {\n",
              "      border-color: transparent;\n",
              "      border-right-color: var(--fill-color);\n",
              "      border-top-color: var(--fill-color);\n",
              "    }\n",
              "    60% {\n",
              "      border-color: transparent;\n",
              "      border-right-color: var(--fill-color);\n",
              "    }\n",
              "    80% {\n",
              "      border-color: transparent;\n",
              "      border-right-color: var(--fill-color);\n",
              "      border-bottom-color: var(--fill-color);\n",
              "    }\n",
              "    90% {\n",
              "      border-color: transparent;\n",
              "      border-bottom-color: var(--fill-color);\n",
              "    }\n",
              "  }\n",
              "</style>\n",
              "\n",
              "      <script>\n",
              "        async function quickchart(key) {\n",
              "          const quickchartButtonEl =\n",
              "            document.querySelector('#' + key + ' button');\n",
              "          quickchartButtonEl.disabled = true;  // To prevent multiple clicks.\n",
              "          quickchartButtonEl.classList.add('colab-df-spinner');\n",
              "          try {\n",
              "            const charts = await google.colab.kernel.invokeFunction(\n",
              "                'suggestCharts', [key], {});\n",
              "          } catch (error) {\n",
              "            console.error('Error during call to suggestCharts:', error);\n",
              "          }\n",
              "          quickchartButtonEl.classList.remove('colab-df-spinner');\n",
              "          quickchartButtonEl.classList.add('colab-df-quickchart-complete');\n",
              "        }\n",
              "        (() => {\n",
              "          let quickchartButtonEl =\n",
              "            document.querySelector('#df-3b5f1108-e83d-4529-a4f6-c7adb4439e5e button');\n",
              "          quickchartButtonEl.style.display =\n",
              "            google.colab.kernel.accessAllowed ? 'block' : 'none';\n",
              "        })();\n",
              "      </script>\n",
              "    </div>\n",
              "\n",
              "    </div>\n",
              "  </div>\n"
            ],
            "application/vnd.google.colaboratory.intrinsic+json": {
              "type": "dataframe",
              "variable_name": "df",
              "summary": "{\n  \"name\": \"df\",\n  \"rows\": 26675,\n  \"fields\": [\n    {\n      \"column\": \"index\",\n      \"properties\": {\n        \"dtype\": \"number\",\n        \"std\": 7700,\n        \"min\": 0,\n        \"max\": 26674,\n        \"num_unique_values\": 26675,\n        \"samples\": [\n          2501,\n          18439,\n          5357\n        ],\n        \"semantic_type\": \"\",\n        \"description\": \"\"\n      }\n    },\n    {\n      \"column\": \"review_title\",\n      \"properties\": {\n        \"dtype\": \"category\",\n        \"num_unique_values\": 8960,\n        \"samples\": [\n          \"Good hotel great location.\",\n          \"Just wanted we wanted for a one night stop on the way to France\",\n          \"Great hotel in excellent location\"\n        ],\n        \"semantic_type\": \"\",\n        \"description\": \"\"\n      }\n    },\n    {\n      \"column\": \"reviewed_at\",\n      \"properties\": {\n        \"dtype\": \"category\",\n        \"num_unique_values\": 1240,\n        \"samples\": [\n          \"18 November 2019\",\n          \"12 September 2019\",\n          \"24 February 2019\"\n        ],\n        \"semantic_type\": \"\",\n        \"description\": \"\"\n      }\n    },\n    {\n      \"column\": \"reviewed_by\",\n      \"properties\": {\n        \"dtype\": \"category\",\n        \"num_unique_values\": 8566,\n        \"samples\": [\n          \"Caique\",\n          \"C\\u0103t\\u0103lina\",\n          \"Ly\"\n        ],\n        \"semantic_type\": \"\",\n        \"description\": \"\"\n      }\n    },\n    {\n      \"column\": \"images\",\n      \"properties\": {\n        \"dtype\": \"category\",\n        \"num_unique_values\": 755,\n        \"samples\": [\n          \"https://cf.bstatic.com/xdata/images/xphoto/square60_ao/84037692.jpg?k=4b76c4c778e09dba380afe6c523540da58736372fa7bbc06008b08cb3235abe0&o=\",\n          \"https://cf.bstatic.com/xdata/images/xphoto/square60_ao/47061700.jpg?k=f48cbb215dccdd568ae3949c94aaf71ce2373a477465da20b091e7948b64d9ec&o=~https://cf.bstatic.com/xdata/images/xphoto/square60_ao/47061703.jpg?k=71f53255e1f1fa1450bf6b174f1c676e66e225c49d0747220c3ff140be2f3b6a&o=~https://cf.bstatic.com/xdata/images/xphoto/square60_ao/47061745.jpg?k=d5f48838770205cdbddc8e4c926eea8e1f3669cbe738027cacebac433dd07d4c&o=\",\n          \"https://cf.bstatic.com/xdata/images/xphoto/square60_ao/70795776.jpg?k=c96d1901be7f9393d6976768e73bc8e0531bdddec0347cabd54035c53e6042be&o=\"\n        ],\n        \"semantic_type\": \"\",\n        \"description\": \"\"\n      }\n    },\n    {\n      \"column\": \"crawled_at\",\n      \"properties\": {\n        \"dtype\": \"object\",\n        \"num_unique_values\": 3968,\n        \"samples\": [\n          \"07/20/2021, 01:54:37\",\n          \"07/20/2021, 01:43:31\",\n          \"07/20/2021, 01:14:42\"\n        ],\n        \"semantic_type\": \"\",\n        \"description\": \"\"\n      }\n    },\n    {\n      \"column\": \"url\",\n      \"properties\": {\n        \"dtype\": \"category\",\n        \"num_unique_values\": 1412,\n        \"samples\": [\n          \"https://www.booking.com/reviews/be/hotel/jeanne-nieuwpoort.en-gb.html?label=gen173nr-1DCA0oFUIRamVhbm5lLW5pZXV3cG9vcnRIM1gEaGyIAQGYAQm4AQfIAQ3YAQPoAQGIAgGoAgO4Ao-414cGwAIB0gIkOTM0MDkxZmEtYjdmOC00NDIyLTk2NTAtZTI2Njg3MGUxMDBl2AIE4AIB;sid=cb78d8489b9c18246aa9830225a71862;customer_type=total&hp_nav=0&keep_landing=1&order=featuredreviews&page=1&r_lang=en&rows=75&\",\n          \"https://www.booking.com/reviews/be/hotel/tibrusselsboulevard.en-gb.html?label=gen173nr-1DCA0oFUITdGlicnVzc2Vsc2JvdWxldmFyZEgzWARobIgBAZgBCbgBB8gBDdgBA-gBAYgCAagCA7gCvLjXhwbAAgHSAiQ3OGVlOWZhNi00MjNkLTQwNDYtOTUyNi04NDZlZTIxNWU3MjTYAgTgAgE;sid=cb78d8489b9c18246aa9830225a71862;customer_type=total;hp_nav=0;old_page=0;order=featuredreviews;page=7;r_lang=en;rows=75&\",\n          \"https://www.booking.com/reviews/be/hotel/housing.en-gb.html?label=gen173nr-1DCA0oFUIHaG91c2luZ0gzWARobIgBAZgBCbgBB8gBDdgBA-gBAYgCAagCA7gCjrDXhwbAAgHSAiRhZjA4NzM0Mi05YTdlLTRlODktYWJiYi00ZGMwZmY5MTcyZDDYAgTgAgE;sid=cb78d8489b9c18246aa9830225a71862;customer_type=total&hp_nav=0&keep_landing=1&order=featuredreviews&page=1&r_lang=en&rows=75&\"\n        ],\n        \"semantic_type\": \"\",\n        \"description\": \"\"\n      }\n    },\n    {\n      \"column\": \"hotel_name\",\n      \"properties\": {\n        \"dtype\": \"category\",\n        \"num_unique_values\": 819,\n        \"samples\": [\n          \"Apartment Aurora\",\n          \"Au Marronnier\",\n          \"Spacious Guest Suites near Historic Market - 5 Min Walk\"\n        ],\n        \"semantic_type\": \"\",\n        \"description\": \"\"\n      }\n    },\n    {\n      \"column\": \"hotel_url\",\n      \"properties\": {\n        \"dtype\": \"category\",\n        \"num_unique_values\": 822,\n        \"samples\": [\n          \"https://www.booking.com/hotel/be/auberge-de-la-lesse-celles.en-gb.html?label=gen173nr-1DCA0oFUIaYXViZXJnZS1kZS1sYS1sZXNzZS1jZWxsZXNIM1gEaGyIAQGYAQm4AQfIAQ3YAQPoAQGIAgGoAgO4At2-14cGwAIB0gIkMTc0ZDgwNTUtYmI0NS00Yjg5LWI4YjgtN2I3MTc2NTMzMDlm2AIE4AIB;sid=cb78d8489b9c18246aa9830225a71862\",\n          \"https://www.booking.com/hotel/be/le-cerf-volant.en-gb.html?label=gen173nr-1DCA0oFUIObGUtY2VyZi12b2xhbnRIM1gEaGyIAQGYAQm4AQfIAQ3YAQPoAQGIAgGoAgO4AvGu14cGwAIB0gIkMDVkYjI3ODktZTE4Ni00ZTlmLWE0MGYtZTY4NjkxMGM5ZGRj2AIE4AIB;sid=cb78d8489b9c18246aa9830225a71862\",\n          \"https://www.booking.com/hotel/be/wilgenhof-maaseik.en-gb.html?label=gen173nr-1DCA0oFUIRd2lsZ2VuaG9mLW1hYXNlaWtIM1gEaGyIAQGYAQm4AQfIAQ3YAQPoAQGIAgGoAgO4Ao-r14cGwAIB0gIkNGIzYWI4ZGQtODIyMS00M2MyLWExMGYtZjg4MTczODg0MGY02AIE4AIB;sid=cb78d8489b9c18246aa9830225a71862\"\n        ],\n        \"semantic_type\": \"\",\n        \"description\": \"\"\n      }\n    },\n    {\n      \"column\": \"avg_rating\",\n      \"properties\": {\n        \"dtype\": \"number\",\n        \"std\": 0.7164265501238433,\n        \"min\": 3.8,\n        \"max\": 10.0,\n        \"num_unique_values\": 42,\n        \"samples\": [\n          9.6,\n          8.9,\n          8.5\n        ],\n        \"semantic_type\": \"\",\n        \"description\": \"\"\n      }\n    },\n    {\n      \"column\": \"nationality\",\n      \"properties\": {\n        \"dtype\": \"category\",\n        \"num_unique_values\": 163,\n        \"samples\": [\n          \"Cambodia\",\n          \"Tunisia\",\n          \"Nicaragua\"\n        ],\n        \"semantic_type\": \"\",\n        \"description\": \"\"\n      }\n    },\n    {\n      \"column\": \"rating\",\n      \"properties\": {\n        \"dtype\": \"number\",\n        \"std\": 1.5665535076243988,\n        \"min\": 1.0,\n        \"max\": 10.0,\n        \"num_unique_values\": 36,\n        \"samples\": [\n          6.9,\n          5.0,\n          2.9\n        ],\n        \"semantic_type\": \"\",\n        \"description\": \"\"\n      }\n    },\n    {\n      \"column\": \"review_text\",\n      \"properties\": {\n        \"dtype\": \"string\",\n        \"num_unique_values\": 18501,\n        \"samples\": [\n          \"Breakfast 18 EUR per person is ridiculous.\",\n          \"Room wasn\\u2019t clean and it was very very cold inside( we were at December), because condition didn\\u2019t work.,\\n\\nGreat location, 25 minutes by foot to the city center.\",\n          \"Nothing really, very nice all round\"\n        ],\n        \"semantic_type\": \"\",\n        \"description\": \"\"\n      }\n    },\n    {\n      \"column\": \"raw_review_text\",\n      \"properties\": {\n        \"dtype\": \"string\",\n        \"num_unique_values\": 18352,\n        \"samples\": [\n          \"<p class=\\\"review_pos \\\"><svg aria-label=\\\"Positive point\\\" class=\\\"bk-icon -fonticon-plus review_item_icon\\\" fill=\\\"#008009\\\" height=\\\"14\\\" role=\\\"img\\\" width=\\\"14\\\" viewbox=\\\"0 0 32 32\\\" aria-hidden=\\\"true\\\" focusable=\\\"false\\\">\\n  <path d=\\\"M32 16c0 8.836-7.162 16-16 16-8.834 0-16-5.74-16-16C0 6.451 7.166 0 16 0c8.838 0 16 7.162 16 16zm-6.4-2.585c0-.369-.031-.616-.4-.616h-5.998V7.018c0-.369-.297-.62-.666-.62h-5.068c-.369 0-.666.251-.666.62v5.781H6.901c-.369 0-.499.247-.499.616v5.118c0 .369.132.666.499.666H12.8v5.833c0 .369.297.565.666.565h5.068c.369 0 .666-.196.666-.565v-5.833h5.998c.369 0 .4-.297.4-.666v-5.118z\\\"></path>\\n</svg><span itemprop=\\\"reviewBody\\\">Food was very of a very good standard!</span></p>\",\n          \"<p class=\\\"review_pos \\\"><svg aria-label=\\\"Positive point\\\" class=\\\"bk-icon -fonticon-plus review_item_icon\\\" fill=\\\"#008009\\\" height=\\\"14\\\" role=\\\"img\\\" width=\\\"14\\\" viewbox=\\\"0 0 32 32\\\" aria-hidden=\\\"true\\\" focusable=\\\"false\\\">\\n  <path d=\\\"M32 16c0 8.836-7.162 16-16 16-8.834 0-16-5.74-16-16C0 6.451 7.166 0 16 0c8.838 0 16 7.162 16 16zm-6.4-2.585c0-.369-.031-.616-.4-.616h-5.998V7.018c0-.369-.297-.62-.666-.62h-5.068c-.369 0-.666.251-.666.62v5.781H6.901c-.369 0-.499.247-.499.616v5.118c0 .369.132.666.499.666H12.8v5.833c0 .369.297.565.666.565h5.068c.369 0 .666-.196.666-.565v-5.833h5.998c.369 0 .4-.297.4-.666v-5.118z\\\"></path>\\n</svg><span itemprop=\\\"reviewBody\\\">Friendly and helpful staff. Good breakfast. Good advice. Bike rental.</span></p>\",\n          \"<p class=\\\"review_pos \\\"><svg aria-label=\\\"Positive point\\\" class=\\\"bk-icon -fonticon-plus review_item_icon\\\" fill=\\\"#008009\\\" height=\\\"14\\\" role=\\\"img\\\" width=\\\"14\\\" viewbox=\\\"0 0 32 32\\\" aria-hidden=\\\"true\\\" focusable=\\\"false\\\">\\n  <path d=\\\"M32 16c0 8.836-7.162 16-16 16-8.834 0-16-5.74-16-16C0 6.451 7.166 0 16 0c8.838 0 16 7.162 16 16zm-6.4-2.585c0-.369-.031-.616-.4-.616h-5.998V7.018c0-.369-.297-.62-.666-.62h-5.068c-.369 0-.666.251-.666.62v5.781H6.901c-.369 0-.499.247-.499.616v5.118c0 .369.132.666.499.666H12.8v5.833c0 .369.297.565.666.565h5.068c.369 0 .666-.196.666-.565v-5.833h5.998c.369 0 .4-.297.4-.666v-5.118z\\\"></path>\\n</svg><span itemprop=\\\"reviewBody\\\">Wonderful, Fabulous, attention to every detail, and host friendly, helpful, and made a healthy breakfast as well. accommodations exceeded expectation w nice linens, computer, espresso machine in room, &amp; grand shower.  Felt Very luxurious, calm, comfortable space to just be. Within walking distance of all the sites.</span></p>\"\n        ],\n        \"semantic_type\": \"\",\n        \"description\": \"\"\n      }\n    },\n    {\n      \"column\": \"tags\",\n      \"properties\": {\n        \"dtype\": \"category\",\n        \"num_unique_values\": 8082,\n        \"samples\": [\n          \"Leisure trip~Solo traveller~Studio (2 Adults)~Stayed 4 nights~Submitted via mobile\",\n          \"Business trip~Group~Superior Double Room~Stayed 4 nights~Submitted via mobile\",\n          \"Leisure trip~Couple~Comfort Double Room~Stayed 4 nights\"\n        ],\n        \"semantic_type\": \"\",\n        \"description\": \"\"\n      }\n    },\n    {\n      \"column\": \"meta\",\n      \"properties\": {\n        \"dtype\": \"category\",\n        \"num_unique_values\": 1,\n        \"samples\": [\n          \"{'language': 'en-gb', 'source': 'https://www.booking.com'}\"\n        ],\n        \"semantic_type\": \"\",\n        \"description\": \"\"\n      }\n    }\n  ]\n}"
            }
          },
          "metadata": {},
          "execution_count": 11
        }
      ]
    },
    {
      "cell_type": "code",
      "source": [
        "# Handle potential NaN values for comparison between raw_review_text and review_text\n",
        "# For this I fill NaN with a placeholder string to avoid issues, as NaN != NaN\n",
        "df_temp = df.fillna({'review_text': '', 'raw_review_text': ''}).copy()\n",
        "\n",
        "# Count how many rows have identical content\n",
        "identical_reviews = (df_temp['review_text'] == df_temp['raw_review_text']).sum()\n",
        "# Only count rows where both are non-null\n",
        "total_reviews_comparable = len(df_temp) - df_temp['review_text'].isnull().sum() - df_temp['raw_review_text'].isnull().sum()\n",
        "\n",
        "print(f\"Number of reviews where 'review_text' and 'raw_review_text' are identical (after filling NaN): {identical_reviews}\")\n",
        "print(f\"Total comparable reviews (where both are non-null): {total_reviews_comparable}\")\n",
        "print(f\"Percentage identical: {((identical_reviews / total_reviews_comparable) * 100):.2f}%\")"
      ],
      "metadata": {
        "colab": {
          "base_uri": "https://localhost:8080/"
        },
        "id": "M4C-3JA2oZPS",
        "outputId": "1f6b0698-e157-4cd8-d08c-871c005da73d"
      },
      "id": "M4C-3JA2oZPS",
      "execution_count": 12,
      "outputs": [
        {
          "output_type": "stream",
          "name": "stdout",
          "text": [
            "Number of reviews where 'review_text' and 'raw_review_text' are identical (after filling NaN): 289\n",
            "Total comparable reviews (where both are non-null): 26675\n",
            "Percentage identical: 1.08%\n"
          ]
        }
      ]
    },
    {
      "cell_type": "markdown",
      "source": [
        "Given that only 1.08% of review_text and raw_review_text are identical,this indicates significant differences between the two. Because of this it's crucial to understand the nature of these disparities before deciding which column to retain for further analysis."
      ],
      "metadata": {
        "id": "4TkfCqWXpmUe"
      },
      "id": "4TkfCqWXpmUe"
    },
    {
      "cell_type": "code",
      "source": [
        "# Calculate the length of 'review_text' and 'raw_review_text'\n",
        "df_temp['review_text_len'] = df_temp['review_text'].apply(len)\n",
        "df_temp['raw_review_text_len'] = df_temp['raw_review_text'].apply(len)\n",
        "\n",
        "# Look at descriptive statistics of lengths\n",
        "print(\"\\nDescriptive statistics for 'review_text' length:\")\n",
        "print(df_temp['review_text_len'].describe())\n",
        "\n",
        "print(\"\\nDescriptive statistics for 'raw_review_text' length:\")\n",
        "print(df_temp['raw_review_text_len'].describe())\n",
        "\n",
        "# Check for rows where one is significantly longer than the other (e.g., >20 characters difference)\n",
        "print(\"\\n--- Examples where review_text is MUCH longer (diff > 20 chars) ---\")\n",
        "longer_review_text_diff = df_temp[df_temp['review_text_len'] - df_temp['raw_review_text_len'] > 20]\n",
        "print(f\"Number of such rows: {len(longer_review_text_diff)}\")\n",
        "if not longer_review_text_diff.empty:\n",
        "    print(longer_review_text_diff[['review_text', 'raw_review_text']].head(3).to_string())\n",
        "\n",
        "print(\"\\n--- Examples where raw_review_text is MUCH longer (diff > 20 chars) ---\")\n",
        "longer_raw_review_text_diff = df_temp[df_temp['raw_review_text_len'] - df_temp['review_text_len'] > 20]\n",
        "print(f\"Number of such rows: {len(longer_raw_review_text_diff)}\")\n",
        "if not longer_raw_review_text_diff.empty:\n",
        "    print(longer_raw_review_text_diff[['review_text', 'raw_review_text']].head(3).to_string())"
      ],
      "metadata": {
        "colab": {
          "base_uri": "https://localhost:8080/"
        },
        "id": "UW7eyV6zoZR6",
        "outputId": "c71efea5-84fe-4452-b2f9-d106d0123f12"
      },
      "id": "UW7eyV6zoZR6",
      "execution_count": 13,
      "outputs": [
        {
          "output_type": "stream",
          "name": "stdout",
          "text": [
            "\n",
            "Descriptive statistics for 'review_text' length:\n",
            "count    26675.000000\n",
            "mean       160.166111\n",
            "std        201.930996\n",
            "min          0.000000\n",
            "25%         47.000000\n",
            "50%         78.000000\n",
            "75%        204.000000\n",
            "max       3368.000000\n",
            "Name: review_text_len, dtype: float64\n",
            "\n",
            "Descriptive statistics for 'raw_review_text' length:\n",
            "count    26675.000000\n",
            "mean       782.758163\n",
            "std        547.427211\n",
            "min          0.000000\n",
            "25%         83.000000\n",
            "50%        837.000000\n",
            "75%       1193.000000\n",
            "max       4392.000000\n",
            "Name: raw_review_text_len, dtype: float64\n",
            "\n",
            "--- Examples where review_text is MUCH longer (diff > 20 chars) ---\n",
            "Number of such rows: 149\n",
            "                                                                                           review_text raw_review_text\n",
            "54   Very clean and warm chalet. Friendly hosts willing to help and provide everything that is needed.                \n",
            "75                                                                           Vicinity to train station                \n",
            "241                                                         good hi-tech hotel with a private parking.                \n",
            "\n",
            "--- Examples where raw_review_text is MUCH longer (diff > 20 chars) ---\n",
            "Number of such rows: 26202\n",
            "                                                                                                                                  review_text                                                                                                                                                                                                                                                                                                                                                                                                                                                                                                                                                                                                                                                                                                                                                                                                                                                                                                                                                                                                                                                                                                                                                                                             raw_review_text\n",
            "0                                                                                         Everything was perfect! Quite, cozy place to relax.                                                                                                                                                                                                                                                                                                                                                                                                                                                                        <p class=\"review_pos \"><svg aria-label=\"Positive point\" class=\"bk-icon -fonticon-plus review_item_icon\" fill=\"#008009\" height=\"14\" role=\"img\" width=\"14\" viewbox=\"0 0 32 32\" aria-hidden=\"true\" focusable=\"false\">\\n  <path d=\"M32 16c0 8.836-7.162 16-16 16-8.834 0-16-5.74-16-16C0 6.451 7.166 0 16 0c8.838 0 16 7.162 16 16zm-6.4-2.585c0-.369-.031-.616-.4-.616h-5.998V7.018c0-.369-.297-.62-.666-.62h-5.068c-.369 0-.666.251-.666.62v5.781H6.901c-.369 0-.499.247-.499.616v5.118c0 .369.132.666.499.666H12.8v5.833c0 .369.297.565.666.565h5.068c.369 0 .666-.196.666-.565v-5.833h5.998c.369 0 .4-.297.4-.666v-5.118z\"></path>\\n</svg><span itemprop=\"reviewBody\">Everything was perfect! Quite, cozy place to relax.</span></p>\n",
            "1                                                                                                   Very friendly host and perfect breakfast!                                                                                                                                                                                                                                                                                                                                                                                                                                                                                  <p class=\"review_pos \"><svg aria-label=\"Positive point\" class=\"bk-icon -fonticon-plus review_item_icon\" fill=\"#008009\" height=\"14\" role=\"img\" width=\"14\" viewbox=\"0 0 32 32\" aria-hidden=\"true\" focusable=\"false\">\\n  <path d=\"M32 16c0 8.836-7.162 16-16 16-8.834 0-16-5.74-16-16C0 6.451 7.166 0 16 0c8.838 0 16 7.162 16 16zm-6.4-2.585c0-.369-.031-.616-.4-.616h-5.998V7.018c0-.369-.297-.62-.666-.62h-5.068c-.369 0-.666.251-.666.62v5.781H6.901c-.369 0-.499.247-.499.616v5.118c0 .369.132.666.499.666H12.8v5.833c0 .369.297.565.666.565h5.068c.369 0 .666-.196.666-.565v-5.833h5.998c.369 0 .4-.297.4-.666v-5.118z\"></path>\\n</svg><span itemprop=\"reviewBody\">Very friendly host and perfect breakfast!</span></p>\n",
            "2  It was just what we wanted for a week by the beach in winter,\\n\\nLocation was fab, apartment quiet and very well-equipped. Spotless clean.  <p class=\"review_neg \"><svg aria-label=\"Negative point\" class=\"bk-icon -fonticon-removecircle review_item_icon\" fill=\"#BDBDBD\" height=\"14\" role=\"img\" width=\"14\" viewbox=\"0 0 32 32\" aria-hidden=\"true\" focusable=\"false\"><path d=\"m16 0c-8.84 0-16 7.16-16 16s7.16 16 16 16 16-7.16 16-16-7.16-16-16-16zm8 17.6h-16v-3.2h16z\"></path></svg><span itemprop=\"reviewBody\">It was just what we wanted for a week by the beach in winter</span></p>,<p class=\"review_pos \"><svg aria-label=\"Positive point\" class=\"bk-icon -fonticon-plus review_item_icon\" fill=\"#008009\" height=\"14\" role=\"img\" width=\"14\" viewbox=\"0 0 32 32\" aria-hidden=\"true\" focusable=\"false\">\\n  <path d=\"M32 16c0 8.836-7.162 16-16 16-8.834 0-16-5.74-16-16C0 6.451 7.166 0 16 0c8.838 0 16 7.162 16 16zm-6.4-2.585c0-.369-.031-.616-.4-.616h-5.998V7.018c0-.369-.297-.62-.666-.62h-5.068c-.369 0-.666.251-.666.62v5.781H6.901c-.369 0-.499.247-.499.616v5.118c0 .369.132.666.499.666H12.8v5.833c0 .369.297.565.666.565h5.068c.369 0 .666-.196.666-.565v-5.833h5.998c.369 0 .4-.297.4-.666v-5.118z\"></path>\\n</svg><span itemprop=\"reviewBody\">Location was fab, apartment quiet and very well-equipped. Spotless clean.</span></p>\n"
          ]
        }
      ]
    },
    {
      "cell_type": "code",
      "source": [
        "# Find a few rows where they are different (and both non-empty) for manual inspection\n",
        "diff_reviews_sample = df_temp[(df_temp['review_text'] != df_temp['raw_review_text']) &\n",
        "                              (df_temp['review_text'] != '') & (df_temp['raw_review_text'] != '')].sample(min(5, len(df_temp))).copy()\n",
        "\n",
        "print(\"\\n--- Detailed Examples of Differences (5 random samples) ---\")\n",
        "for index, row in diff_reviews_sample.iterrows():\n",
        "    print(f\"\\nRow Index: {index}\")\n",
        "    print(f\"review_text:     '{row['review_text']}'\")\n",
        "    print(f\"raw_review_text: '{row['raw_review_text']}'\")\n",
        "    print(\"-\" * 50)"
      ],
      "metadata": {
        "colab": {
          "base_uri": "https://localhost:8080/"
        },
        "id": "dLroB-bBoZUp",
        "outputId": "da0811e2-a1bf-4946-be63-f19417c649e1"
      },
      "id": "dLroB-bBoZUp",
      "execution_count": 14,
      "outputs": [
        {
          "output_type": "stream",
          "name": "stdout",
          "text": [
            "\n",
            "--- Detailed Examples of Differences (5 random samples) ---\n",
            "\n",
            "Row Index: 17114\n",
            "review_text:     'There are no comments available for this review'\n",
            "raw_review_text: '<p class=\"review_none\"><em>There are no comments available for this review</em></p>'\n",
            "--------------------------------------------------\n",
            "\n",
            "Row Index: 1887\n",
            "review_text:     'Nothing ,\n",
            "\n",
            "Excellent location, right along side the E40, with ample safe parking. Welcomed by friendly attentive staff, the room was large, warm and clean. Beds and shower were excellent. Food was also good. I can’t fault this hotel. It is excellent !'\n",
            "raw_review_text: '<p class=\"review_neg \"><svg aria-label=\"Negative point\" class=\"bk-icon -fonticon-removecircle review_item_icon\" fill=\"#BDBDBD\" height=\"14\" role=\"img\" width=\"14\" viewbox=\"0 0 32 32\" aria-hidden=\"true\" focusable=\"false\"><path d=\"m16 0c-8.84 0-16 7.16-16 16s7.16 16 16 16 16-7.16 16-16-7.16-16-16-16zm8 17.6h-16v-3.2h16z\"></path></svg><span itemprop=\"reviewBody\">Nothing </span></p>,<p class=\"review_pos \"><svg aria-label=\"Positive point\" class=\"bk-icon -fonticon-plus review_item_icon\" fill=\"#008009\" height=\"14\" role=\"img\" width=\"14\" viewbox=\"0 0 32 32\" aria-hidden=\"true\" focusable=\"false\">\n",
            "  <path d=\"M32 16c0 8.836-7.162 16-16 16-8.834 0-16-5.74-16-16C0 6.451 7.166 0 16 0c8.838 0 16 7.162 16 16zm-6.4-2.585c0-.369-.031-.616-.4-.616h-5.998V7.018c0-.369-.297-.62-.666-.62h-5.068c-.369 0-.666.251-.666.62v5.781H6.901c-.369 0-.499.247-.499.616v5.118c0 .369.132.666.499.666H12.8v5.833c0 .369.297.565.666.565h5.068c.369 0 .666-.196.666-.565v-5.833h5.998c.369 0 .4-.297.4-.666v-5.118z\"></path>\n",
            "</svg><span itemprop=\"reviewBody\">Excellent location, right along side the E40, with ample safe parking. Welcomed by friendly attentive staff, the room was large, warm and clean. Beds and shower were excellent. Food was also good. I can’t fault this hotel. It is excellent ! </span></p>'\n",
            "--------------------------------------------------\n",
            "\n",
            "Row Index: 2960\n",
            "review_text:     'The noise. We knew it was above a restaurant but we were still suprised by just how loud it was.,\n",
            "\n",
            "Beautiful spacious apartment in a very good location.'\n",
            "raw_review_text: '<p class=\"review_neg \"><svg aria-label=\"Negative point\" class=\"bk-icon -fonticon-removecircle review_item_icon\" fill=\"#BDBDBD\" height=\"14\" role=\"img\" width=\"14\" viewbox=\"0 0 32 32\" aria-hidden=\"true\" focusable=\"false\"><path d=\"m16 0c-8.84 0-16 7.16-16 16s7.16 16 16 16 16-7.16 16-16-7.16-16-16-16zm8 17.6h-16v-3.2h16z\"></path></svg><span itemprop=\"reviewBody\">The noise. We knew it was above a restaurant but we were still suprised by just how loud it was.</span></p>,<p class=\"review_pos \"><svg aria-label=\"Positive point\" class=\"bk-icon -fonticon-plus review_item_icon\" fill=\"#008009\" height=\"14\" role=\"img\" width=\"14\" viewbox=\"0 0 32 32\" aria-hidden=\"true\" focusable=\"false\">\n",
            "  <path d=\"M32 16c0 8.836-7.162 16-16 16-8.834 0-16-5.74-16-16C0 6.451 7.166 0 16 0c8.838 0 16 7.162 16 16zm-6.4-2.585c0-.369-.031-.616-.4-.616h-5.998V7.018c0-.369-.297-.62-.666-.62h-5.068c-.369 0-.666.251-.666.62v5.781H6.901c-.369 0-.499.247-.499.616v5.118c0 .369.132.666.499.666H12.8v5.833c0 .369.297.565.666.565h5.068c.369 0 .666-.196.666-.565v-5.833h5.998c.369 0 .4-.297.4-.666v-5.118z\"></path>\n",
            "</svg><span itemprop=\"reviewBody\">Beautiful spacious apartment in a very good location. </span></p>'\n",
            "--------------------------------------------------\n",
            "\n",
            "Row Index: 24013\n",
            "review_text:     'There are no comments available for this review'\n",
            "raw_review_text: '<p class=\"review_none\"><em>There are no comments available for this review</em></p>'\n",
            "--------------------------------------------------\n",
            "\n",
            "Row Index: 9229\n",
            "review_text:     'There are no comments available for this review'\n",
            "raw_review_text: '<p class=\"review_none\"><em>There are no comments available for this review</em></p>'\n",
            "--------------------------------------------------\n"
          ]
        }
      ]
    },
    {
      "cell_type": "code",
      "source": [
        "# Displaying the first few non-null entries\n",
        "print(\"First 10 non-null entries in 'meta' column:\")\n",
        "print(df['meta'].dropna().head(10).tolist())\n",
        "\n",
        "# Displaying a random sample\n",
        "print(\"\\n10 random non-null entries in 'meta' column:\")\n",
        "print(df['meta'].dropna().sample(10).tolist())"
      ],
      "metadata": {
        "colab": {
          "base_uri": "https://localhost:8080/"
        },
        "id": "agY45fGboZXg",
        "outputId": "5669ab55-94fd-463e-f93c-54aeb4e854ae"
      },
      "id": "agY45fGboZXg",
      "execution_count": 15,
      "outputs": [
        {
          "output_type": "stream",
          "name": "stdout",
          "text": [
            "First 10 non-null entries in 'meta' column:\n",
            "[\"{'language': 'en-gb', 'source': 'https://www.booking.com'}\", \"{'language': 'en-gb', 'source': 'https://www.booking.com'}\", \"{'language': 'en-gb', 'source': 'https://www.booking.com'}\", \"{'language': 'en-gb', 'source': 'https://www.booking.com'}\", \"{'language': 'en-gb', 'source': 'https://www.booking.com'}\", \"{'language': 'en-gb', 'source': 'https://www.booking.com'}\", \"{'language': 'en-gb', 'source': 'https://www.booking.com'}\", \"{'language': 'en-gb', 'source': 'https://www.booking.com'}\", \"{'language': 'en-gb', 'source': 'https://www.booking.com'}\", \"{'language': 'en-gb', 'source': 'https://www.booking.com'}\"]\n",
            "\n",
            "10 random non-null entries in 'meta' column:\n",
            "[\"{'language': 'en-gb', 'source': 'https://www.booking.com'}\", \"{'language': 'en-gb', 'source': 'https://www.booking.com'}\", \"{'language': 'en-gb', 'source': 'https://www.booking.com'}\", \"{'language': 'en-gb', 'source': 'https://www.booking.com'}\", \"{'language': 'en-gb', 'source': 'https://www.booking.com'}\", \"{'language': 'en-gb', 'source': 'https://www.booking.com'}\", \"{'language': 'en-gb', 'source': 'https://www.booking.com'}\", \"{'language': 'en-gb', 'source': 'https://www.booking.com'}\", \"{'language': 'en-gb', 'source': 'https://www.booking.com'}\", \"{'language': 'en-gb', 'source': 'https://www.booking.com'}\"]\n"
          ]
        }
      ]
    },
    {
      "cell_type": "markdown",
      "source": [
        "Based on the above checks, I will be dropping the following columns that are not relevant for this analysis:\n",
        "\n",
        "1. index: Redundant DataFrame index.\n",
        "\n",
        "2. images: Too sparse, and image analysis is out of scope for this analysis as we are using text for hotel rating prediction.\n",
        "\n",
        "3. crawled_at: Irrelevant timestamp for this analysis as this is when the review was crawled from the site.\n",
        "\n",
        "4. url: Unique identifier for the review page, no predictive power.\n",
        "\n",
        "5. hotel_url: Unique identifier for the hotel page, but this becomes redundant if hotel_name or hotel_id is used.\n",
        "\n",
        "6. meta: content is consistently redundant, specifying 'en-gb' language and 'booking.com' source, and therefore provides no unique or discriminative information for this analysis.\n",
        "\n",
        "7. review_text: as it seems to be a simplified version of raw_review_text and is better to keep the columns with full information to better extract richer features for the analysis."
      ],
      "metadata": {
        "id": "wnv7C5Fdp8aR"
      },
      "id": "wnv7C5Fdp8aR"
    },
    {
      "cell_type": "code",
      "source": [
        "# Dropping unnecesary columns\n",
        "# Create a list of columns to drop\n",
        "columns_to_drop = ['index', 'images', 'crawled_at', 'url', 'hotel_url', 'meta', 'review_text']\n",
        "\n",
        "# Perform the drop operation\n",
        "df_cleaned = df.drop(columns=columns_to_drop, errors='ignore')\n",
        "\n",
        "# Inspecting new dataframe\n",
        "df_cleaned.info()"
      ],
      "metadata": {
        "colab": {
          "base_uri": "https://localhost:8080/"
        },
        "id": "-9HCOMOdoZat",
        "outputId": "b8121e34-6b55-4966-9678-0c675398636b"
      },
      "id": "-9HCOMOdoZat",
      "execution_count": 16,
      "outputs": [
        {
          "output_type": "stream",
          "name": "stdout",
          "text": [
            "<class 'pandas.core.frame.DataFrame'>\n",
            "RangeIndex: 26675 entries, 0 to 26674\n",
            "Data columns (total 9 columns):\n",
            " #   Column           Non-Null Count  Dtype  \n",
            "---  ------           --------------  -----  \n",
            " 0   review_title     26674 non-null  object \n",
            " 1   reviewed_at      26570 non-null  object \n",
            " 2   reviewed_by      26570 non-null  object \n",
            " 3   hotel_name       26386 non-null  object \n",
            " 4   avg_rating       26386 non-null  float64\n",
            " 5   nationality      26370 non-null  object \n",
            " 6   rating           26386 non-null  float64\n",
            " 7   raw_review_text  26202 non-null  object \n",
            " 8   tags             26202 non-null  object \n",
            "dtypes: float64(2), object(7)\n",
            "memory usage: 1.8+ MB\n"
          ]
        }
      ]
    },
    {
      "cell_type": "code",
      "source": [
        "#Initial Missing Value Overview\n",
        "df_cleaned.isnull().sum()"
      ],
      "metadata": {
        "colab": {
          "base_uri": "https://localhost:8080/",
          "height": 366
        },
        "id": "w89emybNoZd2",
        "outputId": "d1815a84-169c-4bc8-8475-1e42a348403d"
      },
      "id": "w89emybNoZd2",
      "execution_count": 17,
      "outputs": [
        {
          "output_type": "execute_result",
          "data": {
            "text/plain": [
              "review_title         1\n",
              "reviewed_at        105\n",
              "reviewed_by        105\n",
              "hotel_name         289\n",
              "avg_rating         289\n",
              "nationality        305\n",
              "rating             289\n",
              "raw_review_text    473\n",
              "tags               473\n",
              "dtype: int64"
            ],
            "text/html": [
              "<div>\n",
              "<style scoped>\n",
              "    .dataframe tbody tr th:only-of-type {\n",
              "        vertical-align: middle;\n",
              "    }\n",
              "\n",
              "    .dataframe tbody tr th {\n",
              "        vertical-align: top;\n",
              "    }\n",
              "\n",
              "    .dataframe thead th {\n",
              "        text-align: right;\n",
              "    }\n",
              "</style>\n",
              "<table border=\"1\" class=\"dataframe\">\n",
              "  <thead>\n",
              "    <tr style=\"text-align: right;\">\n",
              "      <th></th>\n",
              "      <th>0</th>\n",
              "    </tr>\n",
              "  </thead>\n",
              "  <tbody>\n",
              "    <tr>\n",
              "      <th>review_title</th>\n",
              "      <td>1</td>\n",
              "    </tr>\n",
              "    <tr>\n",
              "      <th>reviewed_at</th>\n",
              "      <td>105</td>\n",
              "    </tr>\n",
              "    <tr>\n",
              "      <th>reviewed_by</th>\n",
              "      <td>105</td>\n",
              "    </tr>\n",
              "    <tr>\n",
              "      <th>hotel_name</th>\n",
              "      <td>289</td>\n",
              "    </tr>\n",
              "    <tr>\n",
              "      <th>avg_rating</th>\n",
              "      <td>289</td>\n",
              "    </tr>\n",
              "    <tr>\n",
              "      <th>nationality</th>\n",
              "      <td>305</td>\n",
              "    </tr>\n",
              "    <tr>\n",
              "      <th>rating</th>\n",
              "      <td>289</td>\n",
              "    </tr>\n",
              "    <tr>\n",
              "      <th>raw_review_text</th>\n",
              "      <td>473</td>\n",
              "    </tr>\n",
              "    <tr>\n",
              "      <th>tags</th>\n",
              "      <td>473</td>\n",
              "    </tr>\n",
              "  </tbody>\n",
              "</table>\n",
              "</div><br><label><b>dtype:</b> int64</label>"
            ]
          },
          "metadata": {},
          "execution_count": 17
        }
      ]
    },
    {
      "cell_type": "markdown",
      "source": [
        "Before analyzing the distribution of our target variable 'rating', it's crucial to address its missing values. As observed, the rating column contains 289 missing entries. For supervised learning, every data point used in the target distribution analysis and model training must have a defined target value.\n",
        "\n",
        "Therefore, I made the decision to drop all rows where the rating value was NaN. This ensures the integrity of our target variable. Given this drop accounts for only about 1.08% of our total dataset, the data loss is minimal and justified to maintain data quality for supervised learning."
      ],
      "metadata": {
        "id": "jx1ney9uqAp4"
      },
      "id": "jx1ney9uqAp4"
    },
    {
      "cell_type": "code",
      "source": [
        "# Dropping NAN from target variable 'rating'\n",
        "df_cleaned = df_cleaned.dropna(subset=['rating']).copy()"
      ],
      "metadata": {
        "id": "zw2jYlHaoZgj"
      },
      "id": "zw2jYlHaoZgj",
      "execution_count": 18,
      "outputs": []
    },
    {
      "cell_type": "code",
      "source": [
        "# Additional Missing Value Overview\n",
        "df_cleaned.isnull().sum()"
      ],
      "metadata": {
        "colab": {
          "base_uri": "https://localhost:8080/",
          "height": 366
        },
        "id": "DROpvEkhoZjb",
        "outputId": "424f3115-0021-4ddd-a766-1459c3f02b51"
      },
      "id": "DROpvEkhoZjb",
      "execution_count": 19,
      "outputs": [
        {
          "output_type": "execute_result",
          "data": {
            "text/plain": [
              "review_title         1\n",
              "reviewed_at          0\n",
              "reviewed_by          0\n",
              "hotel_name           0\n",
              "avg_rating           0\n",
              "nationality         16\n",
              "rating               0\n",
              "raw_review_text    184\n",
              "tags               184\n",
              "dtype: int64"
            ],
            "text/html": [
              "<div>\n",
              "<style scoped>\n",
              "    .dataframe tbody tr th:only-of-type {\n",
              "        vertical-align: middle;\n",
              "    }\n",
              "\n",
              "    .dataframe tbody tr th {\n",
              "        vertical-align: top;\n",
              "    }\n",
              "\n",
              "    .dataframe thead th {\n",
              "        text-align: right;\n",
              "    }\n",
              "</style>\n",
              "<table border=\"1\" class=\"dataframe\">\n",
              "  <thead>\n",
              "    <tr style=\"text-align: right;\">\n",
              "      <th></th>\n",
              "      <th>0</th>\n",
              "    </tr>\n",
              "  </thead>\n",
              "  <tbody>\n",
              "    <tr>\n",
              "      <th>review_title</th>\n",
              "      <td>1</td>\n",
              "    </tr>\n",
              "    <tr>\n",
              "      <th>reviewed_at</th>\n",
              "      <td>0</td>\n",
              "    </tr>\n",
              "    <tr>\n",
              "      <th>reviewed_by</th>\n",
              "      <td>0</td>\n",
              "    </tr>\n",
              "    <tr>\n",
              "      <th>hotel_name</th>\n",
              "      <td>0</td>\n",
              "    </tr>\n",
              "    <tr>\n",
              "      <th>avg_rating</th>\n",
              "      <td>0</td>\n",
              "    </tr>\n",
              "    <tr>\n",
              "      <th>nationality</th>\n",
              "      <td>16</td>\n",
              "    </tr>\n",
              "    <tr>\n",
              "      <th>rating</th>\n",
              "      <td>0</td>\n",
              "    </tr>\n",
              "    <tr>\n",
              "      <th>raw_review_text</th>\n",
              "      <td>184</td>\n",
              "    </tr>\n",
              "    <tr>\n",
              "      <th>tags</th>\n",
              "      <td>184</td>\n",
              "    </tr>\n",
              "  </tbody>\n",
              "</table>\n",
              "</div><br><label><b>dtype:</b> int64</label>"
            ]
          },
          "metadata": {},
          "execution_count": 19
        }
      ]
    },
    {
      "cell_type": "markdown",
      "source": [
        "The additional missing values will be managed later in the Data processing part."
      ],
      "metadata": {
        "id": "J-EMsG5HqGSl"
      },
      "id": "J-EMsG5HqGSl"
    },
    {
      "cell_type": "markdown",
      "source": [
        "### Target Variable Distribution Analysis\n",
        "\n",
        "For this project, the target variable is rating, which mean that I have two different ways to approach the solution:\n",
        "\n",
        "1.   A regression approach by predicting the exact rating\n",
        "2.   A classification approach by converting rating to sentiment categories\n",
        "\n",
        "So in this part, I will conduct a distribution analysis for both, since I have a numerical rating from the Booking.com data I will first approach a solution with a regression problem to predict a numerical rating and then explore the sentiment classification as an alternative."
      ],
      "metadata": {
        "id": "PmvJaencqbFh"
      },
      "id": "PmvJaencqbFh"
    },
    {
      "cell_type": "markdown",
      "source": [
        "#### Rating Prediction (Regression Problem)"
      ],
      "metadata": {
        "id": "5ZYyqGOQqdvP"
      },
      "id": "5ZYyqGOQqdvP"
    },
    {
      "cell_type": "code",
      "source": [
        "#Creating an histogram for the target variable 'rating'\n",
        "rating_column_name = 'rating'\n",
        "\n",
        "plt.figure(figsize=(10, 6))\n",
        "sns.histplot(df_cleaned[rating_column_name], bins=20, kde=True) # Adjust bins if rating scale is very small/large\n",
        "plt.title(f'Distribution of Hotel Ratings (Target Variable)')\n",
        "plt.xlabel('Rating Score')\n",
        "plt.ylabel('Number of Reviews')\n",
        "plt.grid(axis='y', alpha=0.75)\n",
        "plt.show()\n",
        "\n",
        "# Get descriptive statistics for the varible 'rating'\n",
        "print(f\"\\nDescriptive Statistics for '{rating_column_name}':\")\n",
        "print(df_cleaned[rating_column_name].describe())\n",
        "\n",
        "# Check for specific unique values (e.g., 1-10)\n",
        "if df_cleaned[rating_column_name].dtype in ['int64', 'float64']:\n",
        "    print(f\"\\nUnique values in '{rating_column_name}':\")\n",
        "    print(df_cleaned[rating_column_name].unique())\n",
        "    print(f\"\\nValue counts for '{rating_column_name}':\")\n",
        "    print(df_cleaned[rating_column_name].value_counts().sort_index())"
      ],
      "metadata": {
        "colab": {
          "base_uri": "https://localhost:8080/",
          "height": 1000
        },
        "id": "vxUZnNZDptNH",
        "outputId": "5a186114-d3a1-4d16-a717-3239881b9e91"
      },
      "id": "vxUZnNZDptNH",
      "execution_count": 20,
      "outputs": [
        {
          "output_type": "display_data",
          "data": {
            "text/plain": [
              "<Figure size 1000x600 with 1 Axes>"
            ],
            "image/png": "[encoded data removed]"
          },
          "metadata": {}
        },
        {
          "output_type": "stream",
          "name": "stdout",
          "text": [
            "\n",
            "Descriptive Statistics for 'rating':\n",
            "count    26386.000000\n",
            "mean         8.560669\n",
            "std          1.566554\n",
            "min          1.000000\n",
            "25%          7.900000\n",
            "50%          9.000000\n",
            "75%         10.000000\n",
            "max         10.000000\n",
            "Name: rating, dtype: float64\n",
            "\n",
            "Unique values in 'rating':\n",
            "[10.   9.   9.2  8.3  7.5  8.   9.6  8.8  7.9  7.   7.1  6.   6.7  5.\n",
            "  9.5  2.   3.   3.8  4.2  5.8  5.4  1.   4.6  6.3  8.5  3.3  2.9  4.\n",
            "  2.5  4.5  5.5  8.1  3.5  9.4  6.5  6.9]\n",
            "\n",
            "Value counts for 'rating':\n",
            "rating\n",
            "1.0       95\n",
            "2.0       44\n",
            "2.5       55\n",
            "2.9       40\n",
            "3.0       78\n",
            "3.3       67\n",
            "3.5        1\n",
            "3.8       81\n",
            "4.0      104\n",
            "4.2      101\n",
            "4.5        6\n",
            "4.6      162\n",
            "5.0      384\n",
            "5.4      228\n",
            "5.5       12\n",
            "5.8      294\n",
            "6.0      305\n",
            "6.3      400\n",
            "6.5       10\n",
            "6.7      512\n",
            "6.9        1\n",
            "7.0      907\n",
            "7.1      735\n",
            "7.5     1242\n",
            "7.9     1141\n",
            "8.0     2086\n",
            "8.1        1\n",
            "8.3     1393\n",
            "8.5       33\n",
            "8.8     1538\n",
            "9.0     2319\n",
            "9.2     2050\n",
            "9.4        8\n",
            "9.5       57\n",
            "9.6     2463\n",
            "10.0    7433\n",
            "Name: count, dtype: int64\n"
          ]
        }
      ]
    },
    {
      "cell_type": "markdown",
      "source": [
        "Based on the histogram, the key findings are that the 'rating' column is a numerical target with ample data (26386 non-null entries). However, it exhibits a strong positive skew, with a mean of 8.56, and over 75% of ratings are 7.9 or higher, making lower ratings significantly sparse.\n",
        "\n",
        "This skew will cause regression models to be biased towards predicting higher ratings, potentially performing poorly on and underrepresenting the crucial, but rare, lower (negative) ratings.\n",
        "\n",
        "Moving forward with the regression to predict the rating will mean that:\n",
        "\n",
        "*   I will need to prioritize MAE/RMSE for evaluation and analyze errors across rating ranges.\n",
        "*  Employ robust regression models like Gradient Boosting Machines (XGBoost, LightGBM).\n",
        "*   Focus feature engineering on attributes indicative of negative sentiment to aid prediction of sparse low ratings.\n",
        "*   Consider converting to a classification problem by binning ratings if direct regression proves too challenging."
      ],
      "metadata": {
        "id": "VViH_j1Tqj48"
      },
      "id": "VViH_j1Tqj48"
    },
    {
      "cell_type": "markdown",
      "source": [
        "#### Sentiment Classification (Classification Problem derived from rating)"
      ],
      "metadata": {
        "id": "RM5D6a26qmva"
      },
      "id": "RM5D6a26qmva"
    },
    {
      "cell_type": "code",
      "source": [
        "# Define a function to categorize ratings into sentiments\n",
        "# The split for the binary classification was done to try to keep a 50/50 split\n",
        "def derive_binary_sentiment(rating):\n",
        "    if rating >= 9.0:\n",
        "        return 'Positive'\n",
        "    else:\n",
        "        return 'Negative'\n",
        "\n",
        "# Create the new binary sentiment column\n",
        "df_cleaned['sentiment_label'] = df_cleaned[rating_column_name].apply(derive_binary_sentiment)\n",
        "\n",
        "#df_classification['sentiment_label'] = df_classification['rating'].apply(derive_binary_sentiment)\n",
        "\n",
        "# Display the distribution of sentiment labels\n",
        "plt.figure(figsize=(8, 5))\n",
        "sns.countplot(x='sentiment_label', data=df_cleaned, order=['Negative', 'Positive'])\n",
        "plt.title('Distribution of Derived Binary Sentiment Labels (Threshold: 9.0)')\n",
        "plt.xlabel('Sentiment')\n",
        "plt.ylabel('Number of Reviews')\n",
        "plt.show()\n",
        "\n",
        "# Print counts and percentages to quantify imbalance\n",
        "sentiment_counts = df_cleaned['sentiment_label'].value_counts()\n",
        "print(\"\\nDerived Binary Sentiment Label Counts:\")\n",
        "print(sentiment_counts)\n",
        "print(\"\\nDerived Binary Sentiment Label Proportions:\")\n",
        "print((df_cleaned['sentiment_label'].value_counts(normalize=True) * 100).round(2))\n"
      ],
      "metadata": {
        "colab": {
          "base_uri": "https://localhost:8080/",
          "height": 695
        },
        "id": "PTKWZeilptPu",
        "outputId": "58db692c-c117-4e00-f6cd-5d82d2e77768"
      },
      "id": "PTKWZeilptPu",
      "execution_count": 21,
      "outputs": [
        {
          "output_type": "display_data",
          "data": {
            "text/plain": [
              "<Figure size 800x500 with 1 Axes>"
            ],
            "image/png": "[encoded data removed]"
          },
          "metadata": {}
        },
        {
          "output_type": "stream",
          "name": "stdout",
          "text": [
            "\n",
            "Derived Binary Sentiment Label Counts:\n",
            "sentiment_label\n",
            "Positive    14330\n",
            "Negative    12056\n",
            "Name: count, dtype: int64\n",
            "\n",
            "Derived Binary Sentiment Label Proportions:\n",
            "sentiment_label\n",
            "Positive    54.31\n",
            "Negative    45.69\n",
            "Name: proportion, dtype: float64\n"
          ]
        }
      ]
    },
    {
      "cell_type": "markdown",
      "source": [
        "Your rating data was effectively transformed into a well-balanced binary classification target (Positive: 53.72%, Negative: 46.28%) using the rating 9.0 as a threshold. This near-even split mitigates class imbalance issues, aiding robust classifier training and evaluation.\n",
        "\n",
        "The limitations of this split is that, the 9.0 threshold is arbitrary, leading to a loss of original rating granularity where diverse dissatisfaction levels are grouped. Reviews just below 9.0 are categorized with truly negative ones, potentially misrepresenting nuanced sentiment. \"Neutral\" reviews might also fall into \"Negative\" based purely on score.\n",
        "\n",
        "To address the limitations, I will be performing a boundary analysis during model evaluation to understand misclassifications near the 9.0 mark as well a conducting detailed error analysis on miscategorized reviews."
      ],
      "metadata": {
        "id": "vpH_8wtpqq_Q"
      },
      "id": "vpH_8wtpqq_Q"
    },
    {
      "cell_type": "markdown",
      "source": [
        "## Data Processing"
      ],
      "metadata": {
        "id": "qd4jEBhCqu2t"
      },
      "id": "qd4jEBhCqu2t"
    },
    {
      "cell_type": "markdown",
      "source": [
        "### Handling missing values"
      ],
      "metadata": {
        "id": "rVNJxDQwqvdE"
      },
      "id": "rVNJxDQwqvdE"
    },
    {
      "cell_type": "code",
      "source": [
        "# Current missing values\n",
        "df_cleaned.isnull().sum()"
      ],
      "metadata": {
        "colab": {
          "base_uri": "https://localhost:8080/",
          "height": 398
        },
        "id": "Q9f_VShCqulT",
        "outputId": "e6d37fae-1340-41d4-fd3d-6c236047f0e9"
      },
      "id": "Q9f_VShCqulT",
      "execution_count": 22,
      "outputs": [
        {
          "output_type": "execute_result",
          "data": {
            "text/plain": [
              "review_title         1\n",
              "reviewed_at          0\n",
              "reviewed_by          0\n",
              "hotel_name           0\n",
              "avg_rating           0\n",
              "nationality         16\n",
              "rating               0\n",
              "raw_review_text    184\n",
              "tags               184\n",
              "sentiment_label      0\n",
              "dtype: int64"
            ],
            "text/html": [
              "<div>\n",
              "<style scoped>\n",
              "    .dataframe tbody tr th:only-of-type {\n",
              "        vertical-align: middle;\n",
              "    }\n",
              "\n",
              "    .dataframe tbody tr th {\n",
              "        vertical-align: top;\n",
              "    }\n",
              "\n",
              "    .dataframe thead th {\n",
              "        text-align: right;\n",
              "    }\n",
              "</style>\n",
              "<table border=\"1\" class=\"dataframe\">\n",
              "  <thead>\n",
              "    <tr style=\"text-align: right;\">\n",
              "      <th></th>\n",
              "      <th>0</th>\n",
              "    </tr>\n",
              "  </thead>\n",
              "  <tbody>\n",
              "    <tr>\n",
              "      <th>review_title</th>\n",
              "      <td>1</td>\n",
              "    </tr>\n",
              "    <tr>\n",
              "      <th>reviewed_at</th>\n",
              "      <td>0</td>\n",
              "    </tr>\n",
              "    <tr>\n",
              "      <th>reviewed_by</th>\n",
              "      <td>0</td>\n",
              "    </tr>\n",
              "    <tr>\n",
              "      <th>hotel_name</th>\n",
              "      <td>0</td>\n",
              "    </tr>\n",
              "    <tr>\n",
              "      <th>avg_rating</th>\n",
              "      <td>0</td>\n",
              "    </tr>\n",
              "    <tr>\n",
              "      <th>nationality</th>\n",
              "      <td>16</td>\n",
              "    </tr>\n",
              "    <tr>\n",
              "      <th>rating</th>\n",
              "      <td>0</td>\n",
              "    </tr>\n",
              "    <tr>\n",
              "      <th>raw_review_text</th>\n",
              "      <td>184</td>\n",
              "    </tr>\n",
              "    <tr>\n",
              "      <th>tags</th>\n",
              "      <td>184</td>\n",
              "    </tr>\n",
              "    <tr>\n",
              "      <th>sentiment_label</th>\n",
              "      <td>0</td>\n",
              "    </tr>\n",
              "  </tbody>\n",
              "</table>\n",
              "</div><br><label><b>dtype:</b> int64</label>"
            ]
          },
          "metadata": {},
          "execution_count": 22
        }
      ]
    },
    {
      "cell_type": "markdown",
      "source": [
        "We will manage the the missing values for 'review_title', 'nationality', 'raw_review_text' and 'tags' in the following way:\n",
        "\n",
        "1.  review_title: I will add a placeholder \"No Title\" to preserve data. This approach is ideal because only one value is missing, and mean/median/mode imputation isn't suitable for text.\n",
        "2.  nationality: I will fill in the NaNs with the mode so the most frequent nationality. Using the mode is a common and  reasonable approach for categorical features as it preserves the distribution of the existing data as much as possible by assuming the missing values are most likely to belong to the most common category. While it might introduce a slight bias towards the mode, for a small number of missing values (16 in this case), the impact will be minimal.\n",
        "\n",
        "3.  raw_review_text: I will add a placeholder in this case an empty string. In this case an empty String '' is the best option as in an NLP pipeline this will naturally result in no tokens or zero vectors, which is the correct representation for an absent review.\n",
        "\n",
        "4.  tags: I will add a placeholder in this case an empty string.\n"
      ],
      "metadata": {
        "id": "W6PFqeBrq3vJ"
      },
      "id": "W6PFqeBrq3vJ"
    },
    {
      "cell_type": "code",
      "source": [
        "# Review title\n",
        "df_cleaned['review_title'].fillna('No Title', inplace=True)\n",
        "\n",
        "# Nationality\n",
        "most_frequent_nationality = df_cleaned['nationality'].mode()[0]\n",
        "df_cleaned['nationality'].fillna(most_frequent_nationality, inplace=True)\n",
        "\n",
        "# Raw_review_text\n",
        "df_cleaned['raw_review_text'].fillna('', inplace=True)\n",
        "\n",
        "# Tags\n",
        "df_cleaned['tags'].fillna('', inplace=True)"
      ],
      "metadata": {
        "id": "R_ZhNIKCptR7"
      },
      "id": "R_ZhNIKCptR7",
      "execution_count": 23,
      "outputs": []
    },
    {
      "cell_type": "code",
      "source": [
        "# Validating that the missing values were handled\n",
        "df_cleaned.isnull().sum()"
      ],
      "metadata": {
        "colab": {
          "base_uri": "https://localhost:8080/",
          "height": 398
        },
        "id": "DZ2ttvc9ptUV",
        "outputId": "b1c1eb5f-eab3-467c-abb0-81a0b367cf8c"
      },
      "id": "DZ2ttvc9ptUV",
      "execution_count": 24,
      "outputs": [
        {
          "output_type": "execute_result",
          "data": {
            "text/plain": [
              "review_title       0\n",
              "reviewed_at        0\n",
              "reviewed_by        0\n",
              "hotel_name         0\n",
              "avg_rating         0\n",
              "nationality        0\n",
              "rating             0\n",
              "raw_review_text    0\n",
              "tags               0\n",
              "sentiment_label    0\n",
              "dtype: int64"
            ],
            "text/html": [
              "<div>\n",
              "<style scoped>\n",
              "    .dataframe tbody tr th:only-of-type {\n",
              "        vertical-align: middle;\n",
              "    }\n",
              "\n",
              "    .dataframe tbody tr th {\n",
              "        vertical-align: top;\n",
              "    }\n",
              "\n",
              "    .dataframe thead th {\n",
              "        text-align: right;\n",
              "    }\n",
              "</style>\n",
              "<table border=\"1\" class=\"dataframe\">\n",
              "  <thead>\n",
              "    <tr style=\"text-align: right;\">\n",
              "      <th></th>\n",
              "      <th>0</th>\n",
              "    </tr>\n",
              "  </thead>\n",
              "  <tbody>\n",
              "    <tr>\n",
              "      <th>review_title</th>\n",
              "      <td>0</td>\n",
              "    </tr>\n",
              "    <tr>\n",
              "      <th>reviewed_at</th>\n",
              "      <td>0</td>\n",
              "    </tr>\n",
              "    <tr>\n",
              "      <th>reviewed_by</th>\n",
              "      <td>0</td>\n",
              "    </tr>\n",
              "    <tr>\n",
              "      <th>hotel_name</th>\n",
              "      <td>0</td>\n",
              "    </tr>\n",
              "    <tr>\n",
              "      <th>avg_rating</th>\n",
              "      <td>0</td>\n",
              "    </tr>\n",
              "    <tr>\n",
              "      <th>nationality</th>\n",
              "      <td>0</td>\n",
              "    </tr>\n",
              "    <tr>\n",
              "      <th>rating</th>\n",
              "      <td>0</td>\n",
              "    </tr>\n",
              "    <tr>\n",
              "      <th>raw_review_text</th>\n",
              "      <td>0</td>\n",
              "    </tr>\n",
              "    <tr>\n",
              "      <th>tags</th>\n",
              "      <td>0</td>\n",
              "    </tr>\n",
              "    <tr>\n",
              "      <th>sentiment_label</th>\n",
              "      <td>0</td>\n",
              "    </tr>\n",
              "  </tbody>\n",
              "</table>\n",
              "</div><br><label><b>dtype:</b> int64</label>"
            ]
          },
          "metadata": {},
          "execution_count": 24
        }
      ]
    },
    {
      "cell_type": "markdown",
      "source": [
        "### Feature Engineering from Structured Data\n",
        "\n",
        "The goal of this part is to extract more information from existing numerical and categorical features, especially time-related ones, to potentially improve model performance or provide deeper insights."
      ],
      "metadata": {
        "id": "6GEW30n4q-TP"
      },
      "id": "6GEW30n4q-TP"
    },
    {
      "cell_type": "markdown",
      "source": [
        "#### Step 1: Convert reviewed_at to Datetime object\n",
        "\n",
        "Convert reviewed_at in df_cleaned to a pandas datetime object as this allows easy extraction of year, month, day, day of week and facilitates date arithmetic."
      ],
      "metadata": {
        "id": "ahGs4w3wrDby"
      },
      "id": "ahGs4w3wrDby"
    },
    {
      "cell_type": "code",
      "source": [
        "# Convert to datetime\n",
        "df_cleaned['reviewed_at'] = pd.to_datetime(df_cleaned['reviewed_at'])\n"
      ],
      "metadata": {
        "id": "pDi3LcbrptW1"
      },
      "id": "pDi3LcbrptW1",
      "execution_count": 25,
      "outputs": []
    },
    {
      "cell_type": "code",
      "source": [
        "# Now that reviewed_at is a datetime object, I can easily extract various time-based features.\n",
        "# Seasonality: Month, quarter, and day of week can capture seasonal trends in reviews.\n",
        "# Temporal Trends: Year can capture long-term trends or changes.\n",
        "# Recency: review_age_days\n",
        "\n",
        "# Basic features to create\n",
        "df_cleaned['review_year'] = df_cleaned['reviewed_at'].dt.year\n",
        "df_cleaned['review_month'] = df_cleaned['reviewed_at'].dt.month\n",
        "df_cleaned['review_day'] = df_cleaned['reviewed_at'].dt.day\n",
        "df_cleaned['review_day_of_week'] = df_cleaned['reviewed_at'].dt.dayofweek # Monday=0, Sunday=6\n",
        "df_cleaned['review_quarter'] = df_cleaned['reviewed_at'].dt.quarter\n",
        "\n",
        "# Age relative to the latest review date in the dataset\n",
        "latest_review_date = df_cleaned['reviewed_at'].max()\n",
        "df_cleaned['review_age_days'] = (latest_review_date - df_cleaned['reviewed_at']).dt.days\n",
        "\n",
        "print(\"\\nDataFrame after adding time-based features:\")\n",
        "print(df_cleaned[['reviewed_at', 'review_year', 'review_month', 'review_day', 'review_day_of_week', 'review_quarter', 'review_age_days']].head())"
      ],
      "metadata": {
        "colab": {
          "base_uri": "https://localhost:8080/"
        },
        "id": "zdIGKhVZptZU",
        "outputId": "8ce7bba7-f599-41b8-8661-11b4a152187a"
      },
      "id": "zdIGKhVZptZU",
      "execution_count": 26,
      "outputs": [
        {
          "output_type": "stream",
          "name": "stdout",
          "text": [
            "\n",
            "DataFrame after adding time-based features:\n",
            "  reviewed_at  review_year  review_month  review_day  review_day_of_week  \\\n",
            "0  2021-07-11         2021             7          11                   6   \n",
            "1  2019-11-24         2019            11          24                   6   \n",
            "2  2020-01-03         2020             1           3                   4   \n",
            "3  2019-09-08         2019             9           8                   6   \n",
            "4  2019-06-23         2019             6          23                   6   \n",
            "\n",
            "   review_quarter  review_age_days  \n",
            "0               3                8  \n",
            "1               4              603  \n",
            "2               1              563  \n",
            "3               3              680  \n",
            "4               2              757  \n"
          ]
        }
      ]
    },
    {
      "cell_type": "markdown",
      "source": [
        "#### Step 2: Aggregation Features\n",
        "\n",
        "Reviewer centric metrics?"
      ],
      "metadata": {
        "id": "1WFybdwNrcgk"
      },
      "id": "1WFybdwNrcgk"
    },
    {
      "cell_type": "code",
      "source": [
        "#reviewer_stats = df_cleaned.groupby('reviewed_by').agg(reviewer_total_reviews=('reviewed_by', 'count'),reviewer_avg_rating=('rating', 'mean')).reset_index()\n",
        "#df_cleaned = pd.merge(df_cleaned, reviewer_stats, on='reviewed_by', how='left')\n",
        "\n",
        "#print(\"\\nDataFrame after adding aggregation features:\")\n",
        "#print(df_cleaned[['hotel_name', 'rating', 'hotel_avg_rating', 'hotel_total_reviews',\n",
        "#          'reviewed_by', 'reviewer_total_reviews', 'reviewer_avg_rating']].head())"
      ],
      "metadata": {
        "id": "hD8T-IMUptbv"
      },
      "id": "hD8T-IMUptbv",
      "execution_count": 27,
      "outputs": []
    },
    {
      "cell_type": "markdown",
      "source": [
        "### Feature Selection"
      ],
      "metadata": {
        "id": "3-mElPOjrqp1"
      },
      "id": "3-mElPOjrqp1"
    },
    {
      "cell_type": "code",
      "source": [
        "# Define target variable\n",
        "y = df_cleaned['rating']\n",
        "\n",
        "X = df_cleaned.drop(columns=[\n",
        "    'rating', 'reviewed_at', 'review_title', 'raw_review_text', 'tags',\n",
        "    'nationality', 'reviewed_by', 'hotel_name', 'sentiment_label'\n",
        "\n",
        "])\n"
      ],
      "metadata": {
        "id": "1hu0Bnw3pteH"
      },
      "id": "1hu0Bnw3pteH",
      "execution_count": 28,
      "outputs": []
    },
    {
      "cell_type": "code",
      "source": [
        "# Select only numerical columns for correlation calculation\n",
        "numerical_cols = X.select_dtypes(include=np.number).columns\n",
        "\n",
        "# Calculate correlation with the target variable\n",
        "correlations = X[numerical_cols].corrwith(y).sort_values(ascending=False)\n",
        "print(\"\\nCorrelation of numerical features with 'rating':\\n\", correlations)\n",
        "\n",
        "# Visualize correlation matrix among numerical features if you have many\n",
        "plt.figure(figsize=(12, 10))\n",
        "sns.heatmap(X[numerical_cols].corr(), annot=True, cmap='coolwarm', fmt=\".2f\")\n",
        "plt.title('Correlation Matrix of Numerical Features')\n",
        "plt.show()\n"
      ],
      "metadata": {
        "colab": {
          "base_uri": "https://localhost:8080/",
          "height": 1000
        },
        "id": "Zl4Z3hA1ptgm",
        "outputId": "ba473a31-52ad-4fdb-a169-bad4aa8d2c37"
      },
      "id": "Zl4Z3hA1ptgm",
      "execution_count": 29,
      "outputs": [
        {
          "output_type": "stream",
          "name": "stdout",
          "text": [
            "\n",
            "Correlation of numerical features with 'rating':\n",
            " avg_rating            0.470730\n",
            "review_age_days       0.048466\n",
            "review_month          0.012990\n",
            "review_quarter        0.007443\n",
            "review_day           -0.008063\n",
            "review_day_of_week   -0.009854\n",
            "review_year          -0.047088\n",
            "dtype: float64\n"
          ]
        },
        {
          "output_type": "display_data",
          "data": {
            "text/plain": [
              "<Figure size 1200x1000 with 2 Axes>"
            ],
            "image/png": "[encoded data removed]"
          },
          "metadata": {}
        }
      ]
    },
    {
      "cell_type": "markdown",
      "source": [
        "Based on the correlation matrix, we will be dropping the following variables: review_quarter, review_day and review_year. These show extremely low correlation with rating and review_quarter is redundant with review_month. review_year is also redundant with review_age_days. Removing them reduces noise and multicollinearity.\n",
        "\n",
        "I'm keeping review_age_days because even if correlation is low, temporal features can have non-linear impacts or interactions not captured by simple correlation, warranting further evaluation by other methods."
      ],
      "metadata": {
        "id": "ObO1uoCzrwX-"
      },
      "id": "ObO1uoCzrwX-"
    },
    {
      "cell_type": "code",
      "source": [
        "# Columns to drop based on low correlation and redundancy\n",
        "columns_to_drop_now = [\n",
        "    'review_quarter',\n",
        "    'review_day',\n",
        "    'review_year'\n",
        "]\n",
        "\n",
        "# Ensure these columns actually exist in X before dropping\n",
        "existing_columns_to_drop = [col for col in columns_to_drop_now if col in X.columns]\n",
        "\n",
        "if existing_columns_to_drop:\n",
        "    X_filtered = X.drop(columns=existing_columns_to_drop)\n",
        "    print(f\"\\nDropped columns: {existing_columns_to_drop}\")\n",
        "    print(\"\\nFeatures (X_filtered) columns after preliminary drops:\\n\", X_filtered.columns.tolist())\n",
        "    print(\"\\nShape of X_filtered:\", X_filtered.shape)\n",
        "else:\n",
        "    X_filtered = X.copy()\n",
        "    print(\"\\nNo additional columns to drop based on this correlation analysis.\")"
      ],
      "metadata": {
        "colab": {
          "base_uri": "https://localhost:8080/"
        },
        "id": "qRtwB19Gpti_",
        "outputId": "b571f917-e93f-424e-e43c-a41398092c2a"
      },
      "id": "qRtwB19Gpti_",
      "execution_count": 30,
      "outputs": [
        {
          "output_type": "stream",
          "name": "stdout",
          "text": [
            "\n",
            "Dropped columns: ['review_quarter', 'review_day', 'review_year']\n",
            "\n",
            "Features (X_filtered) columns after preliminary drops:\n",
            " ['avg_rating', 'review_month', 'review_day_of_week', 'review_age_days']\n",
            "\n",
            "Shape of X_filtered: (26386, 4)\n"
          ]
        }
      ]
    },
    {
      "cell_type": "code",
      "source": [
        "# F-regression\n",
        "print(\"\\n--- Feature Selection using F-regression (SelectKBest) on X_filtered ---\")\n",
        "selector_f_reg_filtered = SelectKBest(score_func=f_regression, k='all')\n",
        "selector_f_reg_filtered.fit(X_filtered, y)\n",
        "f_scores_filtered = pd.DataFrame({'Feature': X_filtered.columns, 'F-Score': selector_f_reg_filtered.scores_, 'P-value': selector_f_reg_filtered.pvalues_})\n",
        "f_scores_filtered = f_scores_filtered.sort_values(by='F-Score', ascending=False)\n",
        "print(f_scores_filtered)\n",
        "\n",
        "# Mutual Information Regression\n",
        "print(\"\\n--- Feature Selection using Mutual Information Regression (SelectKBest) on X_filtered ---\")\n",
        "selector_mi_filtered = SelectKBest(score_func=mutual_info_regression, k='all')\n",
        "selector_mi_filtered.fit(X_filtered, y)\n",
        "mi_scores_filtered = pd.DataFrame({'Feature': X_filtered.columns, 'Mutual_Info_Score': selector_mi_filtered.scores_})\n",
        "mi_scores_filtered = mi_scores_filtered.sort_values(by='Mutual_Info_Score', ascending=False)\n",
        "print(mi_scores_filtered)"
      ],
      "metadata": {
        "colab": {
          "base_uri": "https://localhost:8080/"
        },
        "id": "C9oRwmn8ptlU",
        "outputId": "c046f8b9-5f19-4595-fab6-e1388b623d6a"
      },
      "id": "C9oRwmn8ptlU",
      "execution_count": 31,
      "outputs": [
        {
          "output_type": "stream",
          "name": "stdout",
          "text": [
            "\n",
            "--- Feature Selection using F-regression (SelectKBest) on X_filtered ---\n",
            "              Feature      F-Score       P-value\n",
            "0          avg_rating  7510.571920  0.000000e+00\n",
            "3     review_age_days    62.121234  3.353500e-15\n",
            "1        review_month     4.452992  3.484954e-02\n",
            "2  review_day_of_week     2.561953  1.094753e-01\n",
            "\n",
            "--- Feature Selection using Mutual Information Regression (SelectKBest) on X_filtered ---\n",
            "              Feature  Mutual_Info_Score\n",
            "3     review_age_days           0.321658\n",
            "0          avg_rating           0.151000\n",
            "1        review_month           0.014561\n",
            "2  review_day_of_week           0.004900\n"
          ]
        }
      ]
    },
    {
      "cell_type": "markdown",
      "source": [
        "Based on the F-regression and Mutual Information scores we will drop and keep the following variables:\n",
        "\n",
        "Drop:\n",
        "\n",
        "1. review_day_of_week: Its F-score is low, and the P-value (0.109) is above the 0.05 significance threshold. The Mutual Information score is also extremely low (0.006). This indicates it has little to no linear or non-linear relationship with rating.\n",
        "\n",
        "Keep (for further evaluation by model-based methods):\n",
        "\n",
        "1. review_age_days: Exhibits high statistical significance (low P-value) and is the strongest feature by Mutual Information, suggesting a potentially strong non-linear relationship.\n",
        "\n",
        "2. review_month: While its Mutual Information score is low, its F-score's P-value (0.0348) is still below 0.05. It might have a subtle linear impact or interact with other features, so it's worth assessing with tree-based models next.\n",
        "\n",
        "As only 'review_month' and 'review_age_days' are left, I'm going to evaluate if it will be ok keeping both or not using a Variance Inflation Factor (VIF) calculation:"
      ],
      "metadata": {
        "id": "anWlPVo1r2rM"
      },
      "id": "anWlPVo1r2rM"
    },
    {
      "cell_type": "code",
      "source": [
        "# Adding a constant as this is a good practice for VIF calculation\n",
        "X_vif = X_filtered[['review_month', 'review_age_days']].copy() # Just these two for now\n",
        "X_vif['intercept'] = 1\n",
        "\n",
        "vif_data = pd.DataFrame()\n",
        "vif_data[\"feature\"] = X_vif.columns\n",
        "vif_data[\"VIF\"] = [variance_inflation_factor(X_vif.values, i) for i in range(X_vif.shape[1])]\n",
        "\n",
        "print(\"\\nVariance Inflation Factor (VIF) for review_month and review_age_days:\")\n",
        "print(vif_data)"
      ],
      "metadata": {
        "colab": {
          "base_uri": "https://localhost:8080/"
        },
        "id": "afPNMykvptns",
        "outputId": "48f704e4-323b-49f1-9162-d8da2df2d9a4"
      },
      "id": "afPNMykvptns",
      "execution_count": 32,
      "outputs": [
        {
          "output_type": "stream",
          "name": "stdout",
          "text": [
            "\n",
            "Variance Inflation Factor (VIF) for review_month and review_age_days:\n",
            "           feature       VIF\n",
            "0     review_month  1.027271\n",
            "1  review_age_days  1.027271\n",
            "2        intercept  9.789823\n"
          ]
        }
      ]
    },
    {
      "cell_type": "markdown",
      "source": [
        "The Variance Inflation Factor (VIF) for both review_month and review_age_days is approximately 1.03. This score, being very close to 1, indicates extremely low multicollinearity between these two features.\n",
        "\n",
        "Crucially, these variables capture distinct temporal aspects. Review_month accounts for seasonality, reflecting potential cyclical patterns in hotel ratings throughout the year (e.g., holiday seasons, peak travel months). In contrast, review_age_days measures recency, indicating how old a review is, which can reflect current hotel conditions or reviewer sentiment trends over time.\n",
        "\n",
        "Since they provide independent information about different facets of time and do not exhibit problematic redundancy, retaining both enriches the model's understanding of review dynamics. This allows the model to leverage both seasonal influences and the impact of review recency, leading to a more comprehensive and potentially more accurate predictive capability without introducing noise or instability."
      ],
      "metadata": {
        "id": "YkX8oIBYr68C"
      },
      "id": "YkX8oIBYr68C"
    },
    {
      "cell_type": "code",
      "source": [
        "# Final cleaned df with feature engineering variables define through feature selection\n",
        "df_filtered = df_cleaned.drop(columns=[ 'review_quarter', 'review_day', 'review_year',  'review_day_of_week'])\n",
        "\n",
        "df_filtered.info()"
      ],
      "metadata": {
        "colab": {
          "base_uri": "https://localhost:8080/"
        },
        "id": "-heFcJXYptqF",
        "outputId": "f572eaaa-a7e0-4cab-ec47-99f9b1ae8b63"
      },
      "id": "-heFcJXYptqF",
      "execution_count": 33,
      "outputs": [
        {
          "output_type": "stream",
          "name": "stdout",
          "text": [
            "<class 'pandas.core.frame.DataFrame'>\n",
            "Index: 26386 entries, 0 to 26674\n",
            "Data columns (total 12 columns):\n",
            " #   Column           Non-Null Count  Dtype         \n",
            "---  ------           --------------  -----         \n",
            " 0   review_title     26386 non-null  object        \n",
            " 1   reviewed_at      26386 non-null  datetime64[ns]\n",
            " 2   reviewed_by      26386 non-null  object        \n",
            " 3   hotel_name       26386 non-null  object        \n",
            " 4   avg_rating       26386 non-null  float64       \n",
            " 5   nationality      26386 non-null  object        \n",
            " 6   rating           26386 non-null  float64       \n",
            " 7   raw_review_text  26386 non-null  object        \n",
            " 8   tags             26386 non-null  object        \n",
            " 9   sentiment_label  26386 non-null  object        \n",
            " 10  review_month     26386 non-null  int32         \n",
            " 11  review_age_days  26386 non-null  int64         \n",
            "dtypes: datetime64[ns](1), float64(2), int32(1), int64(1), object(7)\n",
            "memory usage: 2.5+ MB\n"
          ]
        }
      ]
    },
    {
      "cell_type": "markdown",
      "source": [
        "### Text Preprocessing\n",
        "\n",
        "This text preprocessing methodology is meticulously designed to transform raw, unstructured review data into a clean, normalized, and semantically rich format suitable for advanced natural language processing tasks.\n",
        "\n",
        "This multi-stage process begins with fundamental cleanups, including lowercasing to standardize text representation and the removal of URLs and HTML tags to eliminate extraneous noise. Subsequently, emojis and emoticons are converted into descriptive text to capture their inherent sentiment, while the text is simultaneously tokenized into individual words. I then apply lemmatization to reduce words to their base forms, ensuring consistent representation across variations, and systematically remove punctuation and numbers to focus on meaningful lexical content. A crucial step involves comprehensive stop word removal, which not only leverages standard lists but also incorporates custom, domain-specific terms (e.g., \"hotel,\" \"room\") that lack discriminative power in review contexts.\n",
        "\n",
        "Furthermore, I implement sophisticated negation handling by tagging words that follow negations (e.g., \"good_NEG\" from \"not good\"), thus preserving accurate sentiment. Finally, optional spell correction is employed to address typographical errors, preventing data sparsity and ensuring that misspelled words contribute correctly to feature representation. This rigorous preprocessing pipeline is essential for generating high-quality features for subsequent TF-IDF modeling and enhancing the overall performance of our machine learning models.\n"
      ],
      "metadata": {
        "id": "yBP9ooqwsGGh"
      },
      "id": "yBP9ooqwsGGh"
    },
    {
      "cell_type": "code",
      "source": [
        "# Initialize spaCy\n",
        "# Load a pre-trained English model. 'en_core_web_sm' is a good starting point.\n",
        "try:\n",
        "    nlp = spacy.load(\"en_core_web_sm\")\n",
        "    print(\"spaCy 'en_core_web_sm' model loaded successfully.\")\n",
        "except OSError:\n",
        "    print(\"spaCy 'en_core_web_sm' model not found. Please run: !python -m spacy download en_core_web_sm\")\n",
        "    import sys\n",
        "    sys.exit(\"SpaCy model not found. Please download it first.\")"
      ],
      "metadata": {
        "colab": {
          "base_uri": "https://localhost:8080/"
        },
        "id": "uxuzbFvdptsZ",
        "outputId": "122b8c24-ef7e-43d3-93c2-0c161ff6864f"
      },
      "id": "uxuzbFvdptsZ",
      "execution_count": 34,
      "outputs": [
        {
          "output_type": "stream",
          "name": "stdout",
          "text": [
            "spaCy 'en_core_web_sm' model loaded successfully.\n"
          ]
        }
      ]
    },
    {
      "cell_type": "code",
      "source": [
        "# 1. Clone my github to bring my helper function: processing_text.py file into my Colab environment.\n",
        "repo_url = \"https://github.com/KBE25/hotel_sentiment.git\"\n",
        "repo_name = \"hotel_sentiment\"\n",
        "\n",
        "# Check if the repo is already cloned to avoid re-cloning on successive runs\n",
        "if not os.path.exists(repo_name):\n",
        "    print(f\"Cloning {repo_name} from GitHub...\")\n",
        "    !git clone {repo_url}\n",
        "    print(f\"Repository '{repo_name}' cloned successfully.\")\n",
        "else:\n",
        "    print(f\"Repository '{repo_name}' already exists. Skipping clone.\")\n",
        "\n",
        "# Navigate into the cloned repository's directory\n",
        "# This is important so Python can find the helper file directly\n",
        "%cd {repo_name}/\n",
        "print(f\"Current working directory changed to: {os.getcwd()}\")"
      ],
      "metadata": {
        "colab": {
          "base_uri": "https://localhost:8080/"
        },
        "id": "VydnFmjeptu4",
        "outputId": "baacee42-85c6-4054-e7d4-0ce7202b4dc9"
      },
      "id": "VydnFmjeptu4",
      "execution_count": 35,
      "outputs": [
        {
          "output_type": "stream",
          "name": "stdout",
          "text": [
            "Cloning hotel_sentiment from GitHub...\n",
            "Cloning into 'hotel_sentiment'...\n",
            "remote: Enumerating objects: 139, done.\u001b[K\n",
            "remote: Counting objects: 100% (139/139), done.\u001b[K\n",
            "remote: Compressing objects: 100% (132/132), done.\u001b[K\n",
            "remote: Total 139 (delta 84), reused 24 (delta 7), pack-reused 0 (from 0)\u001b[K\n",
            "Receiving objects: 100% (139/139), 273.99 KiB | 2.79 MiB/s, done.\n",
            "Resolving deltas: 100% (84/84), done.\n",
            "Repository 'hotel_sentiment' cloned successfully.\n",
            "/content/hotel_sentiment\n",
            "Current working directory changed to: /content/hotel_sentiment\n"
          ]
        }
      ]
    },
    {
      "cell_type": "code",
      "source": [
        "# The current working directory should now be the root of your cloned repo\n",
        "# 'processing_text.py' is directly in the root of my repository.\n",
        "path_to_add = os.getcwd()\n",
        "\n",
        "if path_to_add not in sys.path:\n",
        "    sys.path.append(path_to_add)\n",
        "    print(f\"Added '{path_to_add}' to sys.path for module import.\")"
      ],
      "metadata": {
        "colab": {
          "base_uri": "https://localhost:8080/"
        },
        "id": "IjehQeXDptxR",
        "outputId": "30f45c89-a541-408e-9eed-71b458bfb5c1"
      },
      "id": "IjehQeXDptxR",
      "execution_count": 36,
      "outputs": [
        {
          "output_type": "stream",
          "name": "stdout",
          "text": [
            "Added '/content/hotel_sentiment' to sys.path for module import.\n"
          ]
        }
      ]
    },
    {
      "cell_type": "code",
      "source": [
        "# 2. Import the functions from my processing_text.py helper file\n",
        "try:\n",
        "    from processing_text import (preprocess_text_enhanced_spacy, parallelize_series_with_tqdm, worker_initializer)\n",
        "    print(\"Successfully imported preprocessing functions from 'processing_text.py'.\")\n",
        "except ImportError as e:\n",
        "    print(f\"Error importing functions from processing_text.py: {e}\")\n",
        "    print(\"Please check: 1. File name 'processing_text.py'. 2. Its location in your repo. 3. Python path.\")\n",
        "    # Exit the script if the helper cannot be loaded\n",
        "    sys.exit(\"Failed to import preprocessing helper. Exiting.\")"
      ],
      "metadata": {
        "colab": {
          "base_uri": "https://localhost:8080/"
        },
        "id": "aw8tS3gWptzu",
        "outputId": "77d1ac5c-fbdc-4ae6-d68b-86f828ba566f"
      },
      "id": "aw8tS3gWptzu",
      "execution_count": 37,
      "outputs": [
        {
          "output_type": "stream",
          "name": "stdout",
          "text": [
            "Successfully imported preprocessing functions from 'processing_text.py'.\n"
          ]
        }
      ]
    },
    {
      "cell_type": "code",
      "source": [
        "# 3. Run the core text preprocessing\n",
        "# These lines are currently commented out because the core text preprocessing took a really long time\n",
        "# In this case, we ran the preprocessing and then saved the filtered dataframe with the preprocessed text information\n",
        "# To run the model below, you will need to uncomment all the below line\n",
        "\n",
        "\n",
        "# This step takes a really long time so after running it the next step will be to save it so is easier just to load the data and run the rest of the analysis\n",
        "if __name__ == '__main__':\n",
        "    text_cols_to_process = ['raw_review_text', 'review_title', 'tags']\n",
        "    processed_output_cols = [f'{col}_processed' for col in text_cols_to_process]\n",
        "\n",
        "    for col in text_cols_to_process:\n",
        "        print(f\"Starting parallel processing for column: '{col}' (with full spaCy pipeline)...\")\n",
        "        df_filtered[f'{col}_processed'] = parallelize_series_with_tqdm(\n",
        "            df_filtered[col],\n",
        "            preprocess_text_enhanced_spacy,\n",
        "            n_cores=None, # Use all available CPU cores\n",
        "           apply_spell_correction=True # Pass keyword arguments\n",
        "         )\n",
        "\n",
        "print(f\"Finished processing column: '{col}'\")\n",
        "print(\"\\n--- Processed Text Columns Sample (after all preprocessing) ---\")\n",
        "print(df_filtered[processed_output_cols].head(2).to_string())\n",
        "print(\"-\" * 50)"
      ],
      "metadata": {
        "id": "DCYawVYppt2R"
      },
      "id": "DCYawVYppt2R",
      "execution_count": null,
      "outputs": []
    },
    {
      "cell_type": "code",
      "source": [
        "# 4. Saving the processed dataframe\n",
        "# These code lines are currently commented out as we have already saved the dataframe\n",
        "# This step saves the df_filtered (including original and new processed columns) to a file for later use, avoiding reprocessing.\n",
        "#output_filename = 'df_filtered_processed_2.parquet'\n",
        "#df_filtered.to_parquet(output_filename, index=False)"
      ],
      "metadata": {
        "id": "ia-JzG7DR0TJ"
      },
      "id": "ia-JzG7DR0TJ",
      "execution_count": 39,
      "outputs": []
    },
    {
      "cell_type": "markdown",
      "source": [
        "To be able to load the data saved in step (4) we are going to have to complete a couple of additional steps using Kaggle. After I completed step (4) and saved the df_filtered data I went ahead and downloaded the data and uploaded into Kaggle for easier management. To be able to recover this information the next steps are needed:\n",
        "\n",
        "1. Create an API connection with Kaggle (which was done when we load the dataset)\n",
        "2. Download the processed data from Kaggle\n",
        "3. Load the data\n"
      ],
      "metadata": {
        "id": "XcMLxaI02BvA"
      },
      "id": "XcMLxaI02BvA"
    },
    {
      "cell_type": "markdown",
      "source": [
        "1. Creating n API connection with Kaggle was completed at the beginning of data acquisition"
      ],
      "metadata": {
        "id": "A0MyowCm2-ke"
      },
      "id": "A0MyowCm2-ke"
    },
    {
      "cell_type": "markdown",
      "source": [
        " #### 2. Downloading the dataset from Kaggle to Colab"
      ],
      "metadata": {
        "id": "epR5MqvV3zKB"
      },
      "id": "epR5MqvV3zKB"
    },
    {
      "cell_type": "code",
      "source": [
        "#! kaggle datasets download -d karinabe25us/df-filtered2\n",
        "#! unzip df-filtered2.zip"
      ],
      "metadata": {
        "id": "5UchRXh8xMFV"
      },
      "id": "5UchRXh8xMFV",
      "execution_count": 40,
      "outputs": []
    },
    {
      "cell_type": "markdown",
      "source": [
        " #### 3. Loading the dataset using pandas"
      ],
      "metadata": {
        "id": "GIu2enM64Nni"
      },
      "id": "GIu2enM64Nni"
    },
    {
      "cell_type": "code",
      "source": [
        "#Loading the model\n",
        "\n",
        "# Define the full path to the processed Parquet file\n",
        "#file_path = '/content/hotel_sentiment/df_filtered_processed_2.parquet'\n",
        "\n",
        "# Load the DataFrame directly from the Parquet file\n",
        "#df_filtered = pd.read_parquet(file_path)\n",
        "\n",
        "#Confirming the dataset has the correct information\n",
        "#print(df_filtered.info())\n",
        "#print(df_filtered.head().to_string())\n",
        "#print(\"-\" * 50)"
      ],
      "metadata": {
        "colab": {
          "base_uri": "https://localhost:8080/"
        },
        "id": "xomcg9-RxMID",
        "outputId": "17649757-bcc8-4025-f20d-4c40ad0a013e"
      },
      "id": "xomcg9-RxMID",
      "execution_count": 41,
      "outputs": [
        {
          "output_type": "stream",
          "name": "stdout",
          "text": [
            "<class 'pandas.core.frame.DataFrame'>\n",
            "Index: 26386 entries, 0 to 26674\n",
            "Data columns (total 15 columns):\n",
            " #   Column                     Non-Null Count  Dtype         \n",
            "---  ------                     --------------  -----         \n",
            " 0   review_title               26386 non-null  object        \n",
            " 1   reviewed_at                26386 non-null  datetime64[ns]\n",
            " 2   reviewed_by                26386 non-null  object        \n",
            " 3   hotel_name                 26386 non-null  object        \n",
            " 4   avg_rating                 26386 non-null  float64       \n",
            " 5   nationality                26386 non-null  object        \n",
            " 6   rating                     26386 non-null  float64       \n",
            " 7   raw_review_text            26386 non-null  object        \n",
            " 8   tags                       26386 non-null  object        \n",
            " 9   sentiment_label            26386 non-null  object        \n",
            " 10  review_month               26386 non-null  int32         \n",
            " 11  review_age_days            26386 non-null  int64         \n",
            " 12  raw_review_text_processed  26386 non-null  object        \n",
            " 13  review_title_processed     26386 non-null  object        \n",
            " 14  tags_processed             26386 non-null  object        \n",
            "dtypes: datetime64[ns](1), float64(2), int32(1), int64(1), object(10)\n",
            "memory usage: 3.1+ MB\n",
            "None\n",
            "                                                                                                        review_title reviewed_at reviewed_by              hotel_name  avg_rating     nationality  rating                                                                                                                                                                                                                                                                                                                                                                                                                                                                                                                                                                                                                                                                                                                                                                                                                                                                                                                                                                                                                                                                                                                                                                                                                                                                                                                                                                                                                                                                                                                                                                                                                                                                                                                                                                                         raw_review_text                                                                                           tags sentiment_label  review_month  review_age_days                                                                                                                                                                                                                                                                                                                                                      raw_review_text_processed                                                          review_title_processed                               tags_processed\n",
            "0                                                                                                        Exceptional  2021-07-11      Kyrylo         Villa Pura Vida         9.7          Poland    10.0                                                                                                                                                                                                                                                                                                                                                                                                                                                                                                                                                                                                                                                                                                                                                                                                                                                                                                                                                                                                                                                                    <p class=\"review_pos \"><svg aria-label=\"Positive point\" class=\"bk-icon -fonticon-plus review_item_icon\" fill=\"#008009\" height=\"14\" role=\"img\" width=\"14\" viewbox=\"0 0 32 32\" aria-hidden=\"true\" focusable=\"false\">\\n  <path d=\"M32 16c0 8.836-7.162 16-16 16-8.834 0-16-5.74-16-16C0 6.451 7.166 0 16 0c8.838 0 16 7.162 16 16zm-6.4-2.585c0-.369-.031-.616-.4-.616h-5.998V7.018c0-.369-.297-.62-.666-.62h-5.068c-.369 0-.666.251-.666.62v5.781H6.901c-.369 0-.499.247-.499.616v5.118c0 .369.132.666.499.666H12.8v5.833c0 .369.297.565.666.565h5.068c.369 0 .666-.196.666-.565v-5.833h5.998c.369 0 .4-.297.4-.666v-5.118z\"></path>\\n</svg><span itemprop=\"reviewBody\">Everything was perfect! Quite, cozy place to relax.</span></p>                  Business trip~Solo traveller~Junior Suite~Stayed 1 night~Submitted via mobile        Positive             7                8                                                                                                                                                                                                                                                                                                                                                             perfect copy relax                                                                     exceptional                     junior suite stay submit\n",
            "1                                                                  I highly recommend this b&b! We enjoyed it a lot!  2019-11-24     Dimitri         Villa Pura Vida         9.7         Belgium     9.0                                                                                                                                                                                                                                                                                                                                                                                                                                                                                                                                                                                                                                                                                                                                                                                                                                                                                                                                                                                                                                                                              <p class=\"review_pos \"><svg aria-label=\"Positive point\" class=\"bk-icon -fonticon-plus review_item_icon\" fill=\"#008009\" height=\"14\" role=\"img\" width=\"14\" viewbox=\"0 0 32 32\" aria-hidden=\"true\" focusable=\"false\">\\n  <path d=\"M32 16c0 8.836-7.162 16-16 16-8.834 0-16-5.74-16-16C0 6.451 7.166 0 16 0c8.838 0 16 7.162 16 16zm-6.4-2.585c0-.369-.031-.616-.4-.616h-5.998V7.018c0-.369-.297-.62-.666-.62h-5.068c-.369 0-.666.251-.666.62v5.781H6.901c-.369 0-.499.247-.499.616v5.118c0 .369.132.666.499.666H12.8v5.833c0 .369.297.565.666.565h5.068c.369 0 .666-.196.666-.565v-5.833h5.998c.369 0 .4-.297.4-.666v-5.118z\"></path>\\n</svg><span itemprop=\"reviewBody\">Very friendly host and perfect breakfast!</span></p>                           Leisure trip~Couple~Deluxe Suite~Stayed 1 night~Submitted via mobile        Positive            11              603                                                                                                                                                                                                                                                                                                                                                friendly host perfect breakfast                                                  highly recommend b&b enjoy lot                     deluxe suite stay submit\n",
            "2                                                                                                        Exceptional  2020-01-03    Virginia  Hydro Palace Apartment         9.2  United Kingdom    10.0                                                                                                                                                                                                                                                                                                                                                                                                                                                                                                                                                                                              <p class=\"review_neg \"><svg aria-label=\"Negative point\" class=\"bk-icon -fonticon-removecircle review_item_icon\" fill=\"#BDBDBD\" height=\"14\" role=\"img\" width=\"14\" viewbox=\"0 0 32 32\" aria-hidden=\"true\" focusable=\"false\"><path d=\"m16 0c-8.84 0-16 7.16-16 16s7.16 16 16 16 16-7.16 16-16-7.16-16-16-16zm8 17.6h-16v-3.2h16z\"></path></svg><span itemprop=\"reviewBody\">It was just what we wanted for a week by the beach in winter</span></p>,<p class=\"review_pos \"><svg aria-label=\"Positive point\" class=\"bk-icon -fonticon-plus review_item_icon\" fill=\"#008009\" height=\"14\" role=\"img\" width=\"14\" viewbox=\"0 0 32 32\" aria-hidden=\"true\" focusable=\"false\">\\n  <path d=\"M32 16c0 8.836-7.162 16-16 16-8.834 0-16-5.74-16-16C0 6.451 7.166 0 16 0c8.838 0 16 7.162 16 16zm-6.4-2.585c0-.369-.031-.616-.4-.616h-5.998V7.018c0-.369-.297-.62-.666-.62h-5.068c-.369 0-.666.251-.666.62v5.781H6.901c-.369 0-.499.247-.499.616v5.118c0 .369.132.666.499.666H12.8v5.833c0 .369.297.565.666.565h5.068c.369 0 .666-.196.666-.565v-5.833h5.998c.369 0 .4-.297.4-.666v-5.118z\"></path>\\n</svg><span itemprop=\"reviewBody\">Location was fab, apartment quiet and very well-equipped. Spotless clean.</span></p>               Leisure trip~Couple~Apartment with Sea View~Stayed 6 nights~Submitted via mobile        Positive             1              563                                                                                                                                                                                                                                                                                                            want beach winter location fab apartment quiet equip spotless clean                                                                     exceptional         apartment sea view stay night submit\n",
            "3                My stay in the house was a experiencing bliss in luxury. The house is sheer touch of beauty wrapped  2019-09-08      Kannan         Villa Pura Vida         9.7     Netherlands    10.0                                                                                                                                                                                                                                                                                                                                                                                                                                                                                                                                                                                                                                                                                                                                                                                                                                                                                               <p class=\"review_pos \"><svg aria-label=\"Positive point\" class=\"bk-icon -fonticon-plus review_item_icon\" fill=\"#008009\" height=\"14\" role=\"img\" width=\"14\" viewbox=\"0 0 32 32\" aria-hidden=\"true\" focusable=\"false\">\\n  <path d=\"M32 16c0 8.836-7.162 16-16 16-8.834 0-16-5.74-16-16C0 6.451 7.166 0 16 0c8.838 0 16 7.162 16 16zm-6.4-2.585c0-.369-.031-.616-.4-.616h-5.998V7.018c0-.369-.297-.62-.666-.62h-5.068c-.369 0-.666.251-.666.62v5.781H6.901c-.369 0-.499.247-.499.616v5.118c0 .369.132.666.499.666H12.8v5.833c0 .369.297.565.666.565h5.068c.369 0 .666-.196.666-.565v-5.833h5.998c.369 0 .4-.297.4-.666v-5.118z\"></path>\\n</svg><span itemprop=\"reviewBody\">My stay in the house was a experiencing bliss in luxury. The house is sheer touch of beauty wrapped by luxury and complimented with kindness and care  from Lisbette &amp; her parents making it a most remarkable stay.</span></p>                 Business trip~Solo traveller~Junior Suite~Stayed 4 nights~Submitted via mobile        Positive             9              680                                                                                                                                                                                                                                                house experience bliss luxury house sheer touch beauty wrap luxury compliment kindness care diskette amp parent make remarkable                     house experience bliss luxury house sheer touch beauty wrap               junior suite stay night submit\n",
            "4  One bedroom apartment with wonderful view and free, secure parking, but not close enough  to the main beach area.  2019-06-23         Sue  Hydro Palace Apartment         9.2    South Africa     9.2  <p class=\"review_neg \"><svg aria-label=\"Negative point\" class=\"bk-icon -fonticon-removecircle review_item_icon\" fill=\"#BDBDBD\" height=\"14\" role=\"img\" width=\"14\" viewbox=\"0 0 32 32\" aria-hidden=\"true\" focusable=\"false\"><path d=\"m16 0c-8.84 0-16 7.16-16 16s7.16 16 16 16 16-7.16 16-16-7.16-16-16-16zm8 17.6h-16v-3.2h16z\"></path></svg><span itemprop=\"reviewBody\">The building itself has a very musty smell in the hallway (despite being built in 1988), but the apartment itself smells good, which makes it bearable. \\nWhen showering, the hot water goes off every 2-3 minutes for about 20-30 seconds and then only cold water comes out. The hot water then comes back again. This should be checked out. That is the only thing we didn’t like about the apartment. </span></p>,<p class=\"review_pos \"><svg aria-label=\"Positive point\" class=\"bk-icon -fonticon-plus review_item_icon\" fill=\"#008009\" height=\"14\" role=\"img\" width=\"14\" viewbox=\"0 0 32 32\" aria-hidden=\"true\" focusable=\"false\">\\n  <path d=\"M32 16c0 8.836-7.162 16-16 16-8.834 0-16-5.74-16-16C0 6.451 7.166 0 16 0c8.838 0 16 7.162 16 16zm-6.4-2.585c0-.369-.031-.616-.4-.616h-5.998V7.018c0-.369-.297-.62-.666-.62h-5.068c-.369 0-.666.251-.666.62v5.781H6.901c-.369 0-.499.247-.499.616v5.118c0 .369.132.666.499.666H12.8v5.833c0 .369.297.565.666.565h5.068c.369 0 .666-.196.666-.565v-5.833h5.998c.369 0 .4-.297.4-.666v-5.118z\"></path>\\n</svg><span itemprop=\"reviewBody\">The view was great, the apartment furnished in a modern style and equipped with everything you may need. The apartment was clean. \\nThere is free, secure parking outside in the building’s parking lot or downstairs in the garage. \\nJan always responded promptly to all messages sent via Booking.com messenger.  </span></p>  Leisure trip~People with friends~Apartment with Sea View~Stayed 4 nights~Submitted via mobile        Positive             6              757  building musty smell hallway despite build apartment smell good make bearable shower hot water go minute second cold water come hot water come check thing like_NEG apartment view great apartment furnish modern style equip need apartment clean free secure parking outside building parking lot downstairs garage jan respond promptly message send booking.com messenger  bedroom apartment wonderful view free secure parking close_NEG main beach area  friend apartment sea view stay night submit\n",
            "--------------------------------------------------\n"
          ]
        }
      ]
    },
    {
      "cell_type": "markdown",
      "source": [
        "Now that we have loaded the processed data we can move it the next step, running TF-IDF."
      ],
      "metadata": {
        "id": "eZt7Q4hG6YdF"
      },
      "id": "eZt7Q4hG6YdF"
    },
    {
      "cell_type": "markdown",
      "source": [
        "### TF-IDF Modelling\n",
        "\n",
        "Why TF-IDF?\n",
        "\n",
        "\n",
        "The method that I will be using for TF-IDF is by concatenning all processed text columns."
      ],
      "metadata": {
        "id": "mcJDeWFb76W7"
      },
      "id": "mcJDeWFb76W7"
    },
    {
      "cell_type": "code",
      "source": [
        "# 1. Create a combined text column with the text processed data\n",
        "\n",
        "# Create a new 'combined_text' column by joining the processed text from all relevant columns\n",
        "processed_cols = ['raw_review_text_processed', 'review_title_processed', 'tags_processed']\n",
        "\n",
        "#  Processed_cols will be ['raw_review_text_processed', 'review_title_processed', 'tags_processed']\n",
        "df_filtered['combined_text'] = df_filtered[processed_cols].fillna('').agg(' '.join, axis=1)\n",
        "\n",
        "# Display a sample of the combined text to verify\n",
        "print(\"\\nSample of 'combined_text' column:\")\n",
        "for i, text in enumerate(df_filtered['combined_text'].head(3)):\n",
        "    print(f\"Review {i+1}: {text[:100]}...\")\n",
        "print(\"-\" * 50)"
      ],
      "metadata": {
        "colab": {
          "base_uri": "https://localhost:8080/"
        },
        "id": "bDmQ-KXXxMKi",
        "outputId": "d14ade5d-8f04-4e07-8187-3fc6ce73b004"
      },
      "id": "bDmQ-KXXxMKi",
      "execution_count": 42,
      "outputs": [
        {
          "output_type": "stream",
          "name": "stdout",
          "text": [
            "\n",
            "Sample of 'combined_text' column:\n",
            "Review 1: perfect copy relax exceptional junior suite stay submit...\n",
            "Review 2: friendly host perfect breakfast highly recommend b&b enjoy lot deluxe suite stay submit...\n",
            "Review 3: want beach winter location fab apartment quiet equip spotless clean exceptional apartment sea view s...\n",
            "--------------------------------------------------\n"
          ]
        }
      ]
    },
    {
      "cell_type": "code",
      "source": [
        "# 2. Extract the combined documents into a list\n",
        "documents_for_tfidf = df_filtered['combined_text'].tolist()\n",
        "\n",
        "# 3. Initialize TfidfVectorizer\n",
        "#    - max_features: Limits the vocabulary size to the top 5000 most frequent terms/n-grams\n",
        "#    - ngram_range=(1, 2): Considers both single words (unigrams) and two-word phrases (bigrams) as features\n",
        "tfidf_vectorizer = TfidfVectorizer(max_features=5000,ngram_range=(1, 2))\n",
        "\n",
        "\n",
        "# 4. Fit and Transform the documents\n",
        "#    - fit: learns the vocabulary and IDF values from your combined_text documents\n",
        "#    - transform: converts the documents into the TF-IDF numerical matrix\n",
        "tfidf_matrix = tfidf_vectorizer.fit_transform(documents_for_tfidf)\n",
        "\n",
        "print(f\"\\nTF-IDF Matrix Shape (rows: reviews, columns: features): {tfidf_matrix.shape}\")\n",
        "print(f\"Sample TF-IDF features (first 10 out of {tfidf_vectorizer.get_feature_names_out().shape[0]}):\")\n",
        "print(tfidf_vectorizer.get_feature_names_out()[:10])\n",
        "print(\"\\nAnd some last 10 features:\")\n",
        "print(tfidf_vectorizer.get_feature_names_out()[-10:])\n",
        "print(\"-\" * 50)\n"
      ],
      "metadata": {
        "colab": {
          "base_uri": "https://localhost:8080/"
        },
        "id": "cNdGXFGHxMM6",
        "outputId": "abc3d347-d5ee-45b8-eab4-ec31b1f86911"
      },
      "id": "cNdGXFGHxMM6",
      "execution_count": 43,
      "outputs": [
        {
          "output_type": "stream",
          "name": "stdout",
          "text": [
            "\n",
            "TF-IDF Matrix Shape (rows: reviews, columns: features): (26386, 5000)\n",
            "Sample TF-IDF features (first 10 out of 5000):\n",
            "['30am' '30pm' '_neg' '_neg star_neg' 'able' 'able park' 'able_neg'\n",
            " 'absolute' 'absolutely' 'absolutely amazing']\n",
            "\n",
            "And some last 10 features:\n",
            "['yoghurt' 'yogurt' 'yore' 'young' 'young child' 'youth' 'ypres' 'yummy'\n",
            " 'zircon' 'zone']\n",
            "--------------------------------------------------\n"
          ]
        }
      ]
    },
    {
      "cell_type": "markdown",
      "source": [
        "Below we will be evaluating the above TF-IDF for sentiment analysis"
      ],
      "metadata": {
        "id": "4vIm9i_I-ClD"
      },
      "id": "4vIm9i_I-ClD"
    },
    {
      "cell_type": "code",
      "source": [
        "# Step 1: Inspect Global TF-IDF Features (Vocabulary and IDF Scores)\n",
        "# This helps understand what words/phrases the vectorizer considers most \"important\"\n",
        "# High IDF values usually mean a term is more discriminative.\n",
        "\n",
        "print(\"\\n### 1. Global TF-IDF Feature Inspection (Vocabulary & IDF Scores) ###\")\n",
        "\n",
        "feature_names = tfidf_vectorizer.get_feature_names_out()\n",
        "idf_scores = tfidf_vectorizer.idf_\n",
        "\n",
        "# Create a DataFrame for easier sorting and inspection of features\n",
        "feature_idf_df = pd.DataFrame({'feature': feature_names, 'idf_score': idf_scores})\n",
        "\n",
        "# Sort by IDF score in descending order to see the most discriminative terms\n",
        "feature_idf_df_sorted_desc = feature_idf_df.sort_values(by='idf_score', ascending=False).reset_index(drop=True)\n",
        "\n",
        "print(\"\\nTop 20 global features by IDF score (most discriminative terms):\")\n",
        "print(feature_idf_df_sorted_desc.head(20).to_string())\n",
        "print(\"\\nInterpretation: These terms appear relatively rarely but are impactful when they do, \\nImportant to look for strong sentiment words, specific complaints/praises, or critical aspects of a hotel.\")\n",
        "print(\"-\" * 50)\n",
        "\n",
        "# Sort by IDF score in ascending order to see the least discriminative terms\n",
        "feature_idf_df_sorted_asc = feature_idf_df.sort_values(by='idf_score', ascending=True).reset_index(drop=True)\n",
        "\n",
        "print(\"\\nBottom 20 global features by IDF score (least discriminative, very common terms):\")\n",
        "print(feature_idf_df_sorted_asc.head(20).to_string())\n",
        "print(\"\\nInterpretation: These terms appear in many documents. These are words survived preprocessing but hold little sentiment weight. \\nIf there are highly emotional or specific terms here, min_df/max_df or stop words might need adjustment.\")\n",
        "print(\"-\" * 50)"
      ],
      "metadata": {
        "colab": {
          "base_uri": "https://localhost:8080/"
        },
        "id": "PLrFSWScxMSC",
        "outputId": "3590a142-a579-401b-8f2e-7846fc34b91e"
      },
      "id": "PLrFSWScxMSC",
      "execution_count": 44,
      "outputs": [
        {
          "output_type": "stream",
          "name": "stdout",
          "text": [
            "\n",
            "### 1. Global TF-IDF Feature Inspection (Vocabulary & IDF Scores) ###\n",
            "\n",
            "Top 20 global features by IDF score (most discriminative terms):\n",
            "                  feature  idf_score\n",
            "0              downthumbs  10.487480\n",
            "1   downthumbs downthumbs  10.487480\n",
            "2                  bedbug   9.101185\n",
            "3                   quilt   8.983402\n",
            "4             thumb thumb   8.878042\n",
            "5             holiday inn   8.878042\n",
            "6                     row   8.878042\n",
            "7                  cinema   8.878042\n",
            "8                  steven   8.878042\n",
            "9                  sensor   8.782731\n",
            "10                    mon   8.782731\n",
            "11               restroom   8.782731\n",
            "12                  lodge   8.782731\n",
            "13                vintage   8.695720\n",
            "14                 father   8.695720\n",
            "15                extreme   8.695720\n",
            "16               baby cot   8.695720\n",
            "17               art deco   8.695720\n",
            "18               high end   8.695720\n",
            "19             warm water   8.615677\n",
            "\n",
            "Interpretation: These terms appear relatively rarely but are impactful when they do, \n",
            "Important to look for strong sentiment words, specific complaints/praises, or critical aspects of a hotel.\n",
            "--------------------------------------------------\n",
            "\n",
            "Bottom 20 global features by IDF score (least discriminative, very common terms):\n",
            "                      feature  idf_score\n",
            "0                        stay   1.037335\n",
            "1                      submit   1.416689\n",
            "2                       night   1.657302\n",
            "3                  stay night   1.705003\n",
            "4                        good   1.968388\n",
            "5                night submit   2.068451\n",
            "6                 stay submit   2.172403\n",
            "7               available_neg   2.221829\n",
            "8                 comment_neg   2.229835\n",
            "9   comment_neg available_neg   2.233211\n",
            "10                   location   2.287054\n",
            "11                exceptional   2.469019\n",
            "12                   standard   2.493016\n",
            "13                  breakfast   2.497580\n",
            "14                       twin   2.639131\n",
            "15                      young   2.643435\n",
            "16                      child   2.644612\n",
            "17                young child   2.655664\n",
            "18                      staff   2.658844\n",
            "19                      great   2.761708\n",
            "\n",
            "Interpretation: These terms appear in many documents. These are words survived preprocessing but hold little sentiment weight. \n",
            "If there are highly emotional or specific terms here, min_df/max_df or stop words might need adjustment.\n",
            "--------------------------------------------------\n"
          ]
        }
      ]
    },
    {
      "cell_type": "code",
      "source": [
        "# Step 2: Inspect Top TF-IDF Terms for Specific Documents\n",
        "# This helps confirm if the vectorizer captures the essence of individual reviews and their sentiment.\n",
        "# Pay attention to strong positive/negative words and aspects mentioned.\n",
        "\n",
        "print(\"\\n### 2. Per-Document TF-IDF Feature Inspection (Top Terms per Review) ###\")\n",
        "\n",
        "# Function to get top N TF-IDF terms for a given document index\n",
        "def get_top_tfidf_terms_for_doc(doc_index, tfidf_matrix, tfidf_vectorizer, n=15):\n",
        "    if not 0 <= doc_index < tfidf_matrix.shape[0]:\n",
        "        return \"Invalid document index.\"\n",
        "\n",
        "    feature_array = np.array(tfidf_vectorizer.get_feature_names_out())\n",
        "    tfidf_row = tfidf_matrix[doc_index].toarray().flatten()\n",
        "\n",
        "    # Get indices of the top N scores in descending order\n",
        "    top_n_indices = tfidf_row.argsort()[-n:][::-1]\n",
        "    top_n_scores = tfidf_row[top_n_indices]\n",
        "    top_n_features = feature_array[top_n_indices]\n",
        "\n",
        "    return list(zip(top_n_features, top_n_scores))\n",
        "\n",
        "# Select some review indices to inspect\n",
        "review_indices_to_inspect = [300, 50, 10000, 20000]\n",
        "\n",
        "for idx in review_indices_to_inspect:\n",
        "    # Ensure the index exists in your DataFrame\n",
        "    if idx < len(df_filtered):\n",
        "        print(f\"\\n--- Review Index: {df_filtered.index[idx]} ---\")\n",
        "        print(f\"Original Text: {df_filtered.loc[df_filtered.index[idx], 'raw_review_text']}\")\n",
        "        print(f\"Combined Processed Text: {df_filtered.loc[df_filtered.index[idx], 'combined_text']}\")\n",
        "\n",
        "        top_terms = get_top_tfidf_terms_for_doc(idx, tfidf_matrix, tfidf_vectorizer, n=15)\n",
        "        print(\"Top 15 TF-IDF Terms and Scores for this review:\")\n",
        "        for term, score in top_terms:\n",
        "            print(f\"  - {term}: {score:.4f}\")\n",
        "    else:\n",
        "        print(f\"\\nWarning: Review index {idx} out of bounds for df_filtered.\")\n",
        "    print(\"-\" * 60)\n"
      ],
      "metadata": {
        "id": "tWfY7TT2_E-F",
        "outputId": "d912e5c9-befb-4fea-cb41-8ec8b99dceb1",
        "colab": {
          "base_uri": "https://localhost:8080/"
        }
      },
      "id": "tWfY7TT2_E-F",
      "execution_count": 45,
      "outputs": [
        {
          "output_type": "stream",
          "name": "stdout",
          "text": [
            "\n",
            "### 2. Per-Document TF-IDF Feature Inspection (Top Terms per Review) ###\n",
            "\n",
            "--- Review Index: 307 ---\n",
            "Original Text: <p class=\"review_pos \"><svg aria-label=\"Positive point\" class=\"bk-icon -fonticon-plus review_item_icon\" fill=\"#008009\" height=\"14\" role=\"img\" width=\"14\" viewbox=\"0 0 32 32\" aria-hidden=\"true\" focusable=\"false\">\n",
            "  <path d=\"M32 16c0 8.836-7.162 16-16 16-8.834 0-16-5.74-16-16C0 6.451 7.166 0 16 0c8.838 0 16 7.162 16 16zm-6.4-2.585c0-.369-.031-.616-.4-.616h-5.998V7.018c0-.369-.297-.62-.666-.62h-5.068c-.369 0-.666.251-.666.62v5.781H6.901c-.369 0-.499.247-.499.616v5.118c0 .369.132.666.499.666H12.8v5.833c0 .369.297.565.666.565h5.068c.369 0 .666-.196.666-.565v-5.833h5.998c.369 0 .4-.297.4-.666v-5.118z\"></path>\n",
            "</svg><span itemprop=\"reviewBody\">I usually don't like to spend time rating hotels. However, this place left me with such a great memory that I feel it is necessary to share my view with others.This one bed house is so beautifully decorated and the bed is extremely comfortable. Host was very nice and we were even given a free bottle of red wine, which was amazing! One of the best place I have ever stayed at!!! Definitely recommend to anyone who is staying near Namur.</span></p>\n",
            "Combined Processed Text: usually like_NEG spend rating hotel leave great memory feel necessary share view others.this bed house beautifully decorate bed extremely comfortable host nice give free bottle red wine amazing good stay definitely recommend stay near amur beautiful love come young child bedroom house stay submit\n",
            "Top 15 TF-IDF Terms and Scores for this review:\n",
            "  - house: 0.2090\n",
            "  - come young: 0.2005\n",
            "  - comfortable host: 0.1978\n",
            "  - love come: 0.1978\n",
            "  - amazing good: 0.1943\n",
            "  - rating: 0.1894\n",
            "  - bed extremely: 0.1868\n",
            "  - recommend stay: 0.1838\n",
            "  - usually: 0.1818\n",
            "  - red: 0.1805\n",
            "  - extremely comfortable: 0.1782\n",
            "  - amur: 0.1766\n",
            "  - beautifully decorate: 0.1750\n",
            "  - necessary: 0.1675\n",
            "  - host nice: 0.1661\n",
            "------------------------------------------------------------\n",
            "\n",
            "--- Review Index: 50 ---\n",
            "Original Text: <p class=\"review_pos \"><svg aria-label=\"Positive point\" class=\"bk-icon -fonticon-plus review_item_icon\" fill=\"#008009\" height=\"14\" role=\"img\" width=\"14\" viewbox=\"0 0 32 32\" aria-hidden=\"true\" focusable=\"false\">\n",
            "  <path d=\"M32 16c0 8.836-7.162 16-16 16-8.834 0-16-5.74-16-16C0 6.451 7.166 0 16 0c8.838 0 16 7.162 16 16zm-6.4-2.585c0-.369-.031-.616-.4-.616h-5.998V7.018c0-.369-.297-.62-.666-.62h-5.068c-.369 0-.666.251-.666.62v5.781H6.901c-.369 0-.499.247-.499.616v5.118c0 .369.132.666.499.666H12.8v5.833c0 .369.297.565.666.565h5.068c.369 0 .666-.196.666-.565v-5.833h5.998c.369 0 .4-.297.4-.666v-5.118z\"></path>\n",
            "</svg><span itemprop=\"reviewBody\">The Villa Pura Vida was lovely, super clean with most comfortable bed I have ever slept on! and OMG love they pillows!!!:))) bathroom with shower and bad very clean. Stylish and design look...  Breakfast was great! Thumbs up for Liesbeth !! </span></p>\n",
            "Combined Processed Text: villa pure vida lovely super clean comfortable bed sleep org love pillow bathroom shower bad clean stylish design look breakfast great thumb liesbeth kortrijk king suite bathtub stay submit\n",
            "Top 15 TF-IDF Terms and Scores for this review:\n",
            "  - pure: 0.2867\n",
            "  - bed sleep: 0.2845\n",
            "  - thumb: 0.2466\n",
            "  - bathroom shower: 0.2421\n",
            "  - villa: 0.2415\n",
            "  - king suite: 0.2404\n",
            "  - super clean: 0.2246\n",
            "  - bathtub: 0.2242\n",
            "  - stylish: 0.2070\n",
            "  - clean: 0.1920\n",
            "  - breakfast great: 0.1912\n",
            "  - pillow: 0.1784\n",
            "  - design: 0.1765\n",
            "  - clean comfortable: 0.1725\n",
            "  - bad: 0.1687\n",
            "------------------------------------------------------------\n",
            "\n",
            "--- Review Index: 10112 ---\n",
            "Original Text: <p class=\"review_none\"><em>There are no comments available for this review</em></p>\n",
            "Combined Processed Text: comment_NEG available_NEG good standard quadruple stay\n",
            "Top 15 TF-IDF Terms and Scores for this review:\n",
            "  - quadruple stay: 0.5129\n",
            "  - quadruple: 0.4950\n",
            "  - good standard: 0.4043\n",
            "  - available_neg good: 0.3183\n",
            "  - standard: 0.2327\n",
            "  - comment_neg available_neg: 0.2085\n",
            "  - comment_neg: 0.2082\n",
            "  - available_neg: 0.2074\n",
            "  - good: 0.1838\n",
            "  - stay: 0.0968\n",
            "  - external bathroom: 0.0000\n",
            "  - extra: 0.0000\n",
            "  - extra bed: 0.0000\n",
            "  - extra blanket: 0.0000\n",
            "  - extra charge: 0.0000\n",
            "------------------------------------------------------------\n",
            "\n",
            "--- Review Index: 20225 ---\n",
            "Original Text: <p class=\"review_neg \"><svg aria-label=\"Negative point\" class=\"bk-icon -fonticon-removecircle review_item_icon\" fill=\"#BDBDBD\" height=\"14\" role=\"img\" width=\"14\" viewbox=\"0 0 32 32\" aria-hidden=\"true\" focusable=\"false\"><path d=\"m16 0c-8.84 0-16 7.16-16 16s7.16 16 16 16 16-7.16 16-16-7.16-16-16-16zm8 17.6h-16v-3.2h16z\"></path></svg><span itemprop=\"reviewBody\">Lack of plates and bawl available for the hotel guests during corona times.</span></p>,<p class=\"review_pos \"><svg aria-label=\"Positive point\" class=\"bk-icon -fonticon-plus review_item_icon\" fill=\"#008009\" height=\"14\" role=\"img\" width=\"14\" viewbox=\"0 0 32 32\" aria-hidden=\"true\" focusable=\"false\">\n",
            "  <path d=\"M32 16c0 8.836-7.162 16-16 16-8.834 0-16-5.74-16-16C0 6.451 7.166 0 16 0c8.838 0 16 7.162 16 16zm-6.4-2.585c0-.369-.031-.616-.4-.616h-5.998V7.018c0-.369-.297-.62-.666-.62h-5.068c-.369 0-.666.251-.666.62v5.781H6.901c-.369 0-.499.247-.499.616v5.118c0 .369.132.666.499.666H12.8v5.833c0 .369.297.565.666.565h5.068c.369 0 .666-.196.666-.565v-5.833h5.998c.369 0 .4-.297.4-.666v-5.118z\"></path>\n",
            "</svg><span itemprop=\"reviewBody\">Very nice small hotel with the specious rooms and comfortable sofa to sit. Very helpful staff and possibility to have catering with additional fee. Microwave available for all guests of the hotel with cutlery available.</span></p>\n",
            "Combined Processed Text: lack plate bawl available guest corona time nice small specious room comfortable sofa sit helpful staff possibility cater additional fee microwave available guest cutlery available good standard stay night\n",
            "Top 15 TF-IDF Terms and Scores for this review:\n",
            "  - available: 0.4143\n",
            "  - guest: 0.2895\n",
            "  - specious: 0.2319\n",
            "  - corona time: 0.2266\n",
            "  - available good: 0.2266\n",
            "  - nice small: 0.2151\n",
            "  - cater: 0.2094\n",
            "  - fee: 0.2041\n",
            "  - cutlery: 0.2021\n",
            "  - plate: 0.1990\n",
            "  - possibility: 0.1938\n",
            "  - room comfortable: 0.1915\n",
            "  - additional: 0.1898\n",
            "  - microwave: 0.1842\n",
            "  - corona: 0.1799\n",
            "------------------------------------------------------------\n"
          ]
        }
      ]
    },
    {
      "cell_type": "code",
      "source": [
        "# Ensure current_feature_names is obtained fresh, right before this check.\n",
        "# This variable comes from the tfidf_vectorizer fitted in your main notebook cells.\n",
        "current_feature_names = tfidf_vectorizer.get_feature_names_out()\n",
        "\n",
        "# Search for the lowercase '_neg' suffix, as seen in your LR coefficients (e.g., 'available_neg good')\n",
        "found_negated_features = [f for f in current_feature_names if '_neg' in f]\n",
        "\n",
        "if found_negated_features:\n",
        "    print(f\"\\nSUCCESS! Found {len(found_negated_features)} negated features in the vocabulary.\")\n",
        "    print(\"Sample of found negated features (first 20):\")\n",
        "    for f in found_negated_features[:min(20, len(found_negated_features))]:\n",
        "        print(f\"  - {f}\")\n",
        "\n",
        "    # Checking for specific expected negated terms (using lowercase _neg for consistency)\n",
        "    expected_negations_to_check = ['good_neg', 'bad_neg', 'clean_neg', 'comfortable_neg', 'not_good_neg', 'available_neg good']\n",
        "    print(\"\\nChecking for specific expected negated terms:\")\n",
        "    for neg_term in expected_negations_to_check:\n",
        "        if neg_term in current_feature_names:\n",
        "            print(f\"  - '{neg_term}' found.\")\n",
        "        else:\n",
        "            print(f\"  - '{neg_term}' NOT found. (This might be due to low frequency/min_df or specific context).\")\n",
        "else:\n",
        "    print(\"\\nATTENTION: Still no negated features found in the vocabulary by this diagnostic.\")\n",
        "    print(\"This is highly unusual given the previous strong evidence from Logistic Regression and Chi-Squared results.\")\n",
        "    print(\"This suggests the problem is specifically with *this diagnostic block* and NOT your actual preprocessing or TF-IDF effectiveness.\")\n",
        "    print(\"\\nDebugging Info - First 100 features in current vocabulary:\")\n",
        "    print(current_feature_names[:100])\n",
        "    print(\"\\nDebugging Info - Checking for 'available_neg good' (known from LR) directly:\")\n",
        "    if 'available_neg good' in current_feature_names:\n",
        "        print(\"  - 'available_neg good' IS PRESENT in the vocabulary.\")\n",
        "        print(\"  - The diagnostic logic is flawed if it still reports no negated features.\")\n",
        "    else:\n",
        "        print(\"  - 'available_neg good' is NOT present in the vocabulary. This would contradict LR/Chi2 results and suggest TF-IDF filtering is too aggressive for these terms.\")\n",
        "    print(\"\\nConsider checking if TF-IDF was re-fitted without updating `tfidf_vectorizer` variable globally.\")\n",
        "\n",
        "print(\"-\" * 50)"
      ],
      "metadata": {
        "colab": {
          "base_uri": "https://localhost:8080/"
        },
        "id": "TWN3LMn-xMUT",
        "outputId": "ae2811af-19ab-464d-8b74-a080aa352351"
      },
      "id": "TWN3LMn-xMUT",
      "execution_count": 54,
      "outputs": [
        {
          "output_type": "stream",
          "name": "stdout",
          "text": [
            "\n",
            "SUCCESS! Found 214 negated features in the vocabulary.\n",
            "Sample of found negated features (first 20):\n",
            "  - _neg\n",
            "  - _neg star_neg\n",
            "  - able_neg\n",
            "  - ac_neg\n",
            "  - acceptable_neg\n",
            "  - access_neg\n",
            "  - affect_neg\n",
            "  - air_neg\n",
            "  - air_neg con_neg\n",
            "  - air_neg condition_neg\n",
            "  - air_neg conditioner_neg\n",
            "  - air_neg conditioning_neg\n",
            "  - airco_neg\n",
            "  - aircon_neg\n",
            "  - allow_neg\n",
            "  - applicable_neg\n",
            "  - ask_neg\n",
            "  - available_neg\n",
            "  - available_neg disappointing\n",
            "  - available_neg excellent\n",
            "\n",
            "Checking for specific expected negated terms:\n",
            "  - 'good_neg' found.\n",
            "  - 'bad_neg' found.\n",
            "  - 'clean_neg' found.\n",
            "  - 'comfortable_neg' found.\n",
            "  - 'not_good_neg' NOT found. (This might be due to low frequency/min_df or specific context).\n",
            "  - 'available_neg good' found.\n",
            "--------------------------------------------------\n"
          ]
        }
      ]
    },
    {
      "cell_type": "code",
      "source": [
        "# Step 4: Dimensionality and Sparsity Check\n",
        "# Understand the basic structure of the TF-IDF matrix.\n",
        "\n",
        "print(\"\\n### 4. Dimensionality and Sparsity Check ###\")\n",
        "print(f\"TF-IDF Matrix Shape: {tfidf_matrix.shape}\")\n",
        "print(f\"Number of non-zero elements (NNZ): {tfidf_matrix.nnz}\")\n",
        "total_elements = tfidf_matrix.shape[0] * tfidf_matrix.shape[1]\n",
        "sparsity = 100 * (1 - (tfidf_matrix.nnz / total_elements))\n",
        "print(f\"Sparsity of TF-IDF Matrix: {sparsity:.2f}%\")\n",
        "print(\"\\nInterpretation: High sparsity (e.g., >98%) is typical for TF-IDF and indicates that most documents do not contain most words in the vocabulary. \\nThis confirms it's a sparse matrix and might benefit from dimensionality reduction for some models or memory efficiency.\")\n",
        "print(\"-\" * 50)\n"
      ],
      "metadata": {
        "colab": {
          "base_uri": "https://localhost:8080/"
        },
        "id": "LTASlLMJxMWu",
        "outputId": "9a235ae9-faee-4863-aebe-1971f468a364"
      },
      "id": "LTASlLMJxMWu",
      "execution_count": 47,
      "outputs": [
        {
          "output_type": "stream",
          "name": "stdout",
          "text": [
            "\n",
            "### 4. Dimensionality and Sparsity Check ###\n",
            "TF-IDF Matrix Shape: (26386, 5000)\n",
            "Number of non-zero elements (NNZ): 632606\n",
            "Sparsity of TF-IDF Matrix: 99.52%\n",
            "\n",
            "Interpretation: High sparsity (e.g., >98%) is typical for TF-IDF and indicates that most documents do not contain most words in the vocabulary. \n",
            "This confirms it's a sparse matrix and might benefit from dimensionality reduction for some models or memory efficiency.\n",
            "--------------------------------------------------\n"
          ]
        }
      ]
    },
    {
      "cell_type": "code",
      "source": [
        "# Step 5: Pre-Modeling data preprocessing\n",
        "\n",
        "# Currently sentiment_label is set as positive/negative in df_filtered so we will map it to 1/0\n",
        "# Convert 'Positive'/'Negative' sentiment labels to numerical (1/0)\n",
        "df_filtered['sentiment_numeric'] = df_filtered['sentiment_label'].map({'Positive': 1, 'Negative': 0})\n",
        "\n",
        "# Step 6: Perform Train-Test Split\n",
        "# For the split, X should be the tfidf_matrix and y should be the numeric sentiment.\n",
        "# No need to drop other columns from df_filtered here, as we are working directly with tfidf_matrix.\n",
        "X_features = tfidf_matrix\n",
        "y_target = df_filtered['sentiment_numeric']\n",
        "\n",
        "# Split the data, ensuring stratification (balanced sentiment classes in train/test)\n",
        "X_train, X_test, y_train, y_test = train_test_split(X_features, y_target, test_size=0.2, random_state=42, stratify=y_target)\n",
        "\n",
        "print(f\"X_train shape: {X_train.shape}\")\n",
        "print(f\"X_test shape: {X_test.shape}\")\n",
        "print(f\"y_train shape: {y_train.shape}\")\n",
        "print(f\"y_test shape: {y_test.shape}\")\n",
        "print(f\"\\nTraining sentiment distribution:\\n{y_train.value_counts(normalize=True)}\")\n",
        "print(f\"Testing sentiment distribution:\\n{y_test.value_counts(normalize=True)}\")\n",
        "print(\"-\" * 50)"
      ],
      "metadata": {
        "colab": {
          "base_uri": "https://localhost:8080/"
        },
        "id": "Tw67_URixMZF",
        "outputId": "7f40a172-10b2-40fa-8631-492cfc57174e"
      },
      "id": "Tw67_URixMZF",
      "execution_count": 48,
      "outputs": [
        {
          "output_type": "stream",
          "name": "stdout",
          "text": [
            "X_train shape: (21108, 5000)\n",
            "X_test shape: (5278, 5000)\n",
            "y_train shape: (21108,)\n",
            "y_test shape: (5278,)\n",
            "\n",
            "Training sentiment distribution:\n",
            "sentiment_numeric\n",
            "1    0.543112\n",
            "0    0.456888\n",
            "Name: proportion, dtype: float64\n",
            "Testing sentiment distribution:\n",
            "sentiment_numeric\n",
            "1    0.543009\n",
            "0    0.456991\n",
            "Name: proportion, dtype: float64\n",
            "--------------------------------------------------\n"
          ]
        }
      ]
    },
    {
      "cell_type": "code",
      "source": [
        "# Step 7: Evaluating the data using X_train, y_train\n",
        "\n",
        "#Evaluation Method 1: Top TF-IDF Words per Sentiment Class (Refined Average TF-IDF Score)\n",
        "# For this, we use the training data's TF-IDF matrix and labels.\n",
        "print(\"\\n1. Top TF-IDF Words by Sentiment Class (Average Score) on TRAINING Data\")\n",
        "\n",
        "# Convert X_train (sparse matrix) to a DataFrame for easier manipulation\n",
        "temp_train_tfidf_df = pd.DataFrame(X_train.toarray(), columns=feature_names)\n",
        "temp_train_tfidf_df['sentiment_numeric'] = y_train.values\n",
        "\n",
        "positive_train_reviews_tfidf = temp_train_tfidf_df[temp_train_tfidf_df['sentiment_numeric'] == 1]\n",
        "negative_train_reviews_tfidf = temp_train_tfidf_df[temp_train_tfidf_df['sentiment_numeric'] == 0]\n",
        "\n",
        "positive_avg_tfidf = positive_train_reviews_tfidf.drop('sentiment_numeric', axis=1).mean().sort_values(ascending=False)\n",
        "negative_avg_tfidf = negative_train_reviews_tfidf.drop('sentiment_numeric', axis=1).mean().sort_values(ascending=False)\n",
        "\n",
        "print(\"\\nTop 20 words/n-grams with highest AVERAGE TF-IDF in POSITIVE TRAINING reviews:\")\n",
        "print(positive_avg_tfidf.head(20).to_string())\n",
        "\n",
        "print(\"\\nTop 20 words/n-grams with highest AVERAGE TF-IDF in NEGATIVE TRAINING reviews:\")\n",
        "print(negative_avg_tfidf.head(20).to_string())\n",
        "print(\"-\" * 70)\n",
        "\n",
        "print(\"\\nInterpretation:\")\n",
        "print(\"- These are the words that appear to be most characteristic of positive/negative sentiment within my training data.\")\n",
        "print(\"- These give you a good idea of what 'positive' and 'negative' reviews look like in terms of word importance.\")\n",
        "print(\"-\" * 70)\n",
        "\n"
      ],
      "metadata": {
        "colab": {
          "base_uri": "https://localhost:8080/"
        },
        "id": "niM8Hs0fJHhI",
        "outputId": "d6df5405-88b1-4781-ce54-d0a77cb63a25"
      },
      "id": "niM8Hs0fJHhI",
      "execution_count": 49,
      "outputs": [
        {
          "output_type": "stream",
          "name": "stdout",
          "text": [
            "\n",
            "1. Top TF-IDF Words by Sentiment Class (Average Score) on TRAINING Data\n",
            "\n",
            "Top 20 words/n-grams with highest AVERAGE TF-IDF in POSITIVE TRAINING reviews:\n",
            "exceptional                  0.066883\n",
            "stay                         0.054363\n",
            "submit                       0.052680\n",
            "comment_neg                  0.051595\n",
            "comment_neg available_neg    0.051581\n",
            "available_neg                0.051394\n",
            "available_neg exceptional    0.048852\n",
            "night                        0.044844\n",
            "stay night                   0.044234\n",
            "superb                       0.039533\n",
            "night submit                 0.039155\n",
            "stay submit                  0.039075\n",
            "standard                     0.029206\n",
            "available_neg superb         0.028885\n",
            "great                        0.027690\n",
            "child                        0.026712\n",
            "young                        0.026371\n",
            "young child                  0.026269\n",
            "twin                         0.025885\n",
            "location                     0.025195\n",
            "\n",
            "Top 20 words/n-grams with highest AVERAGE TF-IDF in NEGATIVE TRAINING reviews:\n",
            "good                         0.076530\n",
            "available_neg good           0.057818\n",
            "available_neg                0.054122\n",
            "comment_neg                  0.054012\n",
            "comment_neg available_neg    0.053953\n",
            "stay                         0.053591\n",
            "submit                       0.048541\n",
            "night                        0.043632\n",
            "stay night                   0.042726\n",
            "standard                     0.036608\n",
            "stay submit                  0.036543\n",
            "night submit                 0.035572\n",
            "twin                         0.030523\n",
            "twin stay                    0.028510\n",
            "location                     0.027288\n",
            "good standard                0.025093\n",
            "child                        0.023634\n",
            "young                        0.023283\n",
            "bed                          0.023173\n",
            "young child                  0.023080\n",
            "----------------------------------------------------------------------\n",
            "\n",
            "Interpretation:\n",
            "- These are the words that appear to be most characteristic of positive/negative sentiment within my training data.\n",
            "- These give you a good idea of what 'positive' and 'negative' reviews look like in terms of word importance.\n",
            "----------------------------------------------------------------------\n"
          ]
        }
      ]
    },
    {
      "cell_type": "code",
      "source": [
        "# Evaluation Method 2: Feature Importance from a Simple Linear Classifier\n",
        "print(\"\\n2. Feature Importance from a Logistic Regression Model\")\n",
        "\n",
        "# Train Logistic Regression on the training data's TF-IDF features\n",
        "lr_model = LogisticRegression(solver='liblinear', C=1.0, max_iter=1000, random_state=42)\n",
        "lr_model.fit(X_train, y_train)\n",
        "\n",
        "feature_coefficients = pd.Series(lr_model.coef_[0], index=feature_names)\n",
        "\n",
        "print(\"\\nTop 20 words/n-grams most indicative of POSITIVE sentiment (highest positive coefficients):\")\n",
        "print(feature_coefficients.nlargest(20).to_string())\n",
        "\n",
        "print(\"\\nTop 20 words/n-grams most indicative of NEGATIVE sentiment (most negative coefficients):\")\n",
        "print(feature_coefficients.nsmallest(20).to_string())\n",
        "print(\"-\" * 70)\n",
        "\n",
        "print(\"\\nInterpretation:\")\n",
        "print(\"- This shows what my simple classification model learned about word importance.\")\n",
        "print(\"- Words with large positive coefficients strongly predict 'Positive' sentiment.\")\n",
        "print(\"- Words with large negative coefficients strongly predict 'Negative' sentiment.\")\n",
        "print(\"-\" * 70)\n"
      ],
      "metadata": {
        "colab": {
          "base_uri": "https://localhost:8080/"
        },
        "id": "yCy8LgUkKA6W",
        "outputId": "91622c91-6f72-4c45-e835-f7d90053a357"
      },
      "id": "yCy8LgUkKA6W",
      "execution_count": 50,
      "outputs": [
        {
          "output_type": "stream",
          "name": "stdout",
          "text": [
            "\n",
            "2. Feature Importance from a Logistic Regression Model\n",
            "\n",
            "Top 20 words/n-grams most indicative of POSITIVE sentiment (highest positive coefficients):\n",
            "exceptional                  17.178672\n",
            "superb                       14.186659\n",
            "perfect                       4.960954\n",
            "excellent                     4.611726\n",
            "exceptional young             4.465325\n",
            "available_neg exceptional     4.310743\n",
            "exceptional standard          3.764051\n",
            "great                         3.703464\n",
            "amazing                       3.340832\n",
            "wonderful                     3.312383\n",
            "available_neg superb          3.065301\n",
            "lovely                        2.997538\n",
            "superb young                  2.996041\n",
            "superb standard               2.991201\n",
            "recommend                     2.934799\n",
            "definitely                    2.831706\n",
            "fantastic                     2.753111\n",
            "exceptional group             2.733825\n",
            "exceptional friend            2.640974\n",
            "exceptional superior          2.383924\n",
            "\n",
            "Top 20 words/n-grams most indicative of NEGATIVE sentiment (most negative coefficients):\n",
            "fabulous                 -7.224227\n",
            "good young               -7.062650\n",
            "good                     -5.975056\n",
            "available_neg good       -5.794242\n",
            "passable                 -4.872869\n",
            "good standard            -4.674944\n",
            "poor                     -4.537893\n",
            "good group               -4.502722\n",
            "good friend              -4.339827\n",
            "disappointing            -3.937973\n",
            "okay                     -3.743806\n",
            "good superior            -3.318426\n",
            "pleasant                 -3.280060\n",
            "good deluxe              -3.277214\n",
            "available_neg pleasant   -3.198737\n",
            "dirty                    -3.000713\n",
            "fabulous young           -3.000006\n",
            "smell                    -2.741235\n",
            "uncomfortable            -2.736189\n",
            "bad                      -2.585601\n",
            "----------------------------------------------------------------------\n",
            "\n",
            "Interpretation:\n",
            "- This shows what my simple classification model learned about word importance.\n",
            "- Words with large positive coefficients strongly predict 'Positive' sentiment.\n",
            "- Words with large negative coefficients strongly predict 'Negative' sentiment.\n",
            "----------------------------------------------------------------------\n"
          ]
        }
      ]
    },
    {
      "cell_type": "code",
      "source": [
        "# Evaluation Method 3: Chi-Squared Test for Feature Significance (on TRAINING Data) ---\n",
        "print(\"3. Chi-Squared Test for Feature Significance \")\n",
        "\n",
        "# Calculate chi2 scores for each feature on the training data\n",
        "f_scores, p_values = chi2(X_train, y_train) # Use X_train and y_train\n",
        "\n",
        "chi2_df = pd.DataFrame({'feature': feature_names, 'chi2_score': f_scores, 'p_value': p_values})\n",
        "chi2_df_sorted = chi2_df.sort_values(by='chi2_score', ascending=False).reset_index(drop=True)\n",
        "\n",
        "print(\"\\nTop 20 words/n-grams by Chi-Squared score (most statistically significant for sentiment):\")\n",
        "print(chi2_df_sorted.head(20).to_string())\n",
        "print(\"-\" * 70)\n",
        "\n",
        "print(\"\\nInterpretation:\")\n",
        "print(\"- These are the features whose presence/absence is most statistically correlated with sentiment.\")\n",
        "print(\"- High chi2 scores mean the feature is highly discriminative between positive and negative reviews.\")\n",
        "print(\"- These features are excellent candidates for classification models.\")\n",
        "print(\"-\" * 70)"
      ],
      "metadata": {
        "id": "c1LHeFVpxMgn",
        "colab": {
          "base_uri": "https://localhost:8080/"
        },
        "outputId": "b6b6f3e4-7f99-4ab2-b474-9bf6b7d1cbbe"
      },
      "id": "c1LHeFVpxMgn",
      "execution_count": 51,
      "outputs": [
        {
          "output_type": "stream",
          "name": "stdout",
          "text": [
            "3. Chi-Squared Test for Feature Significance \n",
            "\n",
            "Top 20 words/n-grams by Chi-Squared score (most statistically significant for sentiment):\n",
            "                      feature  chi2_score        p_value\n",
            "0          available_neg good  654.856922  1.962602e-144\n",
            "1                 exceptional  640.304240  2.869276e-141\n",
            "2   available_neg exceptional  471.133181  1.816272e-104\n",
            "3                        good  402.654656   1.455640e-89\n",
            "4                      superb  370.143290   1.741788e-82\n",
            "5        available_neg superb  278.562487   1.544749e-62\n",
            "6               good standard  275.078119   8.875498e-62\n",
            "7                  good young  206.210848   9.216934e-47\n",
            "8           exceptional young  196.417118   1.263955e-44\n",
            "9        exceptional standard  175.214352   5.375239e-40\n",
            "10                   fabulous  169.962501   7.539746e-39\n",
            "11                 good group  152.050840   6.176104e-35\n",
            "12     available_neg fabulous  150.575528   1.297671e-34\n",
            "13     available_neg pleasant  118.273453   1.510584e-27\n",
            "14                   pleasant  113.880709   1.383885e-26\n",
            "15          exceptional group  112.041256   3.499518e-26\n",
            "16              good superior  108.068894   2.595959e-25\n",
            "17            superb standard  103.496329   2.608770e-24\n",
            "18                  good stay  102.496573   4.321145e-24\n",
            "19                   passable   99.309606   2.159580e-23\n",
            "----------------------------------------------------------------------\n",
            "\n",
            "Interpretation:\n",
            "- These are the features whose presence/absence is most statistically correlated with sentiment.\n",
            "- High chi2 scores mean the feature is highly discriminative between positive and negative reviews.\n",
            "- These features are excellent candidates for classification models.\n",
            "----------------------------------------------------------------------\n"
          ]
        }
      ]
    },
    {
      "cell_type": "code",
      "source": [],
      "metadata": {
        "id": "Xro92etwxMjB"
      },
      "id": "Xro92etwxMjB",
      "execution_count": 51,
      "outputs": []
    },
    {
      "cell_type": "code",
      "source": [],
      "metadata": {
        "id": "M22NA2_RxMlo"
      },
      "id": "M22NA2_RxMlo",
      "execution_count": 51,
      "outputs": []
    },
    {
      "cell_type": "code",
      "source": [],
      "metadata": {
        "id": "iWcEcSVWxMoO"
      },
      "id": "iWcEcSVWxMoO",
      "execution_count": 51,
      "outputs": []
    },
    {
      "cell_type": "code",
      "source": [],
      "metadata": {
        "id": "_dYEAvxtxMqt"
      },
      "id": "_dYEAvxtxMqt",
      "execution_count": 51,
      "outputs": []
    },
    {
      "cell_type": "code",
      "source": [],
      "metadata": {
        "id": "PtF9tXqUxMtM"
      },
      "id": "PtF9tXqUxMtM",
      "execution_count": 51,
      "outputs": []
    },
    {
      "cell_type": "code",
      "source": [],
      "metadata": {
        "id": "lFT6CBFexMv7"
      },
      "id": "lFT6CBFexMv7",
      "execution_count": 51,
      "outputs": []
    },
    {
      "cell_type": "code",
      "source": [],
      "metadata": {
        "id": "5PtP8ufExMyZ"
      },
      "id": "5PtP8ufExMyZ",
      "execution_count": 51,
      "outputs": []
    },
    {
      "cell_type": "code",
      "source": [],
      "metadata": {
        "id": "kGJdZuInxM04"
      },
      "id": "kGJdZuInxM04",
      "execution_count": 51,
      "outputs": []
    },
    {
      "cell_type": "code",
      "source": [],
      "metadata": {
        "id": "s0hKA1XAxM3Z"
      },
      "id": "s0hKA1XAxM3Z",
      "execution_count": 51,
      "outputs": []
    },
    {
      "cell_type": "code",
      "source": [],
      "metadata": {
        "id": "lzLaAUGIxM6O"
      },
      "id": "lzLaAUGIxM6O",
      "execution_count": 51,
      "outputs": []
    }
  ],
  "metadata": {
    "kernelspec": {
      "display_name": "Python (learn-env)",
      "language": "python",
      "name": "learn-env"
    },
    "language_info": {
      "codemirror_mode": {
        "name": "ipython",
        "version": 3
      },
      "file_extension": ".py",
      "mimetype": "text/x-python",
      "name": "python",
      "nbconvert_exporter": "python",
      "pygments_lexer": "ipython3",
      "version": "3.9.19"
    },
    "colab": {
      "provenance": [],
      "include_colab_link": true
    }
  },
  "nbformat": 4,
  "nbformat_minor": 5
}